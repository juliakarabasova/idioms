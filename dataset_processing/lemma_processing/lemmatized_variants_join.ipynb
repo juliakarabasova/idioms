{
  "nbformat": 4,
  "nbformat_minor": 0,
  "metadata": {
    "colab": {
      "name": "lemmatized_variants_join.ipynb",
      "provenance": [],
      "collapsed_sections": [
        "A1ofaGnAsmVY",
        "pBuAiVCSspev",
        "1dnwOz90tdu8",
        "n3P3epHa2bJx",
        "OwIjf7W9vYvq"
      ]
    },
    "kernelspec": {
      "name": "python3",
      "display_name": "Python 3"
    },
    "language_info": {
      "name": "python"
    }
  },
  "cells": [
    {
      "cell_type": "code",
      "execution_count": null,
      "metadata": {
        "id": "x7KZEFLMp-Yp"
      },
      "outputs": [],
      "source": [
        "!pip install pymystem3==0.1.10"
      ]
    },
    {
      "cell_type": "code",
      "source": [
        "import json\n",
        "\n",
        "with open('idioms_joined.json', 'r', encoding='utf-8') as f:\n",
        "    idioms = json.load(f)"
      ],
      "metadata": {
        "id": "2EFOfFihqyDy"
      },
      "execution_count": 1,
      "outputs": []
    },
    {
      "cell_type": "code",
      "source": [
        "len(idioms)"
      ],
      "metadata": {
        "colab": {
          "base_uri": "https://localhost:8080/"
        },
        "id": "PhUb9o8GZfhY",
        "outputId": "5e1d14ec-cd6a-4527-8878-2d3cffdfd5e4"
      },
      "execution_count": 2,
      "outputs": [
        {
          "output_type": "execute_result",
          "data": {
            "text/plain": [
              "19449"
            ]
          },
          "metadata": {},
          "execution_count": 2
        }
      ]
    },
    {
      "cell_type": "code",
      "source": [
        "delete_inds = [3237, 3238, 3372, 6595, 7835, 8050, 8351, 9410, 9482, 10376, 11089, 11146, 11375, 11434, 14558, 18078]\n",
        "\n",
        "for ind in delete_inds:\n",
        "  print(idioms[ind]['phrase'])"
      ],
      "metadata": {
        "colab": {
          "base_uri": "https://localhost:8080/"
        },
        "id": "8jCPw8VBYa4r",
        "outputId": "d4407b49-7c80-4015-f1b2-11ad938bf323"
      },
      "execution_count": null,
      "outputs": [
        {
          "output_type": "stream",
          "name": "stdout",
          "text": [
            "['задавать драпа']\n",
            "['задавать пару', 'задать пару']\n",
            "['запудрить мозги', 'пудрить мозги']\n",
            "['Ни шатко, ни валко', 'Ни шатко, ни валко, ни ни сторону']\n",
            "['показывать шиш']\n",
            "['ставить на место']\n",
            "['продирать с песочком']\n",
            "['склонять голову']\n",
            "['сломить голову']\n",
            "['Хвататься за ум']\n",
            "['Бог прибрал', 'господь прибрал']\n",
            "['Брать в толк', 'взять в толк']\n",
            "['Вожжа под хвост попала', 'шлея под хвост попала']\n",
            "['Вот тебе и на!', 'Вот те на!', 'Вот так тик!']\n",
            "['ходуном ходить (идти, пойти)', 'ходуном ходить', 'ходуном идти', 'ходуном пойти']\n",
            "['отдать долг природе']\n"
          ]
        }
      ]
    },
    {
      "cell_type": "code",
      "source": [
        "#with open('idioms_joined.json', 'w', encoding='utf-8') as f:\n",
        " #   json.dump(idioms, f, ensure_ascii=False, indent=4)"
      ],
      "metadata": {
        "id": "l9WgiEPDZYIS"
      },
      "execution_count": null,
      "outputs": []
    },
    {
      "cell_type": "markdown",
      "source": [
        "# Lemmatization"
      ],
      "metadata": {
        "id": "A1ofaGnAsmVY"
      }
    },
    {
      "cell_type": "code",
      "source": [
        "from string import punctuation\n",
        "from pymystem3 import Mystem\n",
        "\n",
        "m = Mystem()\n",
        "idioms_lemmatized = []\n",
        "\n",
        "\n",
        "for i, text in enumerate(idioms):\n",
        "    lemmatized = [''.join([s.strip(punctuation) for s in m.lemmatize(w)]).replace('\\n', '') for w in text['phrase']]\n",
        "    idioms_lemmatized.append(tuple([i, lemmatized]))"
      ],
      "metadata": {
        "colab": {
          "base_uri": "https://localhost:8080/"
        },
        "id": "25fQOxQSq07l",
        "outputId": "d40977db-1631-44af-d76c-0e708f284020"
      },
      "execution_count": null,
      "outputs": [
        {
          "output_type": "stream",
          "name": "stderr",
          "text": [
            "Installing mystem to /root/.local/bin/mystem from http://download.cdn.yandex.net/mystem/mystem-3.0-linux3.1-64bit.tar.gz\n"
          ]
        }
      ]
    },
    {
      "cell_type": "code",
      "source": [
        "idioms_lemmatized[:20]"
      ],
      "metadata": {
        "colab": {
          "base_uri": "https://localhost:8080/"
        },
        "id": "iOTMzAqXq2g3",
        "outputId": "81dba0b2-fbd2-4f1c-ad69-9fefc64c7efb"
      },
      "execution_count": null,
      "outputs": [
        {
          "output_type": "execute_result",
          "data": {
            "text/plain": [
              "[(0, ['а вот на ты', 'и вот на ты']),\n",
              " (1, ['а быть ли мальчик']),\n",
              " (2, ['а вот']),\n",
              " (3, ['а вот и нет', 'вот и нет']),\n",
              " (4, ['а ларчик просто открываться', 'а ларчик просто открываться']),\n",
              " (5, ['а между то']),\n",
              " (6, ['а не то', 'не то']),\n",
              " (7, ['а поди ж ты', 'поди ж ты']),\n",
              " (8, ['а то бы вот']),\n",
              " (9, ['а то как же']),\n",
              " (10, ['абсолютный ноль']),\n",
              " (11, ['абы как']),\n",
              " (12, ['абы какой']),\n",
              " (13, ['аванс петь романс']),\n",
              " (14, ['авгиев конюшня']),\n",
              " (15, ['авось да небось']),\n",
              " (16, ['агнец божий', 'агнец послушный']),\n",
              " (17, ['ад в душа', 'ад в грудь']),\n",
              " (18, ['ад кромешный']),\n",
              " (19, ['адамова голова'])]"
            ]
          },
          "metadata": {},
          "execution_count": 7
        }
      ]
    },
    {
      "cell_type": "code",
      "source": [
        "len(idioms_lemmatized)"
      ],
      "metadata": {
        "colab": {
          "base_uri": "https://localhost:8080/"
        },
        "id": "bg8b3w-Psa20",
        "outputId": "4f7df0ad-6061-419c-c1a0-b727fc7a5639"
      },
      "execution_count": null,
      "outputs": [
        {
          "output_type": "execute_result",
          "data": {
            "text/plain": [
              "19449"
            ]
          },
          "metadata": {},
          "execution_count": 8
        }
      ]
    },
    {
      "cell_type": "code",
      "source": [
        "inds_delete = []\n",
        "for phrase in idioms_lemmatized:\n",
        "  if 'delete' in ' '.join(phrase[-1]):\n",
        "    inds_delete.append(phrase[0])\n",
        "    print(phrase)"
      ],
      "metadata": {
        "colab": {
          "base_uri": "https://localhost:8080/"
        },
        "id": "jLL8mZTN-Y1s",
        "outputId": "48167f15-8129-4ba2-ae36-d60aab9850a5"
      },
      "execution_count": null,
      "outputs": [
        {
          "output_type": "stream",
          "name": "stdout",
          "text": [
            "(3237, ['delete', 'задавать драп'])\n",
            "(3238, ['delete', 'задавать пара', 'задавать пара'])\n",
            "(3372, ['delete', 'запудривать мозги', 'пудрить мозги'])\n",
            "(6595, ['delete', 'ни шатко ни валко', 'ни шатко ни валко ни ни сторона'])\n",
            "(7835, ['delete', 'показывать шиш'])\n",
            "(8050, ['delete', 'ставить на место'])\n",
            "(8351, ['delete', 'продирать с песочек'])\n",
            "(9410, ['delete', 'склонять голова'])\n",
            "(9482, ['delete', 'сламывать голова'])\n",
            "(10376, ['delete', 'хвататься за ум'])\n",
            "(11089, ['delete', 'бог прибирать', 'господь прибирать'])\n",
            "(11146, ['delete', 'брать в толк', 'взять в толк'])\n",
            "(11375, ['delete', 'вожжа под хвост попадать', 'шлея под хвост попадать'])\n",
            "(11434, ['delete', 'вот ты и на', 'вот тот на', 'вот так тик'])\n",
            "(14558, ['ходуном ходить идти пойти', 'ходуном ходить', 'ходуном идти', 'ходуном пойти', 'delete'])\n",
            "(18078, ['отдавать долг природа', 'delete'])\n"
          ]
        }
      ]
    },
    {
      "cell_type": "code",
      "source": [
        "for ind in inds_delete:\n",
        "  print(idioms[ind])"
      ],
      "metadata": {
        "colab": {
          "base_uri": "https://localhost:8080/"
        },
        "id": "QeqNj8Oz-5s8",
        "outputId": "0829f30b-e073-46d0-efaf-7893e43d5e77"
      },
      "execution_count": null,
      "outputs": [
        {
          "output_type": "stream",
          "name": "stdout",
          "text": [
            "{'phrase': ['delete', 'задавать драпа'], 'semantics': [{'examples': [], 'abbr': ['прост', 'экспрес'], 'meaning': 'Стремительно убегать.', 'dictionary': 'Fedorov'}, {'dictionary': 'Kveselevich', 'role': [], 'meaning': '', 'abbr': ['прост'], 'examples': [{'text': 'Немцы задали такого драпа, что наша разведка нащупала их далеко за мостами...', 'source': 'В. Мильчаков, Таких щадить нельзя'}]}, {'dictionary': 'Kveselevich', 'role': [], 'meaning': '', 'abbr': [], 'examples': []}]}\n",
            "{'phrase': ['delete', 'задавать пару', 'задать пару'], 'semantics': [{'examples': [{'text': 'Перестрелка стала стихать, и из боковой улицы высыпали оживлённые говором солдаты. — Цел, Петров? — спрашивал один. — Задали, брат, жару. Теперь не сунутся, — говорил другой', 'source': 'Л. Н. Толстой. Война и мир'}], 'abbr': ['прост', 'экспрес'], 'meaning': '  Жестоко расправляться с кем-либо.', 'role': ['кому'], 'dictionary': 'Fedorov'}, {'examples': [{'text': 'Генералтакого им пару задал, что у них чуть не отнялись языки', 'source': 'Мельников-Печерский. На горах'}], 'abbr': ['прост', 'экспрес'], 'meaning': '  То же, что <<задавать баню>> (в 1-м знач.).', 'role': ['кому', 'кому'], 'dictionary': 'Fedorov'}, {'dictionary': 'Kveselevich', 'role': ['кому'], 'meaning': '', 'abbr': ['прост'], 'examples': [{'text': 'Генерал такого им пару задал, что у них чуть не отнялись языки.', 'source': 'А. Мельников-Печерский, На горах'}]}, {'dictionary': 'Volkova', 'role': ['кому'], 'meaning': 'разругать, взгреть кого-н.', 'abbr': ['разг', 'фам'], 'examples': ['Ну, тебе и задали пару!']}]}\n",
            "{'phrase': ['delete', 'запудрить мозги', 'пудрить мозги'], 'semantics': [{'examples': [{'text': 'Гога! — прервала его девушка. Аким осёкся, поёрзал на топчане. — Пропал Гога, — мрачно произнёс он, — ушёл. Заблудился… — Го-га… не может… — точно на ощупь собирая слова в фразу, не соглашалась девушка', 'source': 'В. Астафьев. Сон о белых горах'}, {'text': 'Весь сентябрь я дурачил окружающих мнимой учёбой… Младший брат Николашка увидел меня как-то в неурочный час в центре… но с ним я сумел договориться, точнее, запудрил ему мозги', 'source': 'В. Аксёнов. Комментарии к детству'}], 'abbr': ['прост', 'экспрес'], 'meaning': '  Сбивать с толку, запутывать кого-либо.', 'role': ['кому'], 'dictionary': 'Fedorov'}, {'examples': [{'text': 'Гога! — прервала его девушка. Аким осёкся, поёрзал на топчане. — Пропал Гога, — мрачно произнёс он, — ушёл. Заблудился… — Го-га… не может… — точно на ощупь собирая слова в фразу, не соглашалась девушка «Может, милочка, может! Тайга и не таких сковыривала, — заспорил Аким и удивился: — Ишь, как он ей мозги-то запудрил! Верит, а!»', 'source': 'В. Астафьев. Сон о белых горах'}, {'text': 'Весь сентябрь я дурачил окружающих мнимой учёбой… Младший брат Николашка увидел меня как-то в неурочный час в центре… но с ним я сумел договориться, точнее, запудрил ему мозги', 'source': 'В. Аксёнов. Комментарии к детству'}], 'abbr': ['прост', 'экспрес'], 'meaning': '  Сбивать с толку, запутывать кого-либо.', 'role': ['кому'], 'dictionary': 'Fedorov'}, {'examples': [{'text': 'Насчёт Зиночки ты, конечно, молоток, — угрюмо похвалил Юрка, — она мне вон сколько мозги пудрила, всё недотрогу из себя корчила', 'source': 'В. Массалитин. Помоги подняться'}, {'text': 'Ну так оно и есть, ни с кем ты не сражался, — успокоенно сказал Димша. — Пудришь мне мозги на дорогу. Нашёл утеху', 'source': 'М. Просекин. Отверженный'}, {'text': 'Поехали, на чужое смотреть — только расстраиваться… А он, однако, ну и брехло… Мозги ей запудрил: директор, мол, завода, фити-мити… Ну, шут гороховый!', 'source': 'В. Кавторин. Маэстро Шахбазов'}], 'abbr': ['прост', 'предосуд'], 'meaning': '  Дурачить, обманывать кого-либо.', 'role': ['кому'], 'dictionary': 'Fedorov'}, {'dictionary': 'Fedosov', 'role': [], 'meaning': ' запутать, ввести кого-либо в заблуждение', 'abbr': [], 'examples': []}, {'dictionary': 'Kveselevich', 'role': ['кому'], 'meaning': '', 'abbr': ['прост'], 'examples': [{'text': 'Пусть мозги-то не пудрит, шкура-мать! Знаем его политику! Реализацию ему подавай, но чтоб на теле ни царапины. А так не бывает, товарищ полковник!', 'source': 'А. Проханов, Знак Девы'}]}]}\n",
            "{'phrase': ['delete', 'Ни шатко, ни валко', 'Ни шатко, ни валко, ни ни сторону'], 'semantics': [{'examples': [{'text': 'И таким образом дело продолжало идти, как говорится, ни шатко ни валко ни на сторону', 'source': 'Салтыков-Щедрин. Помпадуры и помпадурши'}], 'abbr': ['иpoн'], 'meaning': 'Ни хорошо, ни плохо; не лучшим образом.', 'dictionary': 'Fedorov'}, {'dictionary': 'Volkova', 'role': [], 'meaning': 'посредственно, без резких изменений в хорошую или дурную сторону.', 'abbr': [], 'examples': []}, {'dictionary': 'Volkova', 'role': [], 'meaning': 'посредственно, без резких изменений в хорошую или дурную сторону.', 'abbr': [], 'examples': ['Делать свою работу ни шатко, ни валко.']}]}\n",
            "{'phrase': ['delete', 'показывать шиш'], 'semantics': [{'examples': [{'text': 'Лях из Варшавы Нам кажет шиш, Что ж ты, шаршавый, Под лавкой спишь?', 'source': 'Д. Давыдов. Голодный пёс'}], 'abbr': ['устар'], 'meaning': '  Грубо отказывать кому-либо в чём-либо; презрительным знаком выразить отказ.', 'role': ['кому'], 'dictionary': 'Fedorov'}, {'examples': [{'text': 'На погребе уж пять дней жареная телячья нога… лежит, так вот её бы сегодня подать… — Анна Павловна облизывает указательный палец и показывает повару шиш. — Натко!', 'source': 'Салтыков-Щедрин. Пошехонская старина'}], 'meaning': 'То же, что <<показывать дулю>>', 'role': ['кому'], 'dictionary': 'Fedorov'}]}\n",
            "{'phrase': ['delete', 'ставить на место'], 'semantics': [{'examples': [{'text': 'Батманов почти предвидел протест Грубского и был внутренне готов к этому. Сейчас он решил, что надо осадить Грубского, поставить его на место', 'source': 'В. Ажаев. Далеко от Москвы'}], 'abbr': ['разг', 'экспрес'], 'meaning': 'Решительно дать понять кому-либо, что он в действительности стоит, на что способен и как должен поступать.', 'role': ['кого'], 'dictionary': 'Fedorov'}, {'examples': [{'text': 'Работяги сперва звали его Гошей, пытались, как водится, помыкать юнцом, использовать на побегушках — не вышло. Герцев поставил на место и себя, и отряд, да и хранил дистанцию независимости', 'source': 'В. Астафьев. Сон о белых горах'}, {'text': 'Надо было что-то делать, как-то проучить наглую девчонку, поставить её на место', 'source': 'Г. Корнилова. Записка'}], 'abbr': ['разг', 'экспрес'], 'meaning': '  Пресекать непозволительное поведение, давать отпор кому-либо (кто зарвался, распоясался, забылся).', 'role': ['кого'], 'dictionary': 'Fedorov'}, {'dictionary': 'Kveselevich', 'role': ['кого'], 'meaning': '', 'abbr': [], 'examples': [{'text': 'Ай да Чуликов! Спорит, и лейтенант не ставит его на место.', 'source': 'В. Тендряков, День, вытеснивший жизнь'}]}, {'dictionary': 'Myurrey', 'role': ['кого-л.'], 'meaning': '', 'abbr': [], 'examples': []}]}\n",
            "{'phrase': ['delete', 'продирать с песочком'], 'semantics': [{'examples': [{'text': 'На совещаниях у директора и на заводских конференциях его постоянно «продирали с песком» и грозили снять с работы', 'source': 'Ф. Гладков. Клятва'}], 'abbr': ['прост', 'экспрес'], 'meaning': '  Сильно бранить, критиковать, строго выговаривая кому-либо.', 'role': ['кого'], 'dictionary': 'Fedorov'}, {'dictionary': 'Kveselevich', 'role': ['кого'], 'meaning': '', 'abbr': ['разг'], 'examples': [{'text': 'Немиров очень не любил, чтобы его критиковали, но для своих подчинённых считал критику весьма полезной протрут их с песочком  они и заблестят, как новенькие.', 'source': 'В. Кетлинская, Дни нашей жизни'}]}, {'dictionary': 'Kveselevich', 'role': ['кого'], 'meaning': '', 'abbr': [], 'examples': []}]}\n",
            "{'phrase': ['delete', 'склонять голову'], 'semantics': [{'examples': [{'text': 'Иоанна:Меня изгнали, Нет места, где мне голову склонить', 'source': 'Жуковский. Орлеанская дева'}, {'text': 'Под старость тяжело человеку не находить приюта у людей и не знать, куда склонить свою седую', 'source': 'головуН. Телешов. Менестрель'}], 'abbr': ['устар'], 'meaning': 'Найти пристанище, приют, кров.', 'role': ['где, куда'], 'dictionary': 'Fedorov'}, {'examples': [{'text': 'Защищая своё отечество, русская армия и флот всегда проявляли удивительную храбрость. Сам народ, если только его не подводило бездарное начальство, никогда не склонял головы даже перед сильнейшим врагом', 'source': 'Новиков-Прибой. Цусима'}], 'meaning': 'Почтительно относясь к противнику, признавать себя побеждённым.', 'dictionary': 'Fedorov'}, {'examples': [{'text': 'Теперь, в день годовщины смерти Алексея Максимовича Горького, я низко склоняю голову перед всем, что он сделал для своей советской страны и для своего народа', 'source': 'Куприн. Отрывки воспоминаний'}], 'meaning': 'Относиться с почтением к кому-либо; преклоняться перед кем-либо или чем-либо.', 'dictionary': 'Fedorov'}, {'dictionary': 'Fedosov', 'role': [], 'meaning': 'признавать себя побежденным, уступать в борьбе ', 'abbr': [], 'examples': []}, {'dictionary': 'Fedosov', 'role': [], 'meaning': 'преклоняться перед кем-либо, чем-либо', 'abbr': [], 'examples': []}, {'dictionary': 'Kveselevich', 'role': ['перед кем, перед чем'], 'meaning': 'признавать себя побеждённым, уступать в борьбе', 'abbr': ['книжн'], 'examples': [{'text': 'Домский собор. Домский собор. Ты в моём содрогнувшемся сердце. Склоняю голову перед твоим певцом, благодарю за счастье, хотя и краткое, за восторг и веру в разум людской...', 'source': 'В. Астафьев, Домский собор'}]}, {'dictionary': 'Kveselevich', 'role': [], 'meaning': 'преклоняться перед кем-либо или чем-либо', 'abbr': [], 'examples': []}]}\n",
            "{'phrase': ['delete', 'сломить голову'], 'semantics': [{'examples': [{'text': 'И в райское они жилище не попали, Лишь только головы себе сломали', 'source': 'И. Богданович. Душенька'}, {'text': 'Мишка сидел на лошади, как клещ… — А ты так не сможешь, в тебе жиру много. Никита промолчал. Подумал: «Голову сломаю, научусь ездить лучше Мишки»', 'source': 'А. Н. Толстой. Детство Никиты'}, {'text': 'Вместе нам приятна будет смерть. Пойдём же бросимся сейчас стремглав в окошко И сломим головы', 'source': 'Крылов. Подщипа'}], 'meaning': 'Искалечиться или разбиться насмерть, убиться (при падении).', 'abbr': ['устар', 'прост'], 'dictionary': 'Fedorov'}, {'examples': [{'text': 'Ржавчиной меня считаешь! — крикнул он. Так знай: по-твоему не будет! И не мне, а себе голову сломаешь! Игната Хворостянкина ржавчиной не испугаешь! Я уже стреляный', 'source': 'С. Бабаевский. Свет над землёй'}, {'text': 'Повадился кувшин по воду ходить, там ему и голову сломить', 'source': 'Пословица'}, {'text': 'Не надо допускать класть на себя повязку И вслед друзей своих будто слепцу ходить Или глядеть на них тихонько из-под маски, А инак — голову сломить', 'source': 'Державин. Жмурки'}], 'abbr': ['устар', 'прост'], 'meaning': 'Потерпеть неудачу в чём-либо.', 'dictionary': 'Fedorov'}, {'dictionary': 'Fedosov', 'role': [], 'meaning': ' измучиться, упорно думая над чем-либо', 'abbr': [], 'examples': []}, {'dictionary': 'Kveselevich', 'role': ['на чём'], 'meaning': '', 'abbr': [], 'examples': []}, {'examples': [{'text': 'И в райское они жилище не попали, Лишь только головы себе сломали', 'source': 'И. Богданович. Душенька'}, {'text': 'Мишка сидел на лошади, как клещ… — А ты так не сможешь, в тебе жиру много. Никита промолчал. Подумал: «Голову сломаю, научусь ездить лучше Мишки»', 'source': 'А. Н. Толстой. Детство Никиты'}], 'meaning': 'Искалечиться или разбиться насмерть, убиться (при падении).', 'dictionary': 'Fedorov'}, {'examples': [{'text': 'Вместе нам приятна будет смерть. Пойдём же бросимся сейчас стремглав в окошко И сломим головы', 'source': 'Крылов. Подщипа'}], 'abbr': ['устар'], 'meaning': 'Потерпеть неудачу в чём-либо.', 'role': ['себе'], 'dictionary': 'Fedorov'}, {'examples': [{'text': 'Ржавчиной меня считаешь! — крикнул он. Так знай: по-твоему не будет! И не мне, а себе голову сломаешь! Игната Хворостянкина ржавчиной не испугаешь! Я уже стреляный', 'source': 'С. Бабаевский. Свет над землёй'}], 'meaning': 'Потерпеть неудачу в чём-либо.', 'dictionary': 'Fedorov'}, {'examples': [{'text': 'Повадился кувшин по воду ходить, там ему и голову сломить', 'source': 'Пословица'}, {'text': 'Не надо допускать класть на себя повязку И вслед друзей своих будто слепцу ходить Или глядеть на них тихонько из-под маски, А инак — голову сломить', 'source': 'Державин. Жмурки'}], 'abbr': ['устар', 'прост'], 'meaning': '', 'role': [''], 'dictionary': 'Fedorov'}, {'examples': [{'text': 'Нет, едва ощупью по рогам узнал он свой портрет, как дал клятву сломить голову сатирику', 'source': 'Крылов. Речь, говоренная повесою в собрании дураков'}], 'abbr': ['устар', 'экспрес'], 'meaning': 'Расправиться с кем-либо (за что-либо), погубить кого-либо; свернуть шею кому.', 'role': ['кому'], 'dictionary': 'Fedorov'}, {'dictionary': 'Volkova', 'role': [], 'meaning': 'погибнуть.', 'abbr': ['устар'], 'examples': ['Повадился кувшин по воду ходить, там ему и голову сломить. Пословица.']}]}\n",
            "{'phrase': ['delete', 'Хвататься за ум'], 'semantics': [{'examples': [{'text': 'А течь день ото дня сильнее становится: Вода так бьёт, как из ведра. «Эй, мельник, не зевай! Пора, пора тебе за ум хватиться!»', 'source': 'Крылов. Мельник'}, {'text': 'Он хотел посвятить себя живописи и только сожалел о том, что поздно хватился за ум и много времени потратил по-пустому', 'source': 'Тургенев. Ася'}], 'abbr': ['экспрес', 'устар'], 'meaning': 'Стать благоразумнее, рассудительнее, образумиться.', 'dictionary': 'Fedorov'}, {'dictionary': 'Kveselevich', 'role': [], 'meaning': '', 'abbr': ['устар'], 'examples': [{'text': 'Владея порядочным состоянием и ни от кого не завися, он хотел посвятить себя живописи и только сожалел о том, что поздно хватился за ум и много времени потратил попусту.', 'source': 'И. Тургенев, Ася'}]}, {'dictionary': 'Volkova', 'role': [], 'meaning': 'становиться умнее, образумливаться.', 'abbr': [], 'examples': ['— А теперь хватились за ум, да поздно, батенька: всем давно известно, что он наш полковой шулер. Л. Толстой.']}]}\n",
            "{'phrase': ['delete', 'Бог прибрал', 'господь прибрал'], 'semantics': [{'dictionary': 'Fedosov', 'role': [], 'meaning': ' о чьей-то смерти', 'abbr': [], 'examples': []}, {'dictionary': 'Fedosov', 'role': [' кого '], 'meaning': ' о чьей-либо смерти ', 'abbr': ['прост'], 'examples': []}, {'dictionary': 'Kveselevich', 'role': ['кого'], 'meaning': '', 'abbr': [], 'examples': []}]}\n",
            "{'phrase': ['delete', 'Брать в толк', 'взять в толк'], 'semantics': [{'dictionary': 'Fedosov', 'role': [], 'meaning': ' понять, уяснить, осознать что-либо', 'abbr': [], 'examples': []}, {'dictionary': 'Fedosov', 'role': [], 'meaning': ' понять, осмыслить что-то ', 'abbr': [], 'examples': []}]}\n",
            "{'phrase': ['delete', 'Вожжа под хвост попала', 'шлея под хвост попала'], 'semantics': [{'dictionary': 'Fedosov', 'role': [], 'meaning': ' кто-либо ведет себя крайне неуравновешенно, взбалмошно', 'abbr': ['прост'], 'examples': []}, {'dictionary': 'Fedosov', 'role': [' кому '], 'meaning': ' о неоправданно капризном, взбалмошном поведении', 'abbr': ['прост'], 'examples': []}]}\n",
            "{'phrase': ['delete', 'Вот тебе и на!', 'Вот те на!', 'Вот так тик!'], 'semantics': [{'dictionary': 'Fedosov', 'role': [], 'meaning': ' о том, что совершилось или произошло совсем не так, как ожидали', 'abbr': [], 'examples': []}, {'dictionary': 'Volkova', 'role': ['что'], 'meaning': 'восклицание по поводу чего-н. неожиданного, не соответствующего ожиданиям, удивительного,  о том, чего ожидали, но что не совершилось или превратилось не в то, чего ожидали.', 'abbr': ['разг'], 'examples': ['Вот тебе, бабушка, и Юрьев день! Поговорка.']}]}\n",
            "{'phrase': ['ходуном ходить (идти, пойти)', 'ходуном ходить', 'ходуном идти', 'ходуном пойти', 'delete'], 'semantics': [{'dictionary': 'Fedosov', 'role': [], 'meaning': 'сильно трястись, сотрясаться ', 'abbr': [], 'examples': []}, {'dictionary': 'Fedosov', 'role': [], 'meaning': 'о наличии суеты, беспорядка, быстрого движения', 'abbr': [], 'examples': []}, {'dictionary': 'Volkova', 'role': [], 'meaning': 'трястись, сотрясаться.', 'abbr': ['разг'], 'examples': ['Пол ходуном ходит.', 'Целует, бывало, а сама всё плачет: плечи у нее даже ходуном ходят. М. Горький.']}, {'dictionary': 'Volkova', 'role': [], 'meaning': 'трястись, сотрясаться.', 'abbr': ['разг'], 'examples': ['Пол ходуном ходит.', 'Целует, бывало, а сама всё плачет: плечи у нее даже ходуном ходят. М. Горький.']}]}\n",
            "{'phrase': ['отдать долг природе', 'delete'], 'semantics': [{'dictionary': 'Volkova', 'role': [], 'meaning': 'умереть (в этом знач. также с прибавкой: последний долг);', 'abbr': ['книжн', 'устар', 'ритор'], 'examples': []}, {'dictionary': 'Volkova', 'role': [], 'meaning': 'испражниться .', 'abbr': ['разг', 'шутл', 'фам'], 'examples': ['Два раза надень ест и пьет и долг природе отдает. Полежаев.']}, {'dictionary': 'Volkova', 'role': [], 'meaning': 'умереть (в этом знач. также с прибавкой: последний долгкнижн.);', 'abbr': ['устар', 'ритор'], 'examples': []}, {'dictionary': 'Volkova', 'role': [], 'meaning': 'испражниться .', 'abbr': ['разг', 'шутл', 'фам'], 'examples': ['Два раза на день ест и пьет и долг природе отдает. Полежаев.']}]}\n"
          ]
        }
      ]
    },
    {
      "cell_type": "code",
      "source": [
        "with open('idioms_lemmatized.txt', 'w', encoding='utf-8') as f:\n",
        "  for pair in idioms_lemmatized:\n",
        "      f.write(str(pair))"
      ],
      "metadata": {
        "id": "PHxGg29RMpF6"
      },
      "execution_count": null,
      "outputs": []
    },
    {
      "cell_type": "markdown",
      "source": [
        "# Get fuzzy-string pairs"
      ],
      "metadata": {
        "id": "pBuAiVCSspev"
      }
    },
    {
      "cell_type": "code",
      "source": [
        "!pip install thefuzz"
      ],
      "metadata": {
        "colab": {
          "base_uri": "https://localhost:8080/"
        },
        "id": "N-4eKZ8prj28",
        "outputId": "2affd706-ea60-48fe-b765-ea6b20d262f8"
      },
      "execution_count": null,
      "outputs": [
        {
          "output_type": "stream",
          "name": "stdout",
          "text": [
            "Collecting thefuzz\n",
            "  Downloading thefuzz-0.19.0-py2.py3-none-any.whl (17 kB)\n",
            "Installing collected packages: thefuzz\n",
            "Successfully installed thefuzz-0.19.0\n"
          ]
        }
      ]
    },
    {
      "cell_type": "code",
      "source": [
        "from thefuzz import fuzz\n",
        "\n",
        "import pandas as pd\n",
        "import json\n",
        "\n",
        "import numpy as np\n",
        "import re\n",
        "import urllib.request \n",
        "from itertools import combinations"
      ],
      "metadata": {
        "colab": {
          "base_uri": "https://localhost:8080/"
        },
        "id": "b0p-sj1crlF8",
        "outputId": "871e9be0-210b-4cd8-a147-bfdaa5c4a577"
      },
      "execution_count": null,
      "outputs": [
        {
          "output_type": "stream",
          "name": "stderr",
          "text": [
            "/usr/local/lib/python3.7/dist-packages/thefuzz/fuzz.py:11: UserWarning: Using slow pure-python SequenceMatcher. Install python-Levenshtein to remove this warning\n",
            "  warnings.warn('Using slow pure-python SequenceMatcher. Install python-Levenshtein to remove this warning')\n"
          ]
        }
      ]
    },
    {
      "cell_type": "code",
      "source": [
        "def search_pairs(start):\n",
        "  pairs = []\n",
        "  for i, idiom in idioms_lemmatized[start:start+1000]:\n",
        "    for n, phrase in idioms_lemmatized[i+1:]:\n",
        "      for var in idiom:\n",
        "        if max([fuzz.ratio(var, b) for b in phrase]) > 85:\n",
        "          pairs.append([i, n])\n",
        "          break\n",
        "  return pairs"
      ],
      "metadata": {
        "id": "kSOcV3pfSRTm"
      },
      "execution_count": null,
      "outputs": []
    },
    {
      "cell_type": "code",
      "source": [
        "pairs = []\n",
        "\n",
        "for i, idiom in idioms_lemmatized[:1000]:   # 1000 = 3mins, 19000 = 57mins??\n",
        "  for n, phrase in idioms_lemmatized[i+1:1000]:\n",
        "    for var in idiom:\n",
        "      if max([fuzz.ratio(var, b) for b in phrase]) > 85:\n",
        "        pairs.append([i, n])\n",
        "        break"
      ],
      "metadata": {
        "colab": {
          "base_uri": "https://localhost:8080/"
        },
        "id": "TA7t__Lxsqda",
        "outputId": "d51f338a-0dd1-4528-8d84-ff9dd6965c66"
      },
      "execution_count": null,
      "outputs": [
        {
          "output_type": "stream",
          "name": "stdout",
          "text": [
            "1000 checkpoint\n"
          ]
        }
      ]
    },
    {
      "cell_type": "code",
      "source": [
        "len(pairs)  \n",
        "# partial_ratio first 1000, ts80 = 815\n",
        "# sorted tokens ratio, ts80 = 215\n",
        "# ratio, ts85 = 106"
      ],
      "metadata": {
        "colab": {
          "base_uri": "https://localhost:8080/"
        },
        "id": "Bgzy8Hk1uocv",
        "outputId": "a55a6620-5084-4750-df89-c3e9df868451"
      },
      "execution_count": null,
      "outputs": [
        {
          "output_type": "execute_result",
          "data": {
            "text/plain": [
              "106"
            ]
          },
          "metadata": {},
          "execution_count": 21
        }
      ]
    },
    {
      "cell_type": "code",
      "source": [
        "for inds in pairs[:10]:\n",
        "  for id in inds:\n",
        "    print(idioms_lemmatized[id][-1])\n",
        "  print('\\n')"
      ],
      "metadata": {
        "id": "cjI0LAiAxLP8"
      },
      "execution_count": null,
      "outputs": []
    },
    {
      "cell_type": "code",
      "source": [
        "pairs_full1 = []      # now try cmpare first 1000 with all other\n",
        "\n",
        "for i, idiom in idioms_lemmatized[:1000]:   # 1000 = 31mins\n",
        "  for n, phrase in idioms_lemmatized[i+1:]:\n",
        "    for var in idiom:\n",
        "      if max([fuzz.ratio(var, b) for b in phrase]) > 85:\n",
        "        pairs_full1.append([i, n])\n",
        "        break"
      ],
      "metadata": {
        "id": "syGQNJCdsHTI"
      },
      "execution_count": null,
      "outputs": []
    },
    {
      "cell_type": "code",
      "source": [
        "len(pairs_full1[:491])  # 491"
      ],
      "metadata": {
        "colab": {
          "base_uri": "https://localhost:8080/"
        },
        "id": "XOxP9_VT1djO",
        "outputId": "833fb506-dabd-4b94-8c8e-60ba22c0fc96"
      },
      "execution_count": null,
      "outputs": [
        {
          "output_type": "execute_result",
          "data": {
            "text/plain": [
              "491"
            ]
          },
          "metadata": {},
          "execution_count": 30
        }
      ]
    },
    {
      "cell_type": "code",
      "source": [
        "with open('pairs_lemmatized.txt', 'w') as f:\n",
        "  for pair in pairs_full1[:491]:\n",
        "    f.write(str(pair))"
      ],
      "metadata": {
        "id": "CfiQi2b4OSvF"
      },
      "execution_count": null,
      "outputs": []
    },
    {
      "cell_type": "code",
      "source": [
        "for inds in pairs_full1[:10]:\n",
        "  for id in inds:\n",
        "    print(idioms_lemmatized[id][-1])\n",
        "  print('\\n')"
      ],
      "metadata": {
        "id": "U9CBOS5n1e2R"
      },
      "execution_count": null,
      "outputs": []
    },
    {
      "cell_type": "code",
      "source": [
        "pairs_full2 = []      # now try cmpare 1000-2000 with all other\n",
        "\n",
        "for i, idiom in idioms_lemmatized[1000:2000]:   # 1000 = ...?\n",
        "  for n, phrase in idioms_lemmatized[i+1:]:\n",
        "    for var in idiom:\n",
        "      if max([fuzz.ratio(var, b) for b in phrase]) > 85:\n",
        "        pairs_full2.append([i, n])\n",
        "        break"
      ],
      "metadata": {
        "id": "44vn6zS09LWU"
      },
      "execution_count": null,
      "outputs": []
    },
    {
      "cell_type": "code",
      "source": [
        "len(pairs_full2)"
      ],
      "metadata": {
        "colab": {
          "base_uri": "https://localhost:8080/"
        },
        "id": "BlWFFPr99XVo",
        "outputId": "d879ef05-103e-44a4-d6f5-51cb44531b98"
      },
      "execution_count": null,
      "outputs": [
        {
          "output_type": "execute_result",
          "data": {
            "text/plain": [
              "369"
            ]
          },
          "metadata": {},
          "execution_count": 29
        }
      ]
    },
    {
      "cell_type": "code",
      "source": [
        "with open('pairs_lemmatized.txt', 'a') as f:\n",
        "  for pair in pairs_full2:\n",
        "    f.write(str(pair))"
      ],
      "metadata": {
        "id": "OpSFDLS09Y01"
      },
      "execution_count": null,
      "outputs": []
    },
    {
      "cell_type": "code",
      "source": [
        "pairs_full2[:10]"
      ],
      "metadata": {
        "id": "1CuZvGyDOv9S"
      },
      "execution_count": null,
      "outputs": []
    },
    {
      "cell_type": "code",
      "source": [
        "for inds in pairs_full2[:10]:\n",
        "  for id in inds:\n",
        "    print(idioms_lemmatized[id][-1])\n",
        "  print('\\n')"
      ],
      "metadata": {
        "id": "BFn1P-rGOrrx"
      },
      "execution_count": null,
      "outputs": []
    },
    {
      "cell_type": "code",
      "source": [
        "pairs_full3 = []      # compare 2000-3000 with all other\n",
        "\n",
        "for i, idiom in idioms_lemmatized[2000:3000]: \n",
        "  for n, phrase in idioms_lemmatized[i+1:]:\n",
        "    for var in idiom:\n",
        "      if max([fuzz.ratio(var, b) for b in phrase]) > 85:\n",
        "        pairs_full3.append([i, n])\n",
        "        break"
      ],
      "metadata": {
        "id": "vTG5QsRFOsgo"
      },
      "execution_count": null,
      "outputs": []
    },
    {
      "cell_type": "code",
      "source": [
        "len(pairs_full3)"
      ],
      "metadata": {
        "colab": {
          "base_uri": "https://localhost:8080/"
        },
        "id": "YwZyy40tKlnq",
        "outputId": "535e74fe-eb15-44b0-82e4-b6f48c93038b"
      },
      "execution_count": null,
      "outputs": [
        {
          "output_type": "execute_result",
          "data": {
            "text/plain": [
              "390"
            ]
          },
          "metadata": {},
          "execution_count": 10
        }
      ]
    },
    {
      "cell_type": "code",
      "source": [
        "with open('pairs_lemmatized.txt', 'a') as f:\n",
        "  for pair in pairs_full3:\n",
        "    f.write(str(pair))"
      ],
      "metadata": {
        "id": "fVCXF53HKn1J"
      },
      "execution_count": null,
      "outputs": []
    },
    {
      "cell_type": "code",
      "source": [
        "pairs_full3[:10]"
      ],
      "metadata": {
        "id": "HTDLF0u3T_U0"
      },
      "execution_count": null,
      "outputs": []
    },
    {
      "cell_type": "code",
      "source": [
        "for inds in pairs_full3[:10]:\n",
        "  for id in inds:\n",
        "    print(idioms_lemmatized[id][-1])\n",
        "  print('\\n')"
      ],
      "metadata": {
        "id": "YQZefCHMKpnj"
      },
      "execution_count": null,
      "outputs": []
    },
    {
      "cell_type": "code",
      "source": [
        "pairs_full4 = search_pairs(3000)"
      ],
      "metadata": {
        "id": "FdLVbnbPVPYC"
      },
      "execution_count": null,
      "outputs": []
    },
    {
      "cell_type": "code",
      "source": [
        "len(pairs_full4)"
      ],
      "metadata": {
        "colab": {
          "base_uri": "https://localhost:8080/"
        },
        "id": "K5bNH1sYU_H0",
        "outputId": "7a8da4ca-af62-4520-feda-c9136d7fe7f6"
      },
      "execution_count": null,
      "outputs": [
        {
          "output_type": "execute_result",
          "data": {
            "text/plain": [
              "476"
            ]
          },
          "metadata": {},
          "execution_count": 24
        }
      ]
    },
    {
      "cell_type": "code",
      "source": [
        "for inds in pairs_full4[:10]:\n",
        "  for id in inds:\n",
        "    print(idioms_lemmatized[id][-1])\n",
        "  print('\\n')"
      ],
      "metadata": {
        "id": "YuvqnHFdUP4_"
      },
      "execution_count": null,
      "outputs": []
    },
    {
      "cell_type": "code",
      "source": [
        "with open('pairs_lemmatized.txt', 'a') as f:\n",
        "  for pair in pairs_full4:\n",
        "    f.write(str(pair))"
      ],
      "metadata": {
        "id": "LIS6IGjxafiu"
      },
      "execution_count": null,
      "outputs": []
    },
    {
      "cell_type": "code",
      "source": [
        "pairs_full5 = search_pairs(4000)"
      ],
      "metadata": {
        "id": "FlEVDi4CdI0l"
      },
      "execution_count": null,
      "outputs": []
    },
    {
      "cell_type": "code",
      "source": [
        "len(pairs_full5)"
      ],
      "metadata": {
        "colab": {
          "base_uri": "https://localhost:8080/"
        },
        "outputId": "d18f15fc-929b-42bc-da7a-fd1d6d438aff",
        "id": "SxT7CsdSdI0o"
      },
      "execution_count": null,
      "outputs": [
        {
          "output_type": "execute_result",
          "data": {
            "text/plain": [
              "260"
            ]
          },
          "metadata": {},
          "execution_count": 28
        }
      ]
    },
    {
      "cell_type": "code",
      "source": [
        "for inds in pairs_full5[:10]:\n",
        "  for id in inds:\n",
        "    print(idioms_lemmatized[id][-1])\n",
        "  print('\\n')"
      ],
      "metadata": {
        "id": "3Sj9R92LdI0p"
      },
      "execution_count": null,
      "outputs": []
    },
    {
      "cell_type": "code",
      "source": [
        "with open('pairs_lemmatized.txt', 'a') as f:\n",
        "  for pair in pairs_full5:\n",
        "    f.write(str(pair))"
      ],
      "metadata": {
        "id": "54JPPNnedI0q"
      },
      "execution_count": null,
      "outputs": []
    },
    {
      "cell_type": "code",
      "source": [
        "pairs_full6 = search_pairs(5000)"
      ],
      "metadata": {
        "id": "a8drFCXdpMbv"
      },
      "execution_count": null,
      "outputs": []
    },
    {
      "cell_type": "code",
      "source": [
        "len(pairs_full6)"
      ],
      "metadata": {
        "colab": {
          "base_uri": "https://localhost:8080/"
        },
        "outputId": "abec8100-be1c-48b2-d8f2-0c7593ab3379",
        "id": "GwICWzXjpMbw"
      },
      "execution_count": null,
      "outputs": [
        {
          "output_type": "execute_result",
          "data": {
            "text/plain": [
              "442"
            ]
          },
          "metadata": {},
          "execution_count": 32
        }
      ]
    },
    {
      "cell_type": "code",
      "source": [
        "for inds in pairs_full6[:10]:\n",
        "  for id in inds:\n",
        "    print(idioms_lemmatized[id][-1])\n",
        "  print('\\n')"
      ],
      "metadata": {
        "id": "-LLHCeRXpMbx"
      },
      "execution_count": null,
      "outputs": []
    },
    {
      "cell_type": "code",
      "source": [
        "with open('pairs_lemmatized.txt', 'a') as f:\n",
        "  for pair in pairs_full6:\n",
        "    f.write(str(pair))"
      ],
      "metadata": {
        "id": "UHK7yFcnpMby"
      },
      "execution_count": null,
      "outputs": []
    },
    {
      "cell_type": "code",
      "source": [
        "pairs_full7 = search_pairs(6000)\n",
        "pairs_full7.extend(search_pairs(7000))"
      ],
      "metadata": {
        "id": "mWEj25kjxUjn"
      },
      "execution_count": null,
      "outputs": []
    },
    {
      "cell_type": "code",
      "source": [
        "len(pairs_full7)"
      ],
      "metadata": {
        "colab": {
          "base_uri": "https://localhost:8080/"
        },
        "outputId": "2e6cf2fc-1a01-4b7a-815f-c5b36e817e9e",
        "id": "Ek6XUFTNxUjp"
      },
      "execution_count": null,
      "outputs": [
        {
          "output_type": "execute_result",
          "data": {
            "text/plain": [
              "850"
            ]
          },
          "metadata": {},
          "execution_count": 36
        }
      ]
    },
    {
      "cell_type": "code",
      "source": [
        "for inds in pairs_full7[:10]:\n",
        "  for id in inds:\n",
        "    print(idioms_lemmatized[id][-1])\n",
        "  print('\\n')"
      ],
      "metadata": {
        "id": "scdlBRhNxUjp"
      },
      "execution_count": null,
      "outputs": []
    },
    {
      "cell_type": "code",
      "source": [
        "with open('pairs_lemmatized.txt', 'a') as f:\n",
        "  for pair in pairs_full7:\n",
        "    f.write(str(pair))"
      ],
      "metadata": {
        "id": "o7DULAZmxUjq"
      },
      "execution_count": null,
      "outputs": []
    },
    {
      "cell_type": "code",
      "source": [
        "pairs_full8 = search_pairs(8000)\n",
        "pairs_full9 = search_pairs(9000)"
      ],
      "metadata": {
        "id": "nj0ie8Ht8O8t"
      },
      "execution_count": null,
      "outputs": []
    },
    {
      "cell_type": "code",
      "source": [
        "len(pairs_full8)"
      ],
      "metadata": {
        "colab": {
          "base_uri": "https://localhost:8080/"
        },
        "id": "3UEvZDyT9cVg",
        "outputId": "15c2e3f1-1158-4c24-b215-5572ef2ea49e"
      },
      "execution_count": null,
      "outputs": [
        {
          "output_type": "execute_result",
          "data": {
            "text/plain": [
              "405"
            ]
          },
          "metadata": {},
          "execution_count": 41
        }
      ]
    },
    {
      "cell_type": "code",
      "source": [
        "len(pairs_full9)"
      ],
      "metadata": {
        "colab": {
          "base_uri": "https://localhost:8080/"
        },
        "id": "kMI-JkPD9d2H",
        "outputId": "651af30b-7ceb-4f5d-b72f-79682a17a677"
      },
      "execution_count": null,
      "outputs": [
        {
          "output_type": "execute_result",
          "data": {
            "text/plain": [
              "435"
            ]
          },
          "metadata": {},
          "execution_count": 42
        }
      ]
    },
    {
      "cell_type": "code",
      "source": [
        "for inds in pairs_full8[:10]:\n",
        "  for id in inds:\n",
        "    print(idioms_lemmatized[id][-1])\n",
        "  print('\\n')"
      ],
      "metadata": {
        "id": "z2Zzc4ZR9g2-"
      },
      "execution_count": null,
      "outputs": []
    },
    {
      "cell_type": "code",
      "source": [
        "for inds in pairs_full9[:10]:\n",
        "  for id in inds:\n",
        "    print(idioms_lemmatized[id][-1])\n",
        "  print('\\n')"
      ],
      "metadata": {
        "id": "wTjsEUz89h5l"
      },
      "execution_count": null,
      "outputs": []
    },
    {
      "cell_type": "code",
      "source": [
        "with open('pairs_lemmatized.txt', 'a') as f:\n",
        "  for pair in pairs_full8:\n",
        "    f.write(str(pair))\n",
        "  for pair in pairs_full9:\n",
        "    f.write(str(pair))"
      ],
      "metadata": {
        "id": "lYTBIpl-9p42"
      },
      "execution_count": null,
      "outputs": []
    },
    {
      "cell_type": "code",
      "source": [
        "pairs_full10 = search_pairs(10000)\n",
        "pairs_full11 = search_pairs(11000)\n",
        "pairs_full12 = search_pairs(12000)"
      ],
      "metadata": {
        "id": "Ra1aZgVpGNFn"
      },
      "execution_count": null,
      "outputs": []
    },
    {
      "cell_type": "code",
      "source": [
        "len(pairs_full10)"
      ],
      "metadata": {
        "colab": {
          "base_uri": "https://localhost:8080/"
        },
        "outputId": "76d663c7-044e-4fb1-b0de-2e8bd97890cd",
        "id": "O15_V55lGNFp"
      },
      "execution_count": null,
      "outputs": [
        {
          "output_type": "execute_result",
          "data": {
            "text/plain": [
              "231"
            ]
          },
          "metadata": {},
          "execution_count": 47
        }
      ]
    },
    {
      "cell_type": "code",
      "source": [
        "len(pairs_full11)"
      ],
      "metadata": {
        "colab": {
          "base_uri": "https://localhost:8080/"
        },
        "outputId": "209a17ad-f787-4ea1-c710-f74b0209ba9d",
        "id": "MgJ7v-XzGNFq"
      },
      "execution_count": null,
      "outputs": [
        {
          "output_type": "execute_result",
          "data": {
            "text/plain": [
              "135"
            ]
          },
          "metadata": {},
          "execution_count": 48
        }
      ]
    },
    {
      "cell_type": "code",
      "source": [
        "len(pairs_full12)"
      ],
      "metadata": {
        "colab": {
          "base_uri": "https://localhost:8080/"
        },
        "id": "sbVGfVyTGimb",
        "outputId": "729cd3ce-a8c7-44a5-8817-ce1d3abd0e88"
      },
      "execution_count": null,
      "outputs": [
        {
          "output_type": "execute_result",
          "data": {
            "text/plain": [
              "123"
            ]
          },
          "metadata": {},
          "execution_count": 49
        }
      ]
    },
    {
      "cell_type": "code",
      "source": [
        "for inds in pairs_full10[:10]:\n",
        "  for id in inds:\n",
        "    print(idioms_lemmatized[id][-1])\n",
        "  print('\\n')"
      ],
      "metadata": {
        "id": "2JhMkphyGNFq"
      },
      "execution_count": null,
      "outputs": []
    },
    {
      "cell_type": "code",
      "source": [
        "for inds in pairs_full11[:10]:\n",
        "  for id in inds:\n",
        "    print(idioms_lemmatized[id][-1])\n",
        "  print('\\n')"
      ],
      "metadata": {
        "id": "AKnlOEMsGNFr"
      },
      "execution_count": null,
      "outputs": []
    },
    {
      "cell_type": "code",
      "source": [
        "for inds in pairs_full12[:10]:\n",
        "  for id in inds:\n",
        "    print(idioms_lemmatized[id][-1])\n",
        "  print('\\n')"
      ],
      "metadata": {
        "id": "GibdEPygGnFz"
      },
      "execution_count": null,
      "outputs": []
    },
    {
      "cell_type": "code",
      "source": [
        "with open('pairs_lemmatized.txt', 'a') as f:\n",
        "  for pair in pairs_full10:\n",
        "    f.write(str(pair))\n",
        "  for pair in pairs_full11:\n",
        "    f.write(str(pair))\n",
        "  for pair in pairs_full12:\n",
        "    f.write(str(pair))"
      ],
      "metadata": {
        "id": "vDbz60C2GNFr"
      },
      "execution_count": null,
      "outputs": []
    },
    {
      "cell_type": "code",
      "source": [
        "pairs_full13 = search_pairs(13000)\n",
        "pairs_full14 = search_pairs(14000)\n",
        "pairs_full15 = search_pairs(15000)"
      ],
      "metadata": {
        "id": "aCD9qEIxRKuA"
      },
      "execution_count": null,
      "outputs": []
    },
    {
      "cell_type": "code",
      "source": [
        "len(pairs_full13)"
      ],
      "metadata": {
        "colab": {
          "base_uri": "https://localhost:8080/"
        },
        "outputId": "07249232-fb42-4d46-c040-4465deca04de",
        "id": "swXnzm-1RKuC"
      },
      "execution_count": null,
      "outputs": [
        {
          "output_type": "execute_result",
          "data": {
            "text/plain": [
              "267"
            ]
          },
          "metadata": {},
          "execution_count": 55
        }
      ]
    },
    {
      "cell_type": "code",
      "source": [
        "len(pairs_full14)"
      ],
      "metadata": {
        "colab": {
          "base_uri": "https://localhost:8080/"
        },
        "outputId": "28d08ddb-9d26-4e64-ef8d-524336c47fb5",
        "id": "ndJbDNG_RKuC"
      },
      "execution_count": null,
      "outputs": [
        {
          "output_type": "execute_result",
          "data": {
            "text/plain": [
              "134"
            ]
          },
          "metadata": {},
          "execution_count": 56
        }
      ]
    },
    {
      "cell_type": "code",
      "source": [
        "len(pairs_full15)"
      ],
      "metadata": {
        "colab": {
          "base_uri": "https://localhost:8080/"
        },
        "outputId": "4bf3bf23-b498-41b6-eec6-309b3caa3920",
        "id": "H-xfmSneRKuD"
      },
      "execution_count": null,
      "outputs": [
        {
          "output_type": "execute_result",
          "data": {
            "text/plain": [
              "79"
            ]
          },
          "metadata": {},
          "execution_count": 57
        }
      ]
    },
    {
      "cell_type": "code",
      "source": [
        "for inds in pairs_full13[:10]:\n",
        "  for id in inds:\n",
        "    print(idioms_lemmatized[id][-1])\n",
        "  print('\\n')"
      ],
      "metadata": {
        "id": "5GylyWIvRKuD"
      },
      "execution_count": null,
      "outputs": []
    },
    {
      "cell_type": "code",
      "source": [
        "for inds in pairs_full14[:10]:\n",
        "  for id in inds:\n",
        "    print(idioms_lemmatized[id][-1])\n",
        "  print('\\n')"
      ],
      "metadata": {
        "id": "FYVjCCp7RKuE"
      },
      "execution_count": null,
      "outputs": []
    },
    {
      "cell_type": "code",
      "source": [
        "for inds in pairs_full15[:10]:\n",
        "  for id in inds:\n",
        "    print(idioms_lemmatized[id][-1])\n",
        "  print('\\n')"
      ],
      "metadata": {
        "id": "RfhCO-FGRKuE"
      },
      "execution_count": null,
      "outputs": []
    },
    {
      "cell_type": "code",
      "source": [
        "with open('pairs_lemmatized.txt', 'a') as f:\n",
        "  for pair in pairs_full13:\n",
        "    f.write(str(pair))\n",
        "  for pair in pairs_full14:\n",
        "    f.write(str(pair))\n",
        "  for pair in pairs_full15:\n",
        "    f.write(str(pair))"
      ],
      "metadata": {
        "id": "E0BwsqarRKuF"
      },
      "execution_count": null,
      "outputs": []
    },
    {
      "cell_type": "code",
      "source": [
        "pairs_full16 = search_pairs(16000)\n",
        "pairs_full17 = search_pairs(17000)\n",
        "pairs_full18 = search_pairs(18000)\n",
        "pairs_full19 = search_pairs(19000)"
      ],
      "metadata": {
        "id": "hJwOau8CRYLf"
      },
      "execution_count": null,
      "outputs": []
    },
    {
      "cell_type": "code",
      "source": [
        "len(pairs_full16)"
      ],
      "metadata": {
        "colab": {
          "base_uri": "https://localhost:8080/"
        },
        "outputId": "729b6ac0-7a31-4060-a5a5-711341c53c1b",
        "id": "tXB8d8tLZKAo"
      },
      "execution_count": null,
      "outputs": [
        {
          "output_type": "execute_result",
          "data": {
            "text/plain": [
              "58"
            ]
          },
          "metadata": {},
          "execution_count": 69
        }
      ]
    },
    {
      "cell_type": "code",
      "source": [
        "for inds in pairs_full16[:10]:\n",
        "  for id in inds:\n",
        "    print(idioms_lemmatized[id][-1])\n",
        "  print('\\n')"
      ],
      "metadata": {
        "id": "jnD4kiK7bWBO"
      },
      "execution_count": null,
      "outputs": []
    },
    {
      "cell_type": "code",
      "source": [
        "len(pairs_full17)"
      ],
      "metadata": {
        "colab": {
          "base_uri": "https://localhost:8080/"
        },
        "outputId": "bcb6d74e-6088-407e-9ac5-fe62feff1b7a",
        "id": "FRhRPbemZKAq"
      },
      "execution_count": null,
      "outputs": [
        {
          "output_type": "execute_result",
          "data": {
            "text/plain": [
              "57"
            ]
          },
          "metadata": {},
          "execution_count": 70
        }
      ]
    },
    {
      "cell_type": "code",
      "source": [
        "for inds in pairs_full17[:10]:\n",
        "  for id in inds:\n",
        "    print(idioms_lemmatized[id][-1])\n",
        "  print('\\n')"
      ],
      "metadata": {
        "id": "hobff56jba41"
      },
      "execution_count": null,
      "outputs": []
    },
    {
      "cell_type": "code",
      "source": [
        "len(pairs_full18)"
      ],
      "metadata": {
        "colab": {
          "base_uri": "https://localhost:8080/"
        },
        "outputId": "8d235c17-7e19-4e24-83ec-c664389656ae",
        "id": "9fiwKGdoZKAq"
      },
      "execution_count": null,
      "outputs": [
        {
          "output_type": "execute_result",
          "data": {
            "text/plain": [
              "59"
            ]
          },
          "metadata": {},
          "execution_count": 71
        }
      ]
    },
    {
      "cell_type": "code",
      "source": [
        "for inds in pairs_full18[:10]:\n",
        "  for id in inds:\n",
        "    print(idioms_lemmatized[id][-1])\n",
        "  print('\\n')"
      ],
      "metadata": {
        "id": "Pjc8rUqWbfI7"
      },
      "execution_count": null,
      "outputs": []
    },
    {
      "cell_type": "code",
      "source": [
        "len(pairs_full19)"
      ],
      "metadata": {
        "colab": {
          "base_uri": "https://localhost:8080/"
        },
        "id": "fOWZdwGlZMmQ",
        "outputId": "b3630ec7-194e-489d-e95e-621a1820e738"
      },
      "execution_count": null,
      "outputs": [
        {
          "output_type": "execute_result",
          "data": {
            "text/plain": [
              "26"
            ]
          },
          "metadata": {},
          "execution_count": 72
        }
      ]
    },
    {
      "cell_type": "code",
      "source": [
        "for inds in pairs_full19[:10]:\n",
        "  for id in inds:\n",
        "    print(idioms_lemmatized[id][-1])\n",
        "  print('\\n')"
      ],
      "metadata": {
        "id": "faKfVeOGbmri"
      },
      "execution_count": null,
      "outputs": []
    },
    {
      "cell_type": "code",
      "source": [
        "with open('pairs_lemmatized.txt', 'a') as f:\n",
        "  for pair in pairs_full16:\n",
        "    f.write(str(pair))\n",
        "  for pair in pairs_full17:\n",
        "    f.write(str(pair))\n",
        "  for pair in pairs_full18:\n",
        "    f.write(str(pair))\n",
        "  for pair in pairs_full19:\n",
        "    f.write(str(pair))"
      ],
      "metadata": {
        "id": "teRAEM8YbwCZ"
      },
      "execution_count": null,
      "outputs": []
    },
    {
      "cell_type": "code",
      "source": [
        "# check must be 9152, 11230;  8851, 11133"
      ],
      "metadata": {
        "id": "JQwMppTRO0qU"
      },
      "execution_count": null,
      "outputs": []
    },
    {
      "cell_type": "code",
      "source": [
        "# check must be 5361, 5362;  9255, 13783; 15273, 15274"
      ],
      "metadata": {
        "id": "-Sn6sOaHT5jr"
      },
      "execution_count": null,
      "outputs": []
    },
    {
      "cell_type": "code",
      "source": [
        "fuzz.ratio(idioms_lemmatized[9152][-1][0], idioms_lemmatized[11230][-1][0])"
      ],
      "metadata": {
        "colab": {
          "base_uri": "https://localhost:8080/"
        },
        "id": "kMYFZciMYzcs",
        "outputId": "e4cfed4c-227e-4ec7-d727-d2563c369e4a"
      },
      "execution_count": null,
      "outputs": [
        {
          "output_type": "execute_result",
          "data": {
            "text/plain": [
              "84"
            ]
          },
          "metadata": {},
          "execution_count": 65
        }
      ]
    },
    {
      "cell_type": "code",
      "source": [
        "print(idioms_lemmatized[9152])\n",
        "print(idioms_lemmatized[11230])"
      ],
      "metadata": {
        "colab": {
          "base_uri": "https://localhost:8080/"
        },
        "id": "SCB_X2odYfEg",
        "outputId": "a709b53c-f270-44c2-a04b-b8d71abb6cb5"
      },
      "execution_count": null,
      "outputs": [
        {
          "output_type": "stream",
          "name": "stdout",
          "text": [
            "(9152, ['сваливать в один куча', 'сваливать в один куча'])\n",
            "(11230, ['валить все в один куча'])\n"
          ]
        }
      ]
    },
    {
      "cell_type": "code",
      "source": [
        "fuzz.ratio(idioms_lemmatized[8851][-1][0], idioms_lemmatized[11133][-1][0])"
      ],
      "metadata": {
        "colab": {
          "base_uri": "https://localhost:8080/"
        },
        "id": "F97JvgJyY8TD",
        "outputId": "0770816d-8565-4179-d473-88f1a5a79b6a"
      },
      "execution_count": null,
      "outputs": [
        {
          "output_type": "execute_result",
          "data": {
            "text/plain": [
              "70"
            ]
          },
          "metadata": {},
          "execution_count": 66
        }
      ]
    },
    {
      "cell_type": "code",
      "source": [
        "print(idioms_lemmatized[8851])\n",
        "print(idioms_lemmatized[11133])"
      ],
      "metadata": {
        "colab": {
          "base_uri": "https://localhost:8080/"
        },
        "id": "xbnZaSI2Ynbm",
        "outputId": "45b36abf-0d0e-4afc-ff4d-a8a29b246dd0"
      },
      "execution_count": null,
      "outputs": [
        {
          "output_type": "stream",
          "name": "stdout",
          "text": [
            "(8851, ['с больной голова да на здоровый', 'с больной голова на здоровый'])\n",
            "(11133, ['валить или сваливать с больной голова на здоровый'])\n"
          ]
        }
      ]
    },
    {
      "cell_type": "code",
      "source": [
        "pairs_full8"
      ],
      "metadata": {
        "id": "B2B0ks_CYX4K"
      },
      "execution_count": null,
      "outputs": []
    },
    {
      "cell_type": "markdown",
      "source": [
        "# Combine pairs to groups"
      ],
      "metadata": {
        "id": "vsd56lTQszw6"
      }
    },
    {
      "cell_type": "code",
      "source": [
        "with open('pairs_lemmatized.txt', 'r') as f:\n",
        "  pairs_file = [eval(line.replace('\\n', '')) for line in f]"
      ],
      "metadata": {
        "id": "eLHM9pI8YaBk"
      },
      "execution_count": 3,
      "outputs": []
    },
    {
      "cell_type": "code",
      "source": [
        "len(pairs_file)"
      ],
      "metadata": {
        "colab": {
          "base_uri": "https://localhost:8080/"
        },
        "id": "-tq618FlphBq",
        "outputId": "c16a76f9-b51c-46ff-81ea-fe23315a9c18"
      },
      "execution_count": 4,
      "outputs": [
        {
          "output_type": "execute_result",
          "data": {
            "text/plain": [
              "5287"
            ]
          },
          "metadata": {},
          "execution_count": 4
        }
      ]
    },
    {
      "cell_type": "code",
      "source": [
        "'''with open('pairs_lemmatized.txt', 'a') as f:\n",
        "  for pair in pairs_file:\n",
        "    f.write(str(pair) + '\\n')'''"
      ],
      "metadata": {
        "id": "jZzoEVrDrWQj",
        "colab": {
          "base_uri": "https://localhost:8080/",
          "height": 35
        },
        "outputId": "3723a9d1-cdf2-4aa0-f043-aec342f2968c"
      },
      "execution_count": null,
      "outputs": [
        {
          "output_type": "execute_result",
          "data": {
            "application/vnd.google.colaboratory.intrinsic+json": {
              "type": "string"
            },
            "text/plain": [
              "\"with open('pairs_lemmatized.txt', 'a') as f:\\n  for pair in pairs_file:\\n    f.write(str(pair) + '\\n')\""
            ]
          },
          "metadata": {},
          "execution_count": 5
        }
      ]
    },
    {
      "cell_type": "code",
      "source": [
        "firsts = [num[0] for num in pairs_file]\n",
        "seconds = [num[-1] for num in pairs_file]"
      ],
      "metadata": {
        "id": "YhNHkjBEriPP"
      },
      "execution_count": 5,
      "outputs": []
    },
    {
      "cell_type": "code",
      "source": [
        "variants = []\n",
        "passed = []\n",
        "\n",
        "for i, elem in enumerate(firsts):\n",
        "  if elem not in passed:\n",
        "    variants.append(pairs_file[i])\n",
        "    passed.append(elem)\n",
        "    while pairs_file[i][-1] in firsts:\n",
        "      variants[-1].extend(pairs_file[firsts.index(pairs_file[i][-1])])\n",
        "  else:\n",
        "    variants[passed.index(elem)].extend(pairs_file[i])\n",
        "    iterator = 0\n",
        "    while pairs_file[i][-1] in firsts and iterator < 10:\n",
        "      iterator += 1\n",
        "      variants[passed.index(elem)].extend(pairs_file[firsts.index(pairs_file[i][-1])])"
      ],
      "metadata": {
        "id": "8vJaXTZirnro"
      },
      "execution_count": 6,
      "outputs": []
    },
    {
      "cell_type": "code",
      "source": [
        "len(variants)"
      ],
      "metadata": {
        "colab": {
          "base_uri": "https://localhost:8080/"
        },
        "id": "yCRLlGQQuXgP",
        "outputId": "b0d56911-197b-473d-9106-46a8ee68c9fe"
      },
      "execution_count": 7,
      "outputs": [
        {
          "output_type": "execute_result",
          "data": {
            "text/plain": [
              "3628"
            ]
          },
          "metadata": {},
          "execution_count": 7
        }
      ]
    },
    {
      "cell_type": "code",
      "source": [
        "sorted(list(set(variants[0])))"
      ],
      "metadata": {
        "colab": {
          "base_uri": "https://localhost:8080/"
        },
        "id": "6XFZjG6LzE2F",
        "outputId": "1f0d4287-3207-48b6-d28e-8d44591a6eee"
      },
      "execution_count": 8,
      "outputs": [
        {
          "output_type": "execute_result",
          "data": {
            "text/plain": [
              "[2, 5256, 5604]"
            ]
          },
          "metadata": {},
          "execution_count": 8
        }
      ]
    },
    {
      "cell_type": "code",
      "source": [
        "for num, inds in enumerate(variants[:20]):\n",
        "    \n",
        "    inds = sorted(list(set(inds)))\n",
        "    #semantics = []\n",
        "    phrases = [name.lower() for name in idioms[inds[0]]['phrase']]\n",
        "\n",
        "    print(f\"{str(num) : <3}{str(inds[0]) : <6}{str(idioms[inds[0]]['phrase']) : <15}{str([sem['meaning'] for sem in idioms[inds[0]]['semantics'] if sem['meaning']][:1]) : <15}\")    \n",
        "    #print(num, inds[0], idioms[inds[0]]['phrase'], [sem['meaning'] for sem in idioms[inds[0]]['semantics'] if sem['meaning']][:1])\n",
        "\n",
        "    for i in inds[1:]:\n",
        "        #print(num, i, idioms[i]['phrase'], [sem['meaning'] for sem in idioms[i]['semantics'] if sem['meaning']][:1])\n",
        "        print(f\"{str(num) : <3}{str(i) : <6}{str(idioms[i]['phrase']) : <15}{str([sem['meaning'] for sem in idioms[i]['semantics'] if sem['meaning']][:1]) : <15}\") \n",
        "        \n",
        "        #semantics.extend(idioms[i]['semantics'])\n",
        "        '''\n",
        "        for name in idioms[i]['phrase']:\n",
        "            if name.lower() not in phrases:\n",
        "                phrases.append(name.lower())'''\n",
        "            \n",
        "        #idioms[i]['phrase'] = ['delete']\n",
        "    #idioms[inds[0]]['semantics'].extend(semantics)\n",
        "    #idioms[inds[0]]['phrase'] = phrases\n",
        "    #print('Len semantics:', len(idioms[inds[0]]['semantics']))\n",
        "    #print('Names:', idioms[inds[0]]['phrase'])\n",
        "    print('\\n')"
      ],
      "metadata": {
        "id": "YiLnkJT3v6PB"
      },
      "execution_count": null,
      "outputs": []
    },
    {
      "cell_type": "markdown",
      "source": [
        "# Check groups variants for correctness"
      ],
      "metadata": {
        "id": "IMJPSKxMs_Xb"
      }
    },
    {
      "cell_type": "markdown",
      "source": [
        "## Define helping functions"
      ],
      "metadata": {
        "id": "AO61n03PtauP"
      }
    },
    {
      "cell_type": "code",
      "source": [
        "def next_variants(start, end):\n",
        "    new_vars = []\n",
        "    to_split = []\n",
        "    \n",
        "    for num, inds in enumerate(variants[start:end]):\n",
        "      inds = sorted(list(set(inds)))\n",
        "\n",
        "      examples = sum([len(phrase['examples']) for phrase in idioms[inds[0]]['semantics']])\n",
        "\n",
        "      print(f\"{str(num) : <3}{str(inds[0]) : <6}{str(examples) : <3}{str(idioms[inds[0]]['phrase']) : <15}{str([sem['meaning'] for sem in idioms[inds[0]]['semantics'] if sem['meaning']][:1]) : <15}\")    \n",
        "      for i in inds[1:]:\n",
        "        examples = sum([len(phrase['examples']) for phrase in idioms[i]['semantics']])\n",
        "        print(f\"{str(num) : <3}{str(i) : <6}{str(examples) : <3}{str(idioms[i]['phrase']) : <15}{str([sem['meaning'] for sem in idioms[i]['semantics'] if sem['meaning']][:1]) : <15}\") \n",
        "    \n",
        "      action = int(input())\n",
        "      if action == 1:\n",
        "        new_vars.append(inds)\n",
        "      elif action == 2:\n",
        "        continue\n",
        "      elif action == 3:\n",
        "        action2 = [int(n) for n in input().split()]\n",
        "        if len(action2) == 1:\n",
        "          to_split.append(inds)\n",
        "        else:\n",
        "          new_vars.append([inds[index-1] for index in action2])\n",
        "    \n",
        "    return new_vars, to_split\n",
        "    #print('\\n')"
      ],
      "metadata": {
        "id": "iRvruD8GzVPC"
      },
      "execution_count": 9,
      "outputs": []
    },
    {
      "cell_type": "code",
      "source": [
        "new_vars = [] # temprorary filler to start the next function"
      ],
      "metadata": {
        "id": "T2Sdx4ywtSry"
      },
      "execution_count": 10,
      "outputs": []
    },
    {
      "cell_type": "code",
      "source": [
        "def write_vars(new_vars=new_vars):\n",
        "  with open('lemmas_variants_clean.txt', 'a') as f:\n",
        "    for elem in new_vars:\n",
        "      f.write(str(elem) + '\\n')"
      ],
      "metadata": {
        "id": "9um61wEYgvFx"
      },
      "execution_count": 11,
      "outputs": []
    },
    {
      "cell_type": "markdown",
      "source": [
        "## Start joining"
      ],
      "metadata": {
        "id": "1dnwOz90tdu8"
      }
    },
    {
      "cell_type": "code",
      "source": [
        "new_vars, to_split = next_variants(0, 50)"
      ],
      "metadata": {
        "id": "DeeevAAoWnWv"
      },
      "execution_count": null,
      "outputs": []
    },
    {
      "cell_type": "code",
      "source": [
        "new_vars.append([4766, 10870])"
      ],
      "metadata": {
        "id": "jMD9d0AoZs67"
      },
      "execution_count": null,
      "outputs": []
    },
    {
      "cell_type": "code",
      "source": [
        "new_vars2, to_split2 = next_variants(50, 100)"
      ],
      "metadata": {
        "id": "38xbWAXdZ9E3"
      },
      "execution_count": null,
      "outputs": []
    },
    {
      "cell_type": "code",
      "source": [
        "# 11089, 11146, 11375, 11434 - delete"
      ],
      "metadata": {
        "id": "8WfAs4Pya8gZ"
      },
      "execution_count": null,
      "outputs": []
    },
    {
      "cell_type": "code",
      "source": [
        "new_vars.extend(new_vars2)"
      ],
      "metadata": {
        "id": "Q_OTlb3Pc2sF"
      },
      "execution_count": null,
      "outputs": []
    },
    {
      "cell_type": "code",
      "source": [
        "len(new_vars)"
      ],
      "metadata": {
        "id": "Vm7U-iHciYz2"
      },
      "execution_count": null,
      "outputs": []
    },
    {
      "cell_type": "code",
      "source": [
        "with open('lemmas_variants_clean.txt', 'w') as f:\n",
        "  for elem in new_vars:\n",
        "    f.write(str(elem) + '\\n')"
      ],
      "metadata": {
        "id": "CAVL7tSwjwk8"
      },
      "execution_count": null,
      "outputs": []
    },
    {
      "cell_type": "code",
      "source": [
        "new_vars, to_split = next_variants(100, 150)\n",
        "write_vars()"
      ],
      "metadata": {
        "id": "V4DvgHh4BQp6"
      },
      "execution_count": null,
      "outputs": []
    },
    {
      "cell_type": "code",
      "source": [
        "new_vars, to_split = next_variants(150, 200)\n",
        "write_vars()"
      ],
      "metadata": {
        "id": "aoTDwEfTEP-S"
      },
      "execution_count": null,
      "outputs": []
    },
    {
      "cell_type": "code",
      "source": [
        "new_vars, to_split = next_variants(200, 300)"
      ],
      "metadata": {
        "id": "lIqEDQbYHaci"
      },
      "execution_count": null,
      "outputs": []
    },
    {
      "cell_type": "code",
      "source": [
        "# unite (804, 13261) and (805, 13261)\n",
        "# check must be 9152, 11230;  8851, 11133\n",
        "# check must be 5361, 5362;  9255, 13783; 15273, 15274"
      ],
      "metadata": {
        "id": "Oy-dMBNpIbfV"
      },
      "execution_count": null,
      "outputs": []
    },
    {
      "cell_type": "code",
      "source": [
        "write_vars()"
      ],
      "metadata": {
        "id": "31aEH2r4Lcz6"
      },
      "execution_count": null,
      "outputs": []
    },
    {
      "cell_type": "code",
      "source": [
        "new_vars, to_split = next_variants(300, 400)\n",
        "write_vars()"
      ],
      "metadata": {
        "id": "UxddHIv8Lxyv"
      },
      "execution_count": null,
      "outputs": []
    },
    {
      "cell_type": "code",
      "source": [
        "new_vars, to_split = next_variants(400, 450)"
      ],
      "metadata": {
        "id": "m4AT1JwiZ7fE"
      },
      "execution_count": null,
      "outputs": []
    },
    {
      "cell_type": "code",
      "source": [
        "# 22 (1446, 15094) append 1448 \n",
        "# 26 (1470, 15104) append 1481, 1486, 11434\n",
        "# 33 (1493..) append 1494, 1495\n",
        "# delte 30 (1489, 19234)"
      ],
      "metadata": {
        "id": "2kWLQP9dbbcx",
        "colab": {
          "base_uri": "https://localhost:8080/"
        },
        "outputId": "70e27bbb-72c9-4b27-ab99-7f8dc64f6fd2"
      },
      "execution_count": null,
      "outputs": [
        {
          "output_type": "execute_result",
          "data": {
            "text/plain": [
              "[1492, 15096]"
            ]
          },
          "metadata": {},
          "execution_count": 30
        }
      ]
    },
    {
      "cell_type": "code",
      "source": [
        "write_vars(new_vars)"
      ],
      "metadata": {
        "id": "cGhUumlmZ1g8"
      },
      "execution_count": null,
      "outputs": []
    },
    {
      "cell_type": "code",
      "source": [
        "new_vars, to_split = next_variants(450, 500)\n",
        "write_vars(new_vars)"
      ],
      "metadata": {
        "id": "p0a9hjVFauml"
      },
      "execution_count": null,
      "outputs": []
    },
    {
      "cell_type": "code",
      "source": [
        "new_vars, to_split = next_variants(500, 550)\n",
        "write_vars(new_vars)"
      ],
      "metadata": {
        "id": "QaKdBMxNYCPI"
      },
      "execution_count": null,
      "outputs": []
    },
    {
      "cell_type": "code",
      "source": [
        "new_vars, to_split = next_variants(550, 600)\n",
        "write_vars(new_vars)"
      ],
      "metadata": {
        "id": "ySn6MqO3euwJ"
      },
      "execution_count": null,
      "outputs": []
    },
    {
      "cell_type": "code",
      "source": [
        "new_vars, to_split = next_variants(600, 650)"
      ],
      "metadata": {
        "id": "ac1nLd6-fhg5"
      },
      "execution_count": null,
      "outputs": []
    },
    {
      "cell_type": "code",
      "source": [
        "# [8055, 12699] check and append 8050!!!!\n",
        "# 8148 and 18809\n",
        "len(new_vars)"
      ],
      "metadata": {
        "colab": {
          "base_uri": "https://localhost:8080/"
        },
        "id": "3R5yUcQ-hmmK",
        "outputId": "23394591-b8c5-48e1-ed9e-503254a7e4eb"
      },
      "execution_count": null,
      "outputs": [
        {
          "output_type": "execute_result",
          "data": {
            "text/plain": [
              "12"
            ]
          },
          "metadata": {},
          "execution_count": 13
        }
      ]
    },
    {
      "cell_type": "code",
      "source": [
        "write_vars(new_vars)"
      ],
      "metadata": {
        "id": "b_GvsuVygsib"
      },
      "execution_count": null,
      "outputs": []
    },
    {
      "cell_type": "code",
      "source": [
        "new_vars, to_split = next_variants(650, 700)"
      ],
      "metadata": {
        "id": "uPWgyu3HjuQb"
      },
      "execution_count": null,
      "outputs": []
    },
    {
      "cell_type": "code",
      "source": [
        "new_vars.append([8148, 18809])"
      ],
      "metadata": {
        "id": "oB4oGH_ilYuH"
      },
      "execution_count": null,
      "outputs": []
    },
    {
      "cell_type": "code",
      "source": [
        "write_vars(new_vars)"
      ],
      "metadata": {
        "id": "49KiuC0DlZja"
      },
      "execution_count": null,
      "outputs": []
    },
    {
      "cell_type": "code",
      "source": [
        "new_vars, to_split = next_variants(700, 750)\n",
        "print('\\tlength:', len(new_vars))\n",
        "new_vars.extend(next_variants(750, 800)[0])\n",
        "print('\\tlength:', len(new_vars))"
      ],
      "metadata": {
        "id": "UNK27TQdlx8-"
      },
      "execution_count": null,
      "outputs": []
    },
    {
      "cell_type": "code",
      "source": [
        "write_vars(new_vars)"
      ],
      "metadata": {
        "id": "bLS2wTJMt2ZW"
      },
      "execution_count": null,
      "outputs": []
    },
    {
      "cell_type": "code",
      "source": [
        "new_vars, to_split = next_variants(800, 850)\n",
        "print('\\tlength:', len(new_vars))\n",
        "new_vars.extend(next_variants(850, 900)[0])\n",
        "print('\\tlength:', len(new_vars))"
      ],
      "metadata": {
        "id": "nF65jfqsyCQZ"
      },
      "execution_count": null,
      "outputs": []
    },
    {
      "cell_type": "code",
      "source": [
        "# append [10533, 19339]\n",
        "# append [19222, 19305]\n",
        "# append [11182, 18278]\n",
        "# append [3196, 3207]\n",
        "for pair in [[3196, 3207], [10533, 19339], [19222, 19305], [11182, 18278]]:\n",
        "  if pair not in new_vars:\n",
        "    new_vars.append(pair)"
      ],
      "metadata": {
        "id": "cJMVo3DE72mc"
      },
      "execution_count": null,
      "outputs": []
    },
    {
      "cell_type": "code",
      "source": [
        "write_vars(new_vars)"
      ],
      "metadata": {
        "id": "lpbTu05oyGxc"
      },
      "execution_count": null,
      "outputs": []
    },
    {
      "cell_type": "code",
      "source": [
        "new_vars, to_split = next_variants(900, 950)\n",
        "print('\\tlength:', len(new_vars))\n",
        "new_vars.extend(next_variants(950, 1000)[0])\n",
        "print('\\tlength:', len(new_vars))"
      ],
      "metadata": {
        "id": "fo2BPrAR4RCu"
      },
      "execution_count": null,
      "outputs": []
    },
    {
      "cell_type": "code",
      "source": [
        "new_vars.append([13895, 18343, 19036])\n",
        "new_vars.append([3414, 11783])"
      ],
      "metadata": {
        "id": "9YdbYcX-XoJX"
      },
      "execution_count": null,
      "outputs": []
    },
    {
      "cell_type": "code",
      "source": [
        "write_vars(new_vars)"
      ],
      "metadata": {
        "id": "SuOaaIuTEhpL"
      },
      "execution_count": null,
      "outputs": []
    },
    {
      "cell_type": "code",
      "source": [
        "new_vars, to_split = next_variants(1000, 1050)\n",
        "print('\\tlength:', len(new_vars))\n",
        "new_vars.extend(next_variants(1050, 1100)[0])\n",
        "print('\\tlength:', len(new_vars))"
      ],
      "metadata": {
        "id": "YTHpWE9z2YGw"
      },
      "execution_count": null,
      "outputs": []
    },
    {
      "cell_type": "code",
      "source": [
        "write_vars(new_vars)"
      ],
      "metadata": {
        "id": "vjwx5oaG3AF-"
      },
      "execution_count": null,
      "outputs": []
    },
    {
      "cell_type": "code",
      "source": [
        "new_vars, to_split = next_variants(1100, 1150)\n",
        "print('\\tlength:', len(new_vars))"
      ],
      "metadata": {
        "id": "dj2MNE0I6lsN"
      },
      "execution_count": null,
      "outputs": []
    },
    {
      "cell_type": "code",
      "source": [
        "new_vars.extend(next_variants(1150, 1200)[0])\n",
        "print('\\tlength:', len(new_vars))"
      ],
      "metadata": {
        "id": "UfKnOuduAfU4"
      },
      "execution_count": null,
      "outputs": []
    },
    {
      "cell_type": "code",
      "source": [
        "write_vars(new_vars)"
      ],
      "metadata": {
        "id": "rHjfImyhBuD8"
      },
      "execution_count": null,
      "outputs": []
    },
    {
      "cell_type": "code",
      "source": [
        "'''for phrase in idioms:\n",
        "  if any([1 for c in phrase['semantics'] if 'То же, что' in c['meaning']]) and len(phrase['phrase']) > 1:\n",
        "    print(phrase['phrase'], [c['meaning'] for c in phrase['semantics'] if 'То же, что' in c['meaning']])'''"
      ],
      "metadata": {
        "id": "JrzenOq-B2yI"
      },
      "execution_count": null,
      "outputs": []
    },
    {
      "cell_type": "code",
      "source": [
        "new_vars, to_split = next_variants(1200, 1250)\n",
        "print('\\tlength:', len(new_vars))"
      ],
      "metadata": {
        "id": "-wmln2M8ON24"
      },
      "execution_count": null,
      "outputs": []
    },
    {
      "cell_type": "code",
      "source": [
        "new_vars.extend(next_variants(1250, 1300)[0])\n",
        "print('\\tlength:', len(new_vars))"
      ],
      "metadata": {
        "id": "PoG13Wt1VvfZ"
      },
      "execution_count": null,
      "outputs": []
    },
    {
      "cell_type": "code",
      "source": [
        "write_vars(new_vars)"
      ],
      "metadata": {
        "id": "rdJ4TxfnVwhc"
      },
      "execution_count": null,
      "outputs": []
    },
    {
      "cell_type": "code",
      "source": [
        "new_vars, to_split = next_variants(1300, 1350)\n",
        "print('\\tlength:', len(new_vars))"
      ],
      "metadata": {
        "id": "vQYYy6aeoB6k"
      },
      "execution_count": null,
      "outputs": []
    },
    {
      "cell_type": "code",
      "source": [
        "new_vars.extend(next_variants(1350, 1400)[0])\n",
        "print('\\tlength:', len(new_vars))"
      ],
      "metadata": {
        "id": "Z3OsRugsoB6l"
      },
      "execution_count": null,
      "outputs": []
    },
    {
      "cell_type": "code",
      "source": [
        "write_vars(new_vars)"
      ],
      "metadata": {
        "id": "M3NvyIoboB6m"
      },
      "execution_count": null,
      "outputs": []
    },
    {
      "cell_type": "code",
      "source": [
        "new_vars, to_split = next_variants(1400, 1450)\n",
        "print('\\tlength:', len(new_vars))"
      ],
      "metadata": {
        "id": "82fXvXTbvRDX"
      },
      "execution_count": null,
      "outputs": []
    },
    {
      "cell_type": "code",
      "source": [
        "new_vars.extend(next_variants(1450, 1500)[0])\n",
        "print('\\tlength:', len(new_vars))"
      ],
      "metadata": {
        "id": "j-gltsJZvRDY"
      },
      "execution_count": null,
      "outputs": []
    },
    {
      "cell_type": "code",
      "source": [
        "write_vars(new_vars)"
      ],
      "metadata": {
        "id": "-ReJ5jw_vRDZ"
      },
      "execution_count": null,
      "outputs": []
    },
    {
      "cell_type": "markdown",
      "source": [
        "# Clean a few more abbrs"
      ],
      "metadata": {
        "id": "n3P3epHa2bJx"
      }
    },
    {
      "cell_type": "code",
      "source": [
        "for i, phrase in enumerate(idioms):\n",
        "  for n, sem in enumerate(phrase['semantics']):\n",
        "    if 'шутл.' in sem['meaning'].lower():\n",
        "      print(f\"{str(phrase['phrase']) : <30} {sem['meaning']}\")\n",
        "      idioms[i]['semantics'][n]['meaning'] = idioms[i]['semantics'][n]['meaning'].replace('Шутл.', '')\n",
        "      try:\n",
        "        idioms[i]['semantics'][n]['abbr'].append('шутл')\n",
        "      except KeyError:\n",
        "        idioms[i]['semantics'][n]['abbr'] = ['шутл']\n",
        "      print(f\"{str(phrase['phrase']) : <30} {str(idioms[i]['semantics'][n]['abbr']) : <7} {idioms[i]['semantics'][n]['meaning']}\", '\\n')"
      ],
      "metadata": {
        "colab": {
          "base_uri": "https://localhost:8080/"
        },
        "id": "P7EpZiQg0jsi",
        "outputId": "e1e75f09-ac04-4fb5-e3c7-7b66e788c401"
      },
      "execution_count": null,
      "outputs": [
        {
          "output_type": "stream",
          "name": "stdout",
          "text": [
            "['в белый свет']               Шутл. В воздух, не по цели (стрелять, палить и т. п.).\n",
            "['в белый свет']               ['прост', 'шутл']  В воздух, не по цели (стрелять, палить и т. п.). \n",
            "\n",
            "['в дамках']                   Шутл. В полном порядке (о том, что заканчивается с полным успехом).\n",
            "['в дамках']                   ['прост', 'шутл']  В полном порядке (о том, что заканчивается с полным успехом). \n",
            "\n",
            "['в кои-то времена']           Шутл. Хоть иногда; когда представилась возможность.\n",
            "['в кои-то времена']           ['разг', 'шутл']  Хоть иногда; когда представилась возможность. \n",
            "\n",
            "['в мундирах', 'в мундире']      Шутл. О нечищенной варёной или печёной картошке.\n",
            "['в мундирах', 'в мундире']    ['разг', 'шутл']    О нечищенной варёной или печёной картошке. \n",
            "\n",
            "['в обед сто лет']             Шутл. Очень стар кто-либо.\n",
            "['в обед сто лет']             ['прост', 'шутл']  Очень стар кто-либо. \n",
            "\n",
            "['в одной упряжке']            Шутл. На одинаковом положении и чаще совместно, вместе (делать что-либо; испытывать что-либо).\n",
            "['в одной упряжке']            ['прост', 'шутл']  На одинаковом положении и чаще совместно, вместе (делать что-либо; испытывать что-либо). \n",
            "\n",
            "['в юбке']                     Шутл. О женщине, которая занимается каким-либо мужским делом.\n",
            "['в юбке']                     ['иpoн', 'шутл']  О женщине, которая занимается каким-либо мужским делом. \n",
            "\n",
            "['вашими молитвами']           Шутл. Ответ на вопрос о здоровье, удаче, состоянии дел и т. п.\n",
            "['вашими молитвами']           ['разг', 'шутл']  Ответ на вопрос о здоровье, удаче, состоянии дел и т. п. \n",
            "\n",
            "['вверх копытами']             Шутл. Умереть.\n",
            "['вверх копытами']             ['грубо-прост', 'шутл']  Умереть. \n",
            "\n",
            "['вести куры']                   Шутл. Флиртовать; строить куры.\n",
            "['вести куры']                 ['устар', 'шутл']    Флиртовать; строить куры. \n",
            "\n",
            "['виновник торжества']         Шутл. Лицо, в честь которого устроен праздник.\n",
            "['виновник торжества']         ['разг', 'шутл']  Лицо, в честь которого устроен праздник. \n",
            "\n",
            "['вкладывать в рот', 'вложить в рот']   Шутл. Подробно и популярно разъяснять что-либо.\n",
            "['вкладывать в рот', 'вложить в рот'] ['прост', 'шутл']    Подробно и популярно разъяснять что-либо. \n",
            "\n",
            "['вместе хлеб-соль есть', 'хлеб-соль есть'] Шутл. Быть близкими приятелями.\n",
            "['вместе хлеб-соль есть', 'хлеб-соль есть'] ['прост', 'шутл']  Быть близкими приятелями. \n",
            "\n",
            "['во дни царя гороха']         Шутл. В незапамятные времена.\n",
            "['во дни царя гороха']         ['устар', 'шутл']  В незапамятные времена. \n",
            "\n",
            "['возит воду и воеводу']       Шутл. Пригодный для любого дела, для всякой работы.\n",
            "['возит воду и воеводу']       ['устар', 'шутл']  Пригодный для любого дела, для всякой работы. \n",
            "\n",
            "['волосинка за волосинкой бегает с дубинкой'] Шутл. О редких, плохо растущих волосах.\n",
            "['волосинка за волосинкой бегает с дубинкой'] ['прост', 'шутл']  О редких, плохо растущих волосах. \n",
            "\n",
            "['волотина волотину кличет']   Шутл. О редких, плохих всходах злаков, когда стебелёк (волотина) находится на значительном расстоянии от другого стебелька.\n",
            "['волотина волотину кличет']   ['обл', 'шутл']  О редких, плохих всходах злаков, когда стебелёк (волотина) находится на значительном расстоянии от другого стебелька. \n",
            "\n",
            "['воспарить в горния']         Шутл. Переключить разговор на высокие темы.\n",
            "['воспарить в горния']         ['устар', 'шутл']  Переключить разговор на высокие темы. \n",
            "\n",
            "['вставать не с той ноги', 'встать не с той ноги']   Шутл.\n",
            "['вставать не с той ноги', 'встать не с той ноги'] ['разг', 'шутл']    \n",
            "\n",
            "['всякого жита по лопате']     Шутл. О пёстрой смеси чего-либо, неоднородности состава.\n",
            "['всякого жита по лопате']     ['прост', 'шутл']  О пёстрой смеси чего-либо, неоднородности состава. \n",
            "\n",
            "['выдержать стойку']           Шутл. Проявить стойкость в каком-либо деле, довести до конца что-либо.\n",
            "['выдержать стойку']           ['устар', 'шутл']  Проявить стойкость в каком-либо деле, довести до конца что-либо. \n",
            "\n",
            "['высунувши нос']              Шутл. Выглядывая откуда-либо.\n",
            "['высунувши нос']              ['разг', 'шутл']  Выглядывая откуда-либо. \n",
            "\n",
            "['гадкий утёнок']              Шутл. О ребёнке, подростке, у которого неожиданно проявляются достоинства.\n",
            "['гадкий утёнок']              ['разг', 'шутл']  О ребёнке, подростке, у которого неожиданно проявляются достоинства. \n",
            "\n",
            "['глаз-алмаз']                 Шутл. Очень хорошее, острое зрение: умение увидеть главное, основное.\n",
            "['глаз-алмаз']                 ['разг', 'шутл']  Очень хорошее, острое зрение: умение увидеть главное, основное. \n",
            "\n",
            "['глядеть сентябрём']          Шутл. Быть мрачным, нелюдимым.\n",
            "['глядеть сентябрём']          ['устар', 'шутл']  Быть мрачным, нелюдимым. \n",
            "\n",
            "['голова дырявая']             Шутл. О человеке с плохой памятью, рассеянном и забывчивом.\n",
            "['голова дырявая']             ['прост', 'шутл']  О человеке с плохой памятью, рассеянном и забывчивом. \n",
            "\n",
            "['давить медведя']             Шутл. Очень долго и крепко спать.\n",
            "['давить медведя']             ['прост', 'шутл']  Очень долго и крепко спать. \n",
            "\n",
            "['два аякса']                  Шутл. Неразлучные друзья.\n",
            "['два аякса']                  ['устар', 'шутл']  Неразлучные друзья. \n",
            "\n",
            "['дела как сажа бела']         Шутл. Очень плохи, никуда не годятся.\n",
            "['дела как сажа бела']         ['разг', 'шутл']  Очень плохи, никуда не годятся. \n",
            "\n",
            "['делать кейф']                Шутл. Проводить время в приятном безделье, ничегонеделании; отдыхать.\n",
            "['делать кейф']                ['устар', 'шутл']  Проводить время в приятном безделье, ничегонеделании; отдыхать. \n",
            "\n",
            "['делать куры', 'делать свой кур']   Шутл. Ухаживать за кем-либо, заигрывать с кем-либо.\n",
            "['делать куры', 'делать свой кур'] ['устар', 'шутл']    Ухаживать за кем-либо, заигрывать с кем-либо. \n",
            "\n",
            "['дело в шапке']               Шутл. То же, что <<дело в шляпе>>.\n",
            "['дело в шапке']               ['прост', 'шутл']  То же, что <<дело в шляпе>>. \n",
            "\n",
            "['дело телячье']               Шутл. Кому-то приходится мириться с обстоятельствами; слушаться, быть покорным.\n",
            "['дело телячье']               ['прост', 'шутл']  Кому-то приходится мириться с обстоятельствами; слушаться, быть покорным. \n",
            "\n",
            "['держать за хвост']           Шутл. Не давать кому-либо или чему-либо ускользнуть, уйти от чего-либо; подчинять своей воле, одолевать.\n",
            "['держать за хвост']           ['прост', 'шутл']  Не давать кому-либо или чему-либо ускользнуть, уйти от чего-либо; подчинять своей воле, одолевать. \n",
            "\n",
            "['держаться за мамкину юбку', 'держаться маткиной юбки']   и шутл. Не проявлять самостоятельности, во всём подчиняться матери.\n",
            "['держаться за мамкину юбку', 'держаться маткиной юбки'] ['прост', 'иpoн', 'шутл']   и шутл. Не проявлять самостоятельности, во всём подчиняться матери. \n",
            "\n",
            "['детишкам (ребятишкам) на молочишко'] Шутл. Очень немного, незначительную сумму денег (получать, зарабатывать).\n",
            "['детишкам (ребятишкам) на молочишко'] ['прост', 'шутл']  Очень немного, незначительную сумму денег (получать, зарабатывать). \n",
            "\n",
            "['детская шалость']            Шутл. О небольшой провинности; о невинной проделке кого-либо.\n",
            "['детская шалость']            ['иpoн', 'шутл']  О небольшой провинности; о невинной проделке кого-либо. \n",
            "\n",
            "['дитя природы']               Человек естественный, непосредственный (иногда в шутл. и ирон. употреблении).\n",
            "['дитя природы']               ['шутл'] Человек естественный, непосредственный (иногда в шутл. и ирон. употреблении). \n",
            "\n",
            "['для поддержки штанов']       Шутл. Для придания смелости кому-либо.\n",
            "['для поддержки штанов']       ['прост', 'шутл']  Для придания смелости кому-либо. \n",
            "\n",
            "['для сугрева']                Шутл. Совсем немного, только чтобы согреться (выпить спиртного).\n",
            "['для сугрева']                ['прост', 'шутл']  Совсем немного, только чтобы согреться (выпить спиртного). \n",
            "\n",
            "['до потери пульса']           Шутл. До крайней степени, до предела.\n",
            "['до потери пульса']           ['нов', 'шутл']  До крайней степени, до предела. \n",
            "\n",
            "['до свадьбы заживёт']         Шутл. Нет оснований для расстройства, огорчений; всё пройдёт, всё наладится.\n",
            "['до свадьбы заживёт']         ['разг', 'шутл']  Нет оснований для расстройства, огорчений; всё пройдёт, всё наладится. \n",
            "\n",
            "['дражайшая половина']         Шутл. Супруга, жена.\n",
            "['дражайшая половина']         ['устар', 'шутл']  Супруга, жена. \n",
            "\n",
            "['дуй (его и т. п.) горой!']   Шутл. Шутливая несерьёзная брань: недоволен, досадую, негодую.\n",
            "['дуй (его и т. п.) горой!']   ['прост', 'шутл']  Шутливая несерьёзная брань: недоволен, досадую, негодую. \n",
            "\n",
            "['дуром (дуриком) не возьмёшь'] Шутл. Просто, без хлопот ничего не добьёшься, не получишь желаемых результатов.\n",
            "['дуром (дуриком) не возьмёшь'] ['прост', 'шутл']  Просто, без хлопот ничего не добьёшься, не получишь желаемых результатов. \n",
            "\n",
            "['едун напал']                 Шутл. Всё время хочется есть.\n",
            "['едун напал']                 ['обл', 'шутл']  Всё время хочется есть. \n",
            "\n",
            "['едят тебя (его, её, вас, их) мухи'] Шутл. Шутливо-бранное выражение досады, возмущения, восхищения, удивления и т. п.\n",
            "['едят тебя (его, её, вас, их) мухи'] ['прост', 'шутл']  Шутливо-бранное выражение досады, возмущения, восхищения, удивления и т. п. \n",
            "\n",
            "['ежу понятно', 'и ежу понятно'] Шутл. О том, что совершенно просто, ясно, банально; всякий поймёт.\n",
            "['ежу понятно', 'и ежу понятно'] ['прост', 'шутл']  О том, что совершенно просто, ясно, банально; всякий поймёт. \n",
            "\n",
            "['еле можаху']                 Шутл. В состоянии сильного опьянения.\n",
            "['еле можаху']                 ['устар', 'шутл']  В состоянии сильного опьянения. \n",
            "\n",
            "['ёлки-моталки']               Шутл. Вид фамильярного порицания; выражение удовольствия, удовлетворения.\n",
            "['ёлки-моталки']               ['прост', 'шутл']  Вид фамильярного порицания; выражение удовольствия, удовлетворения. \n",
            "\n",
            "['ещё черти в кулачки не дрались']   Шутл. То же, что <<ещё черти не бьются на кулачки>>.\n",
            "['ещё черти в кулачки не дрались'] ['прост', 'шутл']    То же, что <<ещё черти не бьются на кулачки>>. \n",
            "\n",
            "['ещё черти не бьются на кулачки']   Шутл. Очень рано.\n",
            "['ещё черти не бьются на кулачки'] ['прост', 'шутл']    Очень рано. \n",
            "\n",
            "['женский монастырь']          Шутл. О месте, где живут или работают только женщины.\n",
            "['женский монастырь']          ['разг', 'шутл']  О месте, где живут или работают только женщины. \n",
            "\n",
            "['заблудиться в трёх соснах']  Шутл. Не разобраться в самом простом.\n",
            "['заблудиться в трёх соснах']  ['разг', 'шутл']  Не разобраться в самом простом. \n",
            "\n",
            "['задом наперёд']              Шутл. В обратном порядке.\n",
            "['задом наперёд']              ['разг', 'шутл']  В обратном порядке. \n",
            "\n",
            "['задрать лытки', 'задрать лытки кверху'] Шутл. Умереть.\n",
            "['задрать лытки', 'задрать лытки кверху'] ['обл', 'шутл']  Умереть. \n",
            "\n",
            "['заколоть агнца (тельца)']    Шутл. Устроить пирушку, угощение.\n",
            "['заколоть агнца (тельца)']    ['устар', 'шутл']  Устроить пирушку, угощение. \n",
            "\n",
            "['закрутить шуры-муры', 'крутить шуры-муры']   Шутл. Флиртовать, кокетничать с кем-либо.\n",
            "['закрутить шуры-муры', 'крутить шуры-муры'] ['прост', 'шутл']    Флиртовать, кокетничать с кем-либо. \n",
            "\n",
            "['заливаться соловьём', 'залиться соловьём']   Шутл. Говорить красноречиво, витиевато.\n",
            "['заливаться соловьём', 'залиться соловьём'] ['разг', 'шутл']    Говорить красноречиво, витиевато. \n",
            "\n",
            "['заморить червячка (червяка)'] Шутл. Перекусив, слегка утолить голод.\n",
            "['заморить червячка (червяка)'] ['прост', 'шутл']  Перекусив, слегка утолить голод. \n",
            "\n",
            "['зарядить нос (ноздри)', 'заряжать нос (ноздри)']   Шутл. Принимать понюшку табаку.\n",
            "['зарядить нос (ноздри)', 'заряжать нос (ноздри)'] ['устар', 'шутл']    Принимать понюшку табаку. \n",
            "\n",
            "['земные блага']               Обычно шутл. Всё, что служит для удовлетворения материальных потребностей человека.\n",
            "['земные блага']               ['шутл'] Обычно шутл. Всё, что служит для удовлетворения материальных потребностей человека. \n",
            "\n",
            "['играть побудку (пробудку)', 'сыграть побудку (пробудку)']   Шутл. Будить, тормошить, поднимать с места кого-либо.\n",
            "['играть побудку (пробудку)', 'сыграть побудку (пробудку)'] ['разг', 'шутл']    Будить, тормошить, поднимать с места кого-либо. \n",
            "\n",
            "['из песка верёвки вить']      Шутл. Получать прибыль, выгоду из чего-либо путём махинации и т. п.\n",
            "['из песка верёвки вить']      ['обл', 'шутл']  Получать прибыль, выгоду из чего-либо путём махинации и т. п. \n",
            "\n",
            "['из спортивного интереса']    Шутл. Из желания проверить свои способности, своё умение в чём-либо; несерьёзно, от нечего делать, просто так.\n",
            "['из спортивного интереса']    ['разг', 'шутл']  Из желания проверить свои способности, своё умение в чём-либо; несерьёзно, от нечего делать, просто так. \n",
            "\n",
            "['искатель приключений']       Шутл. Путешественник, следопыт.\n",
            "['искатель приключений']       ['шутл']  Путешественник, следопыт. \n",
            "\n",
            "['испечён из другого теста']   Шутл. Кто-либо отличается чем-то от других.\n",
            "['испечён из другого теста']   ['разг', 'шутл']  Кто-либо отличается чем-то от других. \n",
            "\n",
            "['испечён из одного и того же теста'] Шутл. О полном сходстве кого-либо с кем-либо.\n",
            "['испечён из одного и того же теста'] ['разг', 'шутл']  О полном сходстве кого-либо с кем-либо. \n",
            "\n",
            "['история умалчивает']         . Шутл. Ничего не говорят, не пишут, не упоминают о ком-либо или о чём-либо.\n",
            "['история умалчивает']         ['шутл'] .  Ничего не говорят, не пишут, не упоминают о ком-либо или о чём-либо. \n",
            "\n",
            "['к богу', 'к богу в рай']     Шутл. В бытовой фамильярной речи: выражение неудовольствия, порицания кому-либо.\n",
            "['к богу', 'к богу в рай']     ['прост', 'шутл']  В бытовой фамильярной речи: выражение неудовольствия, порицания кому-либо. \n",
            "\n",
            "['к нашему шалашу!']           Шутл. Фамильярное приглашение принять участие в беседе, в угощении и т. п.\n",
            "['к нашему шалашу!']           ['прост', 'шутл']  Фамильярное приглашение принять участие в беседе, в угощении и т. п. \n",
            "\n",
            "['к чёрту (чертям)']           Шутл. Ответ на пожелание «ни пуха ни пера», т. е. благополучия, удачи, успеха и т. п. (как проявление суеверного представления о возможности сглазить начатое дело).\n",
            "['к чёрту (чертям)']           ['грубо-прост', 'шутл']  Ответ на пожелание «ни пуха ни пера», т. е. благополучия, удачи, успеха и т. п. (как проявление суеверного представления о возможности сглазить начатое дело). \n",
            "\n",
            "['каждая собака']              Шутл. Каждый, всякий, любой (знает кого-либо или что-либо). О людях.\n",
            "['каждая собака']              ['пренебр', 'прост', 'шутл']  Каждый, всякий, любой (знает кого-либо или что-либо). О людях. \n",
            "\n",
            "['как игрушка']                Шутл. Разнаряженный, красиво одетый.\n",
            "['как игрушка']                ['разг', 'шутл']  Разнаряженный, красиво одетый. \n",
            "\n",
            "['как на выставку']            Шутл. Об очень хорошем качестве предметов, вещей; о празднично одетых людях.\n",
            "['как на выставку']            ['разг', 'шутл']  Об очень хорошем качестве предметов, вещей; о празднично одетых людях. \n",
            "\n",
            "['как на собаке']              Шутл. Быстро и само собой, без лечения (заживает, затягивается). О ране, царапине и т. п.\n",
            "['как на собаке']              ['разг', 'шутл']  Быстро и само собой, без лечения (заживает, затягивается). О ране, царапине и т. п. \n",
            "\n",
            "['карманная чахотка']          Шутл. Полное безденежье.\n",
            "['карманная чахотка']          ['прост', 'шутл']  Полное безденежье. \n",
            "\n",
            "['каши просят']                Шутл. То же, что <<есть просят>>.\n",
            "['каши просят']                ['прост', 'шутл']  То же, что <<есть просят>>. \n",
            "\n",
            "['кладезь мудрости (премудрости)'] Обычно ирон., шутл. Сокровищница знаний, мыслей (о человеке).\n",
            "['кладезь мудрости (премудрости)'] ['шутл'] Обычно ирон., шутл. Сокровищница знаний, мыслей (о человеке). \n",
            "\n",
            "['колокольный дворянин']       Шутл. Лицо духовного сословия.\n",
            "['колокольный дворянин']       ['устар', 'шутл']  Лицо духовного сословия. \n",
            "\n",
            "['комара не зашибёт']          Шутл. Никого не обидит кто-либо.\n",
            "['комара не зашибёт']          ['прост', 'шутл']  Никого не обидит кто-либо. \n",
            "\n",
            "['комбинация из трёх пальцев'] Шутл. Кукиш.\n",
            "['комбинация из трёх пальцев'] ['иpoн', 'шутл']  Кукиш. \n",
            "\n",
            "['кругом шестнадцать']         Шутл. Одни неприятности, никакого просвета, всё плохо.\n",
            "['кругом шестнадцать']         ['прост', 'шутл']  Одни неприятности, никакого просвета, всё плохо. \n",
            "\n",
            "['кто в лес, кто по дрова']    Шутл. Вразнобой, вразброд; нестройно (о несогласованных действиях, обычно о пении, игре на музыкальных инструментах).\n",
            "['кто в лес, кто по дрова']    ['разг', 'шутл']  Вразнобой, вразброд; нестройно (о несогласованных действиях, обычно о пении, игре на музыкальных инструментах). \n",
            "\n",
            "['лапки кверху']               Шутл.\n",
            "['лапки кверху']               ['разг', 'шутл']  \n",
            "\n",
            "['лаять на свой собственный хвост', 'лаять на свой хвост'] Шутл. Горячиться, распаляться по ничтожному поводу (обычно — об очень молодых людях).\n",
            "['лаять на свой собственный хвост', 'лаять на свой хвост'] ['прост', 'шутл']  Горячиться, распаляться по ничтожному поводу (обычно — об очень молодых людях). \n",
            "\n",
            "['ловить на крючок']           Шутл. Стараться женить кого-либо на себе.\n",
            "['ловить на крючок']           ['прост', 'шутл']  Стараться женить кого-либо на себе. \n",
            "\n",
            "['маг и волшебник']            Шутл. Человек, обладающий неограниченными возможностями делать всё легко и быстро; чародей.\n",
            "['маг и волшебник']            ['экспрес', 'шутл']  Человек, обладающий неограниченными возможностями делать всё легко и быстро; чародей. \n",
            "\n",
            "['мало каши ел']               Шутл. Молод ещё и недостаточно опытен, чтобы браться за какое-либо серьёзное дело.\n",
            "['мало каши ел']               ['разг', 'шутл']  Молод ещё и недостаточно опытен, чтобы браться за какое-либо серьёзное дело. \n",
            "\n",
            "['медведь на ухо наступил']    Шутл. Кто-либо совсем лишён музыкального слуха.\n",
            "['медведь на ухо наступил']    ['прост', 'шутл']  Кто-либо совсем лишён музыкального слуха. \n",
            "\n",
            "['мерить (мерять) вёрсты']     Шутл. Ходить пешком на большое расстояние.\n",
            "['мерить (мерять) вёрсты']     ['прост', 'шутл']  Ходить пешком на большое расстояние. \n",
            "\n",
            "['муху не зашибёт']            Шутл. То же, что <<комара не зашибёт>>.\n",
            "['муху не зашибёт']            ['прост', 'шутл']  То же, что <<комара не зашибёт>>. \n",
            "\n",
            "['мягкое место']               Шутл. Ягодицы, зад.\n",
            "['мягкое место']               ['прост', 'шутл']  Ягодицы, зад. \n",
            "\n",
            "['на всякий пожарный случай']  Шутл. Допуская возможность экстренной необходимости.\n",
            "['на всякий пожарный случай']  ['прост', 'шутл']  Допуская возможность экстренной необходимости. \n",
            "\n",
            "['на закуску']                 Шутл. В заключение.\n",
            "['на закуску']                 ['прост', 'шутл']  В заключение. \n",
            "\n",
            "['на зубок']                   Шутл. В подарок новорождённому.\n",
            "['на зубок']                   ['устар', 'шутл']  В подарок новорождённому. \n",
            "\n",
            "['на иголки']                  Шутл. На мелкие покупки, расходы (давать, получать деньги).\n",
            "['на иголки']                  ['устар', 'шутл']  На мелкие покупки, расходы (давать, получать деньги). \n",
            "\n",
            "['на одиннадцатом номере']     Шутл. Пешком.\n",
            "['на одиннадцатом номере']     ['прост', 'шутл']  Пешком. \n",
            "\n",
            "['на посошок']                 Шутл. (Выпить) на прощание, перед расставанием, перед дорогой.\n",
            "['на посошок']                 ['прост', 'шутл']  (Выпить) на прощание, перед расставанием, перед дорогой. \n",
            "\n",
            "['на рыбьем меху']             Шутл. Плохая, совсем не согревающая, не предохраняющая от холода (верхняя одежда).\n",
            "['на рыбьем меху']             ['разг', 'шутл']  Плохая, совсем не согревающая, не предохраняющая от холода (верхняя одежда). \n",
            "\n",
            "['на своих двоих', 'на своих на двоих'] Шутл. Пешком.\n",
            "['на своих двоих', 'на своих на двоих'] ['разг', 'шутл']  Пешком. \n",
            "\n",
            "['на сей предмет', 'на этот предмет'] Шутл. Для этого, на этот случай.\n",
            "['на сей предмет', 'на этот предмет'] ['устар', 'шутл']  Для этого, на этот случай. \n",
            "\n",
            "['на чаёк']                    Шутл. Как вознаграждение за мелкие услуги (давать, получать и т. п.).\n",
            "['на чаёк']                    ['устар', 'шутл']  Как вознаграждение за мелкие услуги (давать, получать и т. п.). \n",
            "\n",
            "['на честном слове']           Шутл. Непрочно, едва-едва (держаться, висеть и т. п.).\n",
            "['на честном слове']           ['разг', 'шутл']  Непрочно, едва-едва (держаться, висеть и т. п.). \n",
            "\n",
            "['навострить лапти']           Шутл. То же, что <<навострить лыжи>> (во 2-м знач.).\n",
            "['навострить лапти']           ['прост', 'шутл']  То же, что <<навострить лыжи>> (во 2-м знач.). \n",
            "\n",
            "['навострить лыжи']            Шутл.\n",
            "['навострить лыжи']            ['прост', 'шутл']  \n",
            "\n",
            "['над нами не каплет']         Шутл. Нам нет причин спешить, беспокоиться; ещё успеется.\n",
            "['над нами не каплет']         ['прост', 'шутл']  Нам нет причин спешить, беспокоиться; ещё успеется. \n",
            "\n",
            "['найти дорогу', 'находить дорогу']   Шутл. Навещать кого-либо.\n",
            "['найти дорогу', 'находить дорогу'] ['устар', 'шутл']    Навещать кого-либо. \n",
            "\n",
            "['наше вам с кисточкой']       Шутл. Привет, рад видеть.\n",
            "['наше вам с кисточкой']       ['прост', 'шутл']  Привет, рад видеть. \n",
            "\n",
            "['нашему козырю под масть', 'под масть'] Шутл. Очень приятно; доставляет большое удовольствие.\n",
            "['нашему козырю под масть', 'под масть'] ['разг', 'шутл']  Очень приятно; доставляет большое удовольствие. \n",
            "\n",
            "['не баран начихал']           Шутл. Очень много, немало чего-либо.\n",
            "['не баран начихал']           ['прост', 'шутл']  Очень много, немало чего-либо. \n",
            "\n",
            "['не в ту степь']              Шутл. В неверном, неправильном направлении, не туда; не так, как надо (начинать думать, говорить, поступать).\n",
            "['не в ту степь']              ['прост', 'шутл']  В неверном, неправильном направлении, не туда; не так, как надо (начинать думать, говорить, поступать). \n",
            "\n",
            "['не давать и понюхать', 'не дать и понюхать']   Шутл. Не допускать к чему-либо.\n",
            "['не давать и понюхать', 'не дать и понюхать'] ['прост', 'шутл']    Не допускать к чему-либо. \n",
            "\n",
            "['не картошка']                . Шутл. Не пустяк, не шуточное дело.\n",
            "['не картошка']                ['шутл'] .  Не пустяк, не шуточное дело. \n",
            "\n",
            "['не купленный']               Шутл. О том, что не имеет цены в глазах говорящего; не представляет ценности.\n",
            "['не купленный']               ['прост', 'шутл']  О том, что не имеет цены в глазах говорящего; не представляет ценности. \n",
            "\n",
            "['ни шута']                    Шутл. Ничего. Употребляется с глаголами.\n",
            "['ни шута']                    ['прост', 'шутл']  Ничего. Употребляется с глаголами. \n",
            "\n",
            "['обмануть старого воробья на мякине'] Шутл. Провести кого-либо.\n",
            "['обмануть старого воробья на мякине'] ['устар', 'шутл']  Провести кого-либо. \n",
            "\n",
            "['обтяпать дело']              Шутл. Ловко, с выгодой для себя устроить что-либо.\n",
            "['обтяпать дело']              ['прост', 'шутл']  Ловко, с выгодой для себя устроить что-либо. \n",
            "\n",
            "['оседлать нос очками']        Шутл. Надеть очки.\n",
            "['оседлать нос очками']        ['устар', 'шутл']  Надеть очки. \n",
            "\n",
            "['оставаться без штанов', 'остаться без штанов']   Шутл. Разоряться, оказываться без средств к существованию.\n",
            "['оставаться без штанов', 'остаться без штанов'] ['прост', 'шутл']    Разоряться, оказываться без средств к существованию. \n",
            "\n",
            "['от (с) сотворения мира']     Шутл. С очень давнего времени, с незапамятных времен.\n",
            "['от (с) сотворения мира']     ['книжн', 'шутл']  С очень давнего времени, с незапамятных времен. \n",
            "\n",
            "['от верблюда']                Шутл. Ответ на вопрос »откуда?», в котором выражено нежелание сказать правду.\n",
            "['от верблюда']                ['разг', 'шутл']  Ответ на вопрос »откуда?», в котором выражено нежелание сказать правду. \n",
            "\n",
            "['от горшка два вершка']       Шутл.\n",
            "['от горшка два вершка']       ['прост', 'шутл']  \n",
            "\n",
            "['от жилетки рукава']          Шутл. Совсем ничего (нет, не осталось и т. п. ). — Не  (Паустовский. Повесть о жизни).\n",
            "['от жилетки рукава']          ['разг', 'шутл']  Совсем ничего (нет, не осталось и т. п. ). — Не  (Паустовский. Повесть о жизни). \n",
            "\n",
            "['от земли не видать']         . Шутл. Очень маленького роста кто-либо.\n",
            "['от земли не видать']         ['шутл'] .  Очень маленького роста кто-либо. \n",
            "\n",
            "['от печки']                   Шутл. Снова, с самого начала.\n",
            "['от печки']                   ['разг', 'шутл']  Снова, с самого начала. \n",
            "\n",
            "['откалывать штуку', 'отколоть штуку']   Шутл. То же, что <<откалывать коленце>>.\n",
            "['откалывать штуку', 'отколоть штуку'] ['устар', 'экспрес', 'шутл']    То же, что <<откалывать коленце>>. \n",
            "\n",
            "['по коням!']                  Шутл. Команда: занять свои места.\n",
            "['по коням!']                  ['нов', 'шутл']  Команда: занять свои места. \n",
            "\n",
            "['по маленькой']               Шутл.\n",
            "['по маленькой']               ['разг', 'шутл']  \n",
            "\n",
            "['под газом (газком)']         Шутл. В опьянённом состоянии.\n",
            "['под газом (газком)']         ['прост', 'шутл']  В опьянённом состоянии. \n",
            "\n",
            "['под стол пешком ходить', 'под стол ходить'] Шутл. О малолетнем ребёнке.\n",
            "['под стол пешком ходить', 'под стол ходить'] ['прост', 'шутл']  О малолетнем ребёнке. \n",
            "\n",
            "['под хмельком']               Шутл. В состоянии лёгкого опьянения.\n",
            "['под хмельком']               ['разг', 'шутл']  В состоянии лёгкого опьянения. \n",
            "\n",
            "['подержаться не за что']      Шутл. О худом, сухощавом человеке.\n",
            "['подержаться не за что']      ['прост', 'шутл']  О худом, сухощавом человеке. \n",
            "\n",
            "['полоскать желудок', 'прополоскать желудок']  Шутл. Пить воду, чай и т. п.\n",
            "['полоскать желудок', 'прополоскать желудок'] ['шутл']   Пить воду, чай и т. п. \n",
            "\n",
            "['полоскать нутро', 'пополоскать нутро']  Шутл. То же, что <<полоскать желудок>>.\n",
            "['полоскать нутро', 'пополоскать нутро'] ['шутл']   То же, что <<полоскать желудок>>. \n",
            "\n",
            "['пополоскать зубки']          Шутл. Выпить немного вина.\n",
            "['пополоскать зубки']          ['обл', 'шутл']  Выпить немного вина. \n",
            "\n",
            "['почём фунт гребешков']       Шутл. Все подробности, детали, что к чему.\n",
            "['почём фунт гребешков']       ['обл', 'шутл']  Все подробности, детали, что к чему. \n",
            "\n",
            "['придавить подушку']          Шутл. Поспать.\n",
            "['придавить подушку']          ['прост', 'шутл']  Поспать. \n",
            "\n",
            "['приделать ноги']             Шутл. Унести; похитить.\n",
            "['приделать ноги']             ['прост', 'шутл']  Унести; похитить. \n",
            "\n",
            "['продавать дрожжи']           Шутл. Дрожать от холода.\n",
            "['продавать дрожжи']           ['прост', 'шутл']  Дрожать от холода. \n",
            "\n",
            "['промочить горло']            Шутл. Выпить немного спиртного.\n",
            "['промочить горло']            ['разг', 'шутл']  Выпить немного спиртного. \n",
            "\n",
            "['просклонять во всех падежах', 'склонять во всех падежах']   Шутл. Часто упоминать, осуждая, упрекая, критикуя и т. п.\n",
            "['просклонять во всех падежах', 'склонять во всех падежах'] ['разг', 'шутл']    Часто упоминать, осуждая, упрекая, критикуя и т. п. \n",
            "\n",
            "['пятки в зубы']               Шутл. Спасаться бегством, удирать от опасности.\n",
            "['пятки в зубы']               ['прост', 'шутл']  Спасаться бегством, удирать от опасности. \n",
            "\n",
            "['раздавить бутылку', 'раздавить бутылочку'] Шутл. Выпить спиртного.\n",
            "['раздавить бутылку', 'раздавить бутылочку'] ['прост', 'шутл']  Выпить спиртного. \n",
            "\n",
            "['раздавить косушку']          Шутл. То же, что <<раздавить бутылку>>.\n",
            "['раздавить косушку']          ['устар', 'шутл']  То же, что <<раздавить бутылку>>. \n",
            "\n",
            "['раздавить муху']             Шутл. Выпить немного спиртного.\n",
            "['раздавить муху']             ['прост', 'шутл']  Выпить немного спиртного. \n",
            "\n",
            "['ранняя птичка прилетела']    Шутл. О раннем госте.\n",
            "['ранняя птичка прилетела']    ['прост', 'шутл']  О раннем госте. \n",
            "\n",
            "['с воробьиный нос']           Шутл.\n",
            "['с воробьиный нос']           ['разг', 'шутл']  \n",
            "\n",
            "['с гулькин нос']              Шутл.\n",
            "['с гулькин нос']              ['разг', 'шутл']  \n",
            "\n",
            "['с лица воду не пить']        Шутл. Кто-либо должен быть снисходителен к недостаточной привлекательности, красоте жениха или невесты.\n",
            "['с лица воду не пить']        ['разг', 'шутл']  Кто-либо должен быть снисходителен к недостаточной привлекательности, красоте жениха или невесты. \n",
            "\n",
            "['с ноготок']                  Шутл.\n",
            "['с ноготок']                  ['прост', 'шутл']  \n",
            "\n",
            "['с осени закормлен']          Шутл. О сытом, не проголодавшемся.\n",
            "['с осени закормлен']          ['прост', 'шутл']  О сытом, не проголодавшемся. \n",
            "\n",
            "['с попутным ветерком']        Шутл. При первом удобном случае.\n",
            "['с попутным ветерком']        ['разг', 'шутл']  При первом удобном случае. \n",
            "\n",
            "['с пустом']                     Шутл. Ни с чем.\n",
            "['с пустом']                   ['прост', 'шутл']    Ни с чем. \n",
            "\n",
            "['с пылу, с жару']             Шутл. О только что появившемся, недавнем по времени возникновения.\n",
            "['с пылу, с жару']             ['разг', 'экспрес', 'шутл']  О только что появившемся, недавнем по времени возникновения. \n",
            "\n",
            "['садиться на своего (любимого) конька', 'сесть на своего (любимого) конька']   Шутл. Начинать говорить, писать, рассуждать на излюбленную тему.\n",
            "['садиться на своего (любимого) конька', 'сесть на своего (любимого) конька'] ['разг', 'шутл']    Начинать говорить, писать, рассуждать на излюбленную тему. \n",
            "\n",
            "['сарафанное радио']           Шутл. Сплетни, слухи, передаваемые из уст в уста.\n",
            "['сарафанное радио']           ['прост', 'шутл']  Сплетни, слухи, передаваемые из уст в уста. \n",
            "\n",
            "['семо и овамо']               Шутл. Повсюду, везде.\n",
            "['семо и овамо']               ['устар', 'шутл']  Повсюду, везде. \n",
            "\n",
            "['семь вёрст до небес', 'семь вёрст до небес и все лесом', 'сто вёрст до небес и все лесом'] Шутл. Очень много наговорить, наобещать.\n",
            "['семь вёрст до небес', 'семь вёрст до небес и все лесом', 'сто вёрст до небес и все лесом'] ['разг', 'шутл']  Очень много наговорить, наобещать. \n",
            "\n",
            "['семь вёрст до небес', 'семь вёрст до небес и все лесом', 'сто вёрст до небес и все лесом'] Шутл. О дальней и трудной дороге.\n",
            "['семь вёрст до небес', 'семь вёрст до небес и все лесом', 'сто вёрст до небес и все лесом'] ['разг', 'шутл']  О дальней и трудной дороге. \n",
            "\n",
            "['сердце дрожит как (словно) овечий хвост'] Шутл. Кто-либо испытывает страх, робость и т. п.\n",
            "['сердце дрожит как (словно) овечий хвост'] ['прост', 'шутл']  Кто-либо испытывает страх, робость и т. п. \n",
            "\n",
            "['складывать (слагать) оружие', 'сложить оружие'] Шутл. Отказываться от каких-либо действий, от борьбы.\n",
            "['складывать (слагать) оружие', 'сложить оружие'] ['шутл']  Отказываться от каких-либо действий, от борьбы. \n",
            "\n",
            "['смешинка в рот попала']      Шутл. Кто-либо смеётся без причины, не может перестать смеяться. О смешливом настроении.\n",
            "['смешинка в рот попала']      ['разг', 'шутл']  Кто-либо смеётся без причины, не может перестать смеяться. О смешливом настроении. \n",
            "\n",
            "['смотреть именинником']       Шутл. Иметь довольный, счастливый вид.\n",
            "['смотреть именинником']       ['разг', 'шутл']  Иметь довольный, счастливый вид. \n",
            "\n",
            "['со всеми онёрами']           Шутл. Со всем, что необходимо, как полагается в определённом случае.\n",
            "['со всеми онёрами']           ['устар', 'шутл']  Со всем, что необходимо, как полагается в определённом случае. \n",
            "\n",
            "['со всячинкой']               Шутл.\n",
            "['со всячинкой']               ['прост', 'шутл']  \n",
            "\n",
            "['собачья радость']            Шутл.\n",
            "['собачья радость']            ['прост', 'шутл']  \n",
            "\n",
            "['собачья старость']           Шутл. Преждевременное старение духа.\n",
            "['собачья старость']           ['устар', 'шутл']  Преждевременное старение духа. \n",
            "\n",
            "['сонное царство']             Шутл. Покой, безмолвие, когда все погружены в сон, спят.\n",
            "['сонное царство']             ['разг', 'шутл']  Покой, безмолвие, когда все погружены в сон, спят. \n",
            "\n",
            "['спускать жир (жирок)', 'спустить жир (жирок)']   Шутл. Худеть, избавляться от лишнего веса.\n",
            "['спускать жир (жирок)', 'спустить жир (жирок)'] ['разг', 'шутл']    Худеть, избавляться от лишнего веса. \n",
            "\n",
            "['строить куры']               . Шутл. Ухаживать за кем-либо, заигрывать с кем-либо.\n",
            "['строить куры']               ['шутл'] .  Ухаживать за кем-либо, заигрывать с кем-либо. \n",
            "\n",
            "['танцевать от печки']         Шутл. Начинать с самого простого, привычного.\n",
            "['танцевать от печки']         ['разг', 'шутл']  Начинать с самого простого, привычного. \n",
            "\n",
            "['увы и ах']                   Шутл. Выражение сетования по поводу чего-либо.\n",
            "['увы и ах']                   ['разг', 'шутл']  Выражение сетования по поводу чего-либо. \n",
            "\n",
            "['хвост пистолетом']           Шутл. То же, что <<хвост трубой>>.\n",
            "['хвост пистолетом']           ['прост', 'шутл']  То же, что <<хвост трубой>>. \n",
            "\n",
            "['хорошенького понемножку']    Шутл. Достаточно, хватит (такого «удовольствия»).\n",
            "['хорошенького понемножку']    ['иpoн', 'шутл']  Достаточно, хватит (такого «удовольствия»). \n",
            "\n",
            "['хохотун напал']              Шутл. О неудержимом желании смеяться.\n",
            "['хохотун напал']              ['прост', 'шутл']  О неудержимом желании смеяться. \n",
            "\n",
            "['хурда-бурда', 'хурда-мурда'] Шутл. Мелкий скарб, пожитки.\n",
            "['хурда-бурда', 'хурда-мурда'] ['прост', 'шутл']  Мелкий скарб, пожитки. \n",
            "\n",
            "['царевна-недотрога']          Шутл. О женщине, которая держится подчёркнуто строго, не допуская малейшей вольности или шутки.\n",
            "['царевна-недотрога']          ['разг', 'шутл']  О женщине, которая держится подчёркнуто строго, не допуская малейшей вольности или шутки. \n",
            "\n",
            "['целая флотилия']             Шутл. О группе, большом количестве чего-либо.\n",
            "['целая флотилия']             ['устар', 'шутл']  О группе, большом количестве чего-либо. \n",
            "\n",
            "['чемоданное настроение']      . Шутл. Кто-либо готов к отъезду, когда все мысли уже о предстоящей дороге.\n",
            "['чемоданное настроение']      ['шутл'] .  Кто-либо готов к отъезду, когда все мысли уже о предстоящей дороге. \n",
            "\n",
            "['чернильная знать']           -шутл. О писателях, литераторах.\n",
            "['чернильная знать']           ['устар', 'иpoн', 'шутл'] -шутл. О писателях, литераторах. \n",
            "\n",
            "['что за зверь']               Шутл. О ком-либо или о чём-либо неизвестном или малоизвестном.\n",
            "['что за зверь']               ['разг', 'шутл']  О ком-либо или о чём-либо неизвестном или малоизвестном. \n",
            "\n",
            "['что сей сон означает?']      Шутл. Как это надо понимать? Что это значит? О чём-либо непонятном, неожиданном.\n",
            "['что сей сон означает?']      ['устар', 'шутл']  Как это надо понимать? Что это значит? О чём-либо непонятном, неожиданном. \n",
            "\n",
            "['чуять печёнкой']             Шутл. Внутренне ощущать что-либо.\n",
            "['чуять печёнкой']             ['прост', 'шутл']  Внутренне ощущать что-либо. \n",
            "\n",
            "['шапку в охапку']             Шутл. Быстро собравшись (уйти, отправиться куда-либо).\n",
            "['шапку в охапку']             ['разг', 'шутл']  Быстро собравшись (уйти, отправиться куда-либо). \n",
            "\n",
            "['шарики крутятся']            Шутл. О том, кто сообразителен, догадлив, понятлив.\n",
            "['шарики крутятся']            ['прост', 'шутл']  О том, кто сообразителен, догадлив, понятлив. \n",
            "\n",
            "['шерочка с машерочкой']       Шутл. О танцующих в одной паре женщинах, обычно из-за отсутствия мужчин.\n",
            "['шерочка с машерочкой']       ['устар', 'шутл']  О танцующих в одной паре женщинах, обычно из-за отсутствия мужчин. \n",
            "\n",
            "['шиш в кармане']              Шутл. О полном отсутствии денег, средств.\n",
            "['шиш в кармане']              ['прост', 'шутл']  О полном отсутствии денег, средств. \n",
            "\n",
            "['штаны протирать']            Шутл. Заниматься канцелярской работой; долго учиться.\n",
            "['штаны протирать']            ['разг', 'шутл']  Заниматься канцелярской работой; долго учиться. \n",
            "\n",
            "['явился не запылился']        Шутл. О том, кто неожиданно, внезапно появился, пришёл куда-либо.\n",
            "['явился не запылился']        ['прост', 'шутл']  О том, кто неожиданно, внезапно появился, пришёл куда-либо. \n",
            "\n"
          ]
        }
      ]
    },
    {
      "cell_type": "code",
      "source": [
        "for i, phrase in enumerate(idioms):\n",
        "  for n, sem in enumerate(phrase['semantics']):\n",
        "    if 'одобр.' in sem['meaning'].lower():\n",
        "      print(f\"{str(phrase['phrase']) : <30} {sem['meaning']}\")\n",
        "      idioms[i]['semantics'][n]['meaning'] = idioms[i]['semantics'][n]['meaning'].replace('Одобр.', '').replace('одобр.', '')\n",
        "      try:\n",
        "        idioms[i]['semantics'][n]['abbr'].append('одобр')\n",
        "      except KeyError:\n",
        "        idioms[i]['semantics'][n]['abbr'] = ['одобр']\n",
        "      print(f\"{str(phrase['phrase']) : <30} {str(idioms[i]['semantics'][n]['abbr']) : <7} {idioms[i]['semantics'][n]['meaning']}\", '\\n')"
      ],
      "metadata": {
        "colab": {
          "base_uri": "https://localhost:8080/"
        },
        "id": "8muw5ybVzHIR",
        "outputId": "1f18bd93-c704-493b-ab87-b2440e7265c2"
      },
      "execution_count": null,
      "outputs": [
        {
          "output_type": "stream",
          "name": "stdout",
          "text": [
            "['за милую душу', 'по милую душу'] не задумываясь, без долгих размышлений (часто неодобр.) \n",
            "['за милую душу', 'по милую душу'] ['одобр'] не задумываясь, без долгих размышлений (часто не)  \n",
            "\n",
            "['повернуться спиной', 'поворачиваться спиной']  Обычно неодобр. Проявлять безразличие или пренебрежение.\n",
            "['повернуться спиной', 'поворачиваться спиной'] ['одобр']  Обычно не Проявлять безразличие или пренебрежение. \n",
            "\n",
            "['Так держать!']                одобр. продолжай так же, как начал\n",
            "['Так держать!']               ['прост', 'одобр']   продолжай так же, как начал \n",
            "\n"
          ]
        }
      ]
    },
    {
      "cell_type": "code",
      "source": [
        "for i, phrase in enumerate(idioms):\n",
        "  if phrase['phrase'] == ['за милую душу', 'по милую душу'] or phrase['phrase'] == ['повернуться спиной', 'поворачиваться спиной']:\n",
        "    for n, sem in enumerate(phrase['semantics']):\n",
        "      if 'одобр' in sem['abbr']:\n",
        "        idioms[i]['semantics'][n]['abbr'] = ['неодобр']\n",
        "        idioms[i]['semantics'][n]['meaning'] = idioms[i]['semantics'][n]['meaning'].replace(' не', ' ')\n",
        "        print(f\"{str(phrase['phrase']) : <30} {str(idioms[i]['semantics'][n]['abbr']) : <7} {idioms[i]['semantics'][n]['meaning']}\", '\\n')"
      ],
      "metadata": {
        "colab": {
          "base_uri": "https://localhost:8080/"
        },
        "id": "PJxv2IRt1c42",
        "outputId": "a5b6d231-bed4-4d29-d064-220d0650b36c"
      },
      "execution_count": null,
      "outputs": [
        {
          "output_type": "stream",
          "name": "stdout",
          "text": [
            "['за милую душу', 'по милую душу'] ['неодобр'] не задумываясь, без долгих размышлений (часто )  \n",
            "\n",
            "['повернуться спиной', 'поворачиваться спиной'] ['неодобр']  Обычно  Проявлять безразличие или пренебрежение. \n",
            "\n"
          ]
        }
      ]
    },
    {
      "cell_type": "code",
      "source": [
        "for i, phrase in enumerate(idioms):\n",
        "  for n, sem in enumerate(phrase['semantics']):\n",
        "    if 'Презрит.' in sem['meaning']:\n",
        "      print(f\"{str(phrase['phrase']) : <30} {sem['meaning']}\")\n",
        "      idioms[i]['semantics'][n]['meaning'] = idioms[i]['semantics'][n]['meaning'].replace('Презрит.', '')\n",
        "      try:\n",
        "        idioms[i]['semantics'][n]['abbr'].append('презрит')\n",
        "      except KeyError:\n",
        "        idioms[i]['semantics'][n]['abbr'] = ['презрит']\n",
        "      print(f\"{str(phrase['phrase']) : <30} {str(idioms[i]['semantics'][n]['abbr']) : <7} {idioms[i]['semantics'][n]['meaning']}\", '\\n')"
      ],
      "metadata": {
        "colab": {
          "base_uri": "https://localhost:8080/"
        },
        "id": "0tgH0ag51f6_",
        "outputId": "50750340-9c83-422b-89ce-c427decc3363"
      },
      "execution_count": 12,
      "outputs": [
        {
          "output_type": "stream",
          "name": "stdout",
          "text": [
            "['высосать кровь', 'сосать кровь']   Презрит. Мучить кого-либо, издеваться над кем-либо.\n",
            "['высосать кровь', 'сосать кровь'] ['прост', 'презрит']    Мучить кого-либо, издеваться над кем-либо. \n",
            "\n",
            "['жевать жвачку']              Презрит. Надоедливо повторять одно и то же.\n",
            "['жевать жвачку']              ['разг', 'презрит']  Надоедливо повторять одно и то же. \n",
            "\n",
            "['звонить языком']             Презрит. Много и зря говорить; болтать, —  (Ю. Герман. Россия молодая).\n",
            "['звонить языком']             ['прост', 'презрит']  Много и зря говорить; болтать, —  (Ю. Герман. Россия молодая). \n",
            "\n",
            "['как ещё земля держит (терпит)'] Презрит.\n",
            "['как ещё земля держит (терпит)'] ['презрит']  \n",
            "\n",
            "['как земля носит', 'как только земля носит'] Презрит. Возможно ли, чтобы такой негодяй, подлец жил на земле.\n",
            "['как земля носит', 'как только земля носит'] ['разг', 'презрит']  Возможно ли, чтобы такой негодяй, подлец жил на земле. \n",
            "\n",
            "['лиса Патрикеевна']           Презрит. Лукавый, хитрый, пронырливый человек, проныра, льстец.\n",
            "['лиса Патрикеевна']           ['прост', 'презрит']  Лукавый, хитрый, пронырливый человек, проныра, льстец. \n",
            "\n",
            "['лить пули']                  Презрит. Бессовестно лгать, рассказывать небылицы.\n",
            "['лить пули']                  ['прост', 'презрит']  Бессовестно лгать, рассказывать небылицы. \n",
            "\n",
            "['марать руки']                Презрит.\n",
            "['марать руки']                ['разг', 'презрит']  \n",
            "\n",
            "['мухи дохнут']                Презрит. Невыносимо скучно.\n",
            "['мухи дохнут']                ['прост', 'презрит']  Невыносимо скучно. \n",
            "\n",
            "['совать нос', 'совать свой нос', 'сунуть нос', 'сунуть свой нос']   Презрит. Вмешиваться во что-либо без достаточных знаний, оснований, умения и т. п. или в чужое дело.\n",
            "['совать нос', 'совать свой нос', 'сунуть нос', 'сунуть свой нос'] ['прост', 'презрит']    Вмешиваться во что-либо без достаточных знаний, оснований, умения и т. п. или в чужое дело. \n",
            "\n",
            "['солома в голове']            Презрит. Кто-либо предельно глуп, туп, бестолков.\n",
            "['солома в голове']            ['прост', 'презрит']  Кто-либо предельно глуп, туп, бестолков. \n",
            "\n",
            "['стоять на задних лапках']    Презрит. Угодничать, прислуживаться.\n",
            "['стоять на задних лапках']    ['разг', 'презрит']  Угодничать, прислуживаться. \n",
            "\n"
          ]
        }
      ]
    },
    {
      "cell_type": "code",
      "source": [
        "for i in [10106, 9411, 5466, 3389]:\n",
        "  idioms[i]['phrase'] = [idioms[i]['phrase'][0]]\n",
        "  print(f\"{str(idioms[i]['phrase']) : <30} {str(idioms[i]['semantics'][n]['abbr']) : <7} {idioms[i]['semantics'][n]['meaning']}\", '\\n')\n",
        "\n",
        "for i in [6934]:\n",
        "  idioms[i]['phrase'] = idioms[i]['phrase'][:-1]\n",
        "  print(f\"{str( idioms[i]['phrase']) : <30} {str(idioms[i]['semantics'][n]['abbr']) : <7} {idioms[i]['semantics'][n]['meaning']}\", '\\n')"
      ],
      "metadata": {
        "colab": {
          "base_uri": "https://localhost:8080/"
        },
        "id": "LWtBypiz2UMR",
        "outputId": "72343b4d-ea85-455e-ece9-aece2bcc245e"
      },
      "execution_count": 17,
      "outputs": [
        {
          "output_type": "stream",
          "name": "stdout",
          "text": [
            "трепать язык                   ['прост', 'пренебр'] Говорить зря, попусту; пустословить. \n",
            "\n",
            "склонить свою голову           ['устар'] Найти пристанище, приют, кров. \n",
            "\n",
            "на покой                       ['высок'] На отдых (уходить, оставляя работу, службу по причине преклонного возраста). \n",
            "\n",
            "зарубить на стенке             ['разг', 'экспрес'] То же, что <<зарубить себе на носу>>. \n",
            "\n",
            "['от большого ума', 'с большого ума'] ['иpoн'] По глупости, сдуру (делать что-либо). \n",
            "\n"
          ]
        }
      ]
    },
    {
      "cell_type": "code",
      "source": [
        "with open('idioms_joined.json', 'w', encoding='utf-8') as f:\n",
        "    json.dump(idioms, f, ensure_ascii=False, indent=4)"
      ],
      "metadata": {
        "id": "Vba7-kMv2ODZ"
      },
      "execution_count": 22,
      "outputs": []
    },
    {
      "cell_type": "markdown",
      "source": [
        "# Continue cleaning variants"
      ],
      "metadata": {
        "id": "vLa9htK_2dwl"
      }
    },
    {
      "cell_type": "code",
      "source": [
        "new_vars, to_split = next_variants(1500, 1550)\n",
        "print('\\tlength:', len(new_vars))"
      ],
      "metadata": {
        "id": "zooXt7Cr2oq_"
      },
      "execution_count": null,
      "outputs": []
    },
    {
      "cell_type": "code",
      "source": [
        "new_vars.extend(next_variants(1550, 1600)[0])\n",
        "print('\\tlength:', len(new_vars))"
      ],
      "metadata": {
        "id": "2mwhOzzc2orA"
      },
      "execution_count": null,
      "outputs": []
    },
    {
      "cell_type": "code",
      "source": [
        "write_vars(new_vars)"
      ],
      "metadata": {
        "id": "5CkfApkp2orB"
      },
      "execution_count": null,
      "outputs": []
    },
    {
      "cell_type": "code",
      "source": [
        "new_vars, to_split = next_variants(1600, 1650)\n",
        "print('\\tlength:', len(new_vars))"
      ],
      "metadata": {
        "id": "FGRmOjHP-wYK"
      },
      "execution_count": null,
      "outputs": []
    },
    {
      "cell_type": "code",
      "source": [
        "new_vars.extend(next_variants(1650, 1700)[0])\n",
        "print('\\tlength:', len(new_vars))"
      ],
      "metadata": {
        "id": "UIjfCSQL-wYM"
      },
      "execution_count": null,
      "outputs": []
    },
    {
      "cell_type": "code",
      "source": [
        "write_vars(new_vars)"
      ],
      "metadata": {
        "id": "xk7qn8pY-wYM"
      },
      "execution_count": 15,
      "outputs": []
    },
    {
      "cell_type": "code",
      "source": [
        "new_vars, to_split = next_variants(1700, 1750)\n",
        "print('\\tlength:', len(new_vars))"
      ],
      "metadata": {
        "id": "DMdNs9_-7iQ7"
      },
      "execution_count": null,
      "outputs": []
    },
    {
      "cell_type": "code",
      "source": [
        "new_vars.extend(next_variants(1750, 1800)[0])\n",
        "print('\\tlength:', len(new_vars))"
      ],
      "metadata": {
        "id": "CrCYNNfb7iQ8"
      },
      "execution_count": null,
      "outputs": []
    },
    {
      "cell_type": "code",
      "source": [
        "#[6697, 13119, 18546] append [6708, 18547]\n",
        "#[6718, 18686] append [6719, 13226]"
      ],
      "metadata": {
        "id": "YNFZDRe4BUwy"
      },
      "execution_count": null,
      "outputs": []
    },
    {
      "cell_type": "code",
      "source": [
        "write_vars(new_vars)"
      ],
      "metadata": {
        "id": "2HAY5kaM7iQ9"
      },
      "execution_count": 29,
      "outputs": []
    },
    {
      "cell_type": "code",
      "source": [
        "new_vars, to_split = next_variants(1800, 1850)\n",
        "print('\\tlength:', len(new_vars))"
      ],
      "metadata": {
        "id": "S10YkcsdDBFa"
      },
      "execution_count": null,
      "outputs": []
    },
    {
      "cell_type": "code",
      "source": [
        "new_vars.extend(next_variants(1850, 1900)[0])\n",
        "print('\\tlength:', len(new_vars))"
      ],
      "metadata": {
        "id": "oD_3UTMUDBFb"
      },
      "execution_count": null,
      "outputs": []
    },
    {
      "cell_type": "code",
      "source": [
        "write_vars(new_vars)"
      ],
      "metadata": {
        "id": "ZSZiyR_PDBFc"
      },
      "execution_count": 32,
      "outputs": []
    },
    {
      "cell_type": "code",
      "source": [
        "new_vars, to_split = next_variants(1900, 1950)\n",
        "print('\\tength:', len(new_vars))"
      ],
      "metadata": {
        "id": "cx4G_GYVDBn_"
      },
      "execution_count": null,
      "outputs": []
    },
    {
      "cell_type": "code",
      "source": [
        "new_vars.extend(next_variants(1950, 2000)[0])\n",
        "print('\\tlength:', len(new_vars))"
      ],
      "metadata": {
        "id": "OwEkP9eRDBoF"
      },
      "execution_count": null,
      "outputs": []
    },
    {
      "cell_type": "code",
      "source": [
        "write_vars(new_vars)"
      ],
      "metadata": {
        "id": "GFjKFvfKDBoG"
      },
      "execution_count": 36,
      "outputs": []
    },
    {
      "cell_type": "code",
      "source": [
        "new_vars, to_split = next_variants(2000, 2050)\n",
        "print('\\tength:', len(new_vars))"
      ],
      "metadata": {
        "id": "Z-tbJa4I58Y-"
      },
      "execution_count": null,
      "outputs": []
    },
    {
      "cell_type": "code",
      "source": [
        "#new_vars[4].append(16616)"
      ],
      "metadata": {
        "id": "XTxLEYEh6huC"
      },
      "execution_count": 40,
      "outputs": []
    },
    {
      "cell_type": "code",
      "source": [
        "new_vars.extend(next_variants(2050, 2100)[0])\n",
        "print('\\tlength:', len(new_vars))"
      ],
      "metadata": {
        "id": "2RijysUo58Y-"
      },
      "execution_count": null,
      "outputs": []
    },
    {
      "cell_type": "code",
      "source": [
        "write_vars(new_vars)"
      ],
      "metadata": {
        "id": "oekucJ0758Y-"
      },
      "execution_count": 42,
      "outputs": []
    },
    {
      "cell_type": "code",
      "source": [
        "new_vars, to_split = next_variants(2100, 2150)\n",
        "print('\\tength:', len(new_vars))"
      ],
      "metadata": {
        "id": "Av3PhbOuvfYu"
      },
      "execution_count": null,
      "outputs": []
    },
    {
      "cell_type": "code",
      "source": [
        "new_vars.extend(next_variants(2150, 2200)[0])\n",
        "print('\\tlength:', len(new_vars))"
      ],
      "metadata": {
        "id": "U6mXCA_vvfYw"
      },
      "execution_count": null,
      "outputs": []
    },
    {
      "cell_type": "code",
      "source": [
        "write_vars(new_vars)"
      ],
      "metadata": {
        "id": "sG5aqxPBvfYw"
      },
      "execution_count": 15,
      "outputs": []
    },
    {
      "cell_type": "code",
      "source": [
        "new_vars, to_split = next_variants(2200, 2250)\n",
        "print('\\tength:', len(new_vars))"
      ],
      "metadata": {
        "colab": {
          "base_uri": "https://localhost:8080/"
        },
        "id": "7SJ4WvePvtUY",
        "outputId": "5135777f-5b53-464e-b782-413e353315ba"
      },
      "execution_count": 17,
      "outputs": [
        {
          "output_type": "stream",
          "name": "stdout",
          "text": [
            "0  8198  1  ['приводит на память']['Заставляет кого-либо вспомнить.']\n",
            "0  8288  2  ['приходит на память', 'приходить на память']['. Вспоминается.']\n",
            "0  8291  1  ['приходить в память']['Восстанавливать способность мыслить, понимать; выходить из обморочного состояния.']\n",
            "0  13135 1  ['прийти на память'][' припомниться, вспомниться']\n",
            "0  18815 1  ['Привести на память']['напоминать.']\n",
            "2\n",
            "1  8201  1  ['привязать язык']['Заставить кого-либо замолчать.']\n",
            "1  8600  9  ['развязать язык', 'развязывать язык']['. Побуждать кого-либо к разговору; давать возможность кому-либо говорить свободно, без стеснения.']\n",
            "1  9235  2  ['связать язык', 'связывать язык']['  Не давать возможности непринуждённо, без стеснения говорить.']\n",
            "1  13589 0  ['Развязать язык', 'Развязать языки']['побудить, заставить разговориться, или заставить рассказать, сообщить секрет, тайну ']\n",
            "2\n",
            "2  8210  3  ['придержать язык', 'придерживать язык']['  Поменьше болтать, разговаривать.']\n",
            "2  9282  1  ['сдержать свои язык', 'сдержать язык', 'сдерживать свой язык', 'сдерживать язык']['  Не говорить лишнего, недозволенного, помалкивать.']\n",
            "2  17656 0  ['придерживать язычок'][]             \n",
            "1\n",
            "3  8214  2  ['прижать хвост', 'прижимать хвост']['  Строго ограничивать кого-либо в его действиях, поступках, подчиняя своей воле.']\n",
            "3  8296  1  ['пришить хвост']['Ограничить кому-либо свободу действий, поступков.']\n",
            "3  19320 1  ['Поджать хвост', 'подвернуть хвост']['стать скромнее, осторожнее, сделаться менее самоуверенным в своих действиях.']\n",
            "3\n",
            "1 2\n",
            "4  8217  3  ['прийти в (на) мысль', 'приходить в (на) мысль']['  Возникать, появляться в сознании кого-либо.']\n",
            "4  8297  1  ['пришло на мысль']['Подумалось.']\n",
            "1\n",
            "5  8219  1  ['прийти в забвенье', 'приходить в забвенье']['  Забываться.']\n",
            "5  10234 1  ['уйти в забвенье', 'уходить в забвенье']['  Полностью забываться, исчезать в памяти кого-либо.']\n",
            "5  16758 1  ['приходить в забвение'][]             \n",
            "1\n",
            "6  8221  5  ['прийти в себя', 'приходить в себя']['Выходить из обморочного состояния.']\n",
            "6  10239 3  ['уйти в самого себя', 'уйти в себя', 'уходить в самого себя', 'уходить в себя']['Быть поглощённым своими мыслями; углубляться в свои мысли, не замечая окружающего.']\n",
            "6  10248 2  ['уйти от самого себя']['Избавиться, освободиться от своих назойливых мыслей, чувств, настроений.']\n",
            "6  10249 3  ['уйти от себя']['Избавиться, освободиться от своих назойливых мыслей, чувств, настроений.']\n",
            "6  10329 2  ['уходить от себя']['  Изменять своим чувствам, привычкам, убеждениям.']\n",
            "2\n",
            "7  8222  1  ['прийти в сердце', 'приходить в сердце']['  Гневаться, испытывать раздражение.']\n",
            "7  13446 0  ['Прийтись по вкусу', 'Прийтись по сердцу', 'Прийтись по нраву', 'Прийтись по душе'][' понравиться']\n",
            "7  15082 1  ['войти в сердце'][]             \n",
            "7  16743 1  ['прийтись по душе'][]             \n",
            "2\n",
            "8  8223  0  ['прийти в сознание', 'приходить в сознание'][' То же, что <<приходить в рассудок>>.']\n",
            "8  13443 0  ['Прийти в чувство', 'Прийти в сознание'][' очнуться']  \n",
            "8  17654 0  ['приводить в чувство'][]             \n",
            "3\n",
            "1 2\n",
            "9  8231  4  ['прикладывать руку']['Быть причастным, иметь отношение к чему-либо.']\n",
            "9  8240  12 ['приложить руки', 'приложить руку', 'приложить ручку']['Основательно, серьёзно заняться кем-либо или чем-либо.']\n",
            "9  9409  3  ['складывать руки', 'сложить руки']['  Переставать действовать, предпринимать что-либо.']\n",
            "9  13724 0  ['Приложить руки', 'Приложить руку'][' принять долю участия в чем-либо']\n",
            "3\n",
            "1 4\n",
            "10 8233  6  ['приклонить голову', 'склонить голову']['Найти кров, приютиться.']\n",
            "10 9410  5  ['склонять голову']['Найти пристанище, приют, кров.']\n",
            "10 9411  3  ['склонить свою голову', 'Слонов или слоны слонять']['Найти пристанище, приют, кров.']\n",
            "10 13885 0  ['Склонить голову', 'Склонить знамя'][' признать себя побежденным, подчиниться кому-либо, чему-либо']\n",
            "3\n",
            "1 2 3\n",
            "11 8240  12 ['приложить руки', 'приложить руку', 'приложить ручку']['Основательно, серьёзно заняться кем-либо или чем-либо.']\n",
            "11 9409  3  ['складывать руки', 'сложить руки']['  Переставать действовать, предпринимать что-либо.']\n",
            "11 13724 0  ['Приложить руки', 'Приложить руку'][' принять долю участия в чем-либо']\n",
            "3\n",
            "1 3\n",
            "12 8242  5  ['принести в жертву', 'приносить в жертву', 'принести жертву', 'приносить жертву']['  Отказываться от кого-либо или от чего-либо ради кого-либо, ради чего-либо.']\n",
            "12 8266  2  ['приносить жертву вакху']['Предаваться пьянству.']\n",
            "2\n",
            "13 8246  1  ['принести повинную голову', 'приносить повинную голову']['  Раскаиваясь, выражая покорность, сознаваться в своей виновности.']\n",
            "13 13242 0  ['Принести повинную', 'прийти с повинной', 'явиться с повинной', 'прийти с повинной головой', 'прийти с повинной головой'][' признаться в своей вине, явиться, чтобы сознаться в своей вине']\n",
            "1\n",
            "14 8251  1  ['принимать в соображение', 'принять в соображение']['  Учитывать что-либо.']\n",
            "14 13457 0  ['Принять бой', 'Принять сражение', 'Принять удар'][' не уклониться от боя, возникшего по инициативе противника']\n",
            "14 14047 0  ['Принять в соображение', 'взять в соображение'][' принять во внимание, учесть']\n",
            "3\n",
            "1 3\n",
            "15 8259  1  ['принимать на себя роль', 'принять на себя роль'][' Быть кем-либо, выполнять чьи-либо обязанности.']\n",
            "15 13815 0  ['Взять на себя', 'принять на себя']['согласиться быть ответственным за что-либо ']\n",
            "15 18830 2  ['Принять на себя']['согласиться быть ответственным за что-н.']\n",
            "3\n",
            "2 3\n",
            "16 8269  1  ['припереть к стенке', 'припереть к стене', 'припирать к стенке', 'припирать к стене']['То же, что <<припирать в угол>>']\n",
            "16 13440 0  ['Прижать к стене', 'Прижать к стенке', 'Припереть к стене', 'Припереть к стенке'][' лишить возможности отпираться, отрицать что-либо, уличить, разоблачить']\n",
            "16 14921 1  ['быть припёртым к стенке'][]             \n",
            "16 16752 0  ['припереть к стене'][]             \n",
            "16 16753 1  ['припирать к стенке'][]             \n",
            "16 18818 2  ['Прижать к стене', 'Прижать к углу']['притеснить, оказать давление на кого-н., обидеть']\n",
            "16 19109 2  ['Прижать к стене', 'припереть к стене']['притеснить, оказать давление на кого-н., обидеть']\n",
            "3\n",
            "1 2 4 5 6 7\n",
            "17 8280  2  ['притаивать дух (дыхание)', 'притаить дух (дыхание)']['  Переставать дышать от волнения, напряжения.']\n",
            "17 13468 0  ['Притаить дыхание'][' задержать дыхание']\n",
            "1\n",
            "18 8285  3  ['притча во языцех']['Предмет всеобщих разговоров, постоянных пересудов и т. п.']\n",
            "18 18839 2  ['притча во языцех']['предмет общих разговоров, то, о чем все говорят, сенсация.']\n",
            "1\n",
            "19 8286  1  ['притягивать за волосы', 'притянуть за волосы']['  Использовать без достаточных оснований, с натяжкой. Обычно о доказательствах, доводах и т. п.']\n",
            "19 13469 0  ['Притянуть за волосы', 'Притянуть за уши'][' привлечь, использовать что-либо без достаточных оснований, неоправданно']\n",
            "19 16756 0  ['притягивать за уши'][]             \n",
            "19 16757 0  ['притянутый за волосы'][]             \n",
            "1\n",
            "20 8288  2  ['приходит на память', 'приходить на память']['. Вспоминается.']\n",
            "20 8291  1  ['приходить в память']['Восстанавливать способность мыслить, понимать; выходить из обморочного состояния.']\n",
            "20 13135 1  ['прийти на память'][' припомниться, вспомниться']\n",
            "20 18815 1  ['Привести на память']['напоминать.']\n",
            "3\n",
            "1 3\n",
            "21 8289  1  ['приходит на ум', 'приходить на ум']['. Возникает в сознании.']\n",
            "21 14456 3  ['прийти (или взбрести) на ум (или в ум)', 'прийти на ум', 'прийти в ум', 'взбрети на ум', 'взбрети в ум']['представиться, вспомниться ']\n",
            "21 15033 1  ['взбредать на ум'][]             \n",
            "1\n",
            "22 8291  1  ['приходить в память']['Восстанавливать способность мыслить, понимать; выходить из обморочного состояния.']\n",
            "22 13135 1  ['прийти на память'][' припомниться, вспомниться']\n",
            "22 18815 1  ['Привести на память']['напоминать.']\n",
            "2\n",
            "23 8306  6  ['про себя']   ['Очень тихо, так, что еле слышно (говорить, читать).']\n",
            "23 13817 3  ['по себе']    [' по своим силам или вкусам, требованиям ']\n",
            "2\n",
            "24 8309  2  ['пробегать глазами', 'пробежать глазами']['  Быстро и невнимательно читать что-либо.']\n",
            "24 11576 1  ['Глаза бегают', 'бегать глазами']['неодобр, кто-либо постоянно отводит взгляд, стараясь не смотреть кому-либо в глаза (часто о человеке с нечистой совестью) ']\n",
            "24 14782 0  ['бегать глазами'][]             \n",
            "24 16767 1  ['провожать глазами'][]             \n",
            "24 16768 1  ['продавать глаза'][]             \n",
            "2\n",
            "25 8310  3  ['пробивать дорогу', 'пробивать лбом дорогу', 'пробивать лбом себе дорогу', 'пробивать себе дорогу', 'пробить дорогу', 'пробить лбом дорогу', 'пробить лбом себе дорогу', 'пробить себе дорогу']['  Настойчиво, упорно, ценой больших усилий добиваться успеха в жизни.']\n",
            "25 13476 0  ['Пробить себе дорогу', 'Пробить себе путь'][' достичь значительного положения, добиться успехов на каком-либо поприще']\n",
            "25 13496 0  ['Проложить себе дорогу']['расчистив путь, устранив препятствия на пути, продвинуться вперед ']\n",
            "25 18646 1  ['Перебить дорогу']['захватить что-н. раньше другого, на что тот рассчитывал.']\n",
            "3\n",
            "1 2\n",
            "26 8311  3  ['пробирать с песком', 'пробрать с песком', 'продирать с песком', 'продрать с песком']['  Строго выговаривать кому-либо.']\n",
            "26 8351  2  ['продирать с песочком']['  Сильно бранить, критиковать, строго выговаривая кому-либо.']\n",
            "26 9410  5  ['склонять голову']['Найти пристанище, приют, кров.']\n",
            "26 9411  3  ['склонить свою голову', 'Слонов или слоны слонять']['Найти пристанище, приют, кров.']\n",
            "26 13518 0  ['Протереть с песком', 'Протереть с песочком'][' дать нагоняй, сделать строгий выговор, пробрать, продрать']\n",
            "26 13885 0  ['Склонить голову', 'Склонить знамя'][' признать себя побежденным, подчиниться кому-либо, чему-либо']\n",
            "3\n",
            "1 2 5\n",
            "27 8317  3  ['провал тебя (вас, их и т. п.) возьми']['Выражение недовольства, возмущения, негодования, досады, удивления и т. п.']\n",
            "27 8318  1  ['провал тебя (вас, их и т. п.) знает']['Выражение недоумения, непонимания; неизвестно, никто не знает.']\n",
            "27 8319  1  ['провал тебя (вас, их и т. п.) побери']['То же, что <<провал тебя возьми>>.']\n",
            "27 8508  1  ['пусто тебя (вас, его и т. п.) побери']['Бранное восклицание, выражающее недовольство, возмущение кем-либо или чем-либо.']\n",
            "2\n",
            "28 8318  1  ['провал тебя (вас, их и т. п.) знает']['Выражение недоумения, непонимания; неизвестно, никто не знает.']\n",
            "28 8319  1  ['провал тебя (вас, их и т. п.) побери']['То же, что <<провал тебя возьми>>.']\n",
            "28 8508  1  ['пусто тебя (вас, его и т. п.) побери']['Бранное восклицание, выражающее недовольство, возмущение кем-либо или чем-либо.']\n",
            "2\n",
            "29 8319  1  ['провал тебя (вас, их и т. п.) побери']['То же, что <<провал тебя возьми>>.']\n",
            "29 8508  1  ['пусто тебя (вас, его и т. п.) побери']['Бранное восклицание, выражающее недовольство, возмущение кем-либо или чем-либо.']\n",
            "2\n",
            "30 8323  2  ['провалиться мне на этом месте']['Клятвенно заверяю.']\n",
            "30 13479 0  ['Провались я!', 'Провалиться на этом месте!', 'Провалиться на этом самом месте!'][' употребляется как клятва']\n",
            "1\n",
            "31 8326  1  ['провести в жизнь', 'проводить в жизнь']['  Осуществлять что-либо на практике, воплощать.']\n",
            "31 11389 0  ['Войти в жизнь']['получить признание, приобрести значение необходимого, обязательного ']\n",
            "31 17922 2  ['входить в жизнь']['становиться употребительным (о действиях и предметах).']\n",
            "2\n",
            "32 8327  1  ['провести грань', 'проводить грань']['  Устанавливать какие-либо различия.']\n",
            "32 13482 0  ['Провести грань'][' установить какие-либо различия']\n",
            "1\n",
            "33 8338  5  ['проглядеть все глаза', 'проглядеть глаза']['Пристально, долго или часто всматриваться куда-либо, ожидая с нетерпением появления кого-либо.']\n",
            "33 17931 1  ['Выглядеть все глаза']['долго всматриваясь, утомить зрение.']\n",
            "2\n",
            "34 8341  1  ['прогундеть все уши', 'прогундеть уши']['Предельно надоесть постоянными неприятными разговорами о ком-либо или о чём-либо.']\n",
            "34 14507 0  ['Прожужжать уши', 'прогудеть уши', 'прокричать уши', 'протрубить уши'][' надоесть долгими, постоянными разговорами о ком-либо, чем-либо']\n",
            "34 19301 1  ['Прожужжать уши', 'прокричать уши', 'протрещать уши', 'протрубить уши']['надоесть долгими разговорами, однообразными или об одном и том же.']\n",
            "1\n",
            "35 8347  2  ['продавать себя', 'продать себя']['  Отдаваться кому-либо за деньги; вступать в брак по расчёту.']\n",
            "35 16469 1  ['отдавать себя'][]             \n",
            "2\n",
            "36 8349  2  ['продирать глаза', 'продрать глаза']['  Просыпаться; вставать после сна, протирая веки.']\n",
            "36 8420  3  ['протереть глаза', 'протереть глазки']['Доказать своё полное превосходство в чём-либо перед кем-либо.']\n",
            "36 8426  1  ['протирать глаза']['Просыпаться после сна.']\n",
            "36 8437  1  ['прочистить глаза', 'прочищать глаза']['  Выводить кого-либо из заблуждения; помогать правильно понять истинное положение вещей.']\n",
            "36 13483 0  ['Проводить глазами', 'Проводить взглядом', 'Проводить взором'][' проследить глазами за кем-либо, чем-либо удаляющимся']\n",
            "36 13517 0  ['Протереть глаза', 'Протереть глазки']['проснуться, очнуться от сна ']\n",
            "36 16767 1  ['провожать глазами'][]             \n",
            "36 16768 1  ['продавать глаза'][]             \n",
            "2\n",
            "37 8350  1  ['продирать зенки', 'продрать зенки']['  То же, что <<продирать глаза>>.']\n",
            "37 8422  1  ['протереть зенки']['Необходимо лучше смотреть, быть внимательнее.']\n",
            "2\n",
            "38 8351  2  ['продирать с песочком']['  Сильно бранить, критиковать, строго выговаривая кому-либо.']\n",
            "38 9410  5  ['склонять голову']['Найти пристанище, приют, кров.']\n",
            "38 9411  3  ['склонить свою голову', 'Слонов или слоны слонять']['Найти пристанище, приют, кров.']\n",
            "38 9482  14 ['сломить голову']['Искалечиться или разбиться насмерть, убиться (при падении).']\n",
            "38 10376 4  ['Хвататься за ум']['Стать благоразумнее, рассудительнее, образумиться.']\n",
            "38 11089 0  ['Бог прибрал', 'господь прибрал'][' о чьей-то смерти']\n",
            "38 11146 0  ['Брать в толк', 'взять в толк'][' понять, уяснить, осознать что-либо']\n",
            "38 11375 0  ['Вожжа под хвост попала', 'шлея под хвост попала'][' кто-либо ведет себя крайне неуравновешенно, взбалмошно']\n",
            "38 11434 1  ['Вот тебе и на!', 'Вот те на!', 'Вот так тик!'][' о том, что совершилось или произошло совсем не так, как ожидали']\n",
            "38 11438 0  ['Вот тебе раз!', 'Вот тебе и раз!', 'Вот те раз!', 'Вот те и раз!', 'Вот так раз!'][' выражение удивления, разочарования и т. п.']\n",
            "38 13518 0  ['Протереть с песком', 'Протереть с песочком'][' дать нагоняй, сделать строгий выговор, пробрать, продрать']\n",
            "38 13885 0  ['Склонить голову', 'Склонить знамя'][' признать себя побежденным, подчиниться кому-либо, чему-либо']\n",
            "38 14558 4  ['ходуном ходить (идти, пойти)', 'ходуном ходить', 'ходуном идти', 'ходуном пойти']['сильно трястись, сотрясаться ']\n",
            "38 18078 2  ['отдать долг природе']['умереть (в этом знач. также с прибавкой: последний долг);']\n",
            "38 18836 1  ['Отдать дань природе']['поступить сообразно своим свойствам.']\n",
            "2\n",
            "39 8353  3  ['прожигать жизнь']['Проводить время в развлечениях, удовольствиях, растрачивая деньги; силы, здоровье.']\n",
            "39 13485 0  ['Прожигатель жизни'][' человек, растрачивающий свои силы, здоровье, деньги на удовольствия, развлечения и т. п.']\n",
            "2\n",
            "40 8354  3  ['прожужжать все уши', 'прожужжать уши']['Предельно надоесть постоянными разговорами об одном и том же.']\n",
            "40 14507 0  ['Прожужжать уши', 'прогудеть уши', 'прокричать уши', 'протрубить уши'][' надоесть долгими, постоянными разговорами о ком-либо, чем-либо']\n",
            "40 19301 1  ['Прожужжать уши', 'прокричать уши', 'протрещать уши', 'протрубить уши']['надоесть долгими разговорами, однообразными или об одном и том же.']\n",
            "1\n",
            "41 8363  3  ['пройтись насчёт', 'прохаживаться насчёт']['  Отзываться о ком-либо или о чём-либо неодобрительно, насмешливо; злословить.']\n",
            "41 13490 0  ['Пройтись на чей счет', 'пройтись по адресу'][' сказать что-либо дурное, нелестное в отношении кого-либо, чего-либо, высмеять кого-либо, что-либо']\n",
            "41 16772 0  ['пройтись по адресу'][]             \n",
            "1\n",
            "42 8365  2  ['прокладывать дорогу', 'проложить дорогу']['  Обеспечивать, создавать благоприятные условия для успеха, достижения цели.']\n",
            "42 13495 0  ['Проложить дорогу', 'Проложить путь'][' создать условия для достижения чего-либо, какой-либо цели для роста чего-либо или развития чьей-либо деятельности']\n",
            "42 13496 0  ['Проложить себе дорогу']['расчистив путь, устранив препятствия на пути, продвинуться вперед ']\n",
            "1\n",
            "43 8366  2  ['прокричать все уши', 'прокричать уши']['Надоесть постоянными разговорами об одном и том же.']\n",
            "43 14507 0  ['Прожужжать уши', 'прогудеть уши', 'прокричать уши', 'протрубить уши'][' надоесть долгими, постоянными разговорами о ком-либо, чем-либо']\n",
            "43 19301 1  ['Прожужжать уши', 'прокричать уши', 'протрещать уши', 'протрубить уши']['надоесть долгими разговорами, однообразными или об одном и том же.']\n",
            "1\n",
            "44 8370  4  ['проливать кровь', 'пролить кровь']['Погибать, защищая кого-либо или что-либо.']\n",
            "44 13494 0  ['Пролить кровь', 'Пролить свою кровь', 'лить кровь', 'лить свою кровь'][' ранить, убить кого-либо ']\n",
            "1\n",
            "45 8372  2  ['проливать свет', 'пролить свет']['  Делать понятным, разъяснять что-либо.']\n",
            "45 13776 2  ['пролить свет', 'бросить свет'][' раскрыть что-либо, сделать ясным, понятным']\n",
            "1\n",
            "46 8376  4  ['промочить горло'][' Выпить немного спиртного.']\n",
            "46 13498 0  ['Промочить горло', 'Промочить глотку'][' немного выпить']\n",
            "1\n",
            "47 8378  1  ['промять ноги']['Пройтись, прогуляться (после долгого сидения, стояния).']\n",
            "47 17667 0  ['размять ноги'][]             \n",
            "2\n",
            "48 8379  2  ['пронести кусок мимо рта', 'пронести мимо рта', 'проносить кусок мимо рта', 'проносить мимо рта']['  Упускать возможность получить что-либо, попользоваться чем-либо.']\n",
            "48 16780 1  ['проносить ложку мимо рта'][]             \n",
            "1\n",
            "49 8381  1  ['пронзать душу', 'пронзить душу']['  Кто-либо остро, мгновенно испытывает какое-либо чувство (раскаяние, стыд, обиду и т. п.).']\n",
            "49 8382  1  ['пронимать душу', 'пронять душу']['  Производить на кого-либо очень сильное впечатление.']\n",
            "49 13499 0  ['Пронзить душу', 'Пронзить сердце'][' причинить острое страдание']\n",
            "49 16574 1  ['по зову сердца'][]             \n",
            "3\n",
            "1 3\n",
            "\tength: 31\n"
          ]
        }
      ]
    },
    {
      "cell_type": "code",
      "source": [
        "new_vars.extend(next_variants(2250, 2300)[0])\n",
        "print('\\tlength:', len(new_vars))"
      ],
      "metadata": {
        "colab": {
          "base_uri": "https://localhost:8080/"
        },
        "id": "-vvOphEAvtUa",
        "outputId": "783028d4-722d-4389-aba8-15b3fd761f30"
      },
      "execution_count": 18,
      "outputs": [
        {
          "output_type": "stream",
          "name": "stdout",
          "text": [
            "0  8382  1  ['пронимать душу', 'пронять душу']['  Производить на кого-либо очень сильное впечатление.']\n",
            "0  13499 0  ['Пронзить душу', 'Пронзить сердце'][' причинить острое страдание']\n",
            "0  16574 1  ['по зову сердца'][]             \n",
            "2\n",
            "1  8385  3  ['пропадать пропадом', 'пропасть пропадом']['  Попадать в бедственное, безвыходное положение.']\n",
            "1  8387  3  ['пропади пропадом', 'Пропади ты пропадом!']['Выражение сильной досады, раздражения по поводу кого-либо или чего-либо.']\n",
            "2\n",
            "2  8400  2  ['пропускать мимо рук', 'пропустить мимо рук']['  Упускать возможность воспользоваться чем-либо.']\n",
            "2  8401  4  ['пропускать мимо ушей', 'пропустить мимо ушей']['  Совершенно не реагировать на то, что говорится, на то, что сказано.']\n",
            "2\n",
            "3  8410  2  ['просклонять во всех падежах', 'склонять во всех падежах']['   Часто упоминать, осуждая, упрекая, критикуя и т. п.']\n",
            "3  13886 0  ['Склонять во всех падежах', 'Склонять на все лады'][' часто упоминать, называть (какое-либо слово) или много говорить о ком-либо, чем-либо']\n",
            "1\n",
            "4  8411  0  ['просклонять на все лады', 'склонять на все лады']['  (Н. Вирта. Вечерний звон).']\n",
            "4  13886 0  ['Склонять во всех падежах', 'Склонять на все лады'][' часто упоминать, называть (какое-либо слово) или много говорить о ком-либо, чем-либо']\n",
            "1\n",
            "5  8415  3  ['проститься с жизнью', 'прощаться с жизнью', 'распроститься с жизнью']['  Готовиться к смерти, ждать смерти; умирать.']\n",
            "5  13511 0  ['Проститься с жизнью', 'Проститься с головой'][' умереть']   \n",
            "1\n",
            "6  8420  3  ['протереть глаза', 'протереть глазки']['Доказать своё полное превосходство в чём-либо перед кем-либо.']\n",
            "6  8426  1  ['протирать глаза']['Просыпаться после сна.']\n",
            "6  8437  1  ['прочистить глаза', 'прочищать глаза']['  Выводить кого-либо из заблуждения; помогать правильно понять истинное положение вещей.']\n",
            "6  13517 0  ['Протереть глаза', 'Протереть глазки']['проснуться, очнуться от сна ']\n",
            "2\n",
            "7  8421  1  ['протереть глаза (глазки) деньгам']['  Растранжирить, промотать, прокутить (деньги).']\n",
            "7  16786 1  ['протереть глаза деньгам'][]             \n",
            "1\n",
            "8  8426  1  ['протирать глаза']['Просыпаться после сна.']\n",
            "8  8437  1  ['прочистить глаза', 'прочищать глаза']['  Выводить кого-либо из заблуждения; помогать правильно понять истинное положение вещей.']\n",
            "8  13517 0  ['Протереть глаза', 'Протереть глазки']['проснуться, очнуться от сна ']\n",
            "3\n",
            "1 3\n",
            "9  8427  1  ['проторённая дорожка']['О привычном способе поступать, действовать.']\n",
            "9  13522 0  ['По проторенной дорожке', 'По проторенной дорожке идти'][' привычным, легким путем']\n",
            "9  17586 0  ['идти по проторенной дорожке'][]             \n",
            "3\n",
            "2 3\n",
            "10 8429  1  ['протягивать руку']['Просить милостыню.']\n",
            "10 8432  2  ['протянуть руку']['Попытаться присвоить чужое; покуситься на чужое добро.']\n",
            "2\n",
            "11 8430  2  ['протягивать руку помощи', 'протянуть руку помощи']['  Помогать кому-либо, оказывать содействие, поддержку, ободрять.']\n",
            "11 13717 0  ['Подать руку помощи', 'протянуть руку помощи'][' помочь кому-либо']\n",
            "1\n",
            "12 8437  1  ['прочистить глаза', 'прочищать глаза']['  Выводить кого-либо из заблуждения; помогать правильно понять истинное положение вещей.']\n",
            "12 13517 0  ['Протереть глаза', 'Протереть глазки']['проснуться, очнуться от сна ']\n",
            "2\n",
            "13 8447  1  ['прощупать почву', 'прощупывать почву']['  Выяснять возможность чего-либо с определённой целью; заранее разузнавать что-либо.']\n",
            "13 13389 0  ['Прощупать почву', 'нащупать почву'][' выяснить возможность чего-либо']\n",
            "1\n",
            "14 8448  2  ['проявить себя', 'проявлять себя']['  Обнаруживать свои способности, возможности.']\n",
            "14 10951 2  ['являть себя']['. Проявлять, обнаруживать свои способности, возможности и т. п.']\n",
            "14 18216 1  ['Заявить себя']['показать себя с какой-н. стороны.']\n",
            "2\n",
            "15 8452  2  ['прятать глаза']['Стараться не смотреть прямо в лицо кому-либо (чаще собеседнику); отворачиваться от кого-либо.']\n",
            "15 13532 0  ['Прятать глаза', 'Прятать взгляд'][' бояться смотреть прямо, открыто в лицо кому-либо']\n",
            "1\n",
            "16 8458  3  ['псу под хвост']['Напрасно, зря, впустую (тратить, расходовать).']\n",
            "16 19319 1  ['Как псу под хвост', 'что псу под хвост', 'Как собаке под хвост', 'что собаке под хвост']['о чем-н., что изводится совершенно напрасно, зря, даром.']\n",
            "1\n",
            "17 8464  2  ['пуд соли съесть']['Прожив долгое время с кем-либо, многое узнать, испытать.']\n",
            "17 14030 0  ['Много соли съесть', 'пуд соли съесть'][' длительное время пробыть, прожить с кем-либо вместе']\n",
            "1\n",
            "18 8469  1  ['пункт за пунктом']['Одно за другим, по порядку (рассказывать, объяснять и т. п.).']\n",
            "18 13541 0  ['По пунктам', 'пункт за пунктом'][' по порядку, обстоятельно']\n",
            "1\n",
            "19 8473  1  ['пускать в мир', 'пустить в мир']['  Разорять, доводить до нищенства кого-либо.']\n",
            "19 8489  3  ['пускать по миру', 'пускать по миру с сумой', 'пустить по миру', 'пустить по миру с сумой']['  Доводить до нищеты; разорять.']\n",
            "19 18437 1  ['Пустить по миру']['разорить, заставить нищенствовать.']\n",
            "1\n",
            "20 8476  1  ['пускать в расход']['Расстреливать.']\n",
            "20 8478  4  ['пускать в ход', 'пустить в ход']['Использовать что-либо; прибегать к какому-либо средству, приёму, способу и т. п.']\n",
            "2\n",
            "21 8477  3  ['пускать в трубу', 'пустить в трубу']['Безрассудно тратить (деньги, имущество и т. п.).']\n",
            "21 14360 1  ['пустить (или выпустить) в трубу', 'пустить в трубу', 'выпустить в трубу']['разорить кого-либо ']\n",
            "21 19100 1  ['Спустить в трубу']['проиграть в азартные игры, беспутно прожить, растратить.']\n",
            "3\n",
            "1 2\n",
            "22 8480  1  ['пускать камнем', 'пустить камнем']['  Порочить, чернить кого-либо.']\n",
            "22 8482  5  ['пускать корни', 'пустить корни']['Основательно, прочно устраиваться где-либо; обзаводиться хозяйством.']\n",
            "2\n",
            "23 8481  3  ['пускать козла в огород', 'пустить козла в огород']['  Позволять кому-либо действовать там, где он может быть особенно вреден; допускать кого-либо к тому, чем он может воспользоваться в корыстных целях.']\n",
            "23 13542 0  ['Пустили козла в огород'][' допустили кого-либо как раз туда, куда он стремился из корыстных соображений, но где может принести только вред']\n",
            "1\n",
            "24 8483  3  ['пускать кровь', 'пустить кровь']['Наносить сильные побои, ранения; убивать.']\n",
            "24 18360 1  ['Писать кровью']['писать с глубокой искренностью, производящей сильное впечатление.']\n",
            "2\n",
            "25 8485  1  ['пускать на (в) распыл', 'пустить на (в) распыл'][' чтоТратить, расходовать зря, безрассудно (о деньгах, имуществе).']\n",
            "25 13617 0  ['Пустить в распыл', 'Пустить на распыл'][' обречь на гибель, уничтожение']\n",
            "1\n",
            "26 8487  5  ['пускать петуха', 'пустить петуха']['  Поджигать что-либо, устраивая пожар.']\n",
            "26 8501  1  ['пустить петушка']['Устроить пожар, поджечь что-либо.']\n",
            "1\n",
            "27 8489  3  ['пускать по миру', 'пускать по миру с сумой', 'пустить по миру', 'пустить по миру с сумой']['  Доводить до нищеты; разорять.']\n",
            "27 18437 1  ['Пустить по миру']['разорить, заставить нищенствовать.']\n",
            "1\n",
            "28 8490  1  ['пускать по рукам', 'пустить по рукам']['  Отдавать для прочтения что-либо написанное, неопубликованное, интересующее многих.']\n",
            "28 9721  3  ['спускать с рук', 'спустить с рук']['комуОставлять безнаказанным что-либо, не взыскивать строго с кого-либо за что-либо.']\n",
            "2\n",
            "29 8493  3  ['пускать слезу', 'пустить слезу']['  Недолго плакать или создавать видимость плача; притворно плакать.']\n",
            "29 13908 0  ['Пролить слезу', 'пустить слезу'][' заплакать, поплакать']\n",
            "1\n",
            "30 8496  3  ['пускаться во все тяжкие', 'пуститься во все тяжкие']['Предаваться безудержно и безрассудно чему-либо предосудительному (пьянству, разгулу, распутству и т. п.)  (Гл. Успенский, Новые времена).']\n",
            "30 10216 1  ['удариться во все тяжкие']['Начать вести предосудительный образ жизни.']\n",
            "1\n",
            "31 8504  1  ['пустить пузыри']['Утонуть; затонуть.']\n",
            "31 13539 1  ['пускать пузыри'][' находиться в тяжелом положении']\n",
            "2\n",
            "32 8505  1  ['пустить с сумой']['Разорить, сделать нищим кого.']\n",
            "32 16800 0  ['пускать с сумой'][]             \n",
            "1\n",
            "33 8512  0  ['пустой кошелёк']['Совсем нет денег.']\n",
            "33 13545 0  ['Пустой карман', 'Пустой кошелек'][' об отсутствии денег у кого-либо']\n",
            "1\n",
            "34 8526  4  ['пушкой не прошибёшь']['О большом скоплении людей, тесно стоящей толпе.']\n",
            "34 13563 0  ['Пушкой не прошибешь', 'из пушки не прошибешь', 'Пушкой не пробьешь', 'из пушки не пробьешь']['о большом количестве народа ']\n",
            "1\n",
            "35 8547  2  ['рад не рад', 'хоть рад, хоть не рад', 'Рад или не рад']['Независимо от желания.']\n",
            "35 16818 0  ['рад нерад']  []             \n",
            "1\n",
            "36 8548  2  ['ради прекрасных глаз', 'для прекрасных глаз']['Только из симпатии к кому-либо.']\n",
            "36 13427 0  ['Ради прекрасных глаз', 'Ради прекрасных глаз сделать'][' без вознаграждения, даром']\n",
            "1\n",
            "37 8553  2  ['радует глаз']['На что-либо приятно, доставляет удовольствие смотреть.']\n",
            "37 16823 1  ['радовать глаз'][]             \n",
            "1\n",
            "38 8560  1  ['раз от раза']['С каждым последующим повторением (усиливаясь или ослабевая).']\n",
            "38 13586 2  ['раз от разу'][' с каждым новым случаем ']\n",
            "1\n",
            "39 8566  2  ['разбивать сердце', 'Разбить сердце']['Повергать кого-либо в отчаяние, безнадёжность.']\n",
            "39 8608  2  ['раздирать сердце']['То же, что <<раздирать душу>>.']\n",
            "39 16867 1  ['рвать сердце'][]             \n",
            "2\n",
            "40 8567  1  ['разбивать цепи', 'разбить цепи']['  Избавляться, освобождаться от чего-либо.']\n",
            "40 8634  0  ['разорвать цепи', 'разрывать цепи']['  (М. Горький. Речь на торжественном заседании пленума Тбилисского совета).']\n",
            "1\n",
            "41 8569  2  ['разбиваться в лепёшку']['То же, что <<разбиваться в доску>>.']\n",
            "41 16829 0  ['разбить в лепёшку'][]             \n",
            "41 18386 1  ['Расшибиться в лепёшку']['о крайнем усердии, готовности услужить кому-н.']\n",
            "41 18905 1  ['Расшибиться в лепешку']['о крайнем усердии, готовности услужить кому-н.']\n",
            "3\n",
            "1 3 4\n",
            "42 8582  3  ['развести руками', 'разводить руками']['  Не знать, как поступить или сказать что-либо от удивления, крайнего недоумения в затруднительных обстоятельствах.']\n",
            "42 8590  1  ['разводить муру']['Заниматься пустяками; попусту тратить время.']\n",
            "42 8594  1  ['разводить узоры']['Говорить пространно, многословно и витиевато.']\n",
            "42 13588 0  ['Разводить разводы', 'Разводить узоры'][' говорить пространно, многословно']\n",
            "2\n",
            "43 8585  2  ['развести шуры-муры', 'разводить шуры-муры']['  Заниматься любовными похождениями, флиртом.']\n",
            "43 15588 1  ['заводить шуры-муры'][]             \n",
            "1\n",
            "44 8586  6  ['разводить антимонии', 'разводить антимоний', 'Разводить антимонию']['Пускаться в отвлечённые, бессодержательные разговоры.']\n",
            "44 16831 1  ['разводить антимонии']['болтать, пускаться в лишние, отвлекающие разговоры']\n",
            "1\n",
            "45 8590  1  ['разводить муру']['Заниматься пустяками; попусту тратить время.']\n",
            "45 8594  1  ['разводить узоры']['Говорить пространно, многословно и витиевато.']\n",
            "45 13588 0  ['Разводить разводы', 'Разводить узоры'][' говорить пространно, многословно']\n",
            "2\n",
            "46 8591  1  ['разводить разводы']['Говорить пространно, многословно и витиевато.']\n",
            "46 13588 0  ['Разводить разводы', 'Разводить узоры'][' говорить пространно, многословно']\n",
            "1\n",
            "47 8594  1  ['разводить узоры']['Говорить пространно, многословно и витиевато.']\n",
            "47 13588 0  ['Разводить разводы', 'Разводить узоры'][' говорить пространно, многословно']\n",
            "1\n",
            "48 8598  3  ['развязать руки', 'развязывать руки']['  Предоставлять полную свободу в действиях, поступках.']\n",
            "48 8599  1  ['развязать себе руки', 'развязывать себе руки'][' Получать полную свободу действовать самостоятельно.']\n",
            "48 9234  2  ['связать руки', 'связывать руки']['  Лишать возможности действовать, поступать свободно, независимо.']\n",
            "48 13732 0  ['Связать руки', 'связать по рукам и ногам', 'спутать по рукам и ногам'][' лишить возможности действовать свободно; стеснить кого-либо']\n",
            "48 17680 0  ['связанный по рукам и ногам'][]             \n",
            "2\n",
            "49 8600  9  ['развязать язык', 'развязывать язык']['. Побуждать кого-либо к разговору; давать возможность кому-либо говорить свободно, без стеснения.']\n",
            "49 9235  2  ['связать язык', 'связывать язык']['  Не давать возможности непринуждённо, без стеснения говорить.']\n",
            "49 13589 0  ['Развязать язык', 'Развязать языки']['побудить, заставить разговориться, или заставить рассказать, сообщить секрет, тайну ']\n",
            "3\n",
            "1 3\n",
            "\tlength: 65\n"
          ]
        }
      ]
    },
    {
      "cell_type": "code",
      "source": [
        "write_vars(new_vars)"
      ],
      "metadata": {
        "id": "YCvVhWWIvtUb"
      },
      "execution_count": 19,
      "outputs": []
    },
    {
      "cell_type": "code",
      "source": [
        "new_vars, to_split = next_variants(2300, 2350)\n",
        "print('\\tength:', len(new_vars))"
      ],
      "metadata": {
        "colab": {
          "base_uri": "https://localhost:8080/"
        },
        "id": "HoZKkv8c63Vk",
        "outputId": "eb93b0bf-7baa-48ab-a7be-84970a4322eb"
      },
      "execution_count": 12,
      "outputs": [
        {
          "output_type": "stream",
          "name": "stdout",
          "text": [
            "0  8605  4  ['разделать под орех', 'разделывать под орех']['. Зло и беспощадно ругать, распекать, критиковать за что-либо.']\n",
            "0  13062 1  ['отделать под орех', 'разделать под орех'][' сильно выругать, раскритиковать, одержать над кем-либо верх в споре']\n",
            "1\n",
            "1  8614  4  ['разевать рот']['Начинать высказывать своё мнение, начинать что-либо говорить.']\n",
            "1  8619  5  ['разинуть рот']['Начинать высказывать своё мнение, начинать что-либо говорить.']\n",
            "1\n",
            "2  8617  1  ['разжевать и в рот положить', 'разжевать да в рот положить', 'разжёвывать и в рот класть', 'разжёвывать да в рот класть']['  Очень подробно растолковывать, объяснять в популярной форме что-либо.']\n",
            "2  16836 1  ['разжёвывать и в рот класть'][]             \n",
            "1\n",
            "3  8621  4  ['разлетаться в прах', 'разлететься в прах', 'разлетаться в пух', 'разлететься в пух', 'разлетаться прахом', 'разлететься прахом']['  Исчезать, рассеиваться, прекращать существование; становиться недействительным, нереальным.']\n",
            "3  13413 0  ['Пойти прахом', 'рассыпаться прахом', 'разлететься прахом'][' погибнуть, уничтожиться']\n",
            "3  18904 1  ['Рассыпаться прахом']['погибнуть, пропасть, уничтожиться.']\n",
            "1\n",
            "4  8624  6  ['разложить по полочкам']['Навести порядок в чём-либо.']\n",
            "4  8660  2  ['раскладывать по полочкам']['  С излишним педантизмом, упрощая суть дела, обсуждать что-либо по привычным стандартам.']\n",
            "2\n",
            "5  8627  3  ['разменивать на мелочи', 'разменять на мелочи', 'размениваться на мелочи', 'разменяться на мелочи']['  Растрачивать попусту, зря, по пустякам (жизнь, талант, чувства и т. д.).']\n",
            "5  12679 1  ['размениваться на мелочи', 'размениваться по мелочам'][' заниматься чем-либо несерьезным, пустяками, вместо большого серьезного дела, на которое способен']\n",
            "1\n",
            "6  8636  1  ['разрази (меня) гром']['Клянусь, клятвенно заверяю.']\n",
            "6  13601 0  ['Разрази гром или ', 'Разрази меня гром', 'Разрази бог', 'Разрази меня бог', 'Разрази господь', 'Разрази меня господь', 'пусть разразит бог', 'пусть разразит меня бог', 'пусть разразит господь', 'пусть разразит меня господь', 'пускай разразит бог', 'пускай разразит меня бог', 'пускай разразит господь', 'пускай разразит меня господь', 'да разразит бог', 'да разразит меня бог', 'да разразит господь', 'да разразит меня господь'][' употребляются как клятвенные выражения для подтверждения своих слов, уверения в чем-либо']\n",
            "6  16841 0  ['разрази господи'][]             \n",
            "6  16842 1  ['разрази гром'][]             \n",
            "1\n",
            "7  8641  1  ['разрубать гордиев узел', 'разрубить гордиев узел']['  Смело, решительно и сразу же разрешать какую-либо очень трудную задачу, находить посредством чего-либо выход из трудной ситуации.']\n",
            "7  11713 0  ['Рассечь гордиев узел', 'Разрубить гордиев узел', 'Рассечь узел', 'разрубить узел'][' разрешить какие-либо затруднения быстро, смело и решительно (По древнегреческому преданию Александр Македонский рассек мечом сложный узел, завязанный фригийским царем Гордием, оракул не предсказывал, что развязавший этот узел будет владыкой Азии)']\n",
            "1\n",
            "8  8642  4  ['разрывать на части', 'разрываться на части']['Наперебой обращаться к кому-либо с делами, просьбами, поручениями, не давая ему передышки, покоя.']\n",
            "8  8730  3  ['рвать на части']['Наперебой обращаться к кому-либо с делами, просьбами, поручениями, не давая покоя, передышки.']\n",
            "8  8737  1  ['рваться на части']['Пытаться выполнить сразу много дел.']\n",
            "8  13627 0  ['Сердце рвется', 'душа рвется', 'Сердце рвется на части', 'душа рвется на части'][' о сильном переживании, страдании, испытываемом кем-либо']\n",
            "8  13848 0  ['Сердце оборвалось', 'Сердце упало'][' о внезапном ощущении сильной тревоги или испуга']\n",
            "8  18891 1  ['Разорвать на части']['обращаясь наперебой к кому-н. с просьбами, поручениями и т. п., не дать покою, превысить чьи- н. силы, возможности.']\n",
            "8  19276 1  ['Сердце упало']['кто-н. проникся страхом, отчаянием или унынием.']\n",
            "8  19357 1  ['Рвут на части', 'разрывать на части']['большой спрос на кого-н., до кого-н. всем дело.']\n",
            "3\n",
            "1 2 3 6\n",
            "9  8645  5  ['разыграть дурака', 'разыграть дуру', 'разыгрывать дурака', 'разыгрывать дуру']['Допустить оплошность, сделать глупость.']\n",
            "9  13603 2  ['разыграть дурака'][' поступить глупо, оказаться в дураках']\n",
            "1\n",
            "10 8647  1  ['разыгрывать роль']['Притворяться, прикидываться кем-либо, изображать из себя кого-либо.']\n",
            "10 13667 0  ['Играть роль', 'разыгрывать роль'][' изображать кого-либо, воспроизводя манеры, поведение, притворяться кем-либо']\n",
            "10 16246 0  ['не играть роли'][]             \n",
            "3\n",
            "1 2\n",
            "11 8651  3  ['рано или поздно']['Когда-нибудь обязательно (что-либо произойдёт).']\n",
            "11 8652  2  ['рано ли, поздно ли']['То же, что <<рано или поздно>>.']\n",
            "2\n",
            "12 8653  1  ['раскидывать в уме', 'раскинуть в уме']['  Обдумывать; мысленно рассчитывать, прикидывать и т. п.']\n",
            "12 8658  3  ['раскидывать умом', 'раскинуть умом']['  То же, что <<раскидывать мозгами>>.']\n",
            "2\n",
            "13 8654  2  ['раскидывать глаза (глазами)']['Озираться, глядеть по сторонам.']\n",
            "13 15147 2  ['вскидывать глаза', 'вскидывать глазами', 'раскидывать глаза']['глядеть по сторонам, озираться']\n",
            "1\n",
            "14 8656  2  ['раскидывать мыслями (мысли)']['То же, что <<раскидывать мозгами>>.']\n",
            "14 8659  1  ['раскидываться мыслью (мыслями)']['Обдумывать, размышлять.']\n",
            "14 16850 1  ['раскидываться мыслью'][]             \n",
            "1\n",
            "15 8659  1  ['раскидываться мыслью (мыслями)']['Обдумывать, размышлять.']\n",
            "15 16850 1  ['раскидываться мыслью'][]             \n",
            "2\n",
            "16 8661  1  ['раскрывать глаза', 'раскрыть глаза']['  Помогать правильно понять действительное положение вещей, выводя из заблуждения.']\n",
            "16 13611 1  ['раскрыть игру'][' обнаружить чьи-либо тайные замыслы, планы']\n",
            "16 15147 2  ['вскидывать глаза', 'вскидывать глазами', 'раскидывать глаза']['глядеть по сторонам, озираться']\n",
            "2\n",
            "17 8662  2  ['раскрывать душу', 'раскрыть душу']['  Откровенно рассказывать о своих заветных, тайных мыслях, чувствах, переживаниях.']\n",
            "17 13612 0  ['Раскрыть себя', 'Раскрыть свою душу'][' обнаружить перед кем-либо свои самые сокровенные мысли, чувства']\n",
            "1\n",
            "18 8663  4  ['раскрывать карты', 'раскрывать свои карты', 'раскрыть карты', 'раскрыть свои карты']['  Переставать скрывать свои намерения, замыслы, планы; начинать поступать открыто.']\n",
            "18 13682 0  ['Раскрыть рот', 'открыть рот']['заговорить, высказаться ']\n",
            "2\n",
            "19 8664  0  ['раскрывать своё сердце', 'раскрывать сердце', 'раскрыть своё сердце', 'раскрыть сердце']['  То же, что <<раскрывать душу>>  (Достоевский. Униженные и оскорблённые).']\n",
            "19 8706  2  ['растерзать сердце']['Причинять сильные нравственные страдания; мучить, терзать кого-либо.']\n",
            "19 9669  5  ['сорвать сердце', 'срывать сердце']['  Вымещать свой гнев, раздражение, ярость и т. п.']\n",
            "19 16867 1  ['рвать сердце'][]             \n",
            "2\n",
            "20 8665  0  ['раскрывать себя', 'раскрыть себя']['  То же, что <<раскрывать душу>>  (Фадеев. Молодая гвардия).']\n",
            "20 13612 0  ['Раскрыть себя', 'Раскрыть свою душу'][' обнаружить перед кем-либо свои самые сокровенные мысли, чувства']\n",
            "2\n",
            "21 8678  1  ['распускать глаза', 'распустить глаза']['  Изумляться, удивляться чему-либо.']\n",
            "21 8679  1  ['распускать глотку', 'распустить глотку']['  Громко и грубо ругаться; орать.']\n",
            "21 8681  5  ['распускать губы', 'распустить губы']['Орать, громко ругаться.']\n",
            "21 8685  3  ['распускать руки', 'распустить руки']['Драться; применять физическую силу против кого-либо.']\n",
            "21 12109 1  ['запустить глаза'][' заглянуть куда-либо ']\n",
            "21 13614 0  ['Распустить горло', 'Распустить глотку'][' начать кричать громко, во все горло']\n",
            "21 13615 0  ['Распускать губы', 'распустить губы']['кричать на кого-либо, ругаться ']\n",
            "2\n",
            "22 8679  1  ['распускать глотку', 'распустить глотку']['  Громко и грубо ругаться; орать.']\n",
            "22 13614 0  ['Распустить горло', 'Распустить глотку'][' начать кричать громко, во все горло']\n",
            "1\n",
            "23 8680  2  ['распускать горло', 'распустить горло']['  То же, что <<распускать глотку>>.']\n",
            "23 13614 0  ['Распустить горло', 'Распустить глотку'][' начать кричать громко, во все горло']\n",
            "2\n",
            "24 8681  5  ['распускать губы', 'распустить губы']['Орать, громко ругаться.']\n",
            "24 8685  3  ['распускать руки', 'распустить руки']['Драться; применять физическую силу против кого-либо.']\n",
            "24 9721  3  ['спускать с рук', 'спустить с рук']['комуОставлять безнаказанным что-либо, не взыскивать строго с кого-либо за что-либо.']\n",
            "24 13615 0  ['Распускать губы', 'распустить губы']['кричать на кого-либо, ругаться ']\n",
            "3\n",
            "1 4\n",
            "25 8683  10 ['распускать нюни', 'распустить нюни', 'распускать слюни', 'распустить слюни']['Плакать.']   \n",
            "25 8687  2  ['распускать сопли', 'распустить сопли']['Хныкать, ныть, проявлять малодушие.']\n",
            "2\n",
            "26 8685  3  ['распускать руки', 'распустить руки']['Драться; применять физическую силу против кого-либо.']\n",
            "26 9721  3  ['спускать с рук', 'спустить с рук']['комуОставлять безнаказанным что-либо, не взыскивать строго с кого-либо за что-либо.']\n",
            "26 13615 0  ['Распускать губы', 'распустить губы']['кричать на кого-либо, ругаться ']\n",
            "2\n",
            "27 8688  2  ['распускать уши', 'распустить уши']['  Внимательно и долго слушать кого-либо, проявляя излишнее любопытство к содержанию разговора.']\n",
            "27 16854 1  ['распускать хвост'][]             \n",
            "2\n",
            "28 8691  2  ['распушить хвост']['Стать заносчивым, дерзким.']\n",
            "28 16854 1  ['распускать хвост'][]             \n",
            "2\n",
            "29 8702  2  ['рассыпаться мелким бесом', 'Рассыпаться бисером', 'Рассыпаться мелким бисером']['Всячески угождать, льстить кому-либо; заискивать.']\n",
            "29 16856 1  ['рассыпаться бисером'][]             \n",
            "1\n",
            "30 8703  1  ['растаптывать душу', 'растоптать душу']['  Грубо унижать кого-либо.']\n",
            "30 8713  1  ['растопить душу']['Смягчить, сделать добрее, чувствительнее кого-либо.']\n",
            "2\n",
            "31 8714  2  ['растопить лёд']['Устранить отчуждённость, уничтожить недоверие между кем-либо.']\n",
            "31 8715  0  ['растопить сердце']['(Мельников-Печерский. Старые годы).']\n",
            "2\n",
            "32 8723  2  ['рвать воздух']['Очень громко звучать, раздаваться.']\n",
            "32 8742  2  ['резать воздух']['Резко нарушать тишину, громко звучать.']\n",
            "2\n",
            "33 8730  3  ['рвать на части']['Наперебой обращаться к кому-либо с делами, просьбами, поручениями, не давая покоя, передышки.']\n",
            "33 8737  1  ['рваться на части']['Пытаться выполнить сразу много дел.']\n",
            "33 13627 0  ['Сердце рвется', 'душа рвется', 'Сердце рвется на части', 'душа рвется на части'][' о сильном переживании, страдании, испытываемом кем-либо']\n",
            "33 13848 0  ['Сердце оборвалось', 'Сердце упало'][' о внезапном ощущении сильной тревоги или испуга']\n",
            "33 18891 1  ['Разорвать на части']['обращаясь наперебой к кому-н. с просьбами, поручениями и т. п., не дать покою, превысить чьи- н. силы, возможности.']\n",
            "33 19276 1  ['Сердце упало']['кто-н. проникся страхом, отчаянием или унынием.']\n",
            "33 19357 1  ['Рвут на части', 'разрывать на части']['большой спрос на кого-н., до кого-н. всем дело.']\n",
            "2\n",
            "34 8734  1  ['рвать уши']  ['Раздражать слух; резкими или неприятными звуками действовать на слух.']\n",
            "34 14503 0  ['Нарвать уши', 'оборвать уши'][' наказать, дергая за уши']\n",
            "2\n",
            "35 8737  1  ['рваться на части']['Пытаться выполнить сразу много дел.']\n",
            "35 13627 0  ['Сердце рвется', 'душа рвется', 'Сердце рвется на части', 'душа рвется на части'][' о сильном переживании, страдании, испытываемом кем-либо']\n",
            "35 13848 0  ['Сердце оборвалось', 'Сердце упало'][' о внезапном ощущении сильной тревоги или испуга']\n",
            "35 19276 1  ['Сердце упало']['кто-н. проникся страхом, отчаянием или унынием.']\n",
            "35 19357 1  ['Рвут на части', 'разрывать на части']['большой спрос на кого-н., до кого-н. всем дело.']\n",
            "2\n",
            "36 8741  1  ['режет слух'] ['Что-либо производит неприятное впечатление своим звучанием, формой, содержанием.']\n",
            "36 13630 0  ['Резать ухо', 'Резать слух'][' об очень громком, неприятном звуке, а также о плохо воспринимаемых музыке, стихах']\n",
            "1\n",
            "37 8744  2  ['резать правду в глаза']['Говорить прямо, открыто кому-либо правду.']\n",
            "37 8746  2  ['резать правду-матку', 'резать правду-матку в глаза']['Высказываться прямо, откровенно, —  (Ф. Абрамов. Дом).']\n",
            "37 9540  1  ['смотреть правде в глаза']['Трезво оценивать обстановку, признавать действительное положение вещей.']\n",
            "37 9541  1  ['смотреть правде в лицо']['То же, что <<смотреть правде в глаза>>.']\n",
            "37 13406 0  ['Смотреть правде в глаза', 'глядеть правде в глаза', 'Смотреть правде в лицо', 'глядеть правде в лицо'][' трезво оценивать действительное положение вещей']\n",
            "3\n",
            "1 2\n",
            "38 8750  2  ['решать жизни', 'решить жизни']['  Убивать, умерщвлять.']\n",
            "38 8757  2  ['решиться жизни']['Умереть, погибнуть.']\n",
            "2\n",
            "39 8754  1  ['решаться разума']['Утрачивать способность соображать, ясно понимать что-либо.']\n",
            "39 8758  1  ['решиться ума']['Утратить способность здраво мыслить, рассуждать.']\n",
            "39 12708 0  ['Мешаться в уме', 'Мешаться в рассудке', 'мешаться умом', 'мешаться рассудком'][' сходить с ума, терять разум']\n",
            "3\n",
            "1 2\n",
            "40 8758  1  ['решиться ума']['Утратить способность здраво мыслить, рассуждать.']\n",
            "40 12708 0  ['Мешаться в уме', 'Мешаться в рассудке', 'мешаться умом', 'мешаться рассудком'][' сходить с ума, терять разум']\n",
            "2\n",
            "41 8762  1  ['рисовать мрачными красками']['Описывать безрадостные, тяжёлые картины жизни, действительности.']\n",
            "41 8763  1  ['рисовать чёрными красками']['Представлять кого-либо или что-либо в неприглядном свете.']\n",
            "2\n",
            "42 8764  1  ['робкого десятка']['Боязливый, трусливый.']\n",
            "42 13645 2  ['не из робкого десятка', 'не робкого десятка', 'неробкого десятка'][' о смелом человеке, храбреце ']\n",
            "2\n",
            "43 8765  2  ['ровно (точно) муху проглотил']['О том, кто недоволен, имеет расстроенный, кислый вид.']\n",
            "43 12785 0  ['(Точно) муху проглотил'][' о недовольном, кислом виде у кого-либо']\n",
            "1\n",
            "44 8770  1  ['род людской']['Люди.']      \n",
            "44 13651 1  ['род людской', 'человеческий род'][' люди, человечество ']\n",
            "1\n",
            "45 8771  1  ['род человеческий']['Люди.']      \n",
            "45 15119 1  ['враг рода человеческого', 'изверг рода человеческого'][]             \n",
            "2\n",
            "46 8775  2  ['родиться в рубашке']['Быть во всём удачливым, счастливым.']\n",
            "46 13653 0  ['Родился в рубашке', 'Родился в сорочке', 'родилась в рубашке', 'родилась в сорочке'][' об удачливом, счастливом человеке']\n",
            "46 14061 0  ['Родился в сорочке', 'родилась в сорочке']['родиться покрытым околоплодным пузырем (о младенце или детеныше животного) ']\n",
            "1\n",
            "47 8776  3  ['родиться в сорочке']['То же, что <<родиться в рубашке>>.']\n",
            "47 13653 0  ['Родился в рубашке', 'Родился в сорочке', 'родилась в рубашке', 'родилась в сорочке'][' об удачливом, счастливом человеке']\n",
            "47 14061 0  ['Родился в сорочке', 'родилась в сорочке']['родиться покрытым околоплодным пузырем (о младенце или детеныше животного) ']\n",
            "2\n",
            "48 8784  3  ['ронить слёзы', 'ронять слёзы']['Плакать.']   \n",
            "48 13668 1  ['ронять слезы', 'ронять слёзы'][' плакать']   \n",
            "1\n",
            "49 8789  1  ['рубануть сплеча']['Резко, бестактно высказать что-либо, не считаясь с кем-либо, с обстоятельствами.']\n",
            "49 8792  3  ['рубить сплеча']['Действовать, поступать прямолинейно, необдуманно.']\n",
            "1\n",
            "\tength: 24\n"
          ]
        }
      ]
    },
    {
      "cell_type": "code",
      "source": [
        "new_vars.extend(next_variants(2350, 2400)[0])\n",
        "print('\\tlength:', len(new_vars))"
      ],
      "metadata": {
        "colab": {
          "base_uri": "https://localhost:8080/"
        },
        "id": "s6x5qRYi63Vm",
        "outputId": "c6eb938f-3bbe-4736-919f-0f0250974d3d"
      },
      "execution_count": 13,
      "outputs": [
        {
          "output_type": "stream",
          "name": "stdout",
          "text": [
            "0  8793  3  ['рука в руку']['Взявшись за руки (гулять, идти).']\n",
            "0  8800  3  ['рука об руку']['То же, что <<рука в руку>> (в 1-м знач.).']\n",
            "0  8802  3  ['рука с рукой']['То же, что <<рука в руку>> (в 1-м знач.).']\n",
            "0  13706 0  ['Из рук в руки', 'Из рук в руки передать', 'Из рук в руки перейти'][' непосредственно от одного [b]к[/b] другому']\n",
            "2\n",
            "1  8794  1  ['рука зудит'] ['Кто-либо испытывает неодолимое желание рассчитаться с кем-либо, отомстить кому-либо.']\n",
            "1  8810  1  ['руки зудят'] ['То же, что <<руки зачесались>>.']\n",
            "1\n",
            "2  8800  3  ['рука об руку']['То же, что <<рука в руку>> (в 1-м знач.).']\n",
            "2  8802  3  ['рука с рукой']['То же, что <<рука в руку>> (в 1-м знач.).']\n",
            "2\n",
            "3  8801  1  ['рука руку моет']['Один покрывает другого в каких-либо неблаговидных делах, преступлениях.']\n",
            "3  13728 0  ['Рука руку моет', 'Рука руку моет и обе белы бывают'][' один другого покрывает в каких-либо нечестных делах']\n",
            "1\n",
            "4  8804  1  ['руками не разведёшь']['Легко не отделаешься от чего-либо.']\n",
            "4  16885 1  ['руки разведёшь'][]             \n",
            "2\n",
            "5  8809  2  ['руки зачесались']['Очень захотелось делать, сделать что-либо.']\n",
            "5  8820  3  ['руки чешутся']['Кто-либо испытывает острое желание побить кого-либо, подраться с кем-либо.']\n",
            "2\n",
            "6  8814  2  ['руки не отвалятся']['Не составит для кого-либо большого труда сделать что-либо; ничего не произойдёт с кем-либо, если он сделает что-либо.']\n",
            "6  8816  1  ['руки отваливаются', 'руки отвалились']['  Предельно устал от работы руками.']\n",
            "2\n",
            "7  8815  2  ['руки опускаются']['Совсем нет желания делать что-либо.']\n",
            "7  13729 0  ['Руки опустились', 'Руки отнялись'][' нет сил, желания у кого-либо делать что-либо']\n",
            "1\n",
            "8  8821  1  ['рукой достать']['Что-либо находится совсем близко, недалеко.']\n",
            "8  8822  3  ['рукой не достанешь']['Недоступен для простых смертных; занимает слишком высокое положение.']\n",
            "8  8823  1  ['рукой не достать']['  Недосягаем, недоступен для кого-либо. О человеке, занимающем высокое положение.']\n",
            "8  13730 0  ['Рукой не достать', 'Рукой не достанешь'][' о лице недоступном, занимающем высокое положение']\n",
            "2\n",
            "9  8822  3  ['рукой не достанешь']['Недоступен для простых смертных; занимает слишком высокое положение.']\n",
            "9  8823  1  ['рукой не достать']['  Недосягаем, недоступен для кого-либо. О человеке, занимающем высокое положение.']\n",
            "9  13730 0  ['Рукой не достать', 'Рукой не достанешь'][' о лице недоступном, занимающем высокое положение']\n",
            "1\n",
            "10 8823  1  ['рукой не достать']['  Недосягаем, недоступен для кого-либо. О человеке, занимающем высокое положение.']\n",
            "10 13730 0  ['Рукой не достать', 'Рукой не достанешь'][' о лице недоступном, занимающем высокое положение']\n",
            "2\n",
            "11 8825  2  ['рылом не вышел']['Не годится по своим качествам, способностям для чего-либо; не соответствует каким-либо требованиям.']\n",
            "11 16874 1  ['рожей не вышел'][]             \n",
            "2\n",
            "12 8826  2  ['рыльце в пуху']['Кто-либо причастен к неблаговидному поступку, действию, событию.']\n",
            "12 13745 0  ['рыльце в пуху', 'рыльце в пушку'][' о человеке, причастном к какому-либо неблаговидному делу']\n",
            "1\n",
            "13 8830  1  ['рыться в грязном белье']['Проявлять излишний интерес к теневым сторонам чьей-либо личной, интимной жизни или к неприглядным, скандальным подробностям чьих-либо взаимоотношений, чьей-либо деятельности и т. п.']\n",
            "13 11781 1  ['Рыться в грязном белье', 'Копаться в грязном белье'][' сплетничать, говорить о чужих интимных, не подлежащих огласке делах']\n",
            "1\n",
            "14 8831  2  ['рыться в памяти', 'Посадить в калошу']['Стараться вспомнить что-либо, о чём-либо.']\n",
            "14 12249 2  ['посадить в калошу'][' поставить в смешное, неловкое положение']\n",
            "14 12250 2  ['сесть в калошу'][' оказаться в неловком, смешном положении, потерпеть неудачу']\n",
            "14 16933 0  ['садиться в галошу'][]             \n",
            "14 18775 1  ['Порыться в памяти']['постараться вспомнить.']\n",
            "3\n",
            "1 5\n",
            "15 8836  2  ['рябит в глазах']['Быстро сменяясь, мелькает, пестрит при восприятии зрением.']\n",
            "15 13749 0  ['Рябь в глазах'][' ощущении пестроты, мелькающих то-чек, пятнышек перед глазами']\n",
            "1\n",
            "16 8841  2  ['с (от) младых ногтей', 'с (от) молодых ногтей']['  Смолоду, с детства.']\n",
            "16 16906 1  ['с молодых ногтей'][]             \n",
            "1\n",
            "17 8842  6  ['с маху', 'со всего маху']['Размахнувшись, со всей силы (ударить кого-либо).']\n",
            "17 13598 0  ['С размаха', 'С размаху', 'со всего размаха', 'со всего размаху']['размахнувшись ']\n",
            "17 16920 1  ['с размаха']  ['со всей силы, размахнувшись, наотмашь бить, ударять и т. п.']\n",
            "1\n",
            "18 8861  4  ['с ветерком'] ['Быстро, с большой скоростью (ехать, плыть и т. п.).']\n",
            "18 8863  1  ['с ветра']    ['Пришлый, чужой.']\n",
            "2\n",
            "19 8875  8  ['с головой']  ['Умный, толковый человек.']\n",
            "19 11680 0  ['С головы']   [' с каждого'] \n",
            "2\n",
            "20 8876  4  ['с головы до ног', 'с головы до самых ног']['То же, что <<с головы до пят>> (в 1-м знач.).']\n",
            "20 16893 0  ['с головы на ноги'][]             \n",
            "2\n",
            "21 8879  1  ['с голосом']  ['Имеющий влияние в обществе.']\n",
            "21 14926 1  ['в голос']    ['так громко, что всем слышно кричать, плакать и т. п.']\n",
            "21 18000 1  ['С голоса']   ['на слух, пользуясь слуховыми восприятиями.']\n",
            "2\n",
            "22 8881  2  ['с горем пополам']['С большим трудом, едва-едва.']\n",
            "22 8884  4  ['с грехом пополам']['Нечестно, обманным путём, неблаговидным способом.']\n",
            "2\n",
            "23 8886  5  ['с дороги']   ['Сразу же после поездки, путешествия.']\n",
            "23 14934 2  ['в дорогу']   ['в путешествие, в поход и т. п. отправляться, собираться и пр.']\n",
            "2\n",
            "24 8890  1  ['с души мутит']['Противно, нет сил терпеть, выносить и т. п.']\n",
            "24 18115 1  ['Душу мутит'] ['противно, отвратительно.']\n",
            "1\n",
            "25 8896  3  ['с закрытыми глазами']['Твёрдо зная по памяти.']\n",
            "25 16913 1  ['с открытыми глазами'][]             \n",
            "2\n",
            "26 8897  2  ['с замиранием сердца']['Испытывая сильное волнение при ожидании чего-либо, кого-либо.']\n",
            "26 8898  1  ['с замирающим сердцем']['Испытывая сильное волнение, трепет; в тревожном ожидании или в радостном предвкушении (делать что-либо).']\n",
            "1\n",
            "27 8901  2  ['с излишком'] ['Более, чем следует, чем нужно.']\n",
            "27 8930  2  ['с лишком']   ['Сверх какой-либо меры, с превышением.']\n",
            "1\n",
            "28 8913  2  ['с кашей съем']['Шум. Расправлюсь с кем-либо.']\n",
            "28 16899 1  ['с кашей съесть'][]             \n",
            "1\n",
            "29 8916  1  ['с копылов долой']['Кто-либо упал от сильного удара.']\n",
            "29 16900 1  ['с копыльев долой'][]             \n",
            "1\n",
            "30 8941  1  ['с молотка']  ['С публичного торга, аукциона (распродать, пустить в продажу и т. п.).']\n",
            "30 8942  1  ['с молоточка']['Только что сделанный, совершенно новенький.']\n",
            "2\n",
            "31 8947  2  ['с налёта', 'с налёту']['Налетев; набежав.']\n",
            "31 16907 1  ['с налёта']   []             \n",
            "1\n",
            "32 8959  0  ['с ноготком'] ['(Мамин-Сибиряк. Хлеб).']\n",
            "32 8960  5  ['с ноготок']  ['Совсем мало, ничтожное количество чего-либо.']\n",
            "2\n",
            "33 8961  2  ['с ножом к горлу пристать', 'С ножом к горлу', 'С ножом к горлу приставать']['  Настойчиво и бесцеремонно, неотступно (приставать, требуя чего-либо).']\n",
            "33 18532 1  ['С ножом к горлу']['крайне настойчиво, неотступно.']\n",
            "1\n",
            "34 8973  0  ['с открытым ртом']['Очень внимательно, с огромным интересом (слушать). С  (В. Астафьев. Последний поклон).']\n",
            "34 13682 0  ['Раскрыть рот', 'открыть рот']['заговорить, высказаться ']\n",
            "2\n",
            "35 8974  1  ['с пелён']    ['С раннего детства.']\n",
            "35 8975  2  ['с пелёнок']  ['С раннего детства.']\n",
            "35 13144 0  ['От пеленок', 'с пеленок'][' с раннего детства']\n",
            "1\n",
            "36 8975  2  ['с пелёнок']  ['С раннего детства.']\n",
            "36 13144 0  ['От пеленок', 'с пеленок'][' с раннего детства']\n",
            "2\n",
            "37 8982  2  ['с первого шага (шагу)']['С самого начала; сразу же.']\n",
            "37 8984  1  ['с первых шагов']['С самого начала какой-либо деятельности.']\n",
            "37 19406 1  ['Первый шаг', 'Первый шаг сделать']['взять на себя почин в чем-н., выступить первым']\n",
            "3\n",
            "1 2\n",
            "38 8984  1  ['с первых шагов']['С самого начала какой-либо деятельности.']\n",
            "38 19406 1  ['Первый шаг', 'Первый шаг сделать']['взять на себя почин в чем-н., выступить первым']\n",
            "2\n",
            "39 9000  2  ['с порога']   ['Сразу же после прихода в дом.']\n",
            "39 9001  1  ['с порохом']  ['О жизнерадостном, подвижном, пылком человеке.']\n",
            "39 9003  1  ['с потрохами']['Целиком, полностью, со всем, что есть.']\n",
            "39 9004  1  ['с потрохом'] ['То же, что <<с потрохами>>.']\n",
            "2\n",
            "40 9001  1  ['с порохом']  ['О жизнерадостном, подвижном, пылком человеке.']\n",
            "40 9003  1  ['с потрохами']['Целиком, полностью, со всем, что есть.']\n",
            "40 9004  1  ['с потрохом'] ['То же, что <<с потрохами>>.']\n",
            "2\n",
            "41 9002  4  ['с потолка']  ['Без достаточных оснований, данных; наобум.']\n",
            "41 13379 0  ['С потолка', 'С потолка взять', 'С потолка сказать'][' наобум, как в голову придет, без достаточных оснований']\n",
            "1\n",
            "42 9003  1  ['с потрохами']['Целиком, полностью, со всем, что есть.']\n",
            "42 9004  1  ['с потрохом'] ['То же, что <<с потрохами>>.']\n",
            "2\n",
            "43 9011  3  ['с пустыми руками']['Ничего не получив, не достав; ничего не имея при себе.']\n",
            "43 13547 0  ['С пустыми руками', 'С пустыми руками прийти', 'С пустыми руками явиться', 'С пустыми руками уйти'][' ничего не получив, ничего не имея']\n",
            "1\n",
            "44 9013  3  ['с пьяных глаз']['Будучи пьяным.']\n",
            "44 13568 0  ['С пьяных глаз', 'под пьяную руку', 'по пьяной лавочке', 'по пьяному делу'][' будучи в нетрезвом состоянии']\n",
            "1\n",
            "45 9014  4  ['с пятого на десятое']['Бессвязно, бестолково, непоследовательно (говорить, объяснять, сообщать).']\n",
            "45 13573 0  ['Из пятого в десятое', 'с пятого на десятое', 'пятое через десятое', 'пятое через десятое говорить', 'пятое через десятое рассказывать'][' беспорядочно, без связи, перепрыгивая с одного на другое']\n",
            "45 18066 2  ['из пятого в десятое']['беспорядочно, без связи, переходя непоследовательно от одного к другому.']\n",
            "1\n",
            "46 9015  1  ['с радостей'] ['То же, что <<на радости>>.']\n",
            "46 9016  1  ['с радостью'] ['Охотно (что-либо делать).']\n",
            "46 14970 1  ['в радость']  []             \n",
            "2\n",
            "47 9016  1  ['с радостью'] ['Охотно (что-либо делать).']\n",
            "47 14970 1  ['в радость']  []             \n",
            "2\n",
            "48 9017  2  ['с разбега', 'с разбегу']['Не останавливаясь, сохраняя инерцию движения; сразу же (делать что-либо).']\n",
            "48 16919 1  ['с разбега']  []             \n",
            "1\n",
            "49 9023  2  ['с рук']      ['От частных лиц, торговцев; не в магазине (покупать, продавать).']\n",
            "49 9025  1  ['с руками']   ['Мастеровой, умелец, способный самостоятельно что-либо делать.']\n",
            "49 9030  5  ['с руки']     ['Вполне подходит, устраивает кого-либо.']\n",
            "2\n",
            "\tlength: 48\n"
          ]
        }
      ]
    },
    {
      "cell_type": "code",
      "source": [
        "write_vars(new_vars)"
      ],
      "metadata": {
        "id": "Q0e_q1sr63Vm"
      },
      "execution_count": 14,
      "outputs": []
    },
    {
      "cell_type": "code",
      "source": [
        "new_vars, to_split = next_variants(2400, 2450)\n",
        "print('\\tength:', len(new_vars))"
      ],
      "metadata": {
        "colab": {
          "base_uri": "https://localhost:8080/"
        },
        "id": "0S3JgOE765Yb",
        "outputId": "95e87084-da8d-492d-ea14-d7898beef88e"
      },
      "execution_count": 16,
      "outputs": [
        {
          "output_type": "stream",
          "name": "stdout",
          "text": [
            "0  9025  1  ['с руками']   ['Мастеровой, умелец, способный самостоятельно что-либо делать.']\n",
            "0  9030  5  ['с руки']     ['Вполне подходит, устраивает кого-либо.']\n",
            "2\n",
            "1  9026  3  ['с руками и ногами']['Полностью, весь целиком.']\n",
            "1  13727 0  ['Руками и ногами', 'с руками и ногами', 'с руками-ногами']['охотно, с удовольствием ']\n",
            "2\n",
            "2  9027  1  ['с руками отнять']['Раскупить нарасхват, разобрать с большой охотой.']\n",
            "2  13729 0  ['Руки опустились', 'Руки отнялись'][' нет сил, желания у кого-либо делать что-либо']\n",
            "2\n",
            "3  9028  3  ['с руками оторвать']['Раскупить с большой охотой, нарасхват; охотно брать, принимать.']\n",
            "3  9029  2  ['с руками рвать']['Раскупать быстро, нарасхват.']\n",
            "1\n",
            "4  9035  2  ['с сердцем']  ['В гневе, сердито (сказать или сделать что-либо).']\n",
            "4  9036  5  ['с сердцов']  ['В порыве гнева, раздражения.']\n",
            "4  13839 2  ['в сердцах']  [' сердиться, гневаться, затаить гнев, обиду на кого-либо']\n",
            "4  13843 0  ['С сердцем', 'С сердцем сказать'][' гневно, сердито']\n",
            "3\n",
            "1 2 4\n",
            "5  9036  5  ['с сердцов']  ['В порыве гнева, раздражения.']\n",
            "5  13843 0  ['С сердцем', 'С сердцем сказать'][' гневно, сердито']\n",
            "2\n",
            "6  9039  1  ['с таким же успехом']['Так же безрезультатно, безуспешно.']\n",
            "6  14479 0  ['С тем же успехом', 'С таким же успехом'][' так же безрезультатно, безуспешно']\n",
            "6  16923 2  ['с тем же успехом']['с таким же результатом, точно так же.']\n",
            "1\n",
            "7  9042  1  ['с толстым карманом']['Очень богат, состоятелен кто-либо.']\n",
            "7  10051 3  ['толстый карман']['Кто-либо очень богат.']\n",
            "2\n",
            "8  9046  1  ['с тяжёлой рукой']['Имеет большую силу удара, сильно бьёт.']\n",
            "8  10154 2  ['тяжёлая рука']['О том, кто больно бьёт, наносит сильные удары.']\n",
            "2\n",
            "9  9049  5  ['с ума нейдёт']['  Навязчиво помнится, не забывается, беспокоит кто-либо или что-либо.']\n",
            "9  19263 1  ['Из ума нейдёт', 'не идти с ума']['не выходить из головы, не забываться.']\n",
            "1\n",
            "10 9051  1  ['с умной головы']['По глупости, по недомыслию.']\n",
            "10 14462 0  ['Умная голова'][' об умном, толковом человеке ']\n",
            "10 14901 1  ['буйная голова'][]             \n",
            "2\n",
            "11 9052  2  ['с умом']     ['Разумно, основываясь на здравом смысле (делать что-либо, поступать как-либо).']\n",
            "11 19269 1  ['С умом']     ['рассудительно, разумно, с пониманием.']\n",
            "1\n",
            "12 9053  1  ['с университетской скамьи']['Сразу же после окончания университета.']\n",
            "12 13880 0  ['Со школьной скамьи', 'С университетской скамьи'][' сразу по окончании школы (университета и т. п.)']\n",
            "1\n",
            "13 9057  2  ['с хвостиком']['С небольшим превышением. О возрасте.']\n",
            "13 9058  2  ['с хвостом']  ['С избытком, с лишком. О возрасте.']\n",
            "13 19318 1  ['В хвосте', 'В хвосте быть', 'В хвосте идти', 'В хвосте плестись']['на последнем месте вследствие медленной, неумелой и т. п. работы, отставая ото всех.']\n",
            "13 19322 2  ['С хвостиком']['с небольшой прибавкой.']\n",
            "3\n",
            "1 4\n",
            "14 9058  2  ['с хвостом']  ['С избытком, с лишком. О возрасте.']\n",
            "14 19318 1  ['В хвосте', 'В хвосте быть', 'В хвосте идти', 'В хвосте плестись']['на последнем месте вследствие медленной, неумелой и т. п. работы, отставая ото всех.']\n",
            "14 19322 2  ['С хвостиком']['с небольшой прибавкой.']\n",
            "2\n",
            "15 9061  2  ['с царём в голове']['Сообразителен, смышлён, очень умён.']\n",
            "15 10566 1  ['царь в голове']['Ум, разум; сообразительность.']\n",
            "15 19347 3  ['Царь в голове', 'С царем в голове', 'со своим царем в голове']['противоп. без царя в голове.']\n",
            "1\n",
            "16 9062  3  ['с цепи сорвался', 'как с цепи сорвался']['Кто-либо ведёт себя необузданно, дико.']\n",
            "16 14056 0  ['Как с цепи сорвался', 'Как с привязи сорвался', 'точно с цепи сорвался', 'точно с привязи сорвался', 'будто с цепи сорвался', 'будто с привязи сорвался', 'словно с цепи сорвался', 'словно с привязи сорвался'][' потеряв выдержку, самообладание начал действовать опрометчиво, не отдавая себе отчета в своих поступках']\n",
            "1\n",
            "17 9063  3  ['с часу на час']['В самое ближайшее время, вот-вот. О том, что, ожидается, что должно наступить.']\n",
            "17 19354 3  ['С часу на час']['о чем-н. ожидаемом, каждую минуту, в самое ближайшее время.']\n",
            "1\n",
            "18 9064  4  ['с чего взял', 'с чего ты взял?']['Почему так считает, думает, предполагает кто-либо, если для этого нет достаточных оснований.']\n",
            "18 10752 5  ['что взять']  ['О ничего не стоящем, глупом, легкомысленном или ненормальном человеке.']\n",
            "18 10802 2  ['что, взял']  ['Выражение чувства злорадства, торжества над чьей-либо неудачной попыткой сделать, предпринять что-либо.']\n",
            "2\n",
            "19 9068  1  ['с честью']   ['Так, как подобает, достойно. С  (Н. Жданов. Голубые огни).']\n",
            "19 9878  1  ['суд чести']  ['Общественный суд (обычно офицеров), рассматривающий поступки, роняющие достоинство совершившего их, несовместимые с представлением о чести (офицера).']\n",
            "19 19381 1  ['В честь']    ['в знак почтения, уважения к кому- чему- н.']\n",
            "19 19385 1  ['К чести', 'К чести служит']['является признаком чьего-н. достоинства, положительных свойств']\n",
            "2\n",
            "20 9070  2  ['с чистым сердцем']['С добрыми намерениями, без злого умысла, с полной откровенностью.']\n",
            "20 13840 0  ['От всего сердца', 'От чистого сердца'][' Совершенно искренне ']\n",
            "20 13842 0  ['С открытым сердцем', 'С чистым сердцем'][' искренне, откровенно']\n",
            "3\n",
            "1 3\n",
            "21 9079  2  ['садиться верхом', 'сесть верхом']['  Полностью подчинять своей воле, заставлять исполнять свои необузданные желания, капризы.']\n",
            "21 13851 0  ['Сесть верхом', 'сесть на голову'][' подчинить своей воле, бесцеремонно пользоваться мягкостью характера другого, заставляя выполнять свои желания, оказывать услуги и т. д.']\n",
            "1\n",
            "22 9082  3  ['садиться на голову', 'сесть на голову']['То же, что <<садиться верхом>>']\n",
            "22 9155  2  ['свалиться на голову']['Неожиданно, внезапно случиться, выпасть на долю кому-либо (обычно о чём-либо неприятном).']\n",
            "22 13851 0  ['Сесть верхом', 'сесть на голову'][' подчинить своей воле, бесцеремонно пользоваться мягкостью характера другого, заставляя выполнять свои желания, оказывать услуги и т. д.']\n",
            "2\n",
            "23 9083  2  ['садиться на землю', 'сесть на землю']['  Переходить к постоянной работе в сельском хозяйстве, к землепашеству.']\n",
            "23 9091  5  ['садиться на шею', 'сесть на шею']['Переходить на иждивение, содержание кого-либо.']\n",
            "2\n",
            "24 9084  2  ['садиться на мель', 'сесть на мель']['  Оказываться в затруднительном, тяжёлом положении.']\n",
            "24 16934 1  ['садиться на руль'][]             \n",
            "2\n",
            "25 9085  1  ['садиться на плечи', 'сесть на плечи']['  Неотступно преследовать противника, не давая ему возможности оторваться, уйти.']\n",
            "25 9154  2  ['сваливаться на плечи', 'свалиться на плечи']['  Становиться обременительной обязанностью кого-либо.']\n",
            "2\n",
            "26 9089  1  ['садиться на хлеб и воду', 'садиться на хлеб и на воду', 'сесть на хлеб и воду', 'сесть на хлеб и на воду']['  Начинать питаться самой простой, дешёвой пищей.']\n",
            "26 9364  1  ['сидеть на хлебе и воде']['Жить впроголодь.']\n",
            "2\n",
            "27 9096  2  ['сам бог послал']['Кому-то посчастливилось приобрести что-либо.']\n",
            "27 13362 0  ['Бог послал', 'Бог пошлет'][' о чем-либо случайно добытом или полученном']\n",
            "27 17391 1  ['чем бог послал'][]             \n",
            "2\n",
            "28 9098  2  ['сам в себе'] ['Мысленно, не произнося вслух.']\n",
            "28 9100  1  ['сам за себя']['Кто-либо заботится только о себе, беспокоится лишь о своем интересе, выгоде, безразличен к окружающим.']\n",
            "28 9102  1  ['сам не в себе']['Не в обычном для себя состоянии, чувствуя себя не так, как всегда. О состоянии сильного душевного расстройства.']\n",
            "28 9104  8  ['сам о себе', 'сам по себе']['Один, обособленно от других.']\n",
            "28 9105  1  ['сам про себя']['Один, без поддержки и помощи со стороны.']\n",
            "28 9109  4  ['сам собой', 'само собой']['Непроизвольно, без усилий.']\n",
            "28 13754 0  ['Сам по себе', 'сама по себе', 'само по себе']['самостоятельно ']\n",
            "28 13755 0  ['Сам собой', 'сама собой', 'само собой'][' непроизвольно, невольно']\n",
            "28 13760 2  ['само собой', 'само собой разумеется'][' ясно, безусловно, конечно']\n",
            "28 15838 1  ['как само собою разумеющееся'][]             \n",
            "28 18973 1  ['Сам собою', 'Сама собою', 'само собою']['совершенно самостоятельно, без вмешательства, без особых усилий.']\n",
            "2\n",
            "29 9100  1  ['сам за себя']['Кто-либо заботится только о себе, беспокоится лишь о своем интересе, выгоде, безразличен к окружающим.']\n",
            "29 9104  8  ['сам о себе', 'сам по себе']['Один, обособленно от других.']\n",
            "29 9105  1  ['сам про себя']['Один, без поддержки и помощи со стороны.']\n",
            "29 13754 0  ['Сам по себе', 'сама по себе', 'само по себе']['самостоятельно ']\n",
            "2\n",
            "30 9103  8  ['сам не свой']['Потерял душевное равновесие, расстроен, взволнован.']\n",
            "30 13801 0  ['Сам не свой', 'сама не своя'][' о ком-либо, потерявшем душевное равновесие, самообладание']\n",
            "1\n",
            "31 9104  8  ['сам о себе', 'сам по себе']['Один, обособленно от других.']\n",
            "31 9105  1  ['сам про себя']['Один, без поддержки и помощи со стороны.']\n",
            "31 9109  4  ['сам собой', 'само собой']['Непроизвольно, без усилий.']\n",
            "31 13754 0  ['Сам по себе', 'сама по себе', 'само по себе']['самостоятельно ']\n",
            "31 13755 0  ['Сам собой', 'сама собой', 'само собой'][' непроизвольно, невольно']\n",
            "31 13760 2  ['само собой', 'само собой разумеется'][' ясно, безусловно, конечно']\n",
            "31 15838 1  ['как само собою разумеющееся'][]             \n",
            "31 18973 1  ['Сам собою', 'Сама собою', 'само собою']['совершенно самостоятельно, без вмешательства, без особых усилий.']\n",
            "2\n",
            "32 9105  1  ['сам про себя']['Один, без поддержки и помощи со стороны.']\n",
            "32 13754 0  ['Сам по себе', 'сама по себе', 'само по себе']['самостоятельно ']\n",
            "2\n",
            "33 9106  6  ['сам с усам', 'сами с усами']['  Нисколько не хуже, не глупее других.']\n",
            "33 13759 0  ['Сами с усами', 'сам с усам'][' сами (сам) не хуже, не глупее других']\n",
            "1\n",
            "34 9107  2  ['сам себе голова']['Совершенно независимый, самостоятельный человек, который волен поступать так, как ему хочется.']\n",
            "34 13756 0  ['Сам себе голова', 'Сам себе хозяин', 'Сам себе господин'][' о полной самостоятельности, независимости кого-либо']\n",
            "1\n",
            "35 9108  2  ['сам себе хозяин']['То же, что <<сам себе голова>>.']\n",
            "35 13756 0  ['Сам себе голова', 'Сам себе хозяин', 'Сам себе господин'][' о полной самостоятельности, независимости кого-либо']\n",
            "2\n",
            "36 9109  4  ['сам собой', 'само собой']['Непроизвольно, без усилий.']\n",
            "36 13755 0  ['Сам собой', 'сама собой', 'само собой'][' непроизвольно, невольно']\n",
            "36 13760 2  ['само собой', 'само собой разумеется'][' ясно, безусловно, конечно']\n",
            "36 15838 1  ['как само собою разумеющееся'][]             \n",
            "36 18973 1  ['Сам собою', 'Сама собою', 'само собою']['совершенно самостоятельно, без вмешательства, без особых усилий.']\n",
            "3\n",
            "1 2 5\n",
            "37 9110  2  ['сам чёрт не брат']['Всё нипочём, ничего не стоит. О чьей-либо крайней смелости, независимости в делах, действиях, поступках.']\n",
            "37 10705 2  ['чёрту не брат', 'чёрт не брат']['Лихой, бравый, бойкий человек.']\n",
            "37 16940 1  ['сам чёрт не разберёт'][]             \n",
            "3\n",
            "1 2\n",
            "38 9117  2  ['само собой (собою)', 'само собой (собою) разумеется']['Безусловно, несомненно.']\n",
            "38 13760 2  ['само собой', 'само собой разумеется'][' ясно, безусловно, конечно']\n",
            "38 15838 1  ['как само собою разумеющееся'][]             \n",
            "1\n",
            "39 9133  4  ['сбивать с ног', 'сбить с ног']['Обескураживать кого-либо, лишать уверенности, убеждённости в чём-либо.']\n",
            "39 9140  5  ['сбиваться с ног', 'сбиться с ног']['  Хлопотать до изнеможения (стремясь сделать что-либо или в поисках кого-либо, чего-либо); сильно уставать от хлопот, беготни.']\n",
            "39 9929  1  ['сшибать с ног', 'сшибить с ног']['  Сильным ударом, толчком свалить кого-либо.']\n",
            "2\n",
            "40 9135  2  ['сбивать с пахвей', 'сбить с пахвей', 'сбиваться с пахвей', 'сбиться с пахвей']['  Приводить в замешательство, запутывать, вызывать состояние растерянности.']\n",
            "40 9930  1  ['сшибать с пахвей', 'сшибить с пахвей']['  Привести в замешательство, в растерянность.']\n",
            "40 18633 1  ['Сбить с пахвей', 'Сбиться с пахвей']['сбить, сбиться с толку.']\n",
            "1\n",
            "41 9136  4  ['сбивать с пути', 'сбить с пути', 'сбиваться с пути', 'сбиться с пути']['  Отрицательно влияя на кого-либо, изменять поведение в плохую сторону.']\n",
            "41 9204  1  ['свихнуться с пути']['Изменить своё поведение в плохую сторону, вести предосудительный образ жизни.']\n",
            "41 13558 0  ['Сбить с пути', 'Сбить с пути истинного', 'совлечь с пути', 'совлечь с пути истинного', 'совратить с пути', 'совратить с пути истинного'][' заставить отступить от верных мыслей, убеждений, толкнуть на что-либо дурное']\n",
            "41 13559 0  ['Сбиться с пути', 'Сбиться с пути истинного', 'совратиться с пути', 'совратиться с пути истинного'][' склониться к ложным убеждениям, начать вести предосудительный образ жизни, заняться дурными, предосудительными делами']\n",
            "41 14008 0  ['Совращать с пути истинного'][' подбивать кого-либо на незаконное дело, на совершение безнравственного поступка']\n",
            "3\n",
            "1 3 4\n",
            "42 9139  1  ['сбиваться с круга', 'сбиться с круга']['  Изменять свое поведение в плохую сторону, начинать вести предосудительный образ жизни.']\n",
            "42 19095 1  ['Спиться с кругу']['спившись, окончательно опуститься.']\n",
            "2\n",
            "43 9143  4  ['сбрасывать маску', 'сбросить маску']['  Переставать прикидываться кем-либо или чем-либо, показывая свою истинную сущность.']\n",
            "43 9667  4  ['сорвать маску', 'срывать маску']['  Разоблачать, показывать настоящее лицо, истинную сущность.']\n",
            "2\n",
            "44 9145  1  ['сбрасывать со счетов (счёта)', 'сбросить со счетов (счёта)']['  Переставать принимать всерьёз.']\n",
            "44 14224 0  ['Сбросить со счетов'][' перестать считаться с кем-либо, принимать во внимание кого-либо, что-либо']\n",
            "44 16951 0  ['сбрасывать со счёта'][]             \n",
            "44 16952 1  ['сбрасывать со счетов'][]             \n",
            "1\n",
            "45 9146  1  ['сбрендить с ума']['Перестать осознавать свои действия, совершая безрассудные поступки; говорить глупости.']\n",
            "45 9147  1  ['сбрести с ума']['То же, что <<сбрендить с ума>>.']\n",
            "2\n",
            "46 9149  3  ['сбывать с рук', 'сбыть с рук']['Продавать залежалый товар.']\n",
            "46 9351  2  ['сживать с рук', 'сжить с рук']['  Освобождаться от кого-либо, от чего-либо, причиняющих беспокойство, докучные хлопоты, заботы.']\n",
            "46 9709  1  ['спихивать с рук', 'спихнуть с рук']['  Избавляться от забот, попечения о ком-либо.']\n",
            "46 14081 0  ['Спихнуть на руки', 'Спихнуть на шею', 'Спихнуть на плечи'][' навязать кому-либо, стараясь избавиться от кого-либо, чего-либо']\n",
            "2\n",
            "47 9153  3  ['сваливать с плеч', 'свалить с плеч', 'сваливаться с плеч', 'свалиться с плеч']['  Освобождаться от чего-либо трудного, обременительного.']\n",
            "47 9154  2  ['сваливаться на плечи', 'свалиться на плечи']['  Становиться обременительной обязанностью кого-либо.']\n",
            "2\n",
            "48 9155  2  ['свалиться на голову']['Неожиданно, внезапно случиться, выпасть на долю кому-либо (обычно о чём-либо неприятном).']\n",
            "48 13851 0  ['Сесть верхом', 'сесть на голову'][' подчинить своей воле, бесцеремонно пользоваться мягкостью характера другого, заставляя выполнять свои желания, оказывать услуги и т. д.']\n",
            "2\n",
            "49 9157  1  ['свернуть башку']['Убить кого-либо. Обычно употребляется как угроза.']\n",
            "49 9162  1  ['свернуть себе башку']['То же, что <<свернуть себе шею>>.']\n",
            "2\n",
            "\tength: 21\n"
          ]
        }
      ]
    },
    {
      "cell_type": "code",
      "source": [
        "new_vars.extend(next_variants(2450, 2500)[0])\n",
        "print('\\tlength:', len(new_vars))"
      ],
      "metadata": {
        "colab": {
          "base_uri": "https://localhost:8080/"
        },
        "id": "qP1_BikP65Yc",
        "outputId": "0a400e43-bc55-4189-ed52-9589d015cf38"
      },
      "execution_count": 17,
      "outputs": [
        {
          "output_type": "stream",
          "name": "stdout",
          "text": [
            "0  9158  0  ['свернуть голову']['(Ф. Решетников. Ставленник).']\n",
            "0  9160  1  ['свернуть горы', 'сворачивать горы']['  Делать большое дело, требующее чрезвычайных усилий.']\n",
            "0  13771 2  ['свернуть голову', 'свернуть шею']['убить (птицу, животное), круто поворачивая шею или отрубая голову ']\n",
            "3\n",
            "1 3\n",
            "1  9160  1  ['свернуть горы', 'сворачивать горы']['  Делать большое дело, требующее чрезвычайных усилий.']\n",
            "1  13771 2  ['свернуть голову', 'свернуть шею']['убить (птицу, животное), круто поворачивая шею или отрубая голову ']\n",
            "2\n",
            "2  9164  1  ['свернуть шею']['(Вс. Вишневский. Мы, русский народ).']\n",
            "2  13771 2  ['свернуть голову', 'свернуть шею']['убить (птицу, животное), круто поворачивая шею или отрубая голову ']\n",
            "1\n",
            "3  9168  3  ['свести в могилу', 'сводить в могилу']['  Доводить до смерти.']\n",
            "3  9633  5  ['сойти в могилу', 'сходить в могилу']['  Умирать.'] \n",
            "2\n",
            "4  9169  2  ['свести к нулю', 'сводить к нулю']['  Лишать всякого смысла, значения.']\n",
            "4  16959 1  ['сводиться к нулю'][]             \n",
            "2\n",
            "5  9171  3  ['свести на нет', 'сводить на нет', 'свестись на нет', 'сводиться на нет']['  Неудачными, неумелыми действиями лишать всякого смысла, значения какое-либо дело.']\n",
            "5  9635  3  ['сойти на нет', 'сходить на нет']['  Постепенно уменьшаясь, исчезать полностью, бесследно, без остатка.']\n",
            "2\n",
            "6  9172  1  ['свести на одну доску', 'сводить на одну доску']['  Приравнивать, уподоблять кого-либо кому-либо в каком-либо отношении.']\n",
            "6  9823  3  ['стоять на одной доске']['Иметь одинаковое значение; быть равным в чём-либо основном, главном.']\n",
            "2\n",
            "7  9174  7  ['свести с ума', 'сводить с ума']['Приводить в состояние сильного волнения, раздражения; лишать способности здраво рассуждать.']\n",
            "7  9646  5  ['сойти с ума', 'сходить с ума']['Становиться сумасшедшим.']\n",
            "7  10433 0  ['ходить с сумой']['Нищенствовать, побираться  (Ю. Нагибин. Трудный путь).']\n",
            "7  19268 4  ['Сойти с ума', 'спятить с ума', 'свихнуть с ума', 'своротить с ума', 'спрыгнуть с ума']['стать сумасшедшим, помешанным, лишиться разума, рассудка.']\n",
            "7  19270 1  ['Сходить с ума']['очень увлекаться кем- чем-н., быть в восторге, восхищении откого- чего-н.']\n",
            "2\n",
            "8  9176  9  ['свести счёты', 'сводить счёты']['Производить взаимные денежные расчёты, рассчитываться с кем-либо.']\n",
            "8  13773 0  ['Свести счеты']['произвести взаимные денежные расчеты ']\n",
            "8  18987 1  ['Свести счеты с']['взаимные расчеты;']\n",
            "1\n",
            "9  9182  1  ['свет клином сошёлся']['Единственный, исключительный; таких больше нет.']\n",
            "9  12296 0  ['свет клином сошелся', 'свет клином не сошелся'][' о том, кто или что (не) является единственно желаемым, приемлемым или единственно возможным при каком-либо выборе']\n",
            "9  16958 3  ['свет не клином сошёлся', 'свет не клином сошелся']['простору много, есть еще место кроме этого;']\n",
            "1\n",
            "10 9186  1  ['свет с овчинку покажется']['Кому-либо станет невыносимо, тяжело, плохо, страшно.']\n",
            "10 18488 2  ['небо с овчинку (показалось)', 'небо с овчинку показалось (покажется)']['о состоянии крайнего страха, отчаяния.']\n",
            "2\n",
            "11 9201  2  ['свихнуть с ума', 'свихнуться с ума']['Вести себя безрассудно, утратить способность соображать.']\n",
            "11 9204  1  ['свихнуться с пути']['Изменить своё поведение в плохую сторону, вести предосудительный образ жизни.']\n",
            "11 13559 0  ['Сбиться с пути', 'Сбиться с пути истинного', 'совратиться с пути', 'совратиться с пути истинного'][' склониться к ложным убеждениям, начать вести предосудительный образ жизни, заняться дурными, предосудительными делами']\n",
            "11 14008 0  ['Совращать с пути истинного'][' подбивать кого-либо на незаконное дело, на совершение безнравственного поступка']\n",
            "11 19268 4  ['Сойти с ума', 'спятить с ума', 'свихнуть с ума', 'своротить с ума', 'спрыгнуть с ума']['стать сумасшедшим, помешанным, лишиться разума, рассудка.']\n",
            "11 19270 1  ['Сходить с ума']['очень увлекаться кем- чем-н., быть в восторге, восхищении откого- чего-н.']\n",
            "3\n",
            "1 5\n",
            "12 9202  1  ['свихнуть себе шею', 'свихнуть шею']['Потерпеть полный провал в чём-либо.']\n",
            "12 9710  0  ['спихивать с шеи', 'спихнуть с шеи']['  (Гончаров. Обыкновенная история).']\n",
            "12 14081 0  ['Спихнуть на руки', 'Спихнуть на шею', 'Спихнуть на плечи'][' навязать кому-либо, стараясь избавиться от кого-либо, чего-либо']\n",
            "12 19422 1  ['Сломать себе шею', 'Сломить себе шею', 'Свихнуть себе шею']['потерпеть неудачу в чем-н., погибнуть из-за чего-н.']\n",
            "2\n",
            "13 9204  1  ['свихнуться с пути']['Изменить своё поведение в плохую сторону, вести предосудительный образ жизни.']\n",
            "13 13559 0  ['Сбиться с пути', 'Сбиться с пути истинного', 'совратиться с пути', 'совратиться с пути истинного'][' склониться к ложным убеждениям, начать вести предосудительный образ жизни, заняться дурными, предосудительными делами']\n",
            "13 14008 0  ['Совращать с пути истинного'][' подбивать кого-либо на незаконное дело, на совершение безнравственного поступка']\n",
            "2\n",
            "14 9212  2  ['своею (собственною) особою']['Лично сам.'] \n",
            "14 13069 0  ['Своей (собственной) особой'][' лично, сам']\n",
            "14 13174 0  ['(Своей) собственной персоной'][' сам, лично']\n",
            "14 13998 0  ['Собственной персоной', 'Собственной особой'][' лично, сам ']\n",
            "1\n",
            "15 9219  2  ['своими руками']['Сам, самолично.']\n",
            "15 9230  2  ['своя рука']  ['Свой человек, готовый помочь, посодействовать в чём-либо.']\n",
            "2\n",
            "16 9220  2  ['своими словами']['Не следуя буквально, дословно тексту, а только передавая по-своему его содержание.']\n",
            "16 9587  1  ['со слов']    ['Основываясь на устном заявлении, сообщении, высказывании кого-либо.']\n",
            "16 13800 0  ['своими словами', 'Рассказать своими словами'][' передавая общий смысл, не придерживаясь точных выражений (прочитанного, услышанного)']\n",
            "3\n",
            "1 3\n",
            "17 9221  3  ['своими собственными ушами', 'своими ушами']['Лично, самому (услышать).']\n",
            "17 13069 0  ['Своей (собственной) особой'][' лично, сам']\n",
            "17 13174 0  ['(Своей) собственной персоной'][' сам, лично']\n",
            "17 13998 0  ['Собственной персоной', 'Собственной особой'][' лично, сам ']\n",
            "2\n",
            "18 9222  3  ['своих не узнает', 'своих не узнаешь']['  Угроза побить, наказать кого-либо.']\n",
            "18 13803 0  ['Своих не узнаешь', 'Своих не узнает'][' употребляется в выражениях, заключающих угрозу расправиться с кем-либо']\n",
            "1\n",
            "19 9225  1  ['свой глаз']  ['Близкий, родной человек, способный надёжно оберегать, охранять что-либо, следить за чем-либо.']\n",
            "19 16961 1  ['своими глазами'][]             \n",
            "2\n",
            "20 9228  3  ['своротить с ума']['Становиться сумасшедшим.']\n",
            "20 19268 4  ['Сойти с ума', 'спятить с ума', 'свихнуть с ума', 'своротить с ума', 'спрыгнуть с ума']['стать сумасшедшим, помешанным, лишиться разума, рассудка.']\n",
            "20 19270 1  ['Сходить с ума']['очень увлекаться кем- чем-н., быть в восторге, восхищении откого- чего-н.']\n",
            "2\n",
            "21 9234  2  ['связать руки', 'связывать руки']['  Лишать возможности действовать, поступать свободно, независимо.']\n",
            "21 13732 0  ['Связать руки', 'связать по рукам и ногам', 'спутать по рукам и ногам'][' лишить возможности действовать свободно; стеснить кого-либо']\n",
            "21 17680 0  ['связанный по рукам и ногам'][]             \n",
            "1\n",
            "22 9235  2  ['связать язык', 'связывать язык']['  Не давать возможности непринуждённо, без стеснения говорить.']\n",
            "22 13589 0  ['Развязать язык', 'Развязать языки']['побудить, заставить разговориться, или заставить рассказать, сообщить секрет, тайну ']\n",
            "2\n",
            "23 9238  1  ['святая душа']['Высоконравственный, чистый и непорочный, безупречный во всех отношениях человек.']\n",
            "23 9245  2  ['святой дух'] ['Третье лицо Троицы в христианском учении.']\n",
            "23 9247  2  ['святым духом']['Неизвестно каким образом, случайно; само собой.']\n",
            "2\n",
            "24 9245  2  ['святой дух'] ['Третье лицо Троицы в христианском учении.']\n",
            "24 9247  2  ['святым духом']['Неизвестно каким образом, случайно; само собой.']\n",
            "2\n",
            "25 9248  1  ['святых вон уноси', 'святых уноси', 'хоть святых вон уноси', 'хоть святых уноси']['Нет больше сил, возможностей терпеть что-либо.']\n",
            "25 10520 4  ['хоть святых вон выноси', 'хоть святых выноси']['Невозможно, невыносимо, стыдно терпеть что-либо.']\n",
            "25 13809 0  ['Хоть святых выноси', 'Хоть святых неси', 'Хоть святых вон выноси', 'Хоть святых вон неси'][' о чем-либо ужасном, невыносимом для зрения или слуха.']\n",
            "1\n",
            "26 9249  1  ['сгибать голову', 'согнуть голову']['  Угождать, льстить кому-либо, заискивать перед кем-либо.']\n",
            "26 9553  5  ['снимать голову', 'снять голову']['Строго наказывать кого-либо за что-либо.']\n",
            "26 13930 0  ['сломать шею', 'сломить шею', 'сломать себе шею', 'сломать голову', 'сломать себе голову', 'сломить себе шею', 'сломить голову', 'сломить себе голову'][' разбиться, искалечиться, погибнуть']\n",
            "26 19422 1  ['Сломать себе шею', 'Сломить себе шею', 'Свихнуть себе шею']['потерпеть неудачу в чем-н., погибнуть из-за чего-н.']\n",
            "2\n",
            "27 9254  0  ['сгонять семь потов']['  Изнурять тяжёлой работой.']\n",
            "27 9628  2  ['согнать семь потов', 'Согнать семь потом']['  Изнурять тяжёлой работой.']\n",
            "1\n",
            "28 9255  2  ['сгонять со света', 'согнать со света']['  Создавать невыносимые условия жизни кому-либо, изводить кого-либо, доводить до смерти кого-либо.']\n",
            "28 13783 0  ['Сжить со света', 'Сжить со свету', 'согнать со света', 'согнать со свету'][' уморить, погубить']\n",
            "1\n",
            "29 9265  4  ['сдвинуть с места', 'сдвинуть воз с места']['Заставить кого-либо начать действовать, вывести его из застоя.']\n",
            "29 9266  3  ['сдвинуться с места']['Начать действовать, выйти из застоя. О людях.']\n",
            "29 16235 1  ['не двигаться с места'][]             \n",
            "2\n",
            "30 9266  3  ['сдвинуться с места']['Начать действовать, выйти из застоя. О людях.']\n",
            "30 16235 1  ['не двигаться с места'][]             \n",
            "2\n",
            "31 9276  3  ['сделать первый шаг', 'делать первый шаг']['Приступить к чему-либо, начать делать что-либо.']\n",
            "31 15366 0  ['делать первые шаги'][]             \n",
            "1\n",
            "32 9283  2  ['сдержать себя', 'сдерживать себя'][' Не позволять себе какие-либо действия; не проявлять своих чувств, настроений.']\n",
            "32 16527 0  ['переживать себя']['о ком-либо; сохранять своё значение и после смерти, оставаться в благодарной памяти людей']\n",
            "2\n",
            "33 9296  5  ['семи пядей во лбу']['Очень умный.']\n",
            "33 14899 1  ['будь семь пядей во лбу'][]             \n",
            "2\n",
            "34 9299  2  ['семь вёрст до небес', 'семь вёрст до небес и все лесом', 'сто вёрст до небес и все лесом'][' Очень много наговорить, наобещать.']\n",
            "34 16980 1  ['семь вёрст до небес'][]             \n",
            "1\n",
            "35 9300  2  ['семь потов сойдёт']['  О затрате больших усилий, труда (обычно на тяжёлой работе).']\n",
            "35 9301  3  ['семь потов сошло']['  О затрате больших усилий, труда (обычно на тяжёлой работе).']\n",
            "35 18786 0  ['Семь потов сошло с']['изнурился на тяжелой работе.']\n",
            "1\n",
            "36 9301  3  ['семь потов сошло']['  О затрате больших усилий, труда (обычно на тяжёлой работе).']\n",
            "36 18786 0  ['Семь потов сошло с']['изнурился на тяжелой работе.']\n",
            "2\n",
            "37 9302  2  ['семь пятниц на неделе']['Кто-либо непостоянен в своих решениях, настроениях, часто и легко меняет свои мнения, суждения, оценки.']\n",
            "37 13830 0  ['Семь пятниц на неделе', 'на дню семь пятниц'][' о том, кто часто меняет свои решения, мнения']\n",
            "1\n",
            "38 9307  3  ['сердце берёт', 'сердце взяло']['  Кто-либо злится, сердится, гневается на кого-либо.']\n",
            "38 9329  1  ['сердце обмерло', 'сердце обмирает']['  Кто-либо цепенеет под влиянием сильного неприятного чувства, потрясения.']\n",
            "38 18139 1  ['Сердце жмет']['чувствуется боль в сердце от страдания, грусти.']\n",
            "2\n",
            "39 9308  3  ['сердце болит']['Кто-либо чувствует тревогу, беспокойство, испытывает душевное страдание.']\n",
            "39 13844 0  ['Сердце болит', 'Сердце щемит', 'Сердце ноет', 'Сердце сжалось'][' о состоянии тревоги, тоски, грусти']\n",
            "1\n",
            "40 9313  3  ['сердце ёкает', 'сердце ёкает в груди', 'сердце ёкнуло', 'сердце ёкнуло в груди']['  Кто-либо испытывает мгновенный страх, неожиданную тревогу, плохое предчувствие, необъяснимое волнение.']\n",
            "40 18139 1  ['Сердце жмет']['чувствуется боль в сердце от страдания, грусти.']\n",
            "2\n",
            "41 9315  2  ['сердце закипело', 'сердце кипит']['  Кто-либо испытывает страстное желание; кого-либо переполняет гнев, возмущение, обида, раздражение и т. п.']\n",
            "41 9316  3  ['сердце замерло', 'сердце замирает']['Кто-либо испытывает глубокую тоску, печаль или сильный страх, плохое предчувствие в связи с чем-либо.']\n",
            "41 9329  1  ['сердце обмерло', 'сердце обмирает']['  Кто-либо цепенеет под влиянием сильного неприятного чувства, потрясения.']\n",
            "2\n",
            "42 9316  3  ['сердце замерло', 'сердце замирает']['Кто-либо испытывает глубокую тоску, печаль или сильный страх, плохое предчувствие в связи с чем-либо.']\n",
            "42 9329  1  ['сердце обмерло', 'сердце обмирает']['  Кто-либо цепенеет под влиянием сильного неприятного чувства, потрясения.']\n",
            "2\n",
            "43 9317  4  ['сердце заныло', 'сердце ноет']['Кто-либо испытывает гнетущую тоску, душевную боль; у кого-либо тяжело на душе.']\n",
            "43 9322  2  ['сердце изнывает', 'сердце изныло']['  Кто-либо страдает, мучится, томится от тоски, душевной боли и т. п.']\n",
            "43 13844 0  ['Сердце болит', 'Сердце щемит', 'Сердце ноет', 'Сердце сжалось'][' о состоянии тревоги, тоски, грусти']\n",
            "1\n",
            "44 9319  4  ['сердце заходится', 'сердце зашлось']['Кто-либо испытывает сильные неприятные ощущения или тоску, страх, ужас.']\n",
            "44 9339  1  ['сердце расходилось']['Кто-либо очень взволнован, возбуждён.']\n",
            "2\n",
            "45 9321  2  ['сердце защемило', 'сердце щемит']['  Кто-либо испытывает чувство гнетущей тоски.']\n",
            "45 13844 0  ['Сердце болит', 'Сердце щемит', 'Сердце ноет', 'Сердце сжалось'][' о состоянии тревоги, тоски, грусти']\n",
            "1\n",
            "46 9325  1  ['сердце надрывается']['Кто-либо испытывает чувство острой тоски, жалости, душевное страдание.']\n",
            "46 9330  3  ['сердце оборвалось', 'сердце обрывается', 'сердце оторвалось', 'сердце отрывается']['  Кто-либо внезапно чувствует страх, тревогу, испуг.']\n",
            "46 9336  1  ['сердце радуется']['Приятно (смотреть на что-либо, узнать что-либо и т. п.) —  (А. К. Толстой. Князь Серебряный).']\n",
            "46 13627 0  ['Сердце рвется', 'душа рвется', 'Сердце рвется на части', 'душа рвется на части'][' о сильном переживании, страдании, испытываемом кем-либо']\n",
            "46 13848 0  ['Сердце оборвалось', 'Сердце упало'][' о внезапном ощущении сильной тревоги или испуга']\n",
            "46 16985 0  ['сердце разрывается'][]             \n",
            "46 18893 1  ['Душа разрывается', 'сердце разрывается']['о скорби, вызываемой чувством жалости, состраданием чьей- н. беде.']\n",
            "46 19276 1  ['Сердце упало']['кто-н. проникся страхом, отчаянием или унынием.']\n",
            "2\n",
            "47 9327  2  ['сердце не на месте', 'сердце не на своём месте']['  Кто-либо обеспокоен чем-либо, опасается чего-либо.']\n",
            "47 12702 1  ['сердце не на месте', 'душа не на месте'][' о чувстве тревоги, сильного беспокойства']\n",
            "1\n",
            "48 9330  3  ['сердце оборвалось', 'сердце обрывается', 'сердце оторвалось', 'сердце отрывается']['  Кто-либо внезапно чувствует страх, тревогу, испуг.']\n",
            "48 13627 0  ['Сердце рвется', 'душа рвется', 'Сердце рвется на части', 'душа рвется на части'][' о сильном переживании, страдании, испытываемом кем-либо']\n",
            "48 13848 0  ['Сердце оборвалось', 'Сердце упало'][' о внезапном ощущении сильной тревоги или испуга']\n",
            "48 16985 0  ['сердце разрывается'][]             \n",
            "48 18893 1  ['Душа разрывается', 'сердце разрывается']['о скорби, вызываемой чувством жалости, состраданием чьей- н. беде.']\n",
            "48 19276 1  ['Сердце упало']['кто-н. проникся страхом, отчаянием или унынием.']\n",
            "3\n",
            "1 3 6\n",
            "49 9333  1  ['сердце падает', 'сердце упало']['  Кто-либо чувствует уныние, тоску, тревогу.']\n",
            "49 13848 0  ['Сердце оборвалось', 'Сердце упало'][' о внезапном ощущении сильной тревоги или испуга']\n",
            "49 18618 1  ['Сердце падает у']['кто- н. проникается страхом, отчаянием, унынием.']\n",
            "49 19276 1  ['Сердце упало']['кто-н. проникся страхом, отчаянием или унынием.']\n",
            "1\n",
            "\tlength: 43\n"
          ]
        }
      ]
    },
    {
      "cell_type": "code",
      "source": [
        "write_vars(new_vars)"
      ],
      "metadata": {
        "id": "rQ5fhswI65Yd"
      },
      "execution_count": 18,
      "outputs": []
    },
    {
      "cell_type": "code",
      "source": [
        "new_vars, to_split = next_variants(2500, 2550)\n",
        "print('\\tength:', len(new_vars))"
      ],
      "metadata": {
        "colab": {
          "base_uri": "https://localhost:8080/"
        },
        "id": "yAoZ5Hv3pVxQ",
        "outputId": "a002401b-4041-4250-cc6f-e9d882dc5027"
      },
      "execution_count": 19,
      "outputs": [
        {
          "output_type": "stream",
          "name": "stdout",
          "text": [
            "0  9336  1  ['сердце радуется']['Приятно (смотреть на что-либо, узнать что-либо и т. п.) —  (А. К. Толстой. Князь Серебряный).']\n",
            "0  13627 0  ['Сердце рвется', 'душа рвется', 'Сердце рвется на части', 'душа рвется на части'][' о сильном переживании, страдании, испытываемом кем-либо']\n",
            "0  13848 0  ['Сердце оборвалось', 'Сердце упало'][' о внезапном ощущении сильной тревоги или испуга']\n",
            "0  16985 0  ['сердце разрывается'][]             \n",
            "0  18893 1  ['Душа разрывается', 'сердце разрывается']['о скорби, вызываемой чувством жалости, состраданием чьей- н. беде.']\n",
            "0  19276 1  ['Сердце упало']['кто-н. проникся страхом, отчаянием или унынием.']\n",
            "2\n",
            "1  9338  3  ['сердце растаяло', 'сердце тает']['. Кто-либо смягчается, приходит в умиление.']\n",
            "1  18139 1  ['Сердце жмет']['чувствуется боль в сердце от страдания, грусти.']\n",
            "2\n",
            "2  9341  3  ['сердце сжалось', 'сердце сжимается']['  У кого-либо становится очень тяжело, горько, грустно на душе.']\n",
            "2  13844 0  ['Сердце болит', 'Сердце щемит', 'Сердце ноет', 'Сердце сжалось'][' о состоянии тревоги, тоски, грусти']\n",
            "1\n",
            "3  9351  2  ['сживать с рук', 'сжить с рук']['  Освобождаться от кого-либо, от чего-либо, причиняющих беспокойство, докучные хлопоты, заботы.']\n",
            "3  9709  1  ['спихивать с рук', 'спихнуть с рук']['  Избавляться от забот, попечения о ком-либо.']\n",
            "3  14081 0  ['Спихнуть на руки', 'Спихнуть на шею', 'Спихнуть на плечи'][' навязать кому-либо, стараясь избавиться от кого-либо, чего-либо']\n",
            "2\n",
            "4  9354  2  ['сидеть между двух стульев']['В своем поведении, действиях, поступках быть непоследовательным, ориентируясь на различные мнения, взгляды и т. п.; придерживаться различных, непримиримых точек зрения.']\n",
            "4  17684 0  ['сидеть между двумя стульями'][]             \n",
            "1\n",
            "5  9357  1  ['сидеть на земле']['Заниматься земледелием, сельским хозяйством.']\n",
            "5  9367  2  ['сидеть на шее']['Быть На содержании, иждивении.']\n",
            "2\n",
            "6  9358  2  ['сидеть на мели']['Находиться в крайне затруднительном положении, без средств, без денег, испытывая большую нужду.']\n",
            "6  9359  1  ['сидеть на печи']['Бездельничать, бездействовать беспечно, ни о чём не заботясь, ничего не опасаясь.']\n",
            "6  9361  2  ['сидеть на плечах']['Преследовать противника, сближаясь с ним.']\n",
            "6  12680 1  ['сидеть на мели', 'сидеть как рак на мели'][' быть в крайне затруднительном положении']\n",
            "3\n",
            "1 4\n",
            "7  9359  1  ['сидеть на печи']['Бездельничать, бездействовать беспечно, ни о чём не заботясь, ничего не опасаясь.']\n",
            "7  9361  2  ['сидеть на плечах']['Преследовать противника, сближаясь с ним.']\n",
            "7  12680 1  ['сидеть на мели', 'сидеть как рак на мели'][' быть в крайне затруднительном положении']\n",
            "2\n",
            "8  9360  1  ['сидеть на пище святого Антония', 'держать на пище святого Антония']['Жить впроголодь.']\n",
            "8  13208 1  ['на пище святого антония'][' голодая, недоедая']\n",
            "1\n",
            "9  9369  1  ['сидеть не в своей тарелке']['Чувствовать себя непривычно, неестественно, стеснённо.']\n",
            "9  14265 0  ['Быть не в своей тарелке'][' быть в плохом расположении духа, не в настроении']\n",
            "9  19181 2  ['Не в своей тарелке', 'Не в своей тарелке быть']['в плохом расположении духа, не в настроении (без отриц., реже, в хорошем расположении духа, в настроении).']\n",
            "1\n",
            "10 9372  1  ['сидит в печёнках']['Предельно досаждает, раздражает кто-либо или что-либо.']\n",
            "10 13192 0  ['сидеть в печенках'][' сильно беспокоить кого-либо, досаждать кому-либо']\n",
            "1\n",
            "11 9373  1  ['сидит как на корове седло']['Нескладно, аляповато. Об одежде.']\n",
            "11 13823 0  ['Идет как корове седло', 'Идет как к корове седло', 'пристало как корове седло', 'пристало как к корове седло'][' совсем не идет, выглядеть смешно, нелепо (об одежде)']\n",
            "11 15696 1  ['идёт как корове седло'][]             \n",
            "1\n",
            "12 9376  2  ['сил нет как']['Очень (хотеть, хочется и т. п.).']\n",
            "12 13864 0  ['Сил нет, как', 'Сил нет до'][' очень, чрезвычайно']\n",
            "1\n",
            "13 9384  1  ['синие мундиры']['Жандармы в дореволюционной России, носившие форму синего цвета.']\n",
            "13 19024 1  ['Синий мундир']['жандарм (по цвету мундира).']\n",
            "1\n",
            "14 9391  1  ['скажешь (скажете) спасибо']['Останешься, будешь доволен, благодарен кому-либо за что-либо. Употребляется как заверение собеседника, сомневающегося в благоприятном, удачном для него исходе дела, повороте обстоятельств и т. п.']\n",
            "14 9392  2  ['скажи (скажите) спасибо']['Хорошо ещё, что так случилось; будь доволен тем, что есть, могло быть хуже.']\n",
            "1\n",
            "15 9393  2  ['скажи на милость']['Удивительно, трудно поверить.']\n",
            "15 18430 1  ['Скажи(те) на милость']['скажи(те), пожалуйста, вот удивительно, или с иронией в знач. вот еще!']\n",
            "1\n",
            "16 9395  2  ['сказано - сделано']['Если кто-либо решил, пообещал (сделать что-либо), то обязательно делает, выполняет намеченное.']\n",
            "16 13876 0  ['сказано — сделано'][' чье-либо распоряжение или намерение что-либо сделать не откладывается, сразу же выполняется, когда слово не расходится с делом']\n",
            "1\n",
            "17 9397  2  ['сказать своё слово']['Проявить себя в каком-либо деле, оказать влияние на что-либо.']\n",
            "17 13800 0  ['своими словами', 'Рассказать своими словами'][' передавая общий смысл, не придерживаясь точных выражений (прочитанного, услышанного)']\n",
            "2\n",
            "18 9402  3  ['скачка с препятствиями', 'Скачки с препятствиями']['То, что проходит неровно, преодолевается с затруднениями.']\n",
            "18 13428 0  ['Скачка с препятствиями', 'скачки с препятствиями'][' о чем-либо, что требует преодоления ряда трудностей']\n",
            "1\n",
            "19 9404  2  ['сквозь призму']['С каких-либо позиций (смотреть, оценивать что-либо).']\n",
            "19 13441 1  ['сквозь призму', 'сквозь призму смотреть', 'сквозь призму наблюдать'][' с посредствующим влиянием, с учетом каких-либо факторов']\n",
            "1\n",
            "20 9406  4  ['сквозь сон'] ['Во время сна; просыпаясь.']\n",
            "20 14041 0  ['Сквозь сон', 'Сквозь сон слышать', 'Сквозь сон чувствовать'][' о состоянии неполного сна, допускающего частичное восприятие действительности']\n",
            "1\n",
            "21 9409  3  ['складывать руки', 'сложить руки']['  Переставать действовать, предпринимать что-либо.']\n",
            "21 13724 0  ['Приложить руки', 'Приложить руку'][' принять долю участия в чем-либо']\n",
            "2\n",
            "22 9410  5  ['склонять голову']['Найти пристанище, приют, кров.']\n",
            "22 9411  3  ['склонить свою голову', 'Слонов или слоны слонять']['Найти пристанище, приют, кров.']\n",
            "22 9482  14 ['сломить голову']['Искалечиться или разбиться насмерть, убиться (при падении).']\n",
            "22 10376 4  ['Хвататься за ум']['Стать благоразумнее, рассудительнее, образумиться.']\n",
            "22 11089 0  ['Бог прибрал', 'господь прибрал'][' о чьей-то смерти']\n",
            "22 11146 0  ['Брать в толк', 'взять в толк'][' понять, уяснить, осознать что-либо']\n",
            "22 11375 0  ['Вожжа под хвост попала', 'шлея под хвост попала'][' кто-либо ведет себя крайне неуравновешенно, взбалмошно']\n",
            "22 11434 1  ['Вот тебе и на!', 'Вот те на!', 'Вот так тик!'][' о том, что совершилось или произошло совсем не так, как ожидали']\n",
            "22 11438 0  ['Вот тебе раз!', 'Вот тебе и раз!', 'Вот те раз!', 'Вот те и раз!', 'Вот так раз!'][' выражение удивления, разочарования и т. п.']\n",
            "22 13885 0  ['Склонить голову', 'Склонить знамя'][' признать себя побежденным, подчиниться кому-либо, чему-либо']\n",
            "22 14558 4  ['ходуном ходить (идти, пойти)', 'ходуном ходить', 'ходуном идти', 'ходуном пойти']['сильно трястись, сотрясаться ']\n",
            "22 18078 2  ['отдать долг природе']['умереть (в этом знач. также с прибавкой: последний долг);']\n",
            "22 18836 1  ['Отдать дань природе']['поступить сообразно своим свойствам.']\n",
            "2\n",
            "23 9411  3  ['склонить свою голову', 'Слонов или слоны слонять']['Найти пристанище, приют, кров.']\n",
            "23 13885 0  ['Склонить голову', 'Склонить знамя'][' признать себя побежденным, подчиниться кому-либо, чему-либо']\n",
            "2\n",
            "24 9422  3  ['скор на ногу', 'скорый на ногу']['  Кто-либо ходит очень быстро и легко.']\n",
            "24 13892 0  ['Скор на ногу', 'скорый на ногу'][' такой, который легко, сразу решается идти, ехать и т. д. куда-либо']\n",
            "1\n",
            "25 9423  2  ['скор на руку']['  Поспешный, быстрый на физическую расправу.']\n",
            "25 13893 0  ['Скор на руку', 'скорый на руку']['проворный и ловкий в работе ']\n",
            "1\n",
            "26 9427  1  ['скребёт на душе']['(Н. Морозов. Повести моей жизни).']\n",
            "26 13895 0  ['На душе кошки скребут', 'на сердце кошки скребут', 'скребет на душе', 'скребет на сердце'][' о тоскливом состоянии, настроении']\n",
            "1\n",
            "27 9428  0  ['скребёт на сердце']['(В. Саянов. Лена).']\n",
            "27 13895 0  ['На душе кошки скребут', 'на сердце кошки скребут', 'скребет на душе', 'скребет на сердце'][' о тоскливом состоянии, настроении']\n",
            "1\n",
            "28 9429  2  ['скрежет зубовный']['Негодование, ненависть, неудержимая злоба.']\n",
            "28 9584  1  ['со скрежетом зубовным']['Проявляя ненависть, злобу, негодование.']\n",
            "2\n",
            "29 9439  2  ['слабая струнка', 'слабая струна']['Наиболее уязвимая сторона характера, на которую легче можно воздействовать.']\n",
            "29 13898 0  ['Слабая сторона', 'слабое место'][' свойство или черта, наиболее уязвимые или подверженные воздействиям']\n",
            "29 16944 1  ['самое место'][]             \n",
            "29 17016 1  ['слабая струна', 'слабая струнка'][]             \n",
            "3\n",
            "1 4\n",
            "30 9440  2  ['слабое место']['Существенный недостаток кого-либо.']\n",
            "30 13898 0  ['Слабая сторона', 'слабое место'][' свойство или черта, наиболее уязвимые или подверженные воздействиям']\n",
            "30 16944 1  ['самое место'][]             \n",
            "1\n",
            "31 9443  1  ['слава тебе (те) господи']['То же, что <<слава богу>> (в 3-м знач.).']\n",
            "31 17018 0  ['слава те господи'][]             \n",
            "1\n",
            "32 9449  1  ['слить пулю'] ['Налгать что-либо, оболгать кого-либо.']\n",
            "32 13540 1  ['отливать пули', 'лить пули']['хвастливо лгать, рассказывать что-либо неправдоподобное ']\n",
            "32 18609 1  ['Отлить пулю']['хвастливо лгать, рассказывать что-н. неправдоподобное.']\n",
            "3\n",
            "2 3\n",
            "33 9455  2  ['слова не идут с языка']['То же, что <<слова не идут на язык>>.']\n",
            "33 9458  1  ['слова не идут на язык']['У кого-либо не хватает решимости, умения сказать что-либо.']\n",
            "2\n",
            "34 9462  1  ['словно бремя свалилось с души']['Наступило облегчение от того, что волновало, заботило.']\n",
            "34 9463  1  ['словно бремя свалилось с плеч']['Наступило избавление от того, что тяготило, угнетало, раздражало, было неприятным.']\n",
            "1\n",
            "35 9473  2  ['слово в слово']['Без каких-либо изменений текста, дословно, точно (пересказать, перевести и т. п.).']\n",
            "35 9474  3  ['слово за слово']['Постепенно в процессе разговора, беседы (расспросить, узнать).']\n",
            "35 13923 0  ['Слова, слова, слова'][' о пустозвонстве, когда слова не подкрепляются делами']\n",
            "2\n",
            "36 9482  14 ['сломить голову']['Искалечиться или разбиться насмерть, убиться (при падении).']\n",
            "36 10376 4  ['Хвататься за ум']['Стать благоразумнее, рассудительнее, образумиться.']\n",
            "36 11089 0  ['Бог прибрал', 'господь прибрал'][' о чьей-то смерти']\n",
            "36 11146 0  ['Брать в толк', 'взять в толк'][' понять, уяснить, осознать что-либо']\n",
            "36 11375 0  ['Вожжа под хвост попала', 'шлея под хвост попала'][' кто-либо ведет себя крайне неуравновешенно, взбалмошно']\n",
            "36 11434 1  ['Вот тебе и на!', 'Вот те на!', 'Вот так тик!'][' о том, что совершилось или произошло совсем не так, как ожидали']\n",
            "36 11438 0  ['Вот тебе раз!', 'Вот тебе и раз!', 'Вот те раз!', 'Вот те и раз!', 'Вот так раз!'][' выражение удивления, разочарования и т. п.']\n",
            "36 13930 0  ['сломать шею', 'сломить шею', 'сломать себе шею', 'сломать голову', 'сломать себе голову', 'сломить себе шею', 'сломить голову', 'сломить себе голову'][' разбиться, искалечиться, погибнуть']\n",
            "36 14558 4  ['ходуном ходить (идти, пойти)', 'ходуном ходить', 'ходуном идти', 'ходуном пойти']['сильно трястись, сотрясаться ']\n",
            "36 15104 1  ['вот те на']  []             \n",
            "36 18078 2  ['отдать долг природе']['умереть (в этом знач. также с прибавкой: последний долг);']\n",
            "36 18836 1  ['Отдать дань природе']['поступить сообразно своим свойствам.']\n",
            "36 19234 1  ['Вот тебе', 'вот тебе и', 'вот тебе и на', 'вот тебе раз', 'вот тебе и раз', 'Вот те', 'вот те и', 'вот те и на', 'вот те раз', 'вот те и раз']['восклицание по поводу чего-н. неожиданного, не соответствующего ожиданиям, удивительного, о том, чего ожидали, но что не совершилось или превратилось не в то, чего ожидали.']\n",
            "36 19422 1  ['Сломать себе шею', 'Сломить себе шею', 'Свихнуть себе шею']['потерпеть неудачу в чем-н., погибнуть из-за чего-н.']\n",
            "2\n",
            "37 9484  5  ['сломать себе шею', 'сломать шею', 'сломить себе шею']['То же, что <<сломать себе голову>> (в 1-м знач.).']\n",
            "37 13930 0  ['сломать шею', 'сломить шею', 'сломать себе шею', 'сломать голову', 'сломать себе голову', 'сломить себе шею', 'сломить голову', 'сломить себе голову'][' разбиться, искалечиться, погибнуть']\n",
            "37 19422 1  ['Сломать себе шею', 'Сломить себе шею', 'Свихнуть себе шею']['потерпеть неудачу в чем-н., погибнуть из-за чего-н.']\n",
            "3\n",
            "1 3\n",
            "38 9486  5  ['сломить шею']['То же, что <<сломать себе голову>> (в 1-м знач.).']\n",
            "38 13930 0  ['сломать шею', 'сломить шею', 'сломать себе шею', 'сломать голову', 'сломать себе голову', 'сломить себе шею', 'сломить голову', 'сломить себе голову'][' разбиться, искалечиться, погибнуть']\n",
            "38 19422 1  ['Сломать себе шею', 'Сломить себе шею', 'Свихнуть себе шею']['потерпеть неудачу в чем-н., погибнуть из-за чего-н.']\n",
            "3\n",
            "1 3\n",
            "39 9487  5  ['сломя голову']['Очень быстро, стремительно (бежать, мчаться, скакать и т. п.).']\n",
            "39 13931 0  ['Сломя голову', 'Сломя голову броситься', 'Сломя голову кинуться', 'Сломя голову бежать', 'Сломя голову мчаться'][' опрометью, очень быстро']\n",
            "1\n",
            "40 9488  0  ['слон на ухо наступил']['  Кто-либо совсем не имеет музыкального слуха.']\n",
            "40 12849 0  ['Медведь на ухо наступил', 'слон на ухо наступил'][' о человеке, лишенном музыкального слуха']\n",
            "1\n",
            "41 9497  3  ['слюнки потекли', 'слюнки текут']['Кто-либо испытывает сильное желание съесть, попробовать или выпить что-либо вкусное.']\n",
            "41 13942 0  ['Слюнки текут', 'Слюнки потекли']['о сильном желании съесть что-либо вкусное, аппетитное ']\n",
            "1\n",
            "42 9500  3  ['сматывать удочки', 'смотать удочки']['  Поспешно, торопливо уходить, убираться откуда-либо.']\n",
            "42 19071 1  ['Смотать (свои) удочки']['поспешно уйти откуда- н.']\n",
            "1\n",
            "43 9505  1  ['смертельный грех']['То же, что <<смертный грех>>.']\n",
            "43 9506  2  ['смертный грех']['Очень большой порок, непростительный проступок.']\n",
            "2\n",
            "44 9512  2  ['смешать с грязью', 'смешивать с грязью']['  Оскорблять, чернить, унижать.']\n",
            "44 11783 1  ['Забросать грязью', 'Закидать грязью', 'смешать с грязью', 'втоптать в грязь', 'затоптать в грязь'][' очернить, опорочить, оклеветать, несправедливо обвинить']\n",
            "1\n",
            "45 9516  4  ['смотреть в глаза']['. Заискивать перед кем-либо; угождать.']\n",
            "45 9522  2  ['смотреть в могилу']['То же, что <<смотреть в гроб>>.']\n",
            "45 9529  2  ['смотреть глазами']['Испытывая на себе чьё-либо влияние, относиться к кому-либо или к чему-либо с позиций этого человека.']\n",
            "45 9534  1  ['смотреть иными глазами', 'Смотреть новыми глазами']['То же, что <<смотреть другими глазами>>']\n",
            "45 11607 0  ['Смотреть во все глаза', 'Глядеть во все глаза', 'Смотреть в оба глаза', 'Глядеть в оба глаза'][' смотреть пристально, с напряженным вниманием']\n",
            "45 13966 0  ['Смотреть в гроб', 'Смотреть в могилу'][' быть близким к смерти (о дряхлых или безнадежно больных людях) ']\n",
            "45 17058 1  ['смотреть свежим глазом'][]             \n",
            "45 17059 1  ['смотри в оба'][]             \n",
            "45 17931 1  ['Выглядеть все глаза']['долго всматриваясь, утомить зрение.']\n",
            "2\n",
            "46 9517  2  ['смотреть в глаза правде']['Трезво, объективно оценивать положение дел.']\n",
            "46 17056 0  ['смотреть в лицо правде'][]             \n",
            "1\n",
            "47 9518  1  ['смотреть в гроб']['Доживать последние дни жизни. О старом или тяжело больном человеке.']\n",
            "47 9523  1  ['смотреть в оба']['Быть внимательным, осторожным.']\n",
            "47 9524  3  ['смотреть в рот']['Подобострастно или очень внимательно слушать кого-либо.']\n",
            "47 13683 0  ['Смотреть в рот', 'глядеть в рот']['смотреть, как кто-либо ест, считая, желая съеденное или будучи голодным ']\n",
            "47 13966 0  ['Смотреть в гроб', 'Смотреть в могилу'][' быть близким к смерти (о дряхлых или безнадежно больных людях) ']\n",
            "47 17059 1  ['смотри в оба'][]             \n",
            "3\n",
            "1 5\n",
            "48 9519  2  ['смотреть в зубы']['Быть слишком церемонными в обращении с кем-либо; проявлять излишнюю мягкость.']\n",
            "48 9523  1  ['смотреть в оба']['Быть внимательным, осторожным.']\n",
            "48 9524  3  ['смотреть в рот']['Подобострастно или очень внимательно слушать кого-либо.']\n",
            "48 13683 0  ['Смотреть в рот', 'глядеть в рот']['смотреть, как кто-либо ест, считая, желая съеденное или будучи голодным ']\n",
            "48 13966 0  ['Смотреть в гроб', 'Смотреть в могилу'][' быть близким к смерти (о дряхлых или безнадежно больных людях) ']\n",
            "48 17059 1  ['смотри в оба'][]             \n",
            "2\n",
            "49 9522  2  ['смотреть в могилу']['То же, что <<смотреть в гроб>>.']\n",
            "49 13966 0  ['Смотреть в гроб', 'Смотреть в могилу'][' быть близким к смерти (о дряхлых или безнадежно больных людях) ']\n",
            "49 17059 1  ['смотри в оба'][]             \n",
            "2\n",
            "\tength: 33\n"
          ]
        }
      ]
    },
    {
      "cell_type": "code",
      "source": [
        "new_vars.extend(next_variants(2550, 2600)[0])\n",
        "print('\\tlength:', len(new_vars))"
      ],
      "metadata": {
        "colab": {
          "base_uri": "https://localhost:8080/"
        },
        "id": "1U_54hs6pVxQ",
        "outputId": "86d596ac-8ba3-4dd0-8fd4-ada8bd6acc8c"
      },
      "execution_count": 20,
      "outputs": [
        {
          "output_type": "stream",
          "name": "stdout",
          "text": [
            "0  9523  1  ['смотреть в оба']['Быть внимательным, осторожным.']\n",
            "0  9524  3  ['смотреть в рот']['Подобострастно или очень внимательно слушать кого-либо.']\n",
            "0  13683 0  ['Смотреть в рот', 'глядеть в рот']['смотреть, как кто-либо ест, считая, желая съеденное или будучи голодным ']\n",
            "0  13966 0  ['Смотреть в гроб', 'Смотреть в могилу'][' быть близким к смерти (о дряхлых или безнадежно больных людях) ']\n",
            "0  17059 1  ['смотри в оба'][]             \n",
            "3\n",
            "1 5\n",
            "1  9524  3  ['смотреть в рот']['Подобострастно или очень внимательно слушать кого-либо.']\n",
            "1  13683 0  ['Смотреть в рот', 'глядеть в рот']['смотреть, как кто-либо ест, считая, желая съеденное или будучи голодным ']\n",
            "1  13966 0  ['Смотреть в гроб', 'Смотреть в могилу'][' быть близким к смерти (о дряхлых или безнадежно больных людях) ']\n",
            "1  17059 1  ['смотри в оба'][]             \n",
            "3\n",
            "1 2\n",
            "2  9525  1  ['смотреть во все глаза']['Быть очень внимательным, бдительным, настороже (ничего не упуская из вида). Часто употребляется как предупреждение, наставление.']\n",
            "2  11607 0  ['Смотреть во все глаза', 'Глядеть во все глаза', 'Смотреть в оба глаза', 'Глядеть в оба глаза'][' смотреть пристально, с напряженным вниманием']\n",
            "2  17931 1  ['Выглядеть все глаза']['долго всматриваясь, утомить зрение.']\n",
            "3\n",
            "1 2\n",
            "3  9526  2  ['смотреть волком']['То же, что <<смотреть зверем>>.']\n",
            "3  9527  1  ['смотреть вон']['Стремиться, пытаться уйти откуда-либо.']\n",
            "2\n",
            "4  9532  2  ['смотреть из рук']['Поступать по воле другого, не самостоятельно.']\n",
            "4  13734 0  ['Смотреть из рук', 'глядеть из рук'][' зависеть от кого-либо']\n",
            "1\n",
            "5  9540  1  ['смотреть правде в глаза']['Трезво оценивать обстановку, признавать действительное положение вещей.']\n",
            "5  9541  1  ['смотреть правде в лицо']['То же, что <<смотреть правде в глаза>>.']\n",
            "5  13406 0  ['Смотреть правде в глаза', 'глядеть правде в глаза', 'Смотреть правде в лицо', 'глядеть правде в лицо'][' трезво оценивать действительное положение вещей']\n",
            "3\n",
            "1 3\n",
            "6  9541  1  ['смотреть правде в лицо']['То же, что <<смотреть правде в глаза>>.']\n",
            "6  13406 0  ['Смотреть правде в глаза', 'глядеть правде в глаза', 'Смотреть правде в лицо', 'глядеть правде в лицо'][' трезво оценивать действительное положение вещей']\n",
            "2\n",
            "7  9548  2  ['смотреть смерти в глаза']['Находиться в смертельной опасности, осознавать возможность своей гибели.']\n",
            "7  9549  1  ['смотреть смерти в лицо']['То же, что <<смотреть смерти в глаза>>.']\n",
            "7  13951 0  ['Смотреть смерти в глаза', 'Смотреть смерти в лицо', 'глядеть смерти в глаза', 'глядеть смерти в лицо'][' быть близким к смерти']\n",
            "3\n",
            "1 3\n",
            "8  9549  1  ['смотреть смерти в лицо']['То же, что <<смотреть смерти в глаза>>.']\n",
            "8  13951 0  ['Смотреть смерти в глаза', 'Смотреть смерти в лицо', 'глядеть смерти в глаза', 'глядеть смерти в лицо'][' быть близким к смерти']\n",
            "2\n",
            "9  9551  3  ['смывать кровью', 'смыть кровью']['Искупать ценой своей жизни.']\n",
            "9  10272 2  ['умываться кровью']['Сражаться за что-либо.']\n",
            "9  19279 1  ['Упиться кровью']['насладиться убийством кого-н.']\n",
            "2\n",
            "10 9553  5  ['снимать голову', 'снять голову']['Строго наказывать кого-либо за что-либо.']\n",
            "10 13930 0  ['сломать шею', 'сломить шею', 'сломать себе шею', 'сломать голову', 'сломать себе голову', 'сломить себе шею', 'сломить голову', 'сломить себе голову'][' разбиться, искалечиться, погибнуть']\n",
            "10 19422 1  ['Сломать себе шею', 'Сломить себе шею', 'Свихнуть себе шею']['потерпеть неудачу в чем-н., погибнуть из-за чего-н.']\n",
            "2\n",
            "11 9559  2  ['снимать сливки', 'снять сливки']['  То же, что <<снимать пенки>>.']\n",
            "11 13977 0  ['Снимать пенки', 'Снимать сливки'][' брать себе самое лучшее, самое выгодное.']\n",
            "11 17062 3  ['снимать пенки']['не участвуя в трудах, пользуясь чужим трудом, брать себе самое лучшее, самое выгодное.']\n",
            "3\n",
            "2 3\n",
            "12 9564  3  ['сносу нет']  ['чему. О чём-либо очень прочном; о том, что долго носится.']\n",
            "12 13980 0  ['Сносу нет', 'сноса нет', 'сносу не знает', 'сноса не знает'][' хорошо носиться, очень долго не изнашивается (об одежде, обуви)']\n",
            "1\n",
            "13 9567  3  ['со временем']['Впоследствии, потом; с течением времени.']\n",
            "13 11452 1  ['Время от времени', 'от времени до времени', 'по временам'][' иногда']    \n",
            "2\n",
            "14 9571  4  ['со всеми онёрами'][' Со всем, что необходимо, как полагается в определённом случае.']\n",
            "14 9572  2  ['со всех концов']['Отовсюду.']  \n",
            "14 15675 0  ['и все концы'][]             \n",
            "2\n",
            "15 9572  2  ['со всех концов']['Отовсюду.']  \n",
            "15 15675 0  ['и все концы'][]             \n",
            "2\n",
            "16 9585  2  ['со скрипом'] ['Очень медленно из-за больших трудностей (делать что-либо, делается что-либо).']\n",
            "16 13897 0  ['Со скрипом', 'Со скрипом идти', 'Со скрипом протекать'][' очень медленно, с помехами, с трудом и напряжением']\n",
            "1\n",
            "17 9587  1  ['со слов']    ['Основываясь на устном заявлении, сообщении, высказывании кого-либо.']\n",
            "17 13800 0  ['своими словами', 'Рассказать своими словами'][' передавая общий смысл, не придерживаясь точных выражений (прочитанного, услышанного)']\n",
            "17 13921 0  ['От слова до слова', 'до слова'][' все без изъятия, с начала до конца']\n",
            "2\n",
            "18 9589  1  ['со спокойной совестью']['Одобрит. Будучи полностью уверенным в своей правоте (делать, предпринимать что-либо).']\n",
            "18 14086 0  ['Спокойная совесть'][' сознание своей правоты, правильности своих поступков.']\n",
            "2\n",
            "19 9591  3  ['со школьной скамьи']['Сразу же после окончания школы.']\n",
            "19 13880 0  ['Со школьной скамьи', 'С университетской скамьи'][' сразу по окончании школы (университета и т. п.)']\n",
            "1\n",
            "20 9593  1  ['собаке под хвост']['То же, что <<псу под хвост>> (в 1-м знач.).']\n",
            "20 19319 1  ['Как псу под хвост', 'что псу под хвост', 'Как собаке под хвост', 'что собаке под хвост']['о чем-н., что изводится совершенно напрасно, зря, даром.']\n",
            "2\n",
            "21 9594  1  ['собаку съел']['(Шишков. Угрюм-река).']\n",
            "21 13994 2  ['собаку съесть'][' быть знатоком в каком-либо деле, иметь большой навык, опыт в чем-либо.']\n",
            "1\n",
            "22 9607  2  ['собираться с мыслями', 'собраться с мыслями']['  Сосредоточиваться на чём-либо.']\n",
            "22 9608  3  ['собираться с силами', 'собраться с силами']['Освобождаться от усталости; отдыхая, восстанавливать силы.']\n",
            "2\n",
            "23 9609  2  ['соблюдать себя', 'соблюсти себя']['  Беречь свою честь, сохранять порядочность, нравственную чистоту.']\n",
            "23 18549 1  ['Обладать собою']['то же, что владеть собою.']\n",
            "2\n",
            "24 9611  2  ['собственной персоной']['Сам лично.'] \n",
            "24 13174 0  ['(Своей) собственной персоной'][' сам, лично']\n",
            "24 13998 0  ['Собственной персоной', 'Собственной особой'][' лично, сам ']\n",
            "1\n",
            "25 9613  2  ['совать нос', 'совать свой нос', 'сунуть нос', 'сунуть свой нос']['  Презрит. Вмешиваться во что-либо без достаточных знаний, оснований, умения и т. п. или в чужое дело.']\n",
            "25 9618  0  ['соваться со своим носом', 'сунуться со своим носом']['  (Достоевский. Дядюшкин сон).']\n",
            "2\n",
            "26 9615  3  ['совать под нос', 'сунуть под нос']['  Небрежно, непочтительно давать, подавать, класть.']\n",
            "26 9616  1  ['совать под сукно', 'сунуть под сукно']['  Откладывать решение какого-либо дела, оставлять без внимания, без движения (просьбу, заявление и т. п.).']\n",
            "2\n",
            "27 9621  1  ['совесть заговорила']['Стало стыдно, совестно за свои поступки, слова, поведение.']\n",
            "27 17075 1  ['совесть заговаривает'][]             \n",
            "2\n",
            "28 9623  2  ['совлечь с пути']['Заставить кого-либо изменить поведение, уклониться от правильных действий.']\n",
            "28 13558 0  ['Сбить с пути', 'Сбить с пути истинного', 'совлечь с пути', 'совлечь с пути истинного', 'совратить с пути', 'совратить с пути истинного'][' заставить отступить от верных мыслей, убеждений, толкнуть на что-либо дурное']\n",
            "28 13559 0  ['Сбиться с пути', 'Сбиться с пути истинного', 'совратиться с пути', 'совратиться с пути истинного'][' склониться к ложным убеждениям, начать вести предосудительный образ жизни, заняться дурными, предосудительными делами']\n",
            "28 14008 0  ['Совращать с пути истинного'][' подбивать кого-либо на незаконное дело, на совершение безнравственного поступка']\n",
            "3\n",
            "1 2\n",
            "29 9625  1  ['совратиться с пути истинного', 'совращаться с пути истинного']['  Начинать вести себя предосудительно, плохо.']\n",
            "29 13558 0  ['Сбить с пути', 'Сбить с пути истинного', 'совлечь с пути', 'совлечь с пути истинного', 'совратить с пути', 'совратить с пути истинного'][' заставить отступить от верных мыслей, убеждений, толкнуть на что-либо дурное']\n",
            "29 13559 0  ['Сбиться с пути', 'Сбиться с пути истинного', 'совратиться с пути', 'совратиться с пути истинного'][' склониться к ложным убеждениям, начать вести предосудительный образ жизни, заняться дурными, предосудительными делами']\n",
            "29 14008 0  ['Совращать с пути истинного'][' подбивать кого-либо на незаконное дело, на совершение безнравственного поступка']\n",
            "3\n",
            "1 3\n",
            "30 9626  2  ['совращать с пути истинного (истины)']['. Склонять кого-либо к предосудительным поступкам, ложным убеждениям.']\n",
            "30 13558 0  ['Сбить с пути', 'Сбить с пути истинного', 'совлечь с пути', 'совлечь с пути истинного', 'совратить с пути', 'совратить с пути истинного'][' заставить отступить от верных мыслей, убеждений, толкнуть на что-либо дурное']\n",
            "30 13559 0  ['Сбиться с пути', 'Сбиться с пути истинного', 'совратиться с пути', 'совратиться с пути истинного'][' склониться к ложным убеждениям, начать вести предосудительный образ жизни, заняться дурными, предосудительными делами']\n",
            "30 14008 0  ['Совращать с пути истинного'][' подбивать кого-либо на незаконное дело, на совершение безнравственного поступка']\n",
            "3\n",
            "1 4\n",
            "31 9636  1  ['сойти на покой', 'сходить на покой']['  Умирать.'] \n",
            "31 10421 2  ['ходить на поклон']['Просить у кого-либо помощи, содействия.']\n",
            "2\n",
            "32 9640  1  ['сойти с земли', 'сходить с земли']['  Переселяться в город, перестав заниматься земледельческим, сельским трудом. О крестьянах.']\n",
            "32 10425 2  ['ходить по земле']['Жить на свете.']\n",
            "2\n",
            "33 9643  1  ['сойти с круга']['Нарушая обычный образ жизни, загулять, запить и т. п.']\n",
            "33 9645  6  ['сойти с рук', 'сходить с рук']['Продаваться, раскупаться. О товарах.']\n",
            "33 17171 1  ['сходить с круга'][]             \n",
            "33 17718 0  ['ходить по кругу'][]             \n",
            "3\n",
            "1 3\n",
            "34 9645  6  ['сойти с рук', 'сходить с рук']['Продаваться, раскупаться. О товарах.']\n",
            "34 17171 1  ['сходить с круга'][]             \n",
            "34 17718 0  ['ходить по кругу'][]             \n",
            "2\n",
            "35 9646  5  ['сойти с ума', 'сходить с ума']['Становиться сумасшедшим.']\n",
            "35 10433 0  ['ходить с сумой']['Нищенствовать, побираться  (Ю. Нагибин. Трудный путь).']\n",
            "35 19268 4  ['Сойти с ума', 'спятить с ума', 'свихнуть с ума', 'своротить с ума', 'спрыгнуть с ума']['стать сумасшедшим, помешанным, лишиться разума, рассудка.']\n",
            "35 19270 1  ['Сходить с ума']['очень увлекаться кем- чем-н., быть в восторге, восхищении откого- чего-н.']\n",
            "3\n",
            "1 3 4\n",
            "36 9649  2  ['сокрушать сердце', 'сокрушить сердце']['  Очень сильно огорчать, лишать душевного покоя кого-либо.']\n",
            "36 9669  5  ['сорвать сердце', 'срывать сердце']['  Вымещать свой гнев, раздражение, ярость и т. п.']\n",
            "36 16867 1  ['рвать сердце'][]             \n",
            "2\n",
            "37 9651  0  ['солома в голове']['Презрит. Кто-либо предельно глуп, туп, бестолков.']\n",
            "37 15276 1  ['голова в голову'][]             \n",
            "2\n",
            "38 9652  3  ['соломенная вдова']['Женщина, не живущая с мужем.']\n",
            "38 9654  3  ['соломенный вдовец']['Мужчина, не живущий с женой.']\n",
            "2\n",
            "39 9661  1  ['соплёй перешибить']['О слабосильном, тщедушном человеке, таком, с кем легко справиться.']\n",
            "39 14051 2  ['соплёй перешибешь', 'соплёй перешибёшь'][' о слабом, малосильном человеке']\n",
            "1\n",
            "40 9665  2  ['сорвать голову']['Убить.']     \n",
            "40 9736  1  ['срезать голову']['  Сильно подвести кого-либо.']\n",
            "40 13930 0  ['сломать шею', 'сломить шею', 'сломать себе шею', 'сломать голову', 'сломать себе голову', 'сломить себе шею', 'сломить голову', 'сломить себе голову'][' разбиться, искалечиться, погибнуть']\n",
            "40 19422 1  ['Сломать себе шею', 'Сломить себе шею', 'Свихнуть себе шею']['потерпеть неудачу в чем-н., погибнуть из-за чего-н.']\n",
            "2\n",
            "41 9669  5  ['сорвать сердце', 'срывать сердце']['  Вымещать свой гнев, раздражение, ярость и т. п.']\n",
            "41 16867 1  ['рвать сердце'][]             \n",
            "2\n",
            "42 9672  2  ['сорваться с языка', 'срываться с языка']['  Быть произнесённым невольно, неожиданно. О слове, фразе и т. п.']\n",
            "42 19445 2  ['Сорвалось с языка']['неожиданно, вдруг стать сказанным, произнесенным .']\n",
            "1\n",
            "43 9677  1  ['сорок два с кисточкой']['Фамильяр. Шутливо-благожелательное приветствие при встрече.']\n",
            "43 9678  1  ['сорок одно с кисточкой']['Фамильяр. То же, что <<сорок два с кисточкой>>.']\n",
            "2\n",
            "44 9679  1  ['сорок сороков']['Очень много, бесчисленное количество чего-либо.']\n",
            "44 19084 1  ['Сорок сороков']['о количестве церквей в Москве.']\n",
            "1\n",
            "45 9686  1  ['состроить рожу', 'строить рожу']['  Гримасничать; намеренно искажать лицо (изображая кого-либо).']\n",
            "45 13654 0  ['Корчить рожу', 'Корчить рожи', 'делать рожу', 'делать рожи', 'строить рожу', 'строить рожи'][' гримасничать']\n",
            "45 17596 0  ['корчить рожу'][]             \n",
            "1\n",
            "46 9687  1  ['сосуд скудельный']['Слабое, недолговечное существо. О человеке.']\n",
            "46 19038 1  ['Сосуд скудельный']['о человеке как слабом, бренном существе.']\n",
            "1\n",
            "47 9694  1  ['спадать с тела', 'спасть с тела']['  Худеть.']  \n",
            "47 9698  2  ['спасть с лица']['Осунуться.'] \n",
            "2\n",
            "48 9695  2  ['спасать свою шкуру', 'спасать шкуру', 'спасти (свою) шкуру']['  Трусливо уклоняться от опасности (предавая жизнь, интересы и т. п. других людей).']\n",
            "48 9726  4  ['спустить шкуру']['Жестоко наказать плетью, ремнем и т. п.; выпороть, высечь.']\n",
            "2\n",
            "49 9700  2  ['спать без задних ног']['Очень крепко, беспробудно (спать).']\n",
            "49 18181 1  ['Быть без задних ног']['сильно утомиться, свалиться от усталости.']\n",
            "2\n",
            "\tlength: 55\n"
          ]
        }
      ]
    },
    {
      "cell_type": "code",
      "source": [
        "write_vars(new_vars)"
      ],
      "metadata": {
        "id": "PlLdqkRMpVxQ"
      },
      "execution_count": 21,
      "outputs": []
    },
    {
      "cell_type": "code",
      "source": [
        "new_vars, to_split = next_variants(2600, 2650)\n",
        "print('\\tength:', len(new_vars))"
      ],
      "metadata": {
        "colab": {
          "base_uri": "https://localhost:8080/"
        },
        "id": "dVBUPeqCpWN-",
        "outputId": "d09da116-58c9-4417-fe8f-847dc8f0b719"
      },
      "execution_count": 22,
      "outputs": [
        {
          "output_type": "stream",
          "name": "stdout",
          "text": [
            "0  9705  1  ['спит вечным сном']['Кто-либо давно умер.']\n",
            "0  14044 0  ['Спать вечным сном', 'Спать последним сном', 'Спать могильным сном', 'заснуть вечным сном', 'заснуть последним сном', 'заснуть могильным сном', 'уснуть вечным сном', 'уснуть последним сном', 'уснуть могильным сном', 'почить вечным сном', 'почить последним сном', 'почить могильным сном', 'спать сном могилы'][' быть мертвым, (умереть)']\n",
            "0  14478 0  ['Уснуть вечным сном', 'Уснуть последним сном', 'Уснуть могильным сном', 'уснуть навеки', 'уснуть навсегда'][' умереть']   \n",
            "0  15632 0  ['заснуть вечным сном'][]             \n",
            "0  18212 1  ['Заснуть вечным сном']['умереть.']   \n",
            "0  19089 1  ['Спать вечным сном', 'Спать могильным сном', 'Спать сном могилы']['быть мертвым.']\n",
            "0  19282 1  ['Уснуть навеки', 'Уснуть вечным сном']['умереть.']   \n",
            "2\n",
            "1  9706  1  ['спит и видит']['Очень сильно, страстно хочет чего-либо, постоянно мечтает об осуществлении чего-либо.']\n",
            "1  9713  1  ['сплю и вижу']['Постоянно и страстно мечтаю об осуществлении задуманного.']\n",
            "1  14074 0  ['Спать и видеть', 'Спать и во сне видеть'][' страстно желать чего-либо ']\n",
            "1  17093 1  ['спит и во сне видит'][]             \n",
            "1  19090 3  ['Спать и видеть']['страстно желать чего-н., постоянно мечтать о чем-н.']\n",
            "1\n",
            "2  9707  1  ['спихивать на шею', 'спихнуть на шею']['   Прост, Навязывать кому-либо заботу, попечение о содержании, воспитании кого-либо.']\n",
            "2  9710  0  ['спихивать с шеи', 'спихнуть с шеи']['  (Гончаров. Обыкновенная история).']\n",
            "2  14081 0  ['Спихнуть на руки', 'Спихнуть на шею', 'Спихнуть на плечи'][' навязать кому-либо, стараясь избавиться от кого-либо, чего-либо']\n",
            "3\n",
            "1 3\n",
            "3  9708  1  ['спихивать с плеч (долой)', 'спихнуть с плеч (долой)']['  Избавляться, освобождаться от чего-либо обременительного, трудного, доставляющего много хлопот, неприятностей.']\n",
            "3  9872  1  ['стрясти с плеч', 'стряхнуть с плеч', 'стряхнуть с плеч долой']['  Избавиться от чего-либо неприятного, мучительного.']\n",
            "2\n",
            "4  9709  1  ['спихивать с рук', 'спихнуть с рук']['  Избавляться от забот, попечения о ком-либо.']\n",
            "4  14081 0  ['Спихнуть на руки', 'Спихнуть на шею', 'Спихнуть на плечи'][' навязать кому-либо, стараясь избавиться от кого-либо, чего-либо']\n",
            "2\n",
            "5  9710  0  ['спихивать с шеи', 'спихнуть с шеи']['  (Гончаров. Обыкновенная история).']\n",
            "5  14081 0  ['Спихнуть на руки', 'Спихнуть на шею', 'Спихнуть на плечи'][' навязать кому-либо, стараясь избавиться от кого-либо, чего-либо']\n",
            "5  17094 1  ['спихнуть с себя'][]             \n",
            "2\n",
            "6  9713  1  ['сплю и вижу']['Постоянно и страстно мечтаю об осуществлении задуманного.']\n",
            "6  14074 0  ['Спать и видеть', 'Спать и во сне видеть'][' страстно желать чего-либо ']\n",
            "6  17093 1  ['спит и во сне видит'][]             \n",
            "6  19090 3  ['Спать и видеть']['страстно желать чего-н., постоянно мечтать о чем-н.']\n",
            "2\n",
            "7  9714  3  ['спору нет']  ['То же, что <<слов нет>>.']\n",
            "7  19097 1  ['Спору нет']  ['(вводное слово) бесспорно, несомненно.']\n",
            "1\n",
            "8  9717  3  ['спрыгнуть с ума']['Лишиться рассудка.']\n",
            "8  19268 4  ['Сойти с ума', 'спятить с ума', 'свихнуть с ума', 'своротить с ума', 'спрыгнуть с ума']['стать сумасшедшим, помешанным, лишиться разума, рассудка.']\n",
            "8  19270 1  ['Сходить с ума']['очень увлекаться кем- чем-н., быть в восторге, восхищении откого- чего-н.']\n",
            "2\n",
            "9  9719  2  ['спускать жир (жирок)', 'спустить жир (жирок)']['   Худеть, избавляться от лишнего веса.']\n",
            "9  14093 0  ['Спустить жир (жиры)'][' похудеть (об излишне полном человеке)']\n",
            "9  17100 1  ['спустить жир', 'спустить жиру'][]             \n",
            "1\n",
            "10 9723  4  ['спустить с лестницы']['С позором выставить кого-либо (из своего дома, из комнаты) как бесчестного, недостойного человека.']\n",
            "10 17696 0  ['спускать с лестницы'][]             \n",
            "1\n",
            "11 9724  2  ['спустить с небес на землю']['Вернуть кого-либо к реальной жизни, к действительности из мира грёз, мечтаний.']\n",
            "11 9727  2  ['спуститься на землю', 'спуститься с небес на землю']['Вернуться к реальной жизни из мира грёз, мечтаний.']\n",
            "11 17098 1  ['спускаться на землю'][]             \n",
            "11 17099 1  ['спускаться с небес на землю'][]             \n",
            "11 17697 0  ['спуститься с неба на землю'][]             \n",
            "1\n",
            "12 9727  2  ['спуститься на землю', 'спуститься с небес на землю']['Вернуться к реальной жизни из мира грёз, мечтаний.']\n",
            "12 17098 1  ['спускаться на землю'][]             \n",
            "12 17099 1  ['спускаться с небес на землю'][]             \n",
            "12 17697 0  ['спуститься с неба на землю'][]             \n",
            "2\n",
            "13 9730  1  ['спутывать по рукам и ногам', 'спутывать по рукам и по ногам']['Ставить поведение, образ жизни кого-либо в зависимость от определённых условий, лишая возможности действовать, поступать свободно.']\n",
            "13 13732 0  ['Связать руки', 'связать по рукам и ногам', 'спутать по рукам и ногам'][' лишить возможности действовать свободно; стеснить кого-либо']\n",
            "13 17680 0  ['связанный по рукам и ногам'][]             \n",
            "1\n",
            "14 9731  2  ['спятить с ума', 'спятиться с ума']['Совершать безрассудные поступки, не давать отчёта в своих действиях.']\n",
            "14 19268 4  ['Сойти с ума', 'спятить с ума', 'свихнуть с ума', 'своротить с ума', 'спрыгнуть с ума']['стать сумасшедшим, помешанным, лишиться разума, рассудка.']\n",
            "14 19270 1  ['Сходить с ума']['очень увлекаться кем- чем-н., быть в восторге, восхищении откого- чего-н.']\n",
            "1\n",
            "15 9738  3  ['срезать с ног']['Вынуждать кого-либо лечь в постель. О болезни, недомогании.']\n",
            "15 9739  1  ['срезаться с ног', 'срезаться с ног долой']['Повалиться, не удержавшись на ногах (от сильного удара или душевного потрясения).']\n",
            "2\n",
            "16 9740  2  ['сровнять с землёй']['Разрушить до основания.']\n",
            "16 19101 1  ['Сровнять с землёй']['разрушить до основания.']\n",
            "1\n",
            "17 9747  1  ['становиться в один ряд', 'становиться в ряд', 'стать в один ряд', 'стать в ряд']['  Уподобляться кому-либо в каком-либо отношении, приравнивать себя к кому-либо.']\n",
            "17 9749  2  ['становиться в ряды', 'стать в ряды']['  Занимать соответствующее место в какой-либо группе, организации и т. п. В современном употреблении — только о социально-политических группировках, движениях и т. п.']\n",
            "2\n",
            "18 9748  3  ['становиться в позу', 'стать (встать) в позу']['Пытаться выдать себя за кого-либо или создать себе какую-либо репутацию (не имея на то достаточных оснований).']\n",
            "18 9787  2  ['стать (встать) горой', 'стоять горой']['  Всеми силами защищать кого-либо, отстаивать что-либо.']\n",
            "18 13274 0  ['Стать в позу'][' принять нарочито эффектное положение']\n",
            "18 18009 1  ['Стоять горой за']['всеми силами защищать кого- что-н., заступаться за кого-н.']\n",
            "3\n",
            "1 3\n",
            "19 9752  1  ['становиться на задние лапки', 'стать на задние лапки']['  Угодничать, прислуживаться.']\n",
            "19 9818  1  ['стоять на задних лапках']['Презрит. Угодничать, прислуживаться.']\n",
            "19 17717 1  ['ходить на задних лапках']['прислуживаться, угодничать -н.']\n",
            "2\n",
            "20 9753  0  ['становиться на колени', 'стать на колени']['  Полностью покоряться кому-либо.']\n",
            "20 18341 1  ['Становиться на котурны']['впадать в напыщенный, величественный тон.']\n",
            "2\n",
            "21 9755  2  ['становиться на ноги', 'стать на ноги']['Выздоравливать, поправляться после болезни.']\n",
            "21 9757  2  ['становиться на почву', 'стать на почву']['. Основываться на чём-либо, исходить из каких-либо представлений (в своих действиях, суждениях).']\n",
            "21 18521 1  ['Стать ни ноги']['оправиться от перенесенного несчастья;']\n",
            "2\n",
            "22 9758  0  ['становиться на путь', 'стать на путь', 'становиться на пути'][' Начинать развиваться в принятом для себя направлении.']\n",
            "22 13552 0  ['Встать на путь', 'стать на путь', 'вступить на путь'][' начать действовать или развиваться в каком-либо направлении ']\n",
            "22 13560 0  ['Стать на пути', 'встать на пути', 'стоять на пути', 'стать поперек пути ', 'встать поперек пути ', 'стоять поперек пути '][' мешать, быть препятствием кому-либо в чем-либо']\n",
            "3\n",
            "1 2\n",
            "23 9761  2  ['становиться на сторону', 'стать на сторону'][' Присоединяться к чьему-либо направлению деятельности, разделять чьи-либо взгляды, настроения.']\n",
            "23 17134 0  ['стать на стражу'][]             \n",
            "2\n",
            "24 9764  2  ['становиться поперёк горла', 'стать поперёк горла']['  Делаться невыносимым, предельно надоедать.']\n",
            "24 9765  1  ['становиться поперёк дороги', 'стать поперёк дороги']['  Мешать в достижении цели.']\n",
            "2\n",
            "25 9766  1  ['становиться поперёк пути', 'стать поперёк пути']['  (Н. Грибачёв. Рассказ о первой любви).']\n",
            "25 13560 0  ['Стать на пути', 'встать на пути', 'стоять на пути', 'стать поперек пути ', 'встать поперек пути ', 'стоять поперек пути '][' мешать, быть препятствием кому-либо в чем-либо']\n",
            "1\n",
            "26 9771  3  ['старая песня']['То, о чём часто говорится, повторяется, что давно известно.']\n",
            "26 9783  2  ['старый пень']['О старом и глупом, плохо соображающем человеке.']\n",
            "26 17130 1  ['старый пенёк'][]             \n",
            "2\n",
            "27 9782  1  ['старый лис'] ['Хитрый, лукавый человек.']\n",
            "27 12565 0  ['Старая лиса'][' изворотливый, хитрый человек']\n",
            "1\n",
            "28 9783  2  ['старый пень']['О старом и глупом, плохо соображающем человеке.']\n",
            "28 17130 1  ['старый пенёк'][]             \n",
            "2\n",
            "29 9787  2  ['стать (встать) горой', 'стоять горой']['  Всеми силами защищать кого-либо, отстаивать что-либо.']\n",
            "29 18009 1  ['Стоять горой за']['всеми силами защищать кого- что-н., заступаться за кого-н.']\n",
            "1\n",
            "30 9788  3  ['стать во главе', 'стоять во главе']['Занимать господствующее положение.']\n",
            "30 17147 0  ['стоять в глазах'][]             \n",
            "2\n",
            "31 9790  4  ['стать колом в горле', 'стоять колом в горле']['  Предельно надоедать кому-либо, раздражать кого-либо.']\n",
            "31 17702 0  ['(стоять) комом в горле'][]             \n",
            "2\n",
            "32 9791  1  ['стать на своём', 'стоять на своём']['  Твёрдо придерживаться каких-либо взглядов, мнений, упорно отстаивать их. — [ (Герцен. Былое и думы).']\n",
            "32 17117 1  ['становиться на свои места'][]             \n",
            "2\n",
            "33 9796  2  ['стенка на стенку']['Друг на друга группами (сходиться в кулачном бою).']\n",
            "33 9797  1  ['стенка об стенку']['То же, что <<стена в стену>>.']\n",
            "2\n",
            "34 9799  3  ['стереть в мелкий порошок', 'стереть в порошок']['Жестоко, беспощадно расправиться с кем-либо.']\n",
            "34 13356 0  ['Стереть в порошок', 'растереть в порошок'][' расправиться с кем-либо, добившись полного устранения, уничтожения']\n",
            "34 18262 1  ['Истереть в порошок']['расправиться с кем-н., добиться полного устранения, уничтожения -н.']\n",
            "1\n",
            "35 9803  1  ['стиснув зубы']['Сдерживая свои чувства протеста, превозмогая свои желания.']\n",
            "35 9804  2  ['стиснуть зубы']['Подавить свои чувства, сдержаться, не показывая своей слабости.']\n",
            "1\n",
            "36 9807  1  ['стоит много крови']['Кто-либо или что-либо обходится кому-либо очень дорого, доставляет неприятности, огорчения.']\n",
            "36 12216 1  ['испортить много крови', 'столько сколько крови испортить', 'столько сколько крови попортить'][' доставить кому-либо много беспокойства, причинить неприятности и т. п.']\n",
            "2\n",
            "37 9813  1  ['стон стоит'] ['Раздаются шум, вопли, неумолкаемый плач.']\n",
            "37 14136 0  ['Стоном стонать']['стонать очень сильно и долго ']\n",
            "2\n",
            "38 9814  1  ['стоять в стороне']['Зная о каком-либо деле, событии и т. п., не принимать в нём непосредственного участия.']\n",
            "38 9831  2  ['стоять на стороне']['Поддерживать кого-либо в чём-либо, разделяя его образ мыслей.']\n",
            "38 17262 1  ['тянет на сторону'][]             \n",
            "2\n",
            "39 9818  1  ['стоять на задних лапках']['Презрит. Угодничать, прислуживаться.']\n",
            "39 17717 1  ['ходить на задних лапках']['прислуживаться, угодничать -н.']\n",
            "1\n",
            "40 9824  1  ['стоять на одном месте']['Не двигаться вперёд, не развиваться.']\n",
            "40 12703 0  ['Стоять на месте', 'оставаться на месте', 'Стоять на одном месте', 'оставаться на одном месте'][' не двигаться вперед, не развиваться, не изменяться']\n",
            "40 16315 1  ['не стоять на месте'][]             \n",
            "40 17148 1  ['стоять на месте'][]             \n",
            "3\n",
            "1 2 4\n",
            "41 9827  0  ['стоять на пути']['Мешать, препятствовать.']\n",
            "41 13369 0  ['Стоять на посту', 'быть на посту', 'Стоять на своем посту', 'быть на своем посту'][' исполнять свои обязанности, свой долг']\n",
            "41 13560 0  ['Стать на пути', 'встать на пути', 'стоять на пути', 'стать поперек пути ', 'встать поперек пути ', 'стоять поперек пути '][' мешать, быть препятствием кому-либо в чем-либо']\n",
            "3\n",
            "1 3\n",
            "42 9829  1  ['стоять на своём посту']['Честно выполнять свой долг.']\n",
            "42 13369 0  ['Стоять на посту', 'быть на посту', 'Стоять на своем посту', 'быть на своем посту'][' исполнять свои обязанности, свой долг']\n",
            "42 13560 0  ['Стать на пути', 'встать на пути', 'стоять на пути', 'стать поперек пути ', 'встать поперек пути ', 'стоять поперек пути '][' мешать, быть препятствием кому-либо в чем-либо']\n",
            "3\n",
            "1 2\n",
            "43 9831  2  ['стоять на стороне']['Поддерживать кого-либо в чём-либо, разделяя его образ мыслей.']\n",
            "43 17262 1  ['тянет на сторону'][]             \n",
            "2\n",
            "44 9832  2  ['стоять на страже']['Охранять, защищать что-либо.']\n",
            "44 9833  2  ['стоять на стрёме']['Охранять кого-либо (кто обычно занят чем-то непозволительным), чтобы предупредить в случае опасности.']\n",
            "1\n",
            "45 9837  3  ['стоять над душой']['Мешать, надоедать своим долгим присутствием.']\n",
            "45 11994 0  ['Стоять над душой', 'торчать над душой'][' неотступно находиться около кого-либо, надоедая, надоедливо, назойливо приставать с чем-либо, просить о чем-либо']\n",
            "1\n",
            "46 9841  1  ['стоять поперёк глотки']['Быть невыносимым для кого-либо, досаждать кому-либо.']\n",
            "46 9842  2  ['стоять поперёк горла']['Очень надоедать кому-либо, предельно раздражать кого-либо.']\n",
            "1\n",
            "47 9843  0  ['стоять поперёк пути']['Быть препятствием; очень мешать.']\n",
            "47 13560 0  ['Стать на пути', 'встать на пути', 'стоять на пути', 'стать поперек пути ', 'встать поперек пути ', 'стоять поперек пути '][' мешать, быть препятствием кому-либо в чем-либо']\n",
            "1\n",
            "48 9853  1  ['страх сколько']['Очень много.']\n",
            "48 17152 0  ['страсть сколько'][]             \n",
            "2\n",
            "49 9855  2  ['страшный суд']['По религиозным представлениям: суд, который якобы будет устроен Богом над всеми людьми (живыми и мёртвыми), когда наступит конец света.']\n",
            "49 15430 1  ['до Страшного суда'][]             \n",
            "2\n",
            "\tength: 24\n"
          ]
        }
      ]
    },
    {
      "cell_type": "code",
      "source": [
        "new_vars.extend(next_variants(2650, 2700)[0])\n",
        "print('\\tlength:', len(new_vars))"
      ],
      "metadata": {
        "colab": {
          "base_uri": "https://localhost:8080/"
        },
        "id": "vfAejCf5pWN-",
        "outputId": "ff0bfc9b-e749-4de7-814b-1ed72d815aa2"
      },
      "execution_count": 23,
      "outputs": [
        {
          "output_type": "stream",
          "name": "stdout",
          "text": [
            "0  9874  1  ['ступить на царство']['Начать царствовать, стать монархом.']\n",
            "0  13752 0  ['Сажать на царство'][' делать царем']\n",
            "2\n",
            "1  9875  1  ['стучать языком']['Болтать попусту, тратить время на пустые разговоры.']\n",
            "1  9891  1  ['сучить языком']['Болтать попусту, тратить время на пустые, ненужные разговоры.']\n",
            "1\n",
            "2  9880  2  ['судить да рядить']['Много обсуждать кого-либо или что-либо; долго говорить, рассуждать о чём-либо.']\n",
            "2  19136 1  ['Судить да рядить', 'Судить и рядить']['говорить, рассуждать, толковать.']\n",
            "1\n",
            "3  9884  5  ['сукин сын', 'сукин ты сын']['Бранное выражение, употребляемое клипу мужского пола.']\n",
            "3  19155 2  ['Сукин сын', 'сукина дочь', 'сукины дети']['употребляется как ругательство для выражения пренебрежительного, презрительного отношения к кому-н.']\n",
            "1\n",
            "4  9895  1  ['схватить верхушки', 'схватывать верхушки']['  Усваивать только первичные, поверхностные знания.']\n",
            "4  9909  1  ['схватывать верхи верхушек']['То же, что <<схватывать верхушки>>.']\n",
            "4  16189 0  ['нахвататься верхушек'][]             \n",
            "2\n",
            "5  9897  4  ['схватить за горло', 'хватать за горло']['Принуждать, притеснять кого-либо, заставлять поступать определённым образом.']\n",
            "5  9902  4  ['схватиться за голову', 'хвататься за голову']['  Приходить в ужас, в отчаяние и т. п.']\n",
            "5  17169 1  ['схватиться за слова'][]             \n",
            "5  19316 1  ['Хвататься за голову', 'Хвататься за волосы']['спохватываться, одумываться, вспомнив, что сделано что-н. не так.']\n",
            "2\n",
            "6  9898  3  ['схватить за рукав', 'хватать за рукав', 'схватить за руку', 'хватать за руку']['  Намеренно задерживать кого-то, мешать, препятствовать кому-либо в деятельности, работе и т. п.']\n",
            "6  9907  2  ['схватиться обеими руками', 'ухватиться обеими руками']['С большой радостью, желанием, охотой воспользоваться чем-либо.']\n",
            "6  10361 2  ['хватать за грудки']['Схватывая кого-либо за грудь, трясти; теснить кого-либо, толкая в грудь.']\n",
            "6  10362 2  ['хватать за душу']['Глубоко волновать, тревожить, вызывая щемящую тоску, боль, радость и т. п.']\n",
            "6  17168 1  ['схватиться за грудки'][]             \n",
            "2\n",
            "7  9900  3  ['схватиться за бока', 'хвататься за бока']['  Очень сильно смеяться, хохотать.']\n",
            "7  9906  4  ['схватиться за ум', 'хватиться за ум']['Образумиться, стать благоразумнее, рассудительнее.']\n",
            "7  10376 4  ['Хвататься за ум']['Стать благоразумнее, рассудительнее, образумиться.']\n",
            "7  11089 0  ['Бог прибрал', 'господь прибрал'][' о чьей-то смерти']\n",
            "7  11146 0  ['Брать в толк', 'взять в толк'][' понять, уяснить, осознать что-либо']\n",
            "7  11375 0  ['Вожжа под хвост попала', 'шлея под хвост попала'][' кто-либо ведет себя крайне неуравновешенно, взбалмошно']\n",
            "7  11434 1  ['Вот тебе и на!', 'Вот те на!', 'Вот так тик!'][' о том, что совершилось или произошло совсем не так, как ожидали']\n",
            "7  11438 0  ['Вот тебе раз!', 'Вот тебе и раз!', 'Вот те раз!', 'Вот те и раз!', 'Вот так раз!'][' выражение удивления, разочарования и т. п.']\n",
            "7  15104 1  ['вот те на']  []             \n",
            "7  19234 1  ['Вот тебе', 'вот тебе и', 'вот тебе и на', 'вот тебе раз', 'вот тебе и раз', 'Вот те', 'вот те и', 'вот те и на', 'вот те раз', 'вот те и раз']['восклицание по поводу чего-н. неожиданного, не соответствующего ожиданиям, удивительного, о том, чего ожидали, но что не совершилось или превратилось не в то, чего ожидали.']\n",
            "2\n",
            "8  9901  1  ['схватиться за волосы', 'хвататься за волосы']['  То же, что <<хвататься за голову>>.']\n",
            "8  9902  4  ['схватиться за голову', 'хвататься за голову']['  Приходить в ужас, в отчаяние и т. п.']\n",
            "8  17169 1  ['схватиться за слова'][]             \n",
            "8  19316 1  ['Хвататься за голову', 'Хвататься за волосы']['спохватываться, одумываться, вспомнив, что сделано что-н. не так.']\n",
            "2\n",
            "9  9902  4  ['схватиться за голову', 'хвататься за голову']['  Приходить в ужас, в отчаяние и т. п.']\n",
            "9  17169 1  ['схватиться за слова'][]             \n",
            "9  19316 1  ['Хвататься за голову', 'Хвататься за волосы']['спохватываться, одумываться, вспомнив, что сделано что-н. не так.']\n",
            "3\n",
            "1 3\n",
            "10 9904  2  ['схватиться за оружие', 'хвататься за оружие']['  Начинать вооружённые действия, вооружённую борьбу.']\n",
            "10 17168 1  ['схватиться за грудки'][]             \n",
            "2\n",
            "11 9906  4  ['схватиться за ум', 'хватиться за ум']['Образумиться, стать благоразумнее, рассудительнее.']\n",
            "11 10376 4  ['Хвататься за ум']['Стать благоразумнее, рассудительнее, образумиться.']\n",
            "11 11089 0  ['Бог прибрал', 'господь прибрал'][' о чьей-то смерти']\n",
            "11 11146 0  ['Брать в толк', 'взять в толк'][' понять, уяснить, осознать что-либо']\n",
            "11 11375 0  ['Вожжа под хвост попала', 'шлея под хвост попала'][' кто-либо ведет себя крайне неуравновешенно, взбалмошно']\n",
            "11 11434 1  ['Вот тебе и на!', 'Вот те на!', 'Вот так тик!'][' о том, что совершилось или произошло совсем не так, как ожидали']\n",
            "11 11438 0  ['Вот тебе раз!', 'Вот тебе и раз!', 'Вот те раз!', 'Вот те и раз!', 'Вот так раз!'][' выражение удивления, разочарования и т. п.']\n",
            "11 15104 1  ['вот те на']  []             \n",
            "11 19234 1  ['Вот тебе', 'вот тебе и', 'вот тебе и на', 'вот тебе раз', 'вот тебе и раз', 'Вот те', 'вот те и', 'вот те и на', 'вот те раз', 'вот те и раз']['восклицание по поводу чего-н. неожиданного, не соответствующего ожиданиям, удивительного, о том, чего ожидали, но что не совершилось или превратилось не в то, чего ожидали.']\n",
            "2\n",
            "12 9911  2  ['сходя в гроб']['Перед смертью (обычно достигнув преклонного возраста).']\n",
            "12 10471 1  ['хоть в гроб']['Можно умирать.']\n",
            "2\n",
            "13 9917  2  ['счёту нет']  ['Великое множество, бесчисленное количество кого-либо или чего-либо.']\n",
            "13 14222 0  ['Счета нет']  [' очень много кого-либо, чего-либо ']\n",
            "13 19151 1  ['Счёту нет', 'без счету']['очень много кого- чего-н.']\n",
            "1\n",
            "14 9918  2  ['считанные минуты']['Очень недолго; короткий промежуток времени.']\n",
            "14 9923  1  ['считать минуты']['Нетерпеливо ждать.']\n",
            "2\n",
            "15 9930  1  ['сшибать с пахвей', 'сшибить с пахвей']['  Привести в замешательство, в растерянность.']\n",
            "15 18633 1  ['Сбить с пахвей', 'Сбиться с пахвей']['сбить, сбиться с толку.']\n",
            "1\n",
            "16 9932  1  ['съезжий двор']['В дореволюционной России: полицейская управа с помещением для арестованных.']\n",
            "16 9933  1  ['съезжий дом']['Административно-полицейская канцелярия.']\n",
            "2\n",
            "17 9936  2  ['сыграть шутку']['(Зло) посмеяться над кем-либо, выставив кого-либо на посмешище, поставив в неловкое, нелепое положение.']\n",
            "17 19154 1  ['Сыграть шутку', 'Сыграть штуку']['подшутить, сделать кому-н. какую-н. неприятность.']\n",
            "1\n",
            "18 9940  2  ['сын своего времени']['Человек, на котором отразились отличительные черты времени, в котором он живёт (жил).']\n",
            "18 15145 1  ['всему своё время'][]             \n",
            "2\n",
            "19 9947  1  ['таить в сердце']['То же, что <<таить в душе>>.']\n",
            "19 10224 2  ['ужалить в самое сердце', 'ужалить в сердце']['Неожиданно причинить большой вред, неприятность кому-либо.']\n",
            "19 16847 1  ['ранить в самое сердце'][]             \n",
            "19 17417 0  ['читать в сердце'][]             \n",
            "19 19342 2  ['Хранить в памяти', 'Хранить в сердце', 'Хранить в душе']['никогда не забывать.']\n",
            "19 19395 1  ['Читать в сердцах']['угадывать чьи-н. мысли, пожелания.']\n",
            "2\n",
            "20 9950  4  ['так и быть'] ['Пусть будет так, согласен (раз другое невозможно).']\n",
            "20 9952  3  ['так и есть', 'так оно и есть']['Действительно.']\n",
            "20 9966  3  ['так тому и быть']['Согласен; пусть так и будет!; вынужден согласиться с тем, что предлагается.']\n",
            "3\n",
            "1 3\n",
            "21 9951  1  ['так и глядит']['Того только и хочет, к тому только и стремится.']\n",
            "21 10039 3  ['того и гляди']['Вот-вот, сейчас может случиться что-либо нежелательное.']\n",
            "21 10602 1  ['чего глядит?']['Почему не обращает внимания, отчего бездействует кто-либо.']\n",
            "21 10703 1  ['чёртом глядит']['Кто-либо проявляет злое, недружелюбное отношение к кому-либо.']\n",
            "21 19309 2  ['Фертом стоять', 'Фертом смотреть', 'Фертом глядеть']['подбоченившись (так, что похоже на букву \"ф\"), развязно, нагло.']\n",
            "2\n",
            "22 9952  3  ['так и есть', 'так оно и есть']['Действительно.']\n",
            "22 9966  3  ['так тому и быть']['Согласен; пусть так и будет!; вынужден согласиться с тем, что предлагается.']\n",
            "2\n",
            "23 9953  2  ['так и жди']  ['Вот-вот (может случиться, произойти что-либо, обычно нежелательное, неприятное).']\n",
            "23 10040 3  ['того и жди'] ['Вот-вот (может случиться что-либо, обычно нежелательное).']\n",
            "1\n",
            "24 9954  1  ['так и знай'] ['Имей в виду, крепко запомни.']\n",
            "24 10031 3  ['то и знай']  ['Не прекращаясь, повторяться.']\n",
            "24 14250 1  ['так и знай(те)', 'так и знай', 'так и знайте'][' употребляется как предупреждение в значении: имей(те) в виду']\n",
            "3\n",
            "1 3\n",
            "25 9955  2  ['так и надо', 'так и нужно']['  Того и заслуживает кто-либо.']\n",
            "25 17196 1  ['так ему и надо!'][]             \n",
            "1\n",
            "26 9959  1  ['так на так'] ['Вещь (в обмен) на вещь; без доплаты.']\n",
            "26 19170 0  ['Так на так', 'Так на так менять']['одну вещь на другую (менять), без придачи.']\n",
            "1\n",
            "27 9965  1  ['так твою растак']['То же, что <<так твою перетак>>>.']\n",
            "27 17197 1  ['так твою так!'][]             \n",
            "2\n",
            "28 9967  2  ['так точно']  ['Да, именно так. Выражение подтверждения чего-либо.']\n",
            "28 19171 0  ['Так точно']  ['употребляется как утвердительный ответ на вопрос в знач.: да, именно так.']\n",
            "1\n",
            "29 9970  3  ['такой-сякой немазаный']['Разный по качествам, большинство из которых отрицательные.']\n",
            "29 14259 0  ['Такой-сякой (сухой) немазаный'][' употребляется взамен перечня каких-либо оценочных слов, характеристик (обычно бранных)']\n",
            "1\n",
            "30 9973  3  ['там и сям']  ['В разных местах, во многих местах; повсюду.']\n",
            "30 19180 1  ['Там и тут', 'там и сям']['везде, повсюду.']\n",
            "1\n",
            "31 9974  2  ['там и тут']  ['В разных местах, во многих местах.']\n",
            "31 19180 1  ['Там и тут', 'там и сям']['везде, повсюду.']\n",
            "1\n",
            "32 9986  1  ['творить себе кумир (кумира)']['Превращать кого-либо или что-либо в объект восхищения, слепого поклонения.']\n",
            "32 19184 1  ['Творить себе кумир', 'Творить себе кумира']['делать из кого- чего-н. предмет поклонения, обожания']\n",
            "1\n",
            "33 9991  2  ['тем паче']   ['Тем более.'] \n",
            "33 13141 0  ['Паче того', 'тем паче'][' более того, тем более']\n",
            "1\n",
            "34 9997  4  ['тёмное пятно']['Факты, порочащие кого-либо; неблаговидные поступки, скрытые преступления.']\n",
            "34 13572 0  ['Темное пятно', 'черное пятно'][' что-либо очень сильно позорящее, порочащее']\n",
            "1\n",
            "35 10003 2  ['тепличное растение']['Изнеженный, слабый человек.']\n",
            "35 14288 1  ['тепличный цветок, тепличное растение', 'тепличный цветок', 'тепличное растение'][' о хрупком, изнеженном человеке, не приспособленном к жизни (в результате условий воспитания и быта)']\n",
            "1\n",
            "36 10005 4  ['терновый венец']['Символ страданий, мученичества.']\n",
            "36 10006 1  ['терновый венок']['То же, что <<терновый венец>>.']\n",
            "2\n",
            "37 10011 3  ['теряться в догадках']['Напрасно стараться найти объяснения чему-либо.']\n",
            "37 19195 1  ['Теряться в догадках', 'Теряться в предположениях']['не уметь найти правильного ответа на что-н.']\n",
            "1\n",
            "38 10013 1  ['теряться из вида']['Переставать быть видимым. Из-под машины стелилась узкая дорога….']\n",
            "38 17710 1  ['терять из виду']['переставать помнить о ком- чем-н., переставать считаться с наличием кого- чего-н.;']\n",
            "2\n",
            "39 10015 1  ['типун тебе (ему, ей и т. п.) на язык']['Недоброе пожелание тому, кто сказал, говорит не то, что следует.']\n",
            "39 10016 1  ['типун тебе (ему, ей и т. п.) под язык']['То же, что <<типун тебе на язык>>.']\n",
            "1\n",
            "40 10021 3  ['тихим сапом', 'тихой сапой']['  Исподтишка, скрытно, незаметно (действовать, добиваться чего-либо).']\n",
            "40 10022 1  ['тихими стопами']['Потихоньку, украдкой, не привлекая к себе внимания.']\n",
            "2\n",
            "41 10026 4  ['ткнуть носом', 'тыкать носом']['  Грубо указывать в назидание на что-либо.']\n",
            "41 10141 1  ['тыкать в нос']['(П. Павленко. Счастье).']\n",
            "41 10314 2  ['уткнуть нос', 'уткнуться носом']['  С увлечением, не отрываясь, долго читать.']\n",
            "41 12977 2  ['уткнуть нос', 'уткнуться носом'][' сосредоточиться на чем-либо, быть всецело поглощенным чем-либо']\n",
            "41 19236 1  ['Тыкать носом', 'ткнуть носом']['указывать кому-н. что-н., обращать чье- н. внимание на что-н.']\n",
            "41 19237 1  ['Тыкать свой нос', 'Тыкать нос']['вмешиваться (не в свое дело).']\n",
            "2\n",
            "42 10028 1  ['то да сё']   ['Разное; одно и другое (говорить, рассказывать и т. п.).']\n",
            "42 19200 3  ['То, сё', 'того, сего', 'то да сё', 'того да сего']['выражение употребляется для неопределенного указания на разные дела, обстоятельства, слова и т.п., к-рые трудно назвать или нельзя или не стоит называть.']\n",
            "1\n",
            "43 10030 4  ['то и дело']  ['Беспрерывно; повторяясь.']\n",
            "43 10032 4  ['то ли дело'] ['Значительно лучше; предпочтительнее.']\n",
            "2\n",
            "44 10031 3  ['то и знай']  ['Не прекращаясь, повторяться.']\n",
            "44 14250 1  ['так и знай(те)', 'так и знай', 'так и знайте'][' употребляется как предупреждение в значении: имей(те) в виду']\n",
            "2\n",
            "45 10039 3  ['того и гляди']['Вот-вот, сейчас может случиться что-либо нежелательное.']\n",
            "45 10602 1  ['чего глядит?']['Почему не обращает внимания, отчего бездействует кто-либо.']\n",
            "45 10703 1  ['чёртом глядит']['Кто-либо проявляет злое, недружелюбное отношение к кому-либо.']\n",
            "45 19309 2  ['Фертом стоять', 'Фертом смотреть', 'Фертом глядеть']['подбоченившись (так, что похоже на букву \"ф\"), развязно, нагло.']\n",
            "2\n",
            "46 10058 3  ['только и видели', 'только его и видели', 'Только и видел']['Внезапно исчезли.']\n",
            "46 10061 2  ['только и жил']['Кто-либо внезапно умер.']\n",
            "2\n",
            "47 10064 2  ['только и света в окошке', 'только и света в окне']['Единственное утешение.']\n",
            "47 13778 0  ['Только и свету в окне', 'Только и света в окне', 'Только и свету в окошке', 'Только и света в окошке'][' очень рано, на рассвете']\n",
            "1\n",
            "48 10068 3  ['только птичьего молока нет']['О полном достатке, изобилии.']\n",
            "48 13536 0  ['птичьего молока не хватает', 'птичьего молока не достает', 'Только птичьего молока не хватает', 'Только птичьего молока не достает'][' о полном изобилии']\n",
            "1\n",
            "49 10078 1  ['тот или другой']['Любой из двух; какой-либо из двух.']\n",
            "49 14326 0  ['И тот и другой'][' оба, каждый из двух ']\n",
            "2\n",
            "\tlength: 49\n"
          ]
        }
      ]
    },
    {
      "cell_type": "code",
      "source": [
        "write_vars(new_vars)"
      ],
      "metadata": {
        "id": "BV7p4bXfpWN-"
      },
      "execution_count": 28,
      "outputs": []
    },
    {
      "cell_type": "code",
      "source": [
        "new_vars, to_split = next_variants(2700, 2750)\n",
        "print('\\tength:', len(new_vars))"
      ],
      "metadata": {
        "colab": {
          "base_uri": "https://localhost:8080/"
        },
        "id": "RKnbOO3TpbR3",
        "outputId": "f769bc61-c8a9-4e5c-cae2-b60b49d4c575"
      },
      "execution_count": 29,
      "outputs": [
        {
          "output_type": "stream",
          "name": "stdout",
          "text": [
            "0  10079 3  ['тот свет']   ['Загробный мир.']\n",
            "0  10938 4  ['этот свет']  ['Земной мир.']\n",
            "0  16128 2  ['на том свете', 'на этом свете'][]             \n",
            "2\n",
            "1  10080 3  ['точить балясы', 'точить лясы']['Пустословить, заниматься пустой болтовнёй.']\n",
            "1  17239 2  ['точить лясы']['болтать пустяки, заниматься шутливой болтовней.']\n",
            "1\n",
            "2  10082 2  ['точить нож'] ['Испытывать злобу против кого-либо.']\n",
            "2  19211 0  ['Точить нож', 'Точить меч']['готовиться к нападению на кого-н., к войне против кого-н., убийству.']\n",
            "1\n",
            "3  10088 5  ['точка зрения']['Определённый взгляд на то или иное явление, определённое понимание их.']\n",
            "3  16925 0  ['с точки зрения'][]             \n",
            "2\n",
            "4  10100 1  ['травленый волк']['Человек, испытавший невзгоды, неудачи и поражения, приобретший богатый житейский опыт.']\n",
            "4  19217 1  ['Травленый зверь', 'Травленый волк', 'Травленая лиса']['опытный, видавший виды человек.']\n",
            "1\n",
            "5  10102 3  ['трепать нервы', 'Истрепать нервы']['Предельно расстраивать, заставлять нервничать кого-либо.']\n",
            "5  19218 1  ['Трепать нервы']['заставлять кого-н. нервничать, утомлять психически.']\n",
            "1\n",
            "6  10106 3  ['трепать язык', 'Голова трещит', 'башка трещит']['Говорить зря, попусту; пустословить.']\n",
            "6  19219 1  ['Трепать языком']['говорить (зря, без толку, для препровождения времени).']\n",
            "1\n",
            "7  10113 1  ['тронутый в уме']['То же, что <<тронутый умом>>.']\n",
            "7  10114 1  ['тронутый умом']['Немного ненормальный; имеющий странности.']\n",
            "2\n",
            "8  10115 1  ['тронуться в уме']['Слегка помешаться; стать психически ненормальным, душевно больным.']\n",
            "8  17245 1  ['тронуться умом'][]             \n",
            "1\n",
            "9  10116 2  ['трубный глас']['По христианскому вероучению: звук архангельской трубы в день Страшного суда.']\n",
            "9  15431 0  ['до трубного гласа'][]             \n",
            "2\n",
            "10 10134 2  ['тупой на ухо', 'Тугой на ухо']['  Глуховатый, глухой.']\n",
            "10 17250 1  ['туг на ухо'] []             \n",
            "1\n",
            "11 10141 1  ['тыкать в нос']['(П. Павленко. Счастье).']\n",
            "11 10314 2  ['уткнуть нос', 'уткнуться носом']['  С увлечением, не отрываясь, долго читать.']\n",
            "11 12977 2  ['уткнуть нос', 'уткнуться носом'][' сосредоточиться на чем-либо, быть всецело поглощенным чем-либо']\n",
            "11 19236 1  ['Тыкать носом', 'ткнуть носом']['указывать кому-н. что-н., обращать чье- н. внимание на что-н.']\n",
            "11 19237 1  ['Тыкать свой нос', 'Тыкать нос']['вмешиваться (не в свое дело).']\n",
            "2\n",
            "12 10150 1  ['тяжёл на ногу (ноги)']['  Не может много или быстро ходить, быстро устаёт.']\n",
            "12 17260 1  ['тяжёл на ногу'][]             \n",
            "1\n",
            "13 10152 2  ['тяжёл на руку']['  Человек, который обладает большой силой удара, сильно бьёт рукой.']\n",
            "13 10154 2  ['тяжёлая рука']['О том, кто больно бьёт, наносит сильные удары.']\n",
            "2\n",
            "14 10162 1  ['тянуть за язык']['Провоцировать на какое-либо высказывание; вынуждать что-либо сказать, ответить, высказаться и т. п.']\n",
            "14 14737 1  ['тянуть или дергать за язык', 'тянуть за язык', 'дёргать за язык'][' заставлять говорить, высказываться']\n",
            "1\n",
            "15 10168 2  ['тянуть сторону']['.']          \n",
            "15 17262 1  ['тянет на сторону'][]             \n",
            "2\n",
            "16 10173 1  ['у места']    ['Кстати, уместно.']\n",
            "16 16903 1  ['с места']    []             \n",
            "2\n",
            "17 10179 4  ['убей бог', 'убей меня бог']['Клятвенное заверение в чём-либо.']\n",
            "17 10183 3  ['убить бобра']['Приобрести что-либо ценное; добиться чего-либо значительного.']\n",
            "2\n",
            "18 10187 3  ['увенчать лаврами', 'увенчивать лаврами']['  Прославлять, возвеличивать кого-либо или что-либо.']\n",
            "18 14406 0  ['Увенчать славой'][' прославить']\n",
            "2\n",
            "19 10188 2  ['увести в сторону', 'уводить в сторону']['  Отвлекать от главного, заслонять главное второстепенным, несущественным.']\n",
            "19 10240 2  ['уйти в сторону', 'уходить в сторону']['  Уклоняться в рассуждении, разговоре от главного или нежелательного.']\n",
            "19 10413 2  ['ходить в струне']['. Беспрекословно подчиняться, слушаться кого-либо.']\n",
            "19 10431 1  ['ходить по струнке']['(Чернышевский. Что делать?).']\n",
            "2\n",
            "20 10190 4  ['увидеть свет']['Родиться.']  \n",
            "20 13780 0  ['Выйти в свет', 'увидеть свет'][' быть опубликованным (о печатном издании)']\n",
            "20 15009 1  ['вводить в свет'][]             \n",
            "2\n",
            "21 10204 2  ['ударило в нос', 'ударить в нос']['  Остро почувствовать. О резком или неприятном запахе.']\n",
            "21 10209 1  ['ударить по носу']['  Проучить кого-либо.']\n",
            "21 17278 0  ['ударять в ноги'][]             \n",
            "2\n",
            "22 10210 6  ['ударить по рукам', 'ударять по рукам', 'удариться по рукам', 'ударяться по рукам']['  Заключить сделку.']\n",
            "22 11060 3  ['Бить по рукам', 'Ударять по рукам', 'Ударить по рукам'][' заключать деловое соглашение, торговую сделку, договор']\n",
            "22 13692 0  ['Бить по рукам', 'ударить по рукам'][' заключать (заключить) сделку, соглашение']\n",
            "1\n",
            "23 10213 1  ['удариться в бега']['Поспешно убегать; спасаться бегством.']\n",
            "23 10214 1  ['удариться в ноги', 'ударяться в ноги']['  Умолять, просить кого-либо о чём-либо, припадая к ногам того, у кого просят.']\n",
            "23 17278 0  ['ударять в ноги'][]             \n",
            "2\n",
            "24 10214 1  ['удариться в ноги', 'ударяться в ноги']['  Умолять, просить кого-либо о чём-либо, припадая к ногам того, у кого просят.']\n",
            "24 17278 0  ['ударять в ноги'][]             \n",
            "2\n",
            "25 10222 1  ['удрать штуку']['Сделать что-либо необычное, несуразное, невообразимое.']\n",
            "25 19252 3  ['Удрать штуку', 'Удрать глупость', 'Удрать дичь']['устроить что-н. такое, что может крайне удивить, привести в изумление, недоумение.']\n",
            "1\n",
            "26 10224 2  ['ужалить в самое сердце', 'ужалить в сердце']['Неожиданно причинить большой вред, неприятность кому-либо.']\n",
            "26 16847 1  ['ранить в самое сердце'][]             \n",
            "2\n",
            "27 10225 1  ['ужас как']   ['Очень, чрезмерно.']\n",
            "27 10226 1  ['ужас какой'] ['Очень, чрезвычайно (сильный, смелый и т. п.).']\n",
            "1\n",
            "28 10229 1  ['узнавать всё подноготное']['Выяснять о человеке всё, даже то, что тщательно скрывается.']\n",
            "28 13262 0  ['Знать всю подноготную', 'узнать всю подноготную'][' запускания игл или гвоздей под ногти, чтобы заставить обвиняемого говорить правду)']\n",
            "28 17281 1  ['узнать всю подноготную'][]             \n",
            "1\n",
            "29 10234 1  ['уйти в забвенье', 'уходить в забвенье']['  Полностью забываться, исчезать в памяти кого-либо.']\n",
            "29 16758 1  ['приходить в забвение'][]             \n",
            "2\n",
            "30 10239 3  ['уйти в самого себя', 'уйти в себя', 'уходить в самого себя', 'уходить в себя']['Быть поглощённым своими мыслями; углубляться в свои мысли, не замечая окружающего.']\n",
            "30 10248 2  ['уйти от самого себя']['Избавиться, освободиться от своих назойливых мыслей, чувств, настроений.']\n",
            "30 10249 3  ['уйти от себя']['Избавиться, освободиться от своих назойливых мыслей, чувств, настроений.']\n",
            "30 10329 2  ['уходить от себя']['  Изменять своим чувствам, привычкам, убеждениям.']\n",
            "2\n",
            "31 10240 2  ['уйти в сторону', 'уходить в сторону']['  Уклоняться в рассуждении, разговоре от главного или нежелательного.']\n",
            "31 10413 2  ['ходить в струне']['. Беспрекословно подчиняться, слушаться кого-либо.']\n",
            "31 10431 1  ['ходить по струнке']['(Чернышевский. Что делать?).']\n",
            "2\n",
            "32 10248 2  ['уйти от самого себя']['Избавиться, освободиться от своих назойливых мыслей, чувств, настроений.']\n",
            "32 10249 3  ['уйти от себя']['Избавиться, освободиться от своих назойливых мыслей, чувств, настроений.']\n",
            "32 10329 2  ['уходить от себя']['  Изменять своим чувствам, привычкам, убеждениям.']\n",
            "3\n",
            "1 2\n",
            "33 10249 3  ['уйти от себя']['Избавиться, освободиться от своих назойливых мыслей, чувств, настроений.']\n",
            "33 10329 2  ['уходить от себя']['  Изменять своим чувствам, привычкам, убеждениям.']\n",
            "2\n",
            "34 10250 2  ['уйти с головой', 'уходить с головой']['  Всецело, полностью отдаваться чему-либо.']\n",
            "34 10424 1  ['ходить по головам']['Низко летать (об атакующих наземные цели самолётах).']\n",
            "34 11685 1  ['Ходить на голове'][' очень шалить, шуметь, озорничать, нарушая дозволенное (обычно о детях)']\n",
            "2\n",
            "35 10251 2  ['указать дверь', 'указать на дверь', 'указывать дверь', 'указывать на дверь']['  Требовать от кого-либо, чтобы ушёл; выгонять, выставлять.']\n",
            "35 19258 0  ['Указать двери', 'Указать на дверь']['прогнать от себя, попросить больше не приходить.']\n",
            "1\n",
            "36 10252 0  ['указать своё место']['Дать понять кому-либо, чего он действительно стоит, представляет собой; одёрнуть кого-либо.']\n",
            "36 12699 1  ['поставить на место', 'поставить на свое место', 'указать место', 'указать его место'][' дать понять, указать зазнавшемуся, слишком много возомнившему о себе человеку на то, что он собою представляет в действительности']\n",
            "36 17287 1  ['уложить на месте'][]             \n",
            "2\n",
            "37 10259 3  ['ум за разум заходит', 'ум за разум зашёл']['  Теряется способность рассуждать, действовать трезво, разумно.']\n",
            "37 14459 0  ['Ум за разум зашел (заходит)'][' о состоянии, при котором не может разумно рассуждать, действовать ']\n",
            "37 18894 1  ['Ум за разум заходит']['о том, кто не в состоянии соображать, разумно рассуждать или действовать.']\n",
            "1\n",
            "38 10260 1  ['ума помраченье', 'уму помраченье']['Крайне восхищён, удивлён.']\n",
            "38 18750 1  ['Уму помрачение']['о чем-н. удивительном, поразительном, необыкновенном.']\n",
            "1\n",
            "39 10263 5  ['ума не приложу']['Совсем не могу понять что-либо, догадаться о чём-либо.']\n",
            "39 19271 1  ['Ума не приложить']['не догадаться, не понять, не сообразить чего-н.']\n",
            "1\n",
            "40 10265 2  ['умирать с голоду']['Испытывать сильный голод; долго голодать.']\n",
            "40 10268 0  ['уморить с голоду']['(Фонвизин. Недоросль. Прилож.).']\n",
            "40 16046 1  ['морить голодом'][]             \n",
            "2\n",
            "41 10266 1  ['умом тронуться']['То же, что <<тронуться в уме>>.']\n",
            "41 10267 1  ['умом тряхнуться']['Сойти с ума, стать душевнобольным.']\n",
            "41 17291 0  ['ума рехнулся'][]             \n",
            "2\n",
            "42 10267 1  ['умом тряхнуться']['Сойти с ума, стать душевнобольным.']\n",
            "42 17291 0  ['ума рехнулся'][]             \n",
            "2\n",
            "43 10268 0  ['уморить с голоду']['(Фонвизин. Недоросль. Прилож.).']\n",
            "43 16046 1  ['морить голодом'][]             \n",
            "2\n",
            "44 10272 2  ['умываться кровью']['Сражаться за что-либо.']\n",
            "44 19279 1  ['Упиться кровью']['насладиться убийством кого-н.']\n",
            "2\n",
            "45 10277 3  ['упаси бог']  ['То же, что <<боже упаси>> (в 1-м знач.).']\n",
            "45 17295 0  ['упаси боже'] []             \n",
            "1\n",
            "46 10292 6  ['ускользать из рук', 'ускользнуть из рук']['Спасаться от кого-либо или от чего-либо в последний момент, будучи почти захваченным, настигнутым.']\n",
            "46 14476 0  ['Ускользнуть из рук', 'Ускользнуть из-под пальцев'][' не достаться кому-либо, оказаться недосягаемым']\n",
            "1\n",
            "47 10293 1  ['ускользать из-под пальцев', 'ускользнуть из-под пальцев']['  Утрачиваться для кого-либо или не доставаться кому-либо.']\n",
            "47 14476 0  ['Ускользнуть из рук', 'Ускользнуть из-под пальцев'][' не достаться кому-либо, оказаться недосягаемым']\n",
            "1\n",
            "48 10314 2  ['уткнуть нос', 'уткнуться носом']['  С увлечением, не отрываясь, долго читать.']\n",
            "48 12977 2  ['уткнуть нос', 'уткнуться носом'][' сосредоточиться на чем-либо, быть всецело поглощенным чем-либо']\n",
            "48 19236 1  ['Тыкать носом', 'ткнуть носом']['указывать кому-н. что-н., обращать чье- н. внимание на что-н.']\n",
            "48 19237 1  ['Тыкать свой нос', 'Тыкать нос']['вмешиваться (не в свое дело).']\n",
            "3\n",
            "1 2\n",
            "49 10320 2  ['ухо в ухо']  ['Совсем близко, рядом, наравне (идти, бежать и т. п.). О животных.']\n",
            "49 10321 0  ['ухо к уху']  ['То же, что <<ухо в ухо>>.']\n",
            "2\n",
            "\tength: 22\n"
          ]
        }
      ]
    },
    {
      "cell_type": "code",
      "source": [
        "new_vars.extend(next_variants(2750, 2800)[0])\n",
        "print('\\tlength:', len(new_vars))"
      ],
      "metadata": {
        "colab": {
          "base_uri": "https://localhost:8080/"
        },
        "id": "9Z1GREdKpbR4",
        "outputId": "67640a75-e290-48db-eb06-d282ec0aeca6"
      },
      "execution_count": 30,
      "outputs": [
        {
          "output_type": "stream",
          "name": "stdout",
          "text": [
            "0  10328 2  ['уходить на задний план', 'отходить на задний план']['Терять свою важность, значение.']\n",
            "0  16487 1  ['отодвигать на задний план'][]             \n",
            "0  17717 1  ['ходить на задних лапках']['прислуживаться, угодничать -н.']\n",
            "2\n",
            "1  10335 2  ['ушки на макушке', 'уши на макушке']['Кто-либо насторожён, очень внимателен, готов к чему-либо непредвиденному, неожиданному.']\n",
            "1  19306 1  ['Ушки на макушке']['о насторожившемся человеке (подобно животному, поднявшему уши).']\n",
            "1\n",
            "2  10358 3  ['хватает духу', 'хватило духу']['  Есть решительность, настойчивость, смелость для выполнения, осуществления чего-либо.']\n",
            "2  14533 0  ['Хватать воздух'][' делать быстрые, короткие вдохи открытым ртом']\n",
            "2  18215 1  ['Захватило дух', 'Захватило дыхание']['о временной приостановке, перерыве, замирании дыхания от холода, быстрого движения или душевного волнения.']\n",
            "2\n",
            "3  10359 1  ['хватает пороху', 'хватило пороху']['  Достаточно сил, энергии, воли и т. п. для выполнения, осуществления чего-либо.']\n",
            "3  13352 1  ['не хватает пороху', 'не хватает пороха'][' недостаточно энергии, сил для осуществления чего-либо']\n",
            "2\n",
            "4  10361 2  ['хватать за грудки']['Схватывая кого-либо за грудь, трясти; теснить кого-либо, толкая в грудь.']\n",
            "4  17168 1  ['схватиться за грудки'][]             \n",
            "2\n",
            "5  10363 2  ['хватать за живое', 'Хватить за живое']['Глубоко волновать, захватывать.']\n",
            "5  17328 1  ['хвататься за животы'][]             \n",
            "2\n",
            "6  10364 2  ['хватать за сердце']['  То же, что <<хватать за душу>>.']\n",
            "6  13838 0  ['Брать за сердце', 'взять за сердце', 'хватать за сердце'][' волновать, производить сильное впечатление.']\n",
            "6  19013 1  ['Брать за сердце']['волновать, наводить тоску, производить сильное грустное впечатление.']\n",
            "2\n",
            "7  10375 4  ['хватить лишнего (лишнее)']['Выпить спиртного больше, чем следует.']\n",
            "7  12582 0  ['Хватить лишнего (лишку)']['впасть в излишнюю крайность, утратить чувство меры ']\n",
            "1\n",
            "8  10376 4  ['Хвататься за ум']['Стать благоразумнее, рассудительнее, образумиться.']\n",
            "8  11089 0  ['Бог прибрал', 'господь прибрал'][' о чьей-то смерти']\n",
            "8  11146 0  ['Брать в толк', 'взять в толк'][' понять, уяснить, осознать что-либо']\n",
            "8  11375 0  ['Вожжа под хвост попала', 'шлея под хвост попала'][' кто-либо ведет себя крайне неуравновешенно, взбалмошно']\n",
            "8  11434 1  ['Вот тебе и на!', 'Вот те на!', 'Вот так тик!'][' о том, что совершилось или произошло совсем не так, как ожидали']\n",
            "8  11438 0  ['Вот тебе раз!', 'Вот тебе и раз!', 'Вот те раз!', 'Вот те и раз!', 'Вот так раз!'][' выражение удивления, разочарования и т. п.']\n",
            "8  14558 4  ['ходуном ходить (идти, пойти)', 'ходуном ходить', 'ходуном идти', 'ходуном пойти']['сильно трястись, сотрясаться ']\n",
            "8  15104 1  ['вот те на']  []             \n",
            "8  18078 2  ['отдать долг природе']['умереть (в этом знач. также с прибавкой: последний долг);']\n",
            "8  18836 1  ['Отдать дань природе']['поступить сообразно своим свойствам.']\n",
            "8  19234 1  ['Вот тебе', 'вот тебе и', 'вот тебе и на', 'вот тебе раз', 'вот тебе и раз', 'Вот те', 'вот те и', 'вот те и на', 'вот те раз', 'вот те и раз']['восклицание по поводу чего-н. неожиданного, не соответствующего ожиданиям, удивительного, о том, чего ожидали, но что не совершилось или превратилось не в то, чего ожидали.']\n",
            "2\n",
            "9  10385 5  ['хлеб да соль!', 'хлеб соль!']['Приветствие тем, кого застали за едой.']\n",
            "9  10387 2  ['хлеб-соль']  ['Традиционное народное название угощения (различных видов пищи и напитков).']\n",
            "9  17333 1  ['хлеб-соль вам!'][]             \n",
            "2\n",
            "10 10387 2  ['хлеб-соль']  ['Традиционное народное название угощения (различных видов пищи и напитков).']\n",
            "10 17333 1  ['хлеб-соль вам!'][]             \n",
            "2\n",
            "11 10390 2  ['хлебнуть горького до слёз']['Испытать очень много, в избытке лишений, невзгод и т. п.']\n",
            "11 10393 2  ['хлебнуть горячего до слёз', 'хлебнуть до слёз']['То же, что <<хлебнуть горького до слёз>>.']\n",
            "2\n",
            "12 10397 2  ['хлебом не корми']['Совсем ничего не надо тому, кто любой ценой, любыми средствами хочет получить желаемое.']\n",
            "12 19325 1  ['Хлебом не корми']['об имеющем к чему-н. большое пристрастие.']\n",
            "1\n",
            "13 10410 1  ['хмель вышел из головы']['Кто-либо стал трезвым, отрезвел.']\n",
            "13 11539 1  ['Не выходить из головы', 'Не выходить из ума'][' быть постоянно в мыслях, в сознании']\n",
            "13 11660 1  ['Выходить из головы', 'Не выходить из головы'][' ускользать из памяти, забываться']\n",
            "2\n",
            "14 10413 2  ['ходить в струне']['. Беспрекословно подчиняться, слушаться кого-либо.']\n",
            "14 10431 1  ['ходить по струнке']['(Чернышевский. Что делать?).']\n",
            "1\n",
            "15 10417 2  ['ходить козырем']['Держать себя молодцевато и с важностью или гордо, надменно.']\n",
            "15 17347 1  ['ходить с козырей'][]             \n",
            "2\n",
            "16 10419 2  ['ходить на задних лапах (лапках)']['Заискивать перед кем-либо; угодничать, прислуживаться.']\n",
            "16 17717 1  ['ходить на задних лапках']['прислуживаться, угодничать -н.']\n",
            "1\n",
            "17 10422 3  ['ходить на помочах']['Полностью зависеть от кого-либо, утратив самостоятельность.']\n",
            "17 13327 1  ['быть на помочах', 'ходить на помочах'][' будучи несамостоятельным, нерешительным в своих поступках, подчиняться кому-либо']\n",
            "1\n",
            "18 10424 1  ['ходить по головам']['Низко летать (об атакующих наземные цели самолётах).']\n",
            "18 11685 1  ['Ходить на голове'][' очень шалить, шуметь, озорничать, нарушая дозволенное (обычно о детях)']\n",
            "2\n",
            "19 10433 0  ['ходить с сумой']['Нищенствовать, побираться  (Ю. Нагибин. Трудный путь).']\n",
            "19 19268 4  ['Сойти с ума', 'спятить с ума', 'свихнуть с ума', 'своротить с ума', 'спрыгнуть с ума']['стать сумасшедшим, помешанным, лишиться разума, рассудка.']\n",
            "19 19270 1  ['Сходить с ума']['очень увлекаться кем- чем-н., быть в восторге, восхищении откого- чего-н.']\n",
            "2\n",
            "20 10435 1  ['ходить ходором']['Находиться в состоянии крайнего возбуждения, неистовствовать.']\n",
            "20 10436 3  ['ходить ходуном']['Сильно колебаться, сотрясаться, дрожать.']\n",
            "20 19334 2  ['Ходить ходенём ', 'Ходить ходуном', 'Ходить ходором']['трястись, сотрясаться.']\n",
            "1\n",
            "21 10436 3  ['ходить ходуном']['Сильно колебаться, сотрясаться, дрожать.']\n",
            "21 19334 2  ['Ходить ходенём ', 'Ходить ходуном', 'Ходить ходором']['трястись, сотрясаться.']\n",
            "2\n",
            "22 10449 2  ['хозяин положения']['Человек, который имеет преимущество в чём-либо, господствует в каком-либо отношении.']\n",
            "22 13310 0  ['Хозяин положения', 'господин положения'][' о том, кто может действовать независимо, по своему усмотрению в данной обстановке']\n",
            "1\n",
            "23 10450 2  ['хозяин своему слову']['Человек, который всегда делает то, что говорит, у которого слова не расходятся с делом.']\n",
            "23 13914 0  ['Быть господином своего слова', 'Быть господином своему слову', 'Быть хозяином своего слова', 'Быть хозяином своему слову'][' о лице, выполняющем данное слово, обещание']\n",
            "23 15296 1  ['господин своего слова'][]             \n",
            "23 17719 0  ['хозяин своего слова'][]             \n",
            "1\n",
            "24 10470 6  ['хоть бы что']['.']          \n",
            "24 10526 3  ['хоть ты что']['Ничего нельзя сделать; приходится примириться с чем-либо.']\n",
            "2\n",
            "25 10475 1  ['хоть в петлю залезай']['О безвыходном, затруднительном положении.']\n",
            "25 10476 3  ['хоть в петлю лезь', 'В петлю лезть', 'Хоть в петлю лезть']['Выражение крайнего отчаяния от бессилия, невозможности что-либо предпринять, чтобы выйти из тяжёлого, безвыходного положения.']\n",
            "1\n",
            "26 10483 3  ['хоть глаз выколи']['Совершенно темно, ничего не видно.']\n",
            "26 17938 1  ['(Темно) хоть глаз выколи']['очень темно, ничего не видно.']\n",
            "1\n",
            "27 10488 1  ['хоть головой об стену (стенку) бейся']['Выражение отчаяния, бессилия из-за невозможности что-либо сделать, изменить.']\n",
            "27 17358 1  ['хоть головой об стену бейся'][]             \n",
            "1\n",
            "28 10490 2  ['хоть завались']['Очень много, в изобилии.']\n",
            "28 12094 1  ['хоть залейся'][' об изобилии, множестве чего-либо']\n",
            "28 13480 1  ['Хоть провалиться', 'готов провалиться', 'готов сквозь землю провалиться', 'рад провалиться', 'рад сквозь землю провалиться'][' о чувстве большой неловкости, стыда']\n",
            "2\n",
            "29 10517 1  ['хоть разбейся']['Как ни старайся, что ни делай.']\n",
            "29 10518 3  ['хоть разорвись']['Очень, предельно занят кто-либо делом, постоянными заботами, хлопотами.']\n",
            "2\n",
            "30 10520 4  ['хоть святых вон выноси', 'хоть святых выноси']['Невозможно, невыносимо, стыдно терпеть что-либо.']\n",
            "30 13809 0  ['Хоть святых выноси', 'Хоть святых неси', 'Хоть святых вон выноси', 'Хоть святых вон неси'][' о чем-либо ужасном, невыносимом для зрения или слуха.']\n",
            "2\n",
            "31 10523 1  ['хоть топор вешай']['Предельно душно; нечем дышать.']\n",
            "31 19210 1  ['Хоть топор вешай', 'Хоть топоры вешай']['о спертом воздухе.']\n",
            "1\n",
            "32 10533 4  ['хочешь не хочешь', 'хошь не хошь']['  Независимо от желания.']\n",
            "32 19339 2  ['Хочешь не хочешь', 'хоти не хоти']['волей-неволей, независимо от чьего-н. желания, если даже не хочешь.']\n",
            "1\n",
            "33 10534 1  ['храни бог']  ['Выражение предупреждения, предостережения о нежелательности, недопустимости чего-либо.']\n",
            "33 10535 1  ['храни тебя бог', 'храни вас бог', 'храни его бог', 'храни ее бог', 'храни их бог']['Форма пожелания благополучия кому-либо (чаще при прощании, расставании, а также вместо приветствия).']\n",
            "2\n",
            "34 10556 3  ['хуже горькой редьки']['Что-либо или кто-либо невыносимы, нетерпимы.']\n",
            "34 13629 0  ['Хуже горькой редьки', 'Хуже горькой редьки надоесть'][' в высшей степени ']\n",
            "1\n",
            "35 10561 5  ['царица небесная']['Богородица, Богоматерь.']\n",
            "35 10568 4  ['царь небесный']['Бог.']       \n",
            "2\n",
            "36 10566 1  ['царь в голове']['Ум, разум; сообразительность.']\n",
            "36 19347 3  ['Царь в голове', 'С царем в голове', 'со своим царем в голове']['противоп. без царя в голове.']\n",
            "1\n",
            "37 10581 2  ['цыганский пот']['Озноб, дрожь от холода.']\n",
            "37 19349 1  ['Цыганский пот', 'Цыганский пот пробирает']['озноб, ощущение холода.']\n",
            "1\n",
            "38 10583 1  ['чай да сахар']['Доброе пожелание тем, кого застали за питьём чая.']\n",
            "38 10584 1  ['чай с сахаром']['То же, что <<чай да сахар>>.']\n",
            "38 18978 1  ['Чаи да сахары']['чаепитие.']  \n",
            "38 19352 1  ['Чай да сахар', 'чай и сахар!']['приветствие, доброе пожелание тем, кого застали за чаепитием.']\n",
            "3\n",
            "1 4\n",
            "39 10584 1  ['чай с сахаром']['То же, что <<чай да сахар>>.']\n",
            "39 19352 1  ['Чай да сахар', 'чай и сахар!']['приветствие, доброе пожелание тем, кого застали за чаепитием.']\n",
            "2\n",
            "40 10589 1  ['час от часу']['С течением времени, постепенно. О постепенном усилении или ослаблении чего-либо.']\n",
            "40 19355 2  ['Час от часу']['с каждым проходящим часом (для обозначения постепенности усиления или ослабления степени чего-н.']\n",
            "1\n",
            "41 10598 1  ['чего (что) душа желает', 'чего (что) душа пожелает']['  Всё, что хочется; всё, что пожелает кто-либо.']\n",
            "41 11995 0  ['Чего душа пожелает'][' все, что только можно хотеть']\n",
            "1\n",
            "42 10602 1  ['чего глядит?']['Почему не обращает внимания, отчего бездействует кто-либо.']\n",
            "42 10703 1  ['чёртом глядит']['Кто-либо проявляет злое, недружелюбное отношение к кому-либо.']\n",
            "42 19309 2  ['Фертом стоять', 'Фертом смотреть', 'Фертом глядеть']['подбоченившись (так, что похоже на букву \"ф\"), развязно, нагло.']\n",
            "2\n",
            "43 10605 1  ['чего ни пожелай']['В изобилии, в большом количестве.']\n",
            "43 10786 1  ['что ни делай']['Как ни поступай с кем-либо, каких мер ни принимай по отношению к кому-либо.']\n",
            "43 10787 1  ['что ни делали']['Как ни старались, ни пытались воздействовать на кого-либо.']\n",
            "2\n",
            "44 10614 1  ['чем господь пошлёт']['Что удаётся достать, заработать на жизнь, на пропитание.']\n",
            "44 11115 0  ['Чем Бог (господь) послал'][' что есть в наличии (обычно о еде)']\n",
            "2\n",
            "45 10617 2  ['чем ни попало', 'чем попало', 'чем попадя прост.']['Любым попавшим в руки предметом (бить, ударять и т. п. кого-либо).']\n",
            "45 10789 4  ['что ни попало', 'что попало']['Любое, без разбора.']\n",
            "45 19401 1  ['Что ни попало', 'Что попало']['случайность, беспорядочность в совершении чего-н.']\n",
            "2\n",
            "46 10622 2  ['чепуха на постном масле']['Не заслуживает никакого внимания; пустяк, несуразность.']\n",
            "46 10828 1  ['чудеса на постном масле']['О чём-либо очень незначительном; о пустяке, не стоящем внимания.']\n",
            "1\n",
            "47 10633 3  ['через час по чайной ложке']['Очень медленно и помалу.']\n",
            "47 12588 0  ['В час по чайной ложке'][' слишком медленно, еле-еле ']\n",
            "1\n",
            "48 10639 3  ['чёрная душа']['О человеке коварном, способном на низкие, предосудительные дела, поступки.']\n",
            "48 10663 1  ['чёрный шар'] ['Избирательный шар, означающий: «против избрания».']\n",
            "2\n",
            "49 10645 2  ['чёрная немочь']['Эпилепсия.'] \n",
            "49 10648 1  ['чернее ночи']['Кто-либо очень мрачен, угрюм.']\n",
            "2\n",
            "\tlength: 44\n"
          ]
        }
      ]
    },
    {
      "cell_type": "code",
      "source": [
        "write_vars(new_vars)"
      ],
      "metadata": {
        "id": "qAOcjW02pbR5"
      },
      "execution_count": 32,
      "outputs": []
    },
    {
      "cell_type": "code",
      "source": [
        "new_vars, to_split = next_variants(2800, 2850)\n",
        "print('\\tength:', len(new_vars))"
      ],
      "metadata": {
        "colab": {
          "base_uri": "https://localhost:8080/"
        },
        "id": "FAy4Fe04pdMD",
        "outputId": "a63e13c5-c9e6-404f-c082-b3b6db1f7efe"
      },
      "execution_count": 23,
      "outputs": [
        {
          "output_type": "stream",
          "name": "stdout",
          "text": [
            "0  10649 0  ['чернее тучи']['(Достоевский. Униженные и оскорблённые).']\n",
            "0  10662 2  ['чёрный час'] ['Время сильного потрясения кого-либо, беды, трагедий и т. п.']\n",
            "2\n",
            "1  10657 4  ['чёрное слово']['Нецензурная брань, сквернословие.']\n",
            "1  10711 5  ['честное слово']['Выражение уверения в правдивости, истинности чего-либо.']\n",
            "2\n",
            "2  10659 2  ['чёрный день']['Очень трудное в жизни кого-нибудь время.']\n",
            "2  11857 1  ['На черный день', 'на чёрный день'][' в расчете на более трудные времена ']\n",
            "2\n",
            "3  10665 2  ['чёрными красками']['В мрачном свете; хуже, чем есть на самом деле (описывать, очерчивать и т. п. кого или что).']\n",
            "3  14997 0  ['в чёрных красках'][]             \n",
            "1\n",
            "4  10668 1  ['чёрт бы взял']['Выражение возмущения, досады, негодования и т. п. против кого-либо.']\n",
            "4  10669 3  ['чёрт возьми']['Выражение негодования, возмущения, удивления, восхищения и т. п. кем-либо или чем-либо.']\n",
            "4  17406 1  ['чёрт меня возьми'][]             \n",
            "4  19368 6  ['Чёрт возьми', 'Чёрт дери', 'Чёрт побери', 'Чёрт подери']['употребляется в знач. вводного слова или междометия, выражающего удивление, восхищение или же возмущение, негодование']\n",
            "4  19369 2  ['Чёрт дергает', 'Чёрт дёрнул', 'Чёрт несёт', 'Чёрт понёс']['выражение неудовольствия по поводу чьего-н. поступка, в знач.: зачем нужно делать, лучше бы не делал и т. п.']\n",
            "4  19370 1  ['Чёрт занёс', 'Чёрт принёс']['о нежеланном, нежданном госте, посетителе']\n",
            "2\n",
            "5  10669 3  ['чёрт возьми']['Выражение негодования, возмущения, удивления, восхищения и т. п. кем-либо или чем-либо.']\n",
            "5  17406 1  ['чёрт меня возьми'][]             \n",
            "5  19368 6  ['Чёрт возьми', 'Чёрт дери', 'Чёрт побери', 'Чёрт подери']['употребляется в знач. вводного слова или междометия, выражающего удивление, восхищение или же возмущение, негодование']\n",
            "5  19369 2  ['Чёрт дергает', 'Чёрт дёрнул', 'Чёрт несёт', 'Чёрт понёс']['выражение неудовольствия по поводу чьего-н. поступка, в знач.: зачем нужно делать, лучше бы не делал и т. п.']\n",
            "5  19370 1  ['Чёрт занёс', 'Чёрт принёс']['о нежеланном, нежданном госте, посетителе']\n",
            "3\n",
            "1 2 3\n",
            "6  10671 0  ['чёрт дёрнул']['(Лермонтов. Герой нашего времени).']\n",
            "6  17403 1  ['чёрт дёрнул меня'][]             \n",
            "6  19369 2  ['Чёрт дергает', 'Чёрт дёрнул', 'Чёрт несёт', 'Чёрт понёс']['выражение неудовольствия по поводу чьего-н. поступка, в знач.: зачем нужно делать, лучше бы не делал и т. п.']\n",
            "6  19370 1  ['Чёрт занёс', 'Чёрт принёс']['о нежеланном, нежданном госте, посетителе']\n",
            "3\n",
            "1 2 3\n",
            "7  10672 1  ['чёрт дёрнул за язык']['Выражение сожаления по поводу чего-либо некстати сказанного.']\n",
            "7  14817 0  ['бес дёрнул за язык'][]             \n",
            "7  17404 1  ['чёрт дёрнул меня за язык'][]             \n",
            "1\n",
            "8  10674 2  ['чёрт его (их) знает']['Совсем неизвестно, никто не знает.']\n",
            "8  19371 1  ['Черт его знает', 'Черт ее знает']['отрицательный ответ на вопрос, не знаю']\n",
            "1\n",
            "9  10675 2  ['чёрт занёс', 'чёрт несёт']['  Неизвестно, с какой целью, зачем идёт, едет и т. п. кто-либо куда-либо.']\n",
            "9  10679 1  ['чёрт несет', 'чёрт принёс']['  Выражение резкого недовольства по поводу прихода кого-либо.']\n",
            "9  10680 2  ['чёрт носит'] ['Выражение резкого недовольства тем, что кто-либо пропадает, ходит где-то, долго не появляется.']\n",
            "9  10684 1  ['чёрт унёс']  ['Выражение удовлетворения, чувства облегчения по поводу того, что нежеланный гость, посетитель ушёл, удалился, уехал.']\n",
            "9  19369 2  ['Чёрт дергает', 'Чёрт дёрнул', 'Чёрт несёт', 'Чёрт понёс']['выражение неудовольствия по поводу чьего-н. поступка, в знач.: зачем нужно делать, лучше бы не делал и т. п.']\n",
            "9  19370 1  ['Чёрт занёс', 'Чёрт принёс']['о нежеланном, нежданном госте, посетителе']\n",
            "2\n",
            "10 10679 1  ['чёрт несет', 'чёрт принёс']['  Выражение резкого недовольства по поводу прихода кого-либо.']\n",
            "10 10680 2  ['чёрт носит'] ['Выражение резкого недовольства тем, что кто-либо пропадает, ходит где-то, долго не появляется.']\n",
            "10 10684 1  ['чёрт унёс']  ['Выражение удовлетворения, чувства облегчения по поводу того, что нежеланный гость, посетитель ушёл, удалился, уехал.']\n",
            "10 19369 2  ['Чёрт дергает', 'Чёрт дёрнул', 'Чёрт несёт', 'Чёрт понёс']['выражение неудовольствия по поводу чьего-н. поступка, в знач.: зачем нужно делать, лучше бы не делал и т. п.']\n",
            "10 19370 1  ['Чёрт занёс', 'Чёрт принёс']['о нежеланном, нежданном госте, посетителе']\n",
            "2\n",
            "11 10680 2  ['чёрт носит'] ['Выражение резкого недовольства тем, что кто-либо пропадает, ходит где-то, долго не появляется.']\n",
            "11 10684 1  ['чёрт унёс']  ['Выражение удовлетворения, чувства облегчения по поводу того, что нежеланный гость, посетитель ушёл, удалился, уехал.']\n",
            "11 19370 1  ['Чёрт занёс', 'Чёрт принёс']['о нежеланном, нежданном госте, посетителе']\n",
            "2\n",
            "12 10688 2  ['чёрта ли']   ['Едва ли важно что-либо; сомнительно, что нужно что-либо.']\n",
            "12 14632 0  ['Черт ли в']  [' выражение сомнения в важности и нужности кого-либо, чего-либо']\n",
            "12 19372 2  ['Чёрт ли']    ['выражение сомнения в достоинстве, важности, нужности кого- чего-н.']\n",
            "1\n",
            "13 10690 2  ['чёрта с два!']['Нет-нет! Вовсе нет! Выражение категорического несогласия, отрицания, возражения.']\n",
            "13 19373 2  ['Чёрта с два', 'Чёрта в стуле']['как бы не так']\n",
            "1\n",
            "14 10703 1  ['чёртом глядит']['Кто-либо проявляет злое, недружелюбное отношение к кому-либо.']\n",
            "14 19309 2  ['Фертом стоять', 'Фертом смотреть', 'Фертом глядеть']['подбоченившись (так, что похоже на букву \"ф\"), развязно, нагло.']\n",
            "2\n",
            "15 10704 1  ['чёрту брат'] ['Нелюдимый, суровый, угрюмый человек.']\n",
            "15 10705 2  ['чёрту не брат', 'чёрт не брат']['Лихой, бравый, бойкий человек.']\n",
            "15 19368 6  ['Чёрт возьми', 'Чёрт дери', 'Чёрт побери', 'Чёрт подери']['употребляется в знач. вводного слова или междометия, выражающего удивление, восхищение или же возмущение, негодование']\n",
            "15 19369 2  ['Чёрт дергает', 'Чёрт дёрнул', 'Чёрт несёт', 'Чёрт понёс']['выражение неудовольствия по поводу чьего-н. поступка, в знач.: зачем нужно делать, лучше бы не делал и т. п.']\n",
            "2\n",
            "16 10706 2  ['чесать затылок']['Быть озадаченным, обескураженным чем-либо (и при этом почёсывать кожу на затылке).']\n",
            "16 17410 1  ['чесать в затылке']['зевать, ротозейничать обычно во время работы']\n",
            "2\n",
            "17 10708 2  ['чесать языком']['То же, что <<чесать язык>>.']\n",
            "17 17411 1  ['чесать языками', 'чесать языки'][]             \n",
            "2\n",
            "18 10715 2  ['честь по чести']['То же, что <<честь честью>>.']\n",
            "18 10716 1  ['честь честью']['Так, как следует, как принято, по всем правилам.']\n",
            "2\n",
            "19 10719 1  ['чик в чик']  ['Совершенно точно, без каких-либо отклонений.']\n",
            "19 10720 1  ['чика в чику']['То же, что <<чик в чик>>.']\n",
            "2\n",
            "20 10746 1  ['что бог послал']['Что есть в наличии.']\n",
            "20 13362 0  ['Бог послал', 'Бог пошлет'][' о чем-либо случайно добытом или полученном']\n",
            "20 17391 1  ['чем бог послал'][]             \n",
            "3\n",
            "1 3\n",
            "21 10747 3  ['что будет, то будет']['О действии, предпринимаемом наудачу.']\n",
            "21 10759 1  ['что есть, то есть']['Согласен; действительно так.']\n",
            "2\n",
            "22 10748 3  ['что будешь делать', 'что делать']['Не имея возможности изменить что-либо, приходится согласиться с тем, что есть.']\n",
            "22 10756 3  ['что делается']['Ничего не может произойти, случиться с кем-либо.']\n",
            "22 10786 1  ['что ни делай']['Как ни поступай с кем-либо, каких мер ни принимай по отношению к кому-либо.']\n",
            "22 10787 1  ['что ни делали']['Как ни старались, ни пытались воздействовать на кого-либо.']\n",
            "22 10791 2  ['что поделаешь!']['Вынужден примириться: другого выхода нет.']\n",
            "2\n",
            "23 10749 2  ['что бы (то) ни было']['Всё равно что; что угодно.']\n",
            "23 10750 1  ['что бы там ни было']['То же, что <<как бы там ни было>>.']\n",
            "1\n",
            "24 10751 4  ['что было силы', 'что есть силы']['С предельным напряжением, интенсивно (делать что-либо).']\n",
            "24 13868 1  ['что есть силы', 'что было силы', 'что было сил'][' изо всех сил']\n",
            "1\n",
            "25 10752 5  ['что взять']  ['О ничего не стоящем, глупом, легкомысленном или ненормальном человеке.']\n",
            "25 10802 2  ['что, взял']  ['Выражение чувства злорадства, торжества над чьей-либо неудачной попыткой сделать, предпринять что-либо.']\n",
            "2\n",
            "26 10762 2  ['что за вопрос?!']['Непременно так (Пушкин. Письмо П. А. Вяземскому, 25 мая 1825).']\n",
            "26 19098 1  ['Что за спрос']['какое право, основание, охоту имеет кто-н. спрашивать о чем-н.']\n",
            "2\n",
            "27 10763 2  ['что за дело']['.']          \n",
            "27 17428 1  ['что мне за дело?'][]             \n",
            "2\n",
            "28 10767 2  ['что за нужда']['Не имеет значения, безразлично.']\n",
            "28 10790 1  ['что нужды']  ['То же, что <<что за нужда>>.']\n",
            "2\n",
            "29 10774 3  ['что за чёрт!']['Что всё это значит, как это понять? Выражение недоумения, недовольства, возмущения, негодования и т. п. по поводу чего-либо.']\n",
            "29 14223 1  ['что за счеты', 'что за счёты'][' зачем считать что-либо или считаться с чем-либо']\n",
            "2\n",
            "30 10775 0  ['что за чудеса!']['То же, что <<что за чудо!>> (А. Островский. Красавец-мужчина)']\n",
            "30 10776 1  ['что за чудо!']['Выражение удивления, изумления.']\n",
            "2\n",
            "31 10778 4  ['что и говорить']['То же, что <да> что <тут> говорить.']\n",
            "31 10785 3  ['что ни говори']['Вопреки тому, что говорится, о чём судят.']\n",
            "31 17438 1  ['что ты говоришь?'][]             \n",
            "2\n",
            "32 10785 3  ['что ни говори']['Вопреки тому, что говорится, о чём судят.']\n",
            "32 17438 1  ['что ты говоришь?'][]             \n",
            "32 19209 1  ['Тоном ниже', 'Тоном ниже говорить', 'тоном выше', 'тоном выше говорить']['более спокойно или, наоборот, более взволнованно.']\n",
            "2\n",
            "33 10786 1  ['что ни делай']['Как ни поступай с кем-либо, каких мер ни принимай по отношению к кому-либо.']\n",
            "33 10787 1  ['что ни делали']['Как ни старались, ни пытались воздействовать на кого-либо.']\n",
            "2\n",
            "34 10789 4  ['что ни попало', 'что попало']['Любое, без разбора.']\n",
            "34 19401 1  ['Что ни попало', 'Что попало']['случайность, беспорядочность в совершении чего-н.']\n",
            "1\n",
            "35 10800 6  ['что твой']   ['Самый настоящий, совершенно подобный.']\n",
            "35 19183 3  ['Что твой', 'на что твой']['словно кто-н., как кто-н.']\n",
            "1\n",
            "36 10805 2  ['чтоб ни дна ни покрышки']['Проклинаю; пусть будет полная неудача, несчастье.']\n",
            "36 11894 1  ['Ни дна ни покрышки'][' пожелание неудачи, невзгод, всего дурного']\n",
            "1\n",
            "37 10806 3  ['чтоб пусто было']['.']          \n",
            "37 13544 1  ['чтобы тебе пусто было', 'чтоб ему пусто было', 'чтобы ей пусто было', 'чтобы вам пусто было', 'чтобы им пусто было'][' употребляется при недовольстве кем-либо, чем-либо, для выражения недоброжелательства, злобы, досады на кого-либо']\n",
            "37 17450 1  ['чтоб тебе пусто было!'][]             \n",
            "1\n",
            "38 10820 3  ['чувство локтя']['Верность принципам дружбы, товарищества; взаимная поддержка.']\n",
            "38 10821 1  ['чувствовать локоть']['Иметь помощь, моральную поддержку друга, товарища и т. п.']\n",
            "2\n",
            "39 10840 1  ['чуть не...'] ['  Почти, едва не (Тургенев. Ася).']\n",
            "39 14690 7  ['чуть было не', 'чуть не'][' едва не..., почти ']\n",
            "1\n",
            "40 10843 4  ['чуть-чуть']  ['Незначительное количество чего-либо; очень немного.']\n",
            "40 10844 2  ['чуть-чуть не...']['  То же, что <<чуть ли не...>>  (Мельников-Печерский. Дорожные записки).']\n",
            "2\n",
            "41 10851 5  ['шаг за шагом']['Постепенно, неуклонно.']\n",
            "41 19407 1  ['Шаг за шаг'] ['медленно, тихо']\n",
            "2\n",
            "42 10855 2  ['шагу ступить не могу (моги)']['Ничего невозможно сделать, добиться без кого-либо или чего-либо.']\n",
            "42 19408 1  ['Шагу ступить нельзя (или не может)', 'Шагу ступить не может']['нельзя (или не может) быть без кого- чего-н.']\n",
            "1\n",
            "43 10870 1  ['шарить по карманам']['Заниматься карманным воровством.']\n",
            "43 17765 1  ['Бьет по карману']['причинять убыток).']\n",
            "2\n",
            "44 10885 2  ['шит (шитый) белыми нитками']['Неискусно, неумело скрыто что-либо.']\n",
            "44 10886 4  ['шито белыми нитками']['Грубо подделано; неловко, неумело скрыто что-либо.']\n",
            "1\n",
            "45 10899 2  ['шубы не сошьёшь']['Никакой, ни малейшей пользы не получишь от чего-либо.']\n",
            "45 19430 1  ['Шубы не сошьешь']['ничего не получится, не будешь иметь никакой пользы от чего-н.']\n",
            "1\n",
            "46 10913 6  ['шутки шутить']['Говорить или делать что-либо только для забавы, развлечения.']\n",
            "46 14229 0  ['Шутку сшутить'][' сказать шутку, пошутить, подшутить ']\n",
            "46 19433 3  ['Шутки шутить', 'Шутку шутить']['забавляться, развлекаться (употребляется преимущ. соттенком, для выражения угрозы, предостережения).']\n",
            "1\n",
            "47 10916 2  ['щедрой рукой']['То же, что <<широкой рукой>>.']\n",
            "47 14717 1  ['щедрою рукою'][' не жалея, не скупясь']\n",
            "1\n",
            "48 10932 2  ['это только цветочки']['Что случилось — не главное: основные беды впереди.']\n",
            "48 14581 3  ['это только (или еще) цветочки', 'то только цветочки', 'то еще цветочки'][' о том, что только начинает проявляться, о самом начале чего-либо, преимущественного плохого, нежелательного']\n",
            "1\n",
            "49 10938 4  ['этот свет']  ['Земной мир.']\n",
            "49 16128 2  ['на том свете', 'на этом свете'][]             \n",
            "2\n",
            "\tength: 21\n"
          ]
        }
      ]
    },
    {
      "cell_type": "code",
      "source": [
        "new_vars.extend(next_variants(2850, 2900)[0])\n",
        "print('\\tlength:', len(new_vars))"
      ],
      "metadata": {
        "colab": {
          "base_uri": "https://localhost:8080/"
        },
        "id": "JUjn9g2OpdME",
        "outputId": "a9591625-d915-4f68-ce2b-2ecd950dddfd"
      },
      "execution_count": 24,
      "outputs": [
        {
          "output_type": "stream",
          "name": "stdout",
          "text": [
            "0  10943 3  ['я тебе дам!', 'я тебе те дам!', 'Я тебе', 'Я те', 'Я вам']['Угрожающий окрик или замечание.']\n",
            "0  16390 1  ['ну ты даёшь!'][]             \n",
            "0  17492 2  ['я тебе дам!', 'я тебе', 'я те', 'я вам']['употребляется для выражения запрещения, угрозы.']\n",
            "0  19440 1  ['Я тебе дам!']['выражение угрозы.']\n",
            "0  19441 1  ['Я тебя', 'Я его', 'Я вас', 'Я их']['употребляется для выражения угрозы.']\n",
            "3\n",
            "1 3 4\n",
            "1  10946 5  ['яблоку негде упасть']['То же, что <<шагу негде ступить>>.']\n",
            "1  10947 1  ['яблоку некуда упасть']['О большом скоплении людей где-либо.']\n",
            "1\n",
            "2  10951 2  ['являть себя']['. Проявлять, обнаруживать свои способности, возможности и т. п.']\n",
            "2  18216 1  ['Заявить себя']['показать себя с какой-н. стороны.']\n",
            "2\n",
            "3  10952 2  ['являться на свет']['Рождаться.'] \n",
            "3  13784 0  ['Явиться на свет', 'появиться на свет']['родиться ']  \n",
            "1\n",
            "4  10970 3  ['язык развязался', 'язык развязывается']['  Кто-либо вдруг начинает много, безостановочно говорить, становится болтливым.']\n",
            "4  13590 1  ['язык развязался', 'язык развяжется'][' о том, кто разговорился (разговорится), начал (начнет) много говорить (после молчания)']\n",
            "1\n",
            "5  10973 4  ['язык чешется']['Кто-либо не может утерпеть, удержаться от разговора, от высказывания.']\n",
            "5  14742 1  ['язык чесать'][' болтать']   \n",
            "5  14743 1  ['языком трепать (чесать, болтать, молоть)', 'языком трепать', 'языком чесать', 'языком болтать', 'языком молоть'][' говорить (зря, без толку, для препровождения времени)']\n",
            "5  19379 1  ['Язык чесать', 'Языком чесать']['говорить зря, без толку, для препровождения времени']\n",
            "2\n",
            "6  10981 0  ['От а до зет; от а до я (от альфа до омеги)'][' от начала до конца, все целиком']\n",
            "6  17722 0  ['От а до зет или от а до я (синоним: от альфа до омеги)']['от начала до конца.']\n",
            "1\n",
            "7  10986 0  ['На авось (делать что-нибудь)'][' в надежде на случайную удачу; на удачу']\n",
            "7  17726 1  ['На авось (делать что-н.)']['без достаточной основательности, с расчетом на случайную удачу.']\n",
            "1\n",
            "8  11003 0  ['Брать (взять) на арапа'][' действуя обманным путем, прибегая к различным уловкам, добиваться чего-либо от кого-либо']\n",
            "8  11156 0  ['Брать (взять) на абордаж'][' решительно действовать в отношении кого-либо']\n",
            "8  12017 0  ['(Брать) взять за жабры'][' оказывать на кого-либо, принуждать к чему-либо']\n",
            "2\n",
            "9  11006 0  ['Мерить всех иа свой аршин'][' подходить ко всем с одинаковыми требованиями без различий']\n",
            "9  11007 2  ['Мерить на свой аршин', 'мерить мерять своим аршином своей меркой, мерой'][' судить о ком-либо, чем-либо односторонне, со своей личной точки зрения']\n",
            "9  16021 0  ['мерить на аршин', 'мерить мерять аршином'][]             \n",
            "9  16022 1  ['мерить на один аршин', 'мерить мерять одним общим аршином одной меркой, мерой'][]             \n",
            "1\n",
            "10 11007 2  ['Мерить на свой аршин', 'мерить мерять своим аршином своей меркой, мерой'][' судить о ком-либо, чем-либо односторонне, со своей личной точки зрения']\n",
            "10 16021 0  ['мерить на аршин', 'мерить мерять аршином'][]             \n",
            "10 16022 1  ['мерить на один аршин', 'мерить мерять одним общим аршином одной меркой, мерой'][]             \n",
            "2\n",
            "11 11008 2  ['Как аршин проглотил', 'Как будто аршин проглотил', 'Словно аршин проглотил', 'Будто аршин проглотил'][' кто-либо держится неестественно прямо']\n",
            "11 15757 1  ['как аршин проглотил'][]             \n",
            "11 17688 0  ['словно аршин проглотить'][]             \n",
            "1\n",
            "12 11036 0  ['Лиха беда начало', 'Лиха беда начать'][' стоит только что-либо начать']\n",
            "12 15987 1  ['лиха беда начало']['трудно только начать, только бы начать.']\n",
            "1\n",
            "13 11050 1  ['Седина в бороду, а бес в ребро', 'седина в бороду, бес в ребро'][' о стариках, поддающихся любовному соблазну']\n",
            "13 13821 0  ['Седина в бороду, бес в ребро', 'Седина в бороду, а бес в ребро', 'Седина в бороду, черт в ребро', 'Седина в бороду, а черт в ребро', 'Седина в голову, бес в ребро', 'Седина в голову, а бес в ребро', 'Седина в голову, черт в ребро', 'Седина в голову, а черт в ребро'][' о пожилом мужчине, который всерьез начинает интересоваться женщинами']\n",
            "1\n",
            "14 11060 3  ['Бить по рукам', 'Ударять по рукам', 'Ударить по рукам'][' заключать деловое соглашение, торговую сделку, договор']\n",
            "14 13692 0  ['Бить по рукам', 'ударить по рукам'][' заключать (заключить) сделку, соглашение']\n",
            "1\n",
            "15 11063 1  ['Благим матом', 'Благим матом орать', 'Благим матом кричать'][' очень громко, неистово кричать']\n",
            "15 12664 0  ['Благим матом (кричать)'][' во весь голос, что есть мочи']\n",
            "1\n",
            "16 11066 0  ['Выбросить блажь из головы'][' оставить мысли о каких-то нелепых причудах, прихотях']\n",
            "16 11657 0  ['Выбросить из головы', 'Выкинуть из головы'][' забыть, оставить мысль о чем-либо']\n",
            "16 15175 1  ['выбивать из головы'][]             \n",
            "2\n",
            "17 11071 1  ['Первый блин комом'][' о неудачном начале какого-либо дела, о неуспешном первом опыте']\n",
            "17 18643 0  ['Первый блин комом']['о неудачном начале какого-н. дела.']\n",
            "1\n",
            "18 11077 0  ['Остаться (или сидеть) на бобах'][' обмануться в расчетах, оказаться ни при чем']\n",
            "18 17779 1  ['Остаться на бобах или сидеть на бобах']['остаться не при чем, обмануться в ожиданиях.']\n",
            "1\n",
            "19 11089 0  ['Бог прибрал', 'господь прибрал'][' о чьей-то смерти']\n",
            "19 11146 0  ['Брать в толк', 'взять в толк'][' понять, уяснить, осознать что-либо']\n",
            "19 11375 0  ['Вожжа под хвост попала', 'шлея под хвост попала'][' кто-либо ведет себя крайне неуравновешенно, взбалмошно']\n",
            "19 11434 1  ['Вот тебе и на!', 'Вот те на!', 'Вот так тик!'][' о том, что совершилось или произошло совсем не так, как ожидали']\n",
            "19 11438 0  ['Вот тебе раз!', 'Вот тебе и раз!', 'Вот те раз!', 'Вот те и раз!', 'Вот так раз!'][' выражение удивления, разочарования и т. п.']\n",
            "19 14558 4  ['ходуном ходить (идти, пойти)', 'ходуном ходить', 'ходуном идти', 'ходуном пойти']['сильно трястись, сотрясаться ']\n",
            "19 15104 1  ['вот те на']  []             \n",
            "19 18078 2  ['отдать долг природе']['умереть (в этом знач. также с прибавкой: последний долг);']\n",
            "19 18836 1  ['Отдать дань природе']['поступить сообразно своим свойствам.']\n",
            "19 19234 1  ['Вот тебе', 'вот тебе и', 'вот тебе и на', 'вот тебе раз', 'вот тебе и раз', 'Вот те', 'вот те и', 'вот те и на', 'вот те раз', 'вот те и раз']['восклицание по поводу чего-н. неожиданного, не соответствующего ожиданиям, удивительного, о том, чего ожидали, но что не совершилось или превратилось не в то, чего ожидали.']\n",
            "2\n",
            "20 11095 0  ['Бог шельму (плута) метит'][' плута, мошенника всегда что-либо выдаст']\n",
            "20 14844 0  ['бог шельму метит'][]             \n",
            "1\n",
            "21 11098 1  ['Дай бог']    ['пожелание счастье, удачи и т. п. ']\n",
            "21 15339 1  ['дай боже']   []             \n",
            "21 15348 1  ['даст бог']   []             \n",
            "2\n",
            "22 11113 0  ['Хватать (брать) бога за бороду'][' достигнуть успеха']\n",
            "22 17326 1  ['хватать бога за бороду'][]             \n",
            "1\n",
            "23 11127 0  ['Поднять бокал'][' выпить за чье-либо здоровье, провозгласить тост за кого-либо, что-либо.']\n",
            "23 17784 1  ['Поднимать бокалили']['провозглашать тост -н. или что-н., пить чьё-н. здоровье.']\n",
            "1\n",
            "24 11146 0  ['Брать в толк', 'взять в толк'][' понять, уяснить, осознать что-либо']\n",
            "24 11375 0  ['Вожжа под хвост попала', 'шлея под хвост попала'][' кто-либо ведет себя крайне неуравновешенно, взбалмошно']\n",
            "24 11434 1  ['Вот тебе и на!', 'Вот те на!', 'Вот так тик!'][' о том, что совершилось или произошло совсем не так, как ожидали']\n",
            "24 11438 0  ['Вот тебе раз!', 'Вот тебе и раз!', 'Вот те раз!', 'Вот те и раз!', 'Вот так раз!'][' выражение удивления, разочарования и т. п.']\n",
            "24 14558 4  ['ходуном ходить (идти, пойти)', 'ходуном ходить', 'ходуном идти', 'ходуном пойти']['сильно трястись, сотрясаться ']\n",
            "24 15104 1  ['вот те на']  []             \n",
            "24 16222 1  ['не взять в толк'][]             \n",
            "24 18078 2  ['отдать долг природе']['умереть (в этом знач. также с прибавкой: последний долг);']\n",
            "24 18836 1  ['Отдать дань природе']['поступить сообразно своим свойствам.']\n",
            "24 19234 1  ['Вот тебе', 'вот тебе и', 'вот тебе и на', 'вот тебе раз', 'вот тебе и раз', 'Вот те', 'вот те и', 'вот те и на', 'вот те раз', 'вот те и раз']['восклицание по поводу чего-н. неожиданного, не соответствующего ожиданиям, удивительного, о том, чего ожидали, но что не совершилось или превратилось не в то, чего ожидали.']\n",
            "2\n",
            "25 11147 0  ['Брать в свои руки', 'взять в свои руки'][' приступать к руководству, управлению чем-либо']\n",
            "25 13703 0  ['Иметь в руках', 'Иметь в своих руках', 'держать в руках', 'держать в своих руках'][' обладать чем-либо']\n",
            "25 13704 0  ['Иметь руку', 'Иметь сильную руку'][' пользоваться покровительством, влиятельной поддержкой где-либо, со стороны кого-либо']\n",
            "2\n",
            "26 11148 0  ['Брать в оборот', 'взять в оборот'][' начать действовать энергично, решительно']\n",
            "26 18557 1  ['Взять в оборот кого']['оказать решительное воздействие на кого-н., сделать кому-н. строгий выговор, внушение за что-н.']\n",
            "1\n",
            "27 11156 0  ['Брать (взять) на абордаж'][' решительно действовать в отношении кого-либо']\n",
            "27 12017 0  ['(Брать) взять за жабры'][' оказывать на кого-либо, принуждать к чему-либо']\n",
            "2\n",
            "28 11160 0  ['Брать (взять) на себя смелость'][' принимать на себя ответственность за что-либо или сделать что-либо']\n",
            "28 13943 1  ['брать на себя смелость'][' осмеливаться на что-либо ']\n",
            "1\n",
            "29 11182 0  ['Бросать камень'][' забрасывать осужденного камнями)']\n",
            "29 18166 0  ['Забросать камнями']['отнестись к кому-н. с общим неумолимым осуждением .']\n",
            "29 18278 1  ['Бросать камнем']['побивать каменьями].']\n",
            "3\n",
            "1 3\n",
            "30 11190 0  ['На брюхе(-то) шелк, в брюхе (-то) щелк'][' говорится о том, кто старается выглядеть богатым, нарядным, а в действительности беден']\n",
            "30 16074 1  ['на брюхе шёлк, а в брюхе щёлк'][]             \n",
            "1\n",
            "31 11193 1  ['Будет и на нашей улице праздник'][' придет и наше время радоваться']\n",
            "31 13410 0  ['Будет и на нашей улице праздник', 'Будет и на моей улице праздник', 'Будет и на твоей улице праздник'][' выражение уверенности в том, что наступят лучшие времена для кого-либо, будет возможность восторжествовать над кем-либо, чем-либо']\n",
            "31 18803 0  ['Будет и на нашей (вашей, их) улице праздник'][', обозначающая предвкушение торжества, надежду на лучшее будущее, на возможность восторжествовать над кем- чем-н.']\n",
            "1\n",
            "32 11220 0  ['Быть на Вы'] [' в официальных отношениях ']\n",
            "32 11309 1  ['Быть на виду'][' занимая в обществе видное положение, привлекать к себе внимание']\n",
            "32 11499 0  ['Быть на вы'] [' находиться с кем-либо в таких отношениях, при которых говорят друг другу \"вы\"']\n",
            "3\n",
            "1 3\n",
            "33 11248 0  ['Льет как из ведра'][' о проливном дожде']\n",
            "33 15984 1  ['лить как из ведра'][]             \n",
            "1\n",
            "34 11252 1  ['Испокон века'][' с давних времен в прошлом ']\n",
            "34 15740 0  ['испокон веков'][]             \n",
            "1\n",
            "35 11266 1  ['Верить на слово'][' считать истинными слова, заявления, не подкрепленные доказательствами, фактами']\n",
            "35 15994 0  ['ловить на словах'][]             \n",
            "2\n",
            "36 11282 0  ['Всем взял (взяла)'][' обладать многочисленными достоинствами']\n",
            "36 14606 0  ['Чья взяла (возьмет)'][' кто победил (победит) ']\n",
            "2\n",
            "37 11300 1  ['Взбрести в голову', 'Взбрести на ум'][' случайно прийти в голову, вздуматься']\n",
            "37 14456 3  ['прийти (или взбрести) на ум (или в ум)', 'прийти на ум', 'прийти в ум', 'взбрети на ум', 'взбрети в ум']['представиться, вспомниться ']\n",
            "37 15032 1  ['взбредать в голову'][]             \n",
            "37 15033 1  ['взбредать на ум'][]             \n",
            "3\n",
            "1 2 4\n",
            "38 11303 2  ['Вздохнуть некогда', 'Дохнуть некогда', 'дыхнуть некогда'][' о чрезвычайной занятости ']\n",
            "38 15461 0  ['дохнуть негде'][]             \n",
            "2\n",
            "39 11309 1  ['Быть на виду'][' занимая в обществе видное положение, привлекать к себе внимание']\n",
            "39 11499 0  ['Быть на вы'] [' находиться с кем-либо в таких отношениях, при которых говорят друг другу \"вы\"']\n",
            "2\n",
            "40 11310 2  ['Видал виды'] [' многое испытать, пережить, претерпеть']\n",
            "40 15040 1  ['видавший виды'][]             \n",
            "2\n",
            "41 11314 1  ['Показать вид', 'Подать вид'][' дать заметить, дать понять что-либо']\n",
            "41 18704 1  ['Подать вид'] ['дать заметить, дать понять что-н.']\n",
            "1\n",
            "42 11320 0  ['Не видеть света (вольного)']['быть очень занятым, не иметь покоя ']\n",
            "42 11321 0  ['Не видеть света белого']['постоянно быть занятым чем-то, выполнять тяжелую работу ']\n",
            "1\n",
            "43 11325 1  ['Винтиков не хватает', 'Винтиков не хватает в голове', 'Винтика не хватает', 'Винтика не хватает в голове'][' о человеке глуповатом, странном']\n",
            "43 15045 1  ['винтика не хватает', 'винтиков не хватает', 'винтика клёпки, заклёпки не хватает недостаёт <в голове>'][]             \n",
            "1\n",
            "44 11338 0  ['По вкусу (быть, прийтись)'][' понравиться']\n",
            "44 12983 0  ['По нраву (быть, прийтись)'][' нравиться, соответствовать вкусу кого-либо']\n",
            "1\n",
            "45 11339 1  ['Со вкусом']  [' испытывать удовольствие, удовлетворение']\n",
            "45 16567 0  ['по вкусу']   []             \n",
            "2\n",
            "46 11340 0  ['Вкушать (вкусить) от древа познания'][' получать знания, познавать, просвещаться']\n",
            "46 15051 1  ['вкушать от древа познания'][]             \n",
            "1\n",
            "47 11358 0  ['Принять во внимание'][' учесть']    \n",
            "47 16748 0  ['принимать во внимание'][]             \n",
            "1\n",
            "48 11364 2  ['Как в воду кануть', 'Как к воду кануть'][' пропасть бесследно ']\n",
            "48 15770 1  ['как в воду канул'][]             \n",
            "1\n",
            "49 11375 0  ['Вожжа под хвост попала', 'шлея под хвост попала'][' кто-либо ведет себя крайне неуравновешенно, взбалмошно']\n",
            "49 11434 1  ['Вот тебе и на!', 'Вот те на!', 'Вот так тик!'][' о том, что совершилось или произошло совсем не так, как ожидали']\n",
            "49 11438 0  ['Вот тебе раз!', 'Вот тебе и раз!', 'Вот те раз!', 'Вот те и раз!', 'Вот так раз!'][' выражение удивления, разочарования и т. п.']\n",
            "49 14558 4  ['ходуном ходить (идти, пойти)', 'ходуном ходить', 'ходуном идти', 'ходуном пойти']['сильно трястись, сотрясаться ']\n",
            "49 15104 1  ['вот те на']  []             \n",
            "49 17470 0  ['шлея под хвост попала'][]             \n",
            "49 18078 2  ['отдать долг природе']['умереть (в этом знач. также с прибавкой: последний долг);']\n",
            "49 18836 1  ['Отдать дань природе']['поступить сообразно своим свойствам.']\n",
            "49 19234 1  ['Вот тебе', 'вот тебе и', 'вот тебе и на', 'вот тебе раз', 'вот тебе и раз', 'Вот те', 'вот те и', 'вот те и на', 'вот те раз', 'вот те и раз']['восклицание по поводу чего-н. неожиданного, не соответствующего ожиданиям, удивительного, о том, чего ожидали, но что не совершилось или превратилось не в то, чего ожидали.']\n",
            "2\n",
            "\tlength: 54\n"
          ]
        }
      ]
    },
    {
      "cell_type": "code",
      "source": [
        "write_vars(new_vars)"
      ],
      "metadata": {
        "id": "ZvM19ts-pdMF"
      },
      "execution_count": 25,
      "outputs": []
    },
    {
      "cell_type": "code",
      "source": [
        "new_vars, to_split = next_variants(2900, 2950)\n",
        "print('\\tength:', len(new_vars))"
      ],
      "metadata": {
        "colab": {
          "base_uri": "https://localhost:8080/"
        },
        "id": "Cmbpsn4qpfPQ",
        "outputId": "00287d77-e553-4cb2-c8e2-c3cc578670cb"
      },
      "execution_count": 26,
      "outputs": [
        {
          "output_type": "stream",
          "name": "stdout",
          "text": [
            "0  11387 0  ['Войти в быт'][' стать обычным, привычным ']\n",
            "0  17924 1  ['Входить в быт']['делаться обычным.']\n",
            "1\n",
            "1  11389 0  ['Войти в жизнь']['получить признание, приобрести значение необходимого, обязательного ']\n",
            "1  17922 2  ['входить в жизнь']['становиться употребительным (о действиях и предметах).']\n",
            "1\n",
            "2  11392 0  ['Входить (войти) в тело'][' поправляться, полнеть']\n",
            "2  12621 0  ['Выходить (выйти) в люди'][' добиваться хорошего положения в жизни, в обществе']\n",
            "2\n",
            "3  11430 0  ['Куда ворон костей не занесет'][' об очень отдаленном или труднодоступном месте']\n",
            "3  15942 1  ['куда ворон костей не заносил'][]             \n",
            "1\n",
            "4  11434 1  ['Вот тебе и на!', 'Вот те на!', 'Вот так тик!'][' о том, что совершилось или произошло совсем не так, как ожидали']\n",
            "4  11438 0  ['Вот тебе раз!', 'Вот тебе и раз!', 'Вот те раз!', 'Вот те и раз!', 'Вот так раз!'][' выражение удивления, разочарования и т. п.']\n",
            "4  14558 4  ['ходуном ходить (идти, пойти)', 'ходуном ходить', 'ходуном идти', 'ходуном пойти']['сильно трястись, сотрясаться ']\n",
            "4  15104 1  ['вот те на']  []             \n",
            "4  18078 2  ['отдать долг природе']['умереть (в этом знач. также с прибавкой: последний долг);']\n",
            "4  18836 1  ['Отдать дань природе']['поступить сообразно своим свойствам.']\n",
            "4  19161 0  ['Вот тактик'] ['восклицание по поводу чего-н. неожиданного, не соответствующего ожиданиям, удивительного.']\n",
            "4  19234 1  ['Вот тебе', 'вот тебе и', 'вот тебе и на', 'вот тебе раз', 'вот тебе и раз', 'Вот те', 'вот те и', 'вот те и на', 'вот те раз', 'вот те и раз']['восклицание по поводу чего-н. неожиданного, не соответствующего ожиданиям, удивительного, о том, чего ожидали, но что не совершилось или превратилось не в то, чего ожидали.']\n",
            "2\n",
            "5  11438 0  ['Вот тебе раз!', 'Вот тебе и раз!', 'Вот те раз!', 'Вот те и раз!', 'Вот так раз!'][' выражение удивления, разочарования и т. п.']\n",
            "5  15104 1  ['вот те на']  []             \n",
            "5  19234 1  ['Вот тебе', 'вот тебе и', 'вот тебе и на', 'вот тебе раз', 'вот тебе и раз', 'Вот те', 'вот те и', 'вот те и на', 'вот те раз', 'вот те и раз']['восклицание по поводу чего-н. неожиданного, не соответствующего ожиданиям, удивительного, о том, чего ожидали, но что не совершилось или превратилось не в то, чего ожидали.']\n",
            "3\n",
            "1 3\n",
            "6  11439 0  ['Вот тебе (те) крест!'][' клятвенное заверение ']\n",
            "6  15103 1  ['вот те крест!'][]             \n",
            "1\n",
            "7  11483 0  ['Всяк (всякий) кулик в (на) своем болоте велик'][' каждый имеет вес, значение только в своем деле, в привычном для него месте']\n",
            "7  15159 1  ['всяк кулик в своём болоте велик'][]             \n",
            "1\n",
            "8  11484 1  ['Всяк кулик свое болото хвалит', 'всяк кулик своё болото хвалит'][' каждый хвалит то, что ему близко, дорого']\n",
            "8  12494 0  ['Каждый кулик свое болото хвалит'][' каждый хвалит то, что ему близко, дорого']\n",
            "1\n",
            "9  11492 0  ['Не всякое (всяко) лыко в строку'][' не всякая оплошность, необдуманное слово, проступок ставится в вину, говорится в оправдание или в утешение того, кто допустил ошибку, оговорился, обмолвился']\n",
            "9  12612 1  ['не всякое лыко в строку'][' нельзя всякую ошибку ставить в вину, в упрек']\n",
            "1\n",
            "10 11505 1  ['Выводить на чистую воду', 'Выводить на свежую воду'][' разоблачить, уличить кого-либо']\n",
            "10 11898 4  ['От добра добра не ищут', 'вывести на чистую воду', 'выводить на чистую воду'][' о нежелании менять существующего положения, порядка, образа жизни и т. п.']\n",
            "10 16452 1  ['от добра добра не ищут'][]             \n",
            "2\n",
            "11 11507 0  ['Выворотить душу (наизнанку)'][' рассказать кому-либо о себе все самое сокровенное']\n",
            "11 11509 0  ['Выворотиться наизнанку'][' приложить все свои силы, все возможное, чтобы добиться чего-либо']\n",
            "2\n",
            "12 11520 0  ['Вылететь из головы (или из памяти)'][' забыться '] \n",
            "12 11528 0  ['Выскочить из головы (или из памяти)'][' забыться, ускользнуть из памяти']\n",
            "1\n",
            "13 11531 0  ['Быть (или оказаться) на высоте положения'][' удовлетворять самым строгим требованиям']\n",
            "13 17624 0  ['оказаться на высоте положения'][]             \n",
            "1\n",
            "14 11532 0  ['Высунув (высуня) язык (бежать)'][' стремительно, очень быстро']\n",
            "14 14731 1  ['высунув язык (бежать)', 'высуня язык', 'высуня язык бежать'][' стремительно, не переводя дыхания']\n",
            "14 17944 1  ['Высуня (высунув) язык (бежать)']['стремительно, не переводя дыханья.']\n",
            "1\n",
            "15 11537 0  ['Дать (или найти) выход'][' дать возможность проявиться']\n",
            "15 12224 0  ['Дать (или найти) исход'][' дать возможность проявиться']\n",
            "1\n",
            "16 11539 1  ['Не выходить из головы', 'Не выходить из ума'][' быть постоянно в мыслях, в сознании']\n",
            "16 11660 1  ['Выходить из головы', 'Не выходить из головы'][' ускользать из памяти, забываться']\n",
            "16 19262 1  ['Не выходить из ума']['быть постоянно в мыслях, постоянно присутствовать в сознании.']\n",
            "3\n",
            "1 3\n",
            "17 11546 1  ['Вышибить душу', 'вышибать душу'][' убить ударом (ударами)']\n",
            "17 15222 0  ['вышибать дух'][]             \n",
            "1\n",
            "18 11558 0  ['С первого гвоздя (жить)'][' с самого начала какой-либо деятельности']\n",
            "18 16915 1  ['с первого гвоздя'][]             \n",
            "1\n",
            "19 11560 0  ['Где наша не пропадала']['попробуем рискнуть ']\n",
            "19 13501 0  ['Где наше не пропадало', 'где наша не пропадала!'][' выражение, которое употребляют, приступая к действию, связанному с риском']\n",
            "1\n",
            "20 11567 1  ['Герой не моего романа'][' о мужчине, который не нравится']\n",
            "20 15240 1  ['герой не её романа'][]             \n",
            "1\n",
            "21 11576 1  ['Глаза бегают', 'бегать глазами']['неодобр, кто-либо постоянно отводит взгляд, стараясь не смотреть кому-либо в глаза (часто о человеке с нечистой совестью) ']\n",
            "21 14782 0  ['бегать глазами'][]             \n",
            "1\n",
            "22 11593 0  ['Куда глаза глядят (идти, брести, бежать)']['не выбирая пути, без определенной цели ']\n",
            "22 17971 1  ['Куда глаза глядят (идти, бежать)']['куда попало, всё равно куда.']\n",
            "1\n",
            "23 11596 0  ['На глаза не показываться'][' не приходить к кому-либо, не посещать кого-либо']\n",
            "23 16083 1  ['на глаза не попадайся!'][]             \n",
            "1\n",
            "24 11600 0  ['Ни в одном глазу (глазе)'][' ничуть, нисколько (не пьян)']\n",
            "24 17960 0  ['Ни в одном глазе (глазу)']['ничуть, нисколько (подразумевается: не пьян).']\n",
            "1\n",
            "25 11601 1  ['Ни в одном глазу сна', 'сна ни в одном глазу'][' о полном отсутствии желания спать']\n",
            "25 14042 1  ['сна ни в одном глазу нет', 'сна ни в одном глазу'][' совсем не хочется спать']\n",
            "1\n",
            "26 11607 0  ['Смотреть во все глаза', 'Глядеть во все глаза', 'Смотреть в оба глаза', 'Глядеть в оба глаза'][' смотреть пристально, с напряженным вниманием']\n",
            "26 17931 1  ['Выглядеть все глаза']['долго всматриваясь, утомить зрение.']\n",
            "2\n",
            "27 11611 0  ['Смотреть (или глядеть) глазами'][' не имея собственного мнения, целиком подчиниться чужому']\n",
            "27 11616 0  ['Смотреть (или делать) глазки'][' смотреть на кого-либо кокетливо, игриво']\n",
            "27 12739 0  ['Смотреть (или глядеть) в могилу'][' быть близким к смерти (о дряхлых или безнадежно больных людях)']\n",
            "2\n",
            "28 11617 0  ['Глас народа'][' об истинности, правильности мнения народа']\n",
            "28 11692 0  ['Голос народа'][' широкое общественное мнение']\n",
            "2\n",
            "29 11657 0  ['Выбросить из головы', 'Выкинуть из головы'][' забыть, оставить мысль о чем-либо']\n",
            "29 15175 1  ['выбивать из головы'][]             \n",
            "2\n",
            "30 11662 1  ['Голова болит'][' что-либо заботит, беспокоит']\n",
            "30 15278 1  ['голова не болит'][]             \n",
            "2\n",
            "31 11667 4  ['Как снег на голову'][' неожиданно, внезапно ']\n",
            "31 13975 0  ['Как снег на голову', 'Как снег на голову упасть', 'Как снег на голову свалиться'][' совершенно неожиданно, внезапно.']\n",
            "1\n",
            "32 11721 0  ['Появиться на чьем горизонте'][' появиться в каком-либо обществе, круге людей']\n",
            "32 16720 1  ['появляться на горизонте'][]             \n",
            "1\n",
            "33 11732 0  ['Городить чепуху'][' говорить глупости']\n",
            "33 17648 0  ['пороть чепуху'][]             \n",
            "1\n",
            "34 11765 0  ['Смотреть (или глядеть) в гроб'][' быть близким, приближаться к смерти (о дряхлых или безнадежно больных людях)']\n",
            "34 12375 0  ['Смотреть (или глядеть) в корень'][' вникать в самое существо какого-либо дела']\n",
            "34 12576 0  ['Смотреть (или глядеть) в лицо'][' не бояться чего-либо, быть мужественным']\n",
            "34 12739 0  ['Смотреть (или глядеть) в могилу'][' быть близким к смерти (о дряхлых или безнадежно больных людях)']\n",
            "3\n",
            "1 4\n",
            "35 11776 0  ['Ни на грош нет'][' нисколько нет чего-либо']\n",
            "35 18033 1  ['Ни гроша нет']['вовсе нет денег.']\n",
            "2\n",
            "36 11805 0  ['Дареному коню в зубы не смотрят', 'Даровому коню в зубы не смотрят'][' не выражают недовольства подаренной или доставшейся даром вещью']\n",
            "36 15345 1  ['дарёному коню в зубы не смотрят'][]             \n",
            "1\n",
            "37 11808 0  ['Дать веру']  [' проверить чему-либо ']\n",
            "37 15325 0  ['давать веру'][]             \n",
            "37 17825 1  ['Дать на веру']['одолжить кому-н. без законных гарантий возврата, на честное слово.']\n",
            "2\n",
            "38 11817 1  ['Открыть дверь', 'открывать дверь'][' дать свободный доступ куда-либо']\n",
            "38 16479 1  ['открывать двери', 'открывать дверь'][]             \n",
            "1\n",
            "39 11819 0  ['При открытых дверях'][' со свободным доступом']\n",
            "39 18054 1  ['При закрытых дверях']['в присутствии только заинтересованных и должностных лиц, без посторонней публики и прессы.']\n",
            "2\n",
            "40 11840 0  ['Дело делать']['трудиться, работать, заниматься чем-либо ']\n",
            "40 13813 0  ['Дело сделано'][' о том, что совершилось и уже не может быть изменено, исправлено']\n",
            "2\n",
            "41 11852 0  ['Мое (твое) дело сторона'][' меня это не касается, я к этому не причастен']\n",
            "41 19120 1  ['Моё дело сторона', 'твоё дело сторона', 'его дело сторона']['это меня (тебя, его и т.д.) не касается.']\n",
            "1\n",
            "42 11863 0  ['Не при деньгах (быть)'][' без денег, без свободных, излишних денег']\n",
            "42 11864 0  ['При деньгах (быть)'][' с деньгами, иметь деньги']\n",
            "2\n",
            "43 11868 0  ['Держать кого в руках'][' не давать кому-либо воли ']\n",
            "43 13703 0  ['Иметь в руках', 'Иметь в своих руках', 'держать в руках', 'держать в своих руках'][' обладать чем-либо']\n",
            "43 13704 0  ['Иметь руку', 'Иметь сильную руку'][' пользоваться покровительством, влиятельной поддержкой где-либо, со стороны кого-либо']\n",
            "2\n",
            "44 11874 1  ['Держать сторону', 'Держать руку'][' оказывать поддержку кому-либо, быть чьим-либо сторонником']\n",
            "44 13703 0  ['Иметь в руках', 'Иметь в своих руках', 'держать в руках', 'держать в своих руках'][' обладать чем-либо']\n",
            "44 13704 0  ['Иметь руку', 'Иметь сильную руку'][' пользоваться покровительством, влиятельной поддержкой где-либо, со стороны кого-либо']\n",
            "2\n",
            "45 11884 2  ['Не знать, куда глаза деть', 'не знать, куда глаза девать'][' о чувстве стыда, смущения от чего-либо']\n",
            "45 11885 1  ['Не знать, куда руки деть', 'не знать, куда руки девать'][' о чувстве сильного стеснения ']\n",
            "2\n",
            "46 11898 4  ['От добра добра не ищут', 'вывести на чистую воду', 'выводить на чистую воду'][' о нежелании менять существующего положения, порядка, образа жизни и т. п.']\n",
            "46 16452 1  ['от добра добра не ищут'][]             \n",
            "1\n",
            "47 11908 0  ['Быть в долгу'][' быть обязанным кому-либо в чем-либо']\n",
            "47 14860 1  ['брать в долг'][]             \n",
            "47 14908 0  ['быть в доле'][]             \n",
            "3\n",
            "1 3\n",
            "48 11937 0  ['Найти доступ сердцу'][' завоевать чьи-либо симпатии, сочувствие, расположение']\n",
            "48 16190 1  ['находить доступ к сердцу'][]             \n",
            "1\n",
            "49 11940 0  ['Дочь Ева']   [' о женщине, страдающей излишним любопытством']\n",
            "49 15466 1  ['дочь Евы']   []             \n",
            "1\n",
            "\tength: 33\n"
          ]
        }
      ]
    },
    {
      "cell_type": "code",
      "source": [
        "new_vars.extend(next_variants(2950, 3000)[0])\n",
        "print('\\tlength:', len(new_vars))"
      ],
      "metadata": {
        "colab": {
          "base_uri": "https://localhost:8080/"
        },
        "id": "JGcWz98zpfPR",
        "outputId": "2c458241-52fa-4825-dbb0-28ce0884e3fe"
      },
      "execution_count": 28,
      "outputs": [
        {
          "output_type": "stream",
          "name": "stdout",
          "text": [
            "0  11955 0  ['Думать думу'][]             \n",
            "0  11956 0  ['думать думушку'][' размышлять, предаваться раздумью']\n",
            "1\n",
            "1  11957 0  ['Много о себе думать'][' быть слишком высокого мнения о себе']\n",
            "1  18099 0  ['Много о себе думать']['быть слишком высокого мнения о себе.']\n",
            "1\n",
            "2  11960 0  ['Дурака лечить, что мертвого лечить', 'дураков лечить, что мертвого лечить'][' о бессмысленности, бесполезности объяснять, растолковывать кому-либо что-либо']\n",
            "2  15487 0  ['дурака учить, что мёртвого лечить'][]             \n",
            "1\n",
            "3  11964 2  ['оставить в дураках', 'оставлять в дураках']['обыграть кого-либо в карточной игре в дураки ']\n",
            "3  11965 2  ['остаться в дураках', 'оставаться в дураках']['проиграть в карточной игре в дурака ']\n",
            "2\n",
            "4  11976 2  ['одним духом', 'единым духом']['очень быстро, мигом ']\n",
            "4  18579 1  ['Одним духом']['сразу, в один приём.']\n",
            "4  19299 1  ['Одним ухом слышать', 'Одним ухом']['отрывочно, не полностью, отчасти лишь слышать о чем-н.']\n",
            "3\n",
            "1 2\n",
            "5  11977 0  ['Пасть духом', 'поникнуть духом'][' впасть в уныние, в отчаяние']\n",
            "5  19277 1  ['Упасть духом']['потерять бодрость, уверенность, отчаяться.']\n",
            "2\n",
            "6  11978 0  ['Переводить дух', 'перевести дух']['делать глубокий вдох, дышать ']\n",
            "6  13164 2  ['перевести дух', 'перевести дыхание'][' глубоко вздохнуть, отдышаться']\n",
            "6  16283 1  ['не переводя дыхания'][]             \n",
            "3\n",
            "1 2\n",
            "7  11984 0  ['Влезть (или залезть) в душу']['втереться в чье-либо доверие, добиться расположения кого-либо ']\n",
            "7  18079 1  ['Влезть или залезть в долги']['наделать много долгов.']\n",
            "7  18117 1  ['Влезть в душу  или залезть в душу']['завладеть чьим- н. вниманием, втереться кому-н. в доверие;']\n",
            "3\n",
            "1 3\n",
            "8  11991 1  ['ни одной живой души', 'ни живой души'][' абсолютно никого ']\n",
            "8  12041 0  ['Ни живой души'][' никого, ни одного человека ']\n",
            "1\n",
            "9  11992 0  ['По душам', 'По душам поговорить', 'По душам разговориться', 'по душе', 'по душе поговорить', 'по душе разговориться'][' по-дружески, искренно, откровенно']\n",
            "9  11993 0  ['По душу являться', 'По душу'][' за кем-либо']\n",
            "2\n",
            "10 12035 0  ['Жива (живая) душа калачика хочет'][' каждый человек хочет чего-либо привлекательного, заманчивого']\n",
            "10 15537 1  ['жива душа калачика хочет'][]             \n",
            "1\n",
            "11 12036 0  ['Живого места нет (или не осталось)'][' нет неповрежденного места']\n",
            "11 18146 1  ['Живого места нет или не остается']['нет, не остается неповрежденного места.']\n",
            "1\n",
            "12 12048 0  ['Живем, (да) хлеб жуем'][' живем понемногу, не жалуемся']\n",
            "12 15538 1  ['живём, хлеб жуём'][]             \n",
            "1\n",
            "13 12055 0  ['Не моя (твоя и т. д.) забота'][' не мое дело, меня не касается']\n",
            "13 18160 1  ['То моя (твоя и т. д.) забота, в']['заняться этим должно мне (тебе и т. д.).']\n",
            "2\n",
            "14 12060 0  ['(И) думать забыть'][' перестать думать, помнить о ком-либо, чем-либо']\n",
            "14 15678 0  ['и думать забудь!'][]             \n",
            "14 15679 1  ['и думать забыл'][]             \n",
            "1\n",
            "15 12065 0  ['Храпеть во все носовые завертки'][' громко храпеть']\n",
            "15 15067 1  ['во всю носовую завёртку'][]             \n",
            "1\n",
            "16 12074 0  ['зубы заговаривать'][' посторонними разговорами намеренно отвлекать от того, что важно или нужно собеседнику, вводить в заблуждение']\n",
            "16 18243 1  ['Зубы заговорить']['постараться обмануть, ввести в заблуждение, отвлекая посторонними разговорами.']\n",
            "1\n",
            "17 12078 0  ['Задать жару (или пару)']['сделать выговор, наказать ']\n",
            "17 13258 0  ['Поддать жару (или пару)'][' усилить старания в чем-либо, возбудить чем-либо энергию']\n",
            "2\n",
            "18 12079 0  ['Задать стрекача'][' быстро откуда-то убегать.']\n",
            "18 15334 1  ['давать стрекача'][]             \n",
            "1\n",
            "19 12083 0  ['Заесть век', 'заесть жизнь'][' всячески мешая, время, притесняя, создать для кого-либо невыносимые условия жизни']\n",
            "19 15598 0  ['заедать жизнь'][]             \n",
            "1\n",
            "20 12089 0  ['Заклепок не хватает'][' об ограниченном, несообразительном человеке']\n",
            "20 15605 0  ['заклёпки не хватает'][]             \n",
            "20 15877 0  ['клёпок не хватает'][]             \n",
            "3\n",
            "1 2\n",
            "21 12095 1  ['замести след', 'замести следы'][' уничтожить скрыть то, что может быть уликой в чем-либо']\n",
            "21 15618 0  ['заметать след'][]             \n",
            "1\n",
            "22 12098 0  ['Держать под замком'][' держать запертым, взаперти ']\n",
            "22 15391 1  ['держать под башмаком'][]             \n",
            "2\n",
            "23 12101 0  ['Дух (или дыхание) заняло'][' затруднилось, остановилось дыхание (вследствие сильного волнения, при быстром движении и т. п.)']\n",
            "23 12119 0  ['Дух (или дыхание) захватило'][' затруднилось, остановилось дыхание (вследствие сильного волнения, при быстром движении и т. п.)']\n",
            "23 18199 1  ['Дух или дыхание занимается']['чувствуется стеснение в груди, остановка дыхания.']\n",
            "3\n",
            "1 2\n",
            "24 12116 0  ['Заставь дурака богу молиться, он и лоб разобьет (расшибет)'][' не в меру усердный человек только вредит делу']\n",
            "24 15635 1  ['заставь дурака богу молиться, он и лоб разобьёт'][]             \n",
            "1\n",
            "25 12125 0  ['Звезды с неба хватать'][' отличаться умом, способностями, совершать что-либо выдающееся']\n",
            "25 12126 0  ['Звезд с неба не хватать'][' быть заурядным, ничем не выдающимся, иметь посредственные способности']\n",
            "2\n",
            "26 12133 1  ['начать за здравие, а кончить за упокой', 'начать за здравие, а свести за упокой'][' начав говорить хорошо, весело, приятно для кого-либо, закончить плохо, мрачно и т. п.']\n",
            "26 12856 0  ['Начал за здравие, а кончил (свел) за упокой'][' начать говорить о чем-либо с оптимизмом, а кончить пессимистически ']\n",
            "26 16193 1  ['начал за здравие, а свёл за упокой'][]             \n",
            "1\n",
            "27 12137 0  ['Земли под собой не слышать (или не чуять)'][' испытывать сильную радость, быть в восторге']\n",
            "27 12932 0  ['Ног под собой не слышать (или не чуять)'][' испытывать сильную радость, быть в восторге']\n",
            "1\n",
            "28 12148 0  ['До зеленого змия (допиться)'][' до сильнейшей степени опьянения, до бреда, галлюцинаций ']\n",
            "28 18219 1  ['До зелёного змея (напиться)']['до белой горячки, до галлюцинаций.']\n",
            "1\n",
            "29 12153 0  ['Знает (чует) кошка, чье мясо съела'][' понимает, что виноват']\n",
            "29 15659 1  ['знает кошка, чьё мясо съела'][]             \n",
            "1\n",
            "30 12158 0  ['Знать цену себе'][' правильно оценивать свои возможности, достоинства']\n",
            "30 18230 1  ['Знать за собой']['сознавать -н., как свое действие (преимущ. об отрицательных поступках).']\n",
            "2\n",
            "31 12161 0  ['Кто его знает'][' неизвестно ']\n",
            "31 15930 1  ['кто знает']  []             \n",
            "1\n",
            "32 12162 1  ['надо и честь знать', 'пора и честь знать', 'надо и совесть знать', 'пора и совесть знать', 'надо честь знать', 'пора честь знать'][' время кончать что-либо, уходить и т. п.']\n",
            "32 16161 1  ['надо совесть знать'][]             \n",
            "1\n",
            "33 12166 0  ['Не знать женщин'][' быть девственником']\n",
            "33 18232 1  ['Знать женщин']['иметь половые сношения с женщинами (о мужчине).']\n",
            "2\n",
            "34 12167 0  ['Только и знает (знаю, знаешь), что...'][' постоянно, непрерывно, то и дело']\n",
            "34 18233 1  ['Только и знаю (знаешь и т. п.), что']['ничего другого не делаю, кроме.']\n",
            "1\n",
            "35 12196 0  ['Идти на попятную'][' отказаться от ранее принятого решения']\n",
            "35 13339 0  ['Идти на попятный', 'Идти на попятную', 'Идти на попятный двор'][' отказываться от данного уже согласия, прежнего решения и т. п.']\n",
            "35 15705 1  ['идти на попятный'][]             \n",
            "1\n",
            "36 12244 2  ['калачом не заманишь'][' не зазовешь никакой приманкой']\n",
            "36 12245 0  ['Калачом не выманишь'][' очень трудно заставить кого-либо покинуть какое-то место']\n",
            "2\n",
            "37 12249 2  ['посадить в калошу'][' поставить в смешное, неловкое положение']\n",
            "37 12250 2  ['сесть в калошу'][' оказаться в неловком, смешном положении, потерпеть неудачу']\n",
            "37 16933 0  ['садиться в галошу'][]             \n",
            "2\n",
            "38 12250 2  ['сесть в калошу'][' оказаться в неловком, смешном положении, потерпеть неудачу']\n",
            "38 16933 0  ['садиться в галошу'][]             \n",
            "2\n",
            "39 12253 2  ['камня на камне не оставить', 'камня на камне не оставлять']['разрушить до основания ']\n",
            "39 15865 1  ['камня на камне не осталось'][]             \n",
            "1\n",
            "40 12258 0  ['Капля камень точит'][' упорством и настойчивостью можно достичь больших результатов']\n",
            "40 15867 1  ['капля камень долбит'][]             \n",
            "1\n",
            "41 12271 0  ['Гречневая (пшенная) каша сама себя хвалит']['о чем-либо явно хорошем, не нуждающемся в похвале ']\n",
            "41 15303 1  ['гречневая каша сама себя хвалит']['о чём-либо явно хорошем, не нуждающемся в похвале']\n",
            "1\n",
            "42 12276 0  ['Сам кашу заварил, сам и расхлебывай'][' сам затеял что-либо хлопотное, неприятное, сам и выпутывайся']\n",
            "42 16938 1  ['сам заварил кашу, сам и расхлёбывай'][]             \n",
            "1\n",
            "43 12280 0  ['Дать (или поддать) киселя'][' ударить кого-либо коленом сзади']\n",
            "43 12558 0  ['Дать (или поддать) леща'][' ударить кого-либо']\n",
            "2\n",
            "44 12282 1  ['вымотать все кишки', 'вымотать кишки'][' измучить, извести ']\n",
            "44 18116 1  ['Вымотать (всю) душу']['довести до полного изнеможения, измучить, надоесть до последней степени.']\n",
            "2\n",
            "45 12296 0  ['свет клином сошелся', 'свет клином не сошелся'][' о том, кто или что (не) является единственно желаемым, приемлемым или единственно возможным при каком-либо выборе']\n",
            "45 16958 3  ['свет не клином сошёлся', 'свет не клином сошелся']['простору много, есть еще место кроме этого;']\n",
            "2\n",
            "46 12318 0  ['Море по колено (по колена)'][' всё нипочем, ничто не страшно']\n",
            "46 18310 1  ['Море по колени или по колено']['всё ни по чем, ничто не страшно.']\n",
            "1\n",
            "47 12325 1  ['правда глаза колет'][' неприятно слышать правду']\n",
            "47 18312 0  ['Правда глаза колет']['пословица, неприятно слышать правду.']\n",
            "1\n",
            "48 12326 0  ['держать под колпаком', 'держать под стеклянным колпаком'][' тщательно оберегать от внешних воздействий, от любых трудностей, нежить, холить']\n",
            "48 15392 0  ['держать под колпаком'][]             \n",
            "48 18313 1  ['Жить под стеклянным колпаком']['быть в невозможности скрыть что-н. из своей жизни.']\n",
            "3\n",
            "1 2\n",
            "49 12327 0  ['Под стеклянным колпаком', 'Под стеклянным колпаком жить', 'Под стеклянным колпаком находиться'][' избегать трудностей, забот, напряженной работы и т. п.']\n",
            "49 18313 1  ['Жить под стеклянным колпаком']['быть в невозможности скрыть что-н. из своей жизни.']\n",
            "1\n",
            "\tlength: 68\n"
          ]
        }
      ]
    },
    {
      "cell_type": "code",
      "source": [
        "write_vars(new_vars)"
      ],
      "metadata": {
        "id": "QcrqO9HNpfPR"
      },
      "execution_count": 29,
      "outputs": []
    },
    {
      "cell_type": "code",
      "source": [
        "new_vars, to_split = next_variants(3000, 3050)\n",
        "print('\\tength:', len(new_vars))"
      ],
      "metadata": {
        "colab": {
          "base_uri": "https://localhost:8080/"
        },
        "outputId": "26c5022b-d967-455d-c142-50225b943070",
        "id": "K4jhn0dXjtYG"
      },
      "execution_count": 12,
      "outputs": [
        {
          "output_type": "stream",
          "name": "stdout",
          "text": [
            "0  12349 0  ['Конь (и) о четырех ногах, да (и тот) спотыкается'][' каждый может ошибиться, оказаться в затруднительном положении']\n",
            "0  15901 1  ['конь о четырёх ногах, да спотыкается'][]             \n",
            "1\n",
            "1  12350 0  ['ход конем']  [' о поступке, вносящем неожиданное изменение в ход событий']\n",
            "1  17339 0  ['ход конём']  []             \n",
            "1\n",
            "2  12375 0  ['Смотреть (или глядеть) в корень'][' вникать в самое существо какого-либо дела']\n",
            "2  12576 0  ['Смотреть (или глядеть) в лицо'][' не бояться чего-либо, быть мужественным']\n",
            "2  12739 0  ['Смотреть (или глядеть) в могилу'][' быть близким к смерти (о дряхлых или безнадежно больных людях)']\n",
            "2\n",
            "3  12389 0  ['По косточкам разобрать'][' разобрать подробно, обстоятельно, по мелочам']\n",
            "3  18515 1  ['По ниточке разобрать']['разобрать подробно, во всех деталях.']\n",
            "2\n",
            "4  12399 1  ['жить как кошка с собакой'][' враждовать, быть в плохих отношениях с кем-либо']\n",
            "4  18345 1  ['Как кошка с собакой']['в крайне неприязненных отношениях.']\n",
            "1\n",
            "5  12403 1  ['как угорелая кошка', 'как угорелая кошка метаться', 'как угорелая кошка бегать'][' в исступлении, бессмысленно']\n",
            "5  19245 2  ['Как угорелый', 'Как угорелый метаться', 'Как угорелый бегать']['без отдыху, в постоянной спешке, в суматохе.']\n",
            "2\n",
            "6  12405 0  ['Быть на краю могилы (или гроба)'][' быть близким к смерти']\n",
            "6  18347 1  ['Быть на краю могилы или гроба, гибели']['быть в опасности умереть, погибнуть.']\n",
            "1\n",
            "7  12411 1  ['в крайности'][' в случае необходимости']\n",
            "7  19160 1  ['По тайности', 'в тайности']['по секрету, в секрете.']\n",
            "2\n",
            "8  12415 0  ['Красной нитью проходить', 'Красной нитью тянуться'][' выделяться, подчеркиваться в качестве основной идеи']\n",
            "8  18350 1  ['Красной нитью (проходить)']['о какой-н. мысли, идее, тенденции: отчетливо выделяться, господствовать.']\n",
            "1\n",
            "9  12418 0  ['Выделывать (или выписывать) (ногами) кренделя (крендели)'][' идти, шатаясь, заплетающейся походкой (о пьяных)']\n",
            "9  12419 0  ['Выкидывать (или выписывать) кренделя (крендели)'][' танцуя, выделывать замысловатые фигуры']\n",
            "1\n",
            "10 12444 0  ['Кровь стынет (или леденеет, холодеет) (в жилах)'][' о чувстве ужаса, сильного испуга и т. п.']\n",
            "10 18362 1  ['Кровь стынет или леденеет (в жилах)']['охватывает ужас, страх.']\n",
            "1\n",
            "11 12445 1  ['кровь ударила в голову', 'кровь бросилась в голову'][' о внезапно наступившем состоянии исступления, сильного возбуждения']\n",
            "11 15924 1  ['кровь бросилась в голову'][]             \n",
            "11 19248 1  ['Кровь ударила в голову']['пришел в мгновенное исступление, пережил сильное аффективное возбуждение.']\n",
            "1\n",
            "12 12447 0  ['Пить кровь', 'сосать кровь'][' мучить, притеснять, жестоко эксплуатировать кого-либо']\n",
            "12 13494 0  ['Пролить кровь', 'Пролить свою кровь', 'лить кровь', 'лить свою кровь'][' ранить, убить кого-либо ']\n",
            "12 18360 1  ['Писать кровью']['писать с глубокой искренностью, производящей сильное впечатление.']\n",
            "2\n",
            "13 12451 0  ['Кромешный ад и кромешная мука'][' о чем-либо, что мучительно трудно переносить, о невыносимой обстановке']\n",
            "13 12452 0  ['Кромешная тьма и кромешный мрак'][' полная, непроглядная, беспросветная тьма']\n",
            "2\n",
            "14 12462 1  ['голова кружится']['о головокружении ']\n",
            "14 17992 2  ['Голову вскружить']['возбудить страсть, сделать кого-н. нерассудительным.']\n",
            "2\n",
            "15 12470 0  ['Опустить крылья'][' потерять живость, энергию, бодрость']\n",
            "15 16431 1  ['опускать крылья'][]             \n",
            "1\n",
            "16 12480 0  ['Кто посеет ветер, тот пожнет бурю'][' кто причиняет зло, того неминуемо ждет жестокая расплата']\n",
            "16 15937 0  ['кто сеет ветер, пожнёт бурю'][]             \n",
            "1\n",
            "17 12481 0  ['Кто смел, тот два съел'][' о предприимчивом, ловком, хитром, умеющем устраиваться человеке']\n",
            "17 15939 1  ['кто смел, тот и съел'][]             \n",
            "1\n",
            "18 12487 0  ['Куда нога не ступала'][' глухое, необжитое место']\n",
            "18 16369 0  ['нога не ступит'][]             \n",
            "2\n",
            "19 12507 0  ['Лавры не дают спать'][' о зависти к чьему-либо успеху (от слов политического деятеля Афин Фемистокла: \"лавры Мильтиада не дают мне спать \")']\n",
            "19 19088 1  ['Лавры не дают спать']['кто-л. испытывает чувство острой зависти к чьему-л. успеху.']\n",
            "1\n",
            "20 12510 0  ['На лад идти (или пойти)'][' идти успешно, слаженно, налаживаться']\n",
            "20 14405 0  ['На убыль идти (или пойти)'][' уменьшаться, убывать']\n",
            "2\n",
            "21 12511 1  ['на свой лад'][' по своему вкусу, в соответствии со своими представлениями о чем-либо, ком-либо']\n",
            "21 16122 0  ['на сто ладов'][]             \n",
            "2\n",
            "22 12514 0  ['Бежать как черт от ладана'][' всячески избегать кого-либо, чего-либо']\n",
            "22 18375 1  ['Бояться, как черт ладана', 'Бежать, как черт от ладана']['о сильном испуге, панике.']\n",
            "1\n",
            "23 12515 0  ['Бояться, как черт ладана'][' очень сильно бояться кого-либо, чего-либо']\n",
            "23 18375 1  ['Бояться, как черт ладана', 'Бежать, как черт от ладана']['о сильном испуге, панике.']\n",
            "1\n",
            "24 12518 0  ['Быть в лапах'][' быть в чьей-либо власти ']\n",
            "24 14861 0  ['брать в лапу'][]             \n",
            "2\n",
            "25 12547 0  ['Глядеть (или смотреть) в лес'][' тяготясь местом работы или местом пребывания, намереваться его оставить, покинуть']\n",
            "25 18544 2  ['Глядеть или смотреть в оба']['пристально, внимательно смотреть, быть осторожным.']\n",
            "2\n",
            "26 12551 0  ['Темный лес'] [' о чем-либо совершенно непонятном или совсем незнакомом для кого-либо']\n",
            "26 17210 1  ['тёмный лес'] []             \n",
            "1\n",
            "27 12572 1  ['меняться в лице'][' о быстрой смене выражения лица под влиянием каких-либо чувств, переживаний и т. п. ']\n",
            "27 15727 1  ['измениться в лице'][]             \n",
            "27 17690 0  ['смеяться в лицо'][]             \n",
            "3\n",
            "1 2\n",
            "28 12576 0  ['Смотреть (или глядеть) в лицо'][' не бояться чего-либо, быть мужественным']\n",
            "28 12739 0  ['Смотреть (или глядеть) в могилу'][' быть близким к смерти (о дряхлых или безнадежно больных людях)']\n",
            "2\n",
            "29 12579 0  ['лишаться рассудка', 'лишиться рассудка'][' терять способность к логическому мышлению']\n",
            "29 12708 0  ['Мешаться в уме', 'Мешаться в рассудке', 'мешаться умом', 'мешаться рассудком'][' сходить с ума, терять разум']\n",
            "2\n",
            "30 12589 0  ['ложка дегтю', 'ложка дегтю в бочке меда', 'ложка дёгтя в бочке меда'][' о небольшом, незначительном добавлении, которое портит большое и хорошее']\n",
            "30 15999 0  ['ложка дёгтю в бочку мёду'][]             \n",
            "1\n",
            "31 12597 0  ['Во все лопатки', 'Во все лопатки бежать', 'Во все лопатки гнать'][' очень быстро, изо всех сил']\n",
            "31 15066 1  ['во всю глотку'][]             \n",
            "2\n",
            "32 12637 0  ['Самая малость'][' незначительная часть чего-либо ']\n",
            "32 16945 1  ['самую малость'][]             \n",
            "1\n",
            "33 12643 0  ['Как манны небесной (ждать)'][' очень сильно ']\n",
            "33 18412 1  ['Как манны небесной (ждать, жаждать)']['очень сильно, с нетерпением.']\n",
            "1\n",
            "34 12660 0  ['К масти быть (или приходиться)'][' подходить кому-либо, годиться для кого-либо']\n",
            "34 12662 0  ['Не к масти быть (или приходиться)'][' не подходить кому-либо, не годиться для кого-либо']\n",
            "2\n",
            "35 12676 0  ['между нами', 'между нами говоря'][' о каком-либо секрете, о чем-либо, чего не следует передавать другим']\n",
            "35 16017 1  ['между нами'] []             \n",
            "1\n",
            "36 12683 0  ['Глуп (глупа) как сивый мерин'][' об очень глупом человеке']\n",
            "36 15256 1  ['глуп как сивый мерин'][]             \n",
            "1\n",
            "37 12699 1  ['поставить на место', 'поставить на свое место', 'указать место', 'указать его место'][' дать понять, указать зазнавшемуся, слишком много возомнившему о себе человеку на то, что он собою представляет в действительности']\n",
            "37 17287 1  ['уложить на месте'][]             \n",
            "2\n",
            "38 12700 0  ['Расставлять по своим местам', 'Расставлять все по своим местам']['установить, разместить там, где положено (о вещах) ']\n",
            "38 16855 1  ['расставить по местам']['установить, разместить там, где положено о вещах']\n",
            "1\n",
            "39 12703 0  ['Стоять на месте', 'оставаться на месте', 'Стоять на одном месте', 'оставаться на одном месте'][' не двигаться вперед, не развиваться, не изменяться']\n",
            "39 16315 1  ['не стоять на месте'][]             \n",
            "39 17148 1  ['стоять на месте'][]             \n",
            "3\n",
            "1 3\n",
            "40 12710 0  ['Сидит мешком'][' о широкой, плохо сидящей одежде ']\n",
            "40 16991 0  ['сидеть мешком'][]             \n",
            "1\n",
            "41 12738 0  ['Рыть (или копать) могилу'][' готовить гибель, строить козни']\n",
            "41 14745 0  ['Рыть (или копать) яму'][' готовить неприятность, стремиться причинить вред кому-либо']\n",
            "2\n",
            "42 12755 1  ['не моргнув глазом', 'не сморгнув глазом', 'не сморгнув'][' не затрудняясь, не испытывая волнения, долго не раздумывая']\n",
            "42 13962 0  ['Не смигнув', 'Не смигнув сказать', 'Не смигнув ответить'][' без всякой заминки, замешательства, долго не раздумывая']\n",
            "1\n",
            "43 12765 0  ['Моченьки нет (или не стало)'][' нет сил, терпения']\n",
            "43 12767 0  ['Мочи нет (или ие стало)'][' нет сил, терпения']\n",
            "1\n",
            "44 12777 1  ['музыка не та', 'другая музыка'][' совсем другое дело (Из басни И. А. Крылова: \"Квартет\" \"Тогда пойдет уж музыка не та \")']\n",
            "44 15476 1  ['другая музыка'][]             \n",
            "2\n",
            "45 12780 0  ['Мурашки бегают по спине (или по телу)'][' об ощущении покалывания, озноба, дрожи']\n",
            "45 18453 1  ['Мурашки бегают (по спине, по телуразг.)']['об ощущении озноба, дрожи.']\n",
            "1\n",
            "46 12800 1  ['набить карман', 'набить мошну'][' разбогатеть, нажиться ']\n",
            "46 14825 2  ['бить морду', 'набить морду']['побить кого-н. по лицу.']\n",
            "2\n",
            "47 12806 0  ['Навязаться на голову (или на)'][' обременить собой кого-либо, оказаться для кого-либо обузой']\n",
            "47 16152 2  ['навязать на голову', 'навязаться на голову'][]             \n",
            "1\n",
            "48 12830 0  ['Наломать бока (или шею)'][' сильно побить кого-либо']\n",
            "48 12834 0  ['Намять бока (или шею)'][' сильно побить']\n",
            "1\n",
            "49 12837 0  ['Ты у меня напляшешься'][' употребляется как угроза кому-либо']\n",
            "49 17255 1  ['ты у меня запляшешь!'][]             \n",
            "49 17256 1  ['ты у меня попляшешь'][]             \n",
            "1\n",
            "\tength: 30\n"
          ]
        }
      ]
    },
    {
      "cell_type": "code",
      "source": [
        "new_vars.extend(next_variants(3050, 3100)[0])\n",
        "print('\\tlength:', len(new_vars))"
      ],
      "metadata": {
        "colab": {
          "base_uri": "https://localhost:8080/"
        },
        "outputId": "13e5022e-e494-4fb4-f0a2-b18223e72333",
        "id": "5SwPBp0hjtYI"
      },
      "execution_count": 16,
      "outputs": [
        {
          "output_type": "stream",
          "name": "stdout",
          "text": [
            "0  12845 0  ['Наставить ухо', 'Наставить уши'][' прислушаться, насторожиться']\n",
            "0  13647 0  ['Наставить рога']['изменить мужу ']\n",
            "0  17612 1  ['наставить нос']['что одурачить, провести кого-н.']\n",
            "2\n",
            "1  12846 0  ['Наставить на ум', 'Наставить на ум-разум', 'наставить уму-разуму'][' научить чему-либо полезному, хорошему и т. п.']\n",
            "1  16179 0  ['наставлять на разум'][]             \n",
            "1\n",
            "2  12847 2  ['насторожить уши', 'насторожить слух'][' внимательно, с интересом прислушаться (о человеке)']\n",
            "2  14501 0  ['Навострить уши', 'насторожить уши'][' внимательно, с интересом прислушаться, насторожиться']\n",
            "2  19297 3  ['Насторожить уши']['о животном: приподнять, напрячь уши, прислушиваясь с опаскою.']\n",
            "1\n",
            "3  12856 0  ['Начал за здравие, а кончил (свел) за упокой'][' начать говорить о чем-либо с оптимизмом, а кончить пессимистически ']\n",
            "3  16193 1  ['начал за здравие, а свёл за упокой'][]             \n",
            "1\n",
            "4  12857 0  ['Наше вам!']  [' приветствие, означающее: приветствуем вас! Здравствуйте!']\n",
            "4  17926 1  ['На вы', 'На вы быть', 'На вы говорить', 'На вы обращаться']['о таких отношениях между людьми, когда говорят друг другу \"вы\", а не \"ты\".']\n",
            "4  19235 1  ['На ты', 'На ты быть', 'На ты говорить', 'На ты обращаться']['о таких отношениях между людьми, когда говорят друг другу \"ты\", а не \"вы\".']\n",
            "2\n",
            "5  12858 0  ['На наш век дураков хватит'][' говорится теми, кто готов злоупотреблять отзывчивостью доверчивых, бескорыстных людей']\n",
            "5  16103 1  ['на наш век хватит'][]             \n",
            "2\n",
            "6  12860 0  ['Как с неба упал', 'как будто с неба упал', 'точно с неба упал)', 'Как с неба свалился', 'как будто с неба свалился', 'точно с неба свалился']['неожиданно появился, внезапно произошел, случился ']\n",
            "6  13978 0  ['Как сноп повалиться', 'Как сноп упасть'][' рухнуть тяжело, всем телом']\n",
            "6  15836 1  ['как с луны свалился'][]             \n",
            "6  15837 1  ['как с неба свалился']['кто']        \n",
            "6  16304 1  ['не с неба свалилось'][]             \n",
            "3\n",
            "1 4 5\n",
            "7  12890 0  ['Чтобы было неповадно'][' чтобы не захотелось повторить в следующий раз или сделать то же самое кому-либо']\n",
            "7  13235 0  ['Чтобы не было повадно'][' чтобы не захотелось повторить что-либо в другой раз']\n",
            "1\n",
            "8  12899 0  ['Сойти (или свестись) на нет']['исчезнуть совсем, до конца ']\n",
            "8  18505 1  ['Сходить (или сводиться) на нет']['исчезать до конца;']\n",
            "1\n",
            "9  12917 0  ['Быть на дружеской (или короткой) ноге'][' быть в дружеских, коротких отношениях']\n",
            "9  12941 0  ['Стать на дружескую (или короткую) ногу'][' установить с кем-либо дружеские, короткие отношения']\n",
            "1\n",
            "10 12939 0  ['Становиться (вставать, подниматься) на ноги']['выздоравливать, оправляться от болезни']\n",
            "10 12940 0  ['Стать (или встать, подняться) на ноги']['оправиться от перенесенной болезни, несчастья ']\n",
            "1\n",
            "11 12952 0  ['Как (словно) ножом по сердцу (полоснуть)'][' об ощущении внезапной душевной боли от какой-либо неприятности, беды и т. п.']\n",
            "11 15814 1  ['как ножом по сердцу полоснуть'][]             \n",
            "1\n",
            "12 12962 0  ['Высовывать (высунуть) нос'][' выходить куда-либо, показываться']\n",
            "12 14732 0  ['Высовывать (высунуть) язык'][' тратить последние силы, слабеть']\n",
            "2\n",
            "13 12976 0  ['Показывать нос', 'Показывать носы'][' дразнить кого-либо, приставив к носу большой палец и растопырив остальные']\n",
            "13 18538 1  ['Показать носили']['пойти, поехать - н., появиться - н.']\n",
            "1\n",
            "14 12977 2  ['уткнуть нос', 'уткнуться носом'][' сосредоточиться на чем-либо, быть всецело поглощенным чем-либо']\n",
            "14 19236 1  ['Тыкать носом', 'ткнуть носом']['указывать кому-н. что-н., обращать чье- н. внимание на что-н.']\n",
            "14 19237 1  ['Тыкать свой нос', 'Тыкать нос']['вмешиваться (не в свое дело).']\n",
            "2\n",
            "15 12978 0  ['Носится как дурак с торбой'][' о том, кто уделяет слишком много внимания не заслуживающему этого']\n",
            "15 16379 2  ['носиться как дурак с писаной торбой'][]             \n",
            "1\n",
            "16 12997 0  ['Без обиняков говорить (или спрашивать)'][' говорить открыто, прямо']\n",
            "16 12998 0  ['Обиняком (обиняками) говорить (или спрашивать)'][' говорить с помощью намеков, недомолвок, иносказаний']\n",
            "2\n",
            "17 13002 0  ['Облечь доверием'][' оказав доверие, уполномочить на что-либо']\n",
            "17 16405 1  ['облекать доверием'][]             \n",
            "1\n",
            "18 13004 1  ['облить грязью', 'облить помоями'][' несправедливо обвинить в чем-либо низком, грязном, опорочить']\n",
            "18 16406 1  ['обливать помоями']['распускать клеветнические, позорящие сплетни о ком- н., обвинять -н. в гнусных поступках.']\n",
            "1\n",
            "19 13018 0  ['Раз, два (или один-два) и обчелся'][' об очень малом, недостаточном количестве кого-либо, чего-либо']\n",
            "19 18563 1  ['Раз, два (или один, другой) и обчелся']['о количестве кого- чего-н.: очень немного.']\n",
            "1\n",
            "20 13024 0  ['Одна паршивая овца все стадо портит'][' один недобросовестный, безнравственный человек позорит весь коллектив']\n",
            "20 16509 1  ['паршивая овца всё стадо портит'][]             \n",
            "1\n",
            "21 13025 0  ['Небо с овчинку (в очинку) показалось'][' о чувстве сильного страха, испуга, боли']\n",
            "21 18488 2  ['небо с овчинку (показалось)', 'небо с овчинку показалось (покажется)']['о состоянии крайнего страха, отчаяния.']\n",
            "1\n",
            "22 13040 1  ['один в поле не воин'][' в одиночку все трудно делать; не сделаешь того, что можно сделать сообща']\n",
            "22 15686 1  ['и один в поле воин'][]             \n",
            "2\n",
            "23 13069 0  ['Своей (собственной) особой'][' лично, сам']\n",
            "23 13174 0  ['(Своей) собственной персоной'][' сам, лично']\n",
            "23 13998 0  ['Собственной персоной', 'Собственной особой'][' лично, сам ']\n",
            "1\n",
            "24 13070 0  ['Оставаться прн своем'][' ничего не потерять и ничего не приобрести']\n",
            "24 13799 0  ['остаться при своих', 'оставаться при своих'][' в играх с денежными ставками: не проиграть и не выиграть ']\n",
            "1\n",
            "25 13096 0  ['Открыть Америку'][' сказать, объявить о том, что давно известно']\n",
            "25 16480 1  ['открыл Америку!'][]             \n",
            "1\n",
            "26 13103 0  ['Отправить в рот'][' положить в рот']\n",
            "26 18896 1  ['Отправить в рай']['убить.']     \n",
            "2\n",
            "27 13105 2  ['как ножом отрезать', 'как ножом отрезал', 'как ножом отрезало', 'как отрезало'][' сказать резко, категорически, отказать наотрез,']\n",
            "27 15819 2  ['как отрезал', 'как отрезало']['говорится о чем-н. внезапно и без причины прекратившемся.']\n",
            "2\n",
            "28 13106 1  ['дать голову на отсечение', 'дать руку на отсечение'][' с полной убежденностью ручаться за что-либо']\n",
            "28 18936 1  ['Давать руку на отсечение']['клятвенно заверять.']\n",
            "1\n",
            "29 13116 0  ['На мой (твой, его и т. д.) пай'][' на мою долю ']\n",
            "29 13189 0  ['Не моя (твоя, его и т. д.) печаль'][' не мое дело, меня не касается']\n",
            "2\n",
            "30 13119 0  ['Обвести вокруг пальца', 'обвернуть вокруг пальца'][' ловко, хитро обмануть']\n",
            "30 18546 1  ['Обвертеть вокруг пальца']['обманув, перехитрив, подчинить чьи-н. поступки своей воле.']\n",
            "1\n",
            "31 13120 0  ['Пальцем двинуться (или шевельнуть)'][' сделать небольшое усилие']\n",
            "31 13123 0  ['Пальцем ие двинуть (или не шевельнуть)'][' не сделать ни малейшего усилия']\n",
            "2\n",
            "32 13122 0  ['Пальцем (палец) о палец не ударить'][' совершенно ничего не сделать']\n",
            "32 16502 3  ['палец о палец не ударить', 'пальца о палец не ударить']['ничего не сделать для какой-н. цели.']\n",
            "1\n",
            "33 13135 1  ['прийти на память'][' припомниться, вспомниться']\n",
            "33 18815 1  ['Привести на память']['напоминать.']\n",
            "2\n",
            "34 13156 1  ['первая колом, вторая соколом, третья мелкими пташечками', 'первая рюмка колом, вторая соколом, третья мелкими пташечками', 'первая чарка колом, вторая соколом, третья мелкими пташечками', 'первая колом, вторая соколом, и потом мелкими пташечками', 'первая рюмка колом, вторая соколом, и потом мелкими пташечками', 'первая чарка колом, вторая соколом, и потом мелкими пташечками', 'первая рюмка - колом, вторая соколом, а третья - мелкими пташечками'][' каждая последующая рюмка легче пьется']\n",
            "34 16515 1  ['первая колом, вторая соколом, а потом уж мелкими пташками'][]             \n",
            "1\n",
            "35 13164 2  ['перевести дух', 'перевести дыхание'][' глубоко вздохнуть, отдышаться']\n",
            "35 16283 1  ['не переводя дыхания'][]             \n",
            "2\n",
            "36 13171 1  ['пересчитать кости', 'пересчитать ребра'][' сильно избить кого-нибудь']\n",
            "36 17633 0  ['пересчитать все ребра'][]             \n",
            "1\n",
            "37 13174 0  ['(Своей) собственной персоной'][' сам, лично']\n",
            "37 13998 0  ['Собственной персоной', 'Собственной особой'][' лично, сам ']\n",
            "2\n",
            "38 13176 0  ['Пес его (ее, его и т. д.) знает'][' неизвестно ']\n",
            "38 18660 1  ['Пёс (его, её и т.д.) знает']['неизвестно.']\n",
            "1\n",
            "39 13207 0  ['Пить горькую (или мертвую)'][' сильно пьянствовать']\n",
            "39 18673 1  ['Пить горькую, мёртвую']['пить запоем, не протрезвляясь.']\n",
            "1\n",
            "40 13244 0  ['Дать повод', 'подать повод'][' дать возможность или основание действовать или думать каким-либо образом']\n",
            "40 18703 1  ['Подать повод']['доставить возможность действовать или думать каким-н. определенным образом.']\n",
            "1\n",
            "41 13247 0  ['Повысить голос', 'Повысить тон'][' сказать громче обычного, с раздражением']\n",
            "41 14316 0  ['Повысить тон'][' начать говорить громче обычного, с раздражением']\n",
            "1\n",
            "42 13262 0  ['Знать всю подноготную', 'узнать всю подноготную'][' запускания игл или гвоздей под ногти, чтобы заставить обвиняемого говорить правду)']\n",
            "42 17281 1  ['узнать всю подноготную'][]             \n",
            "1\n",
            "43 13263 0  ['Давать подножку', 'дать подножку', 'подставить подножку', 'подставлять подножку'][' чинить исподтишка препятствия, с умыслом делать пакости ']\n",
            "43 16635 3  ['подставлять ногу', 'подставлять ножку', 'подставить ножку']['в драке или борьбе поставить ногу так, чтобы противник упал (запрещенный в спорте прием);']\n",
            "2\n",
            "44 13266 0  ['Легок (легкий) на подъем'][' о том, кто с легкостью, с охотой может в любое время пойти, поехать куда-либо']\n",
            "44 18749 1  ['Лёгок (легка) на помине']['об отсутствовавшем и появляющемся тогда, когда только что о нем вспоминали, говорили.']\n",
            "2\n",
            "45 13280 0  ['Пока (покуда) солнце взойдет, роса очи (глаза) выест'][' пока наступит, произойдет что-либо долгожданное, желаемое, уже отпадет в нем необходимость, будет поздно']\n",
            "45 16648 1  ['пока солнце взойдёт, роса очи выест'][]             \n",
            "1\n",
            "46 13288 2  ['покоритель сердец'][' мужчина, имеющий успех у женщин']\n",
            "46 18732 1  ['Покорительница сердец']['женщина, имеющая успех у мужчин.']\n",
            "2\n",
            "47 13313 0  ['Белый как полотно'][' очень белый, бледный ']\n",
            "47 14833 1  ['бледный как полотно'][]             \n",
            "1\n",
            "48 13323 0  ['Одного помету'][' о людях, имеющих одни и те же, обычно плохие свойства характера, качества и т. п.']\n",
            "48 18747 1  ['Одного помёта']['одного происхождения, от одних родителей.']\n",
            "1\n",
            "49 13326 0  ['Поминать добром', 'Поминать добрым словом'][' вспоминая, хорошо отзываться о ком-либо']\n",
            "49 13330 1  ['помяни мое слово', 'помяните мое слово'][' заверение в том, что сбудется то, о чем в данный момент говорится']\n",
            "49 13337 0  ['Попомни мое слово', 'Попомните мое слово', 'Попомни меня', 'Попомните меня'][' заверение в том, что все будет так, как сказано']\n",
            "2\n",
            "\tlength: 63\n"
          ]
        }
      ]
    },
    {
      "cell_type": "code",
      "source": [
        "write_vars(new_vars)"
      ],
      "metadata": {
        "id": "gAaDWlVgjtYJ"
      },
      "execution_count": 18,
      "outputs": []
    },
    {
      "cell_type": "code",
      "source": [
        "new_vars, to_split = next_variants(3100, 3150)\n",
        "print('\\tength:', len(new_vars))"
      ],
      "metadata": {
        "colab": {
          "base_uri": "https://localhost:8080/"
        },
        "id": "L92LTYEY0S3S",
        "outputId": "7a023de1-397b-4562-b07f-98b2187428ad"
      },
      "execution_count": 22,
      "outputs": [
        {
          "output_type": "stream",
          "name": "stdout",
          "text": [
            "0  13330 1  ['помяни мое слово', 'помяните мое слово'][' заверение в том, что сбудется то, о чем в данный момент говорится']\n",
            "0  13337 0  ['Попомни мое слово', 'Попомните мое слово', 'Попомни меня', 'Попомните меня'][' заверение в том, что все будет так, как сказано']\n",
            "1\n",
            "1  13336 0  ['ты у меня попляшешь', 'он у меня попляшет'][' употребляется как угроза, в значении: я тебе (ему и т. п.) отомщу, я тебя (его и т. д.) накажу, проучу за что-либо']\n",
            "1  17255 1  ['ты у меня запляшешь!'][]             \n",
            "1  17256 1  ['ты у меня попляшешь'][]             \n",
            "1\n",
            "2  13338 0  ['Попытка не пытка', 'Попытка не шутка', 'Попытка не пытка, а спрос не беда', 'Попытка не пытка, а спрос не беда'][' говорится, когда кто-либо не уверен, что попытка сделать что-либо удастся, но попытаться все-таки стоит, так как никто ничем не рискует']\n",
            "2  16686 1  ['попытка не пытка'][]             \n",
            "1\n",
            "3  13339 0  ['Идти на попятный', 'Идти на попятную', 'Идти на попятный двор'][' отказываться от данного уже согласия, прежнего решения и т. п.']\n",
            "3  15705 1  ['идти на попятный'][]             \n",
            "1\n",
            "4  13340 1  ['в поре', 'в самой поре'][' в расцвете сил ']\n",
            "4  13583 0  ['В самый раз', 'самый раз']['самое подходящее время, вовремя ']\n",
            "2\n",
            "5  13341 1  ['в ту пору', 'в эту пору'][' тогда']     \n",
            "5  13343 0  ['До этих пор'][' с этого времени, момента']\n",
            "5  13348 0  ['С той поры', 'с тех пор'][' с того времени, момента']\n",
            "5  18762 1  ['До тех пор'] ['до того времени.']\n",
            "5  18763 1  ['С тех пор']  ['с того времени, от того момента.']\n",
            "5  18764 1  ['С той поры'] ['то же, что с тех пор.']\n",
            "5  18765 1  ['С этих пор'] ['с этого времени, с этого момента.']\n",
            "2\n",
            "6  13342 0  ['До каких пор', 'До которых пор'][' до какого времени, момента']\n",
            "6  13346 1  ['с каких пор', 'с которых пор'][' с какого времени']\n",
            "6  13347 0  ['С некоторых пор'][' с известного времени, момента']\n",
            "2\n",
            "7  13343 0  ['До этих пор'][' с этого времени, момента']\n",
            "7  18762 1  ['До тех пор'] ['до того времени.']\n",
            "7  18763 1  ['С тех пор']  ['с того времени, от того момента.']\n",
            "7  18764 1  ['С той поры'] ['то же, что с тех пор.']\n",
            "7  18765 1  ['С этих пор'] ['с этого времени, с этого момента.']\n",
            "2\n",
            "8  13346 1  ['с каких пор', 'с которых пор'][' с какого времени']\n",
            "8  13347 0  ['С некоторых пор'][' с известного времени, момента']\n",
            "2\n",
            "9  13348 0  ['С той поры', 'с тех пор'][' с того времени, момента']\n",
            "9  18762 1  ['До тех пор'] ['до того времени.']\n",
            "9  18763 1  ['С тех пор']  ['с того времени, от того момента.']\n",
            "9  18764 1  ['С той поры'] ['то же, что с тех пор.']\n",
            "9  18765 1  ['С этих пор'] ['с этого времени, с этого момента.']\n",
            "3\n",
            "1 5\n",
            "10 13354 0  ['Тратить порох даром', 'терять порох даром', 'изводить порох даром', 'Тратить порох напрасно', 'терять порох напрасно', 'изводить порох напрасно', 'Тратить порох попусту', 'терять порох попусту', 'изводить порох попусту'][' говорить, делать чтоли-бо впустую, зря растрачивать силу, энергию']\n",
            "10 13926 0  ['Тратить слова понапрасну', 'Тратить слова попусту', 'Тратить слова зря'][' говорить попусту, зря, не достигая цели']\n",
            "10 17241 1  ['тратить слова впустую'][]             \n",
            "2\n",
            "11 13356 0  ['Стереть в порошок', 'растереть в порошок'][' расправиться с кем-либо, добившись полного устранения, уничтожения']\n",
            "11 18262 1  ['Истереть в порошок']['расправиться с кем-н., добиться полного устранения, уничтожения -н.']\n",
            "1\n",
            "12 13357 0  ['На поруки', 'На поруки отдать', 'На поруки взять'][' под чью-либо ответственность']\n",
            "12 13693 0  ['в руках', 'в руках быть', 'в руках находиться', 'на руках', 'на руках быть', 'на руках находиться']['в зависимости от кого-либо ']\n",
            "12 13694 0  ['В руки просится', 'В руки плывет'][' без труда достается']\n",
            "12 13711 0  ['На руках', 'На руках быть', 'На руках иметься'][' в наличии ']\n",
            "12 13712 1  ['ни руку']    [' удобно, выгодно, совпадает с чьими-либо интересами']\n",
            "12 14977 1  ['в руки просится'][]             \n",
            "12 18774 1  ['На поруки']  ['на чью- н. ответственность.']\n",
            "3\n",
            "1 7\n",
            "13 13362 0  ['Бог послал', 'Бог пошлет'][' о чем-либо случайно добытом или полученном']\n",
            "13 17391 1  ['чем бог послал'][]             \n",
            "2\n",
            "14 13368 0  ['На посту']   [' при исполнении обязанностей ']\n",
            "14 13671 0  ['На рост', 'На рост шить', 'На рост покупать'][' с запасом, в расчете на увеличение в размерах']\n",
            "14 16081 0  ['на вырост']  []             \n",
            "2\n",
            "15 13369 0  ['Стоять на посту', 'быть на посту', 'Стоять на своем посту', 'быть на своем посту'][' исполнять свои обязанности, свой долг']\n",
            "15 13560 0  ['Стать на пути', 'встать на пути', 'стоять на пути', 'стать поперек пути ', 'встать поперек пути ', 'стоять поперек пути '][' мешать, быть препятствием кому-либо в чем-либо']\n",
            "2\n",
            "16 13371 0  ['Быть на посылках', 'находиться на посылках'][' исполнять чьи-либо мелкие поручения']\n",
            "16 18783 2  ['Быть на посылках']['служить кому-н., исполняя мелкие и простые поручения.']\n",
            "1\n",
            "17 13390 0  ['Почем знаю', 'Почем я знаю', 'почем знаешь', 'почем ты знаешь', 'почем знать', 'почем мне знать', 'почем тебе знать'][' употребляется при ответе на вопрос, когда отвечающий хочет сказать, что он совсем не знает о чем-либо']\n",
            "17 13391 0  ['Почем знать'][' возможно, может быть']\n",
            "1\n",
            "18 13392 0  ['в почете', 'Не в почете', 'в почете быть', 'Не в почете быть'][' (не) пользоваться популярностью']\n",
            "18 16209 0  ['не в почёте'][]             \n",
            "1\n",
            "19 13402 0  ['По правде говоря', 'По правде сказать', 'правду говоря', 'правду сказать'][' употребляется при подчеркивании истинности, достоверности сказанного']\n",
            "19 13405 0  ['Правду-матку резать', 'Правду-матку говорить'][' высказываться откровенно, открыто, прямо']\n",
            "19 16588 1  ['по правде говоря'][]             \n",
            "3\n",
            "1 3\n",
            "20 13410 0  ['Будет и на нашей улице праздник', 'Будет и на моей улице праздник', 'Будет и на твоей улице праздник'][' выражение уверенности в том, что наступят лучшие времена для кого-либо, будет возможность восторжествовать над кем-либо, чем-либо']\n",
            "20 18803 0  ['Будет и на нашей (вашей, их) улице праздник'][', обозначающая предвкушение торжества, надежду на лучшее будущее, на возможность восторжествовать над кем- чем-н.']\n",
            "1\n",
            "21 13413 0  ['Пойти прахом', 'рассыпаться прахом', 'разлететься прахом'][' погибнуть, уничтожиться']\n",
            "21 18904 1  ['Рассыпаться прахом']['погибнуть, пропасть, уничтожиться.']\n",
            "1\n",
            "22 13415 0  ['Прах тебя возьми', 'Прах его возьми', 'Прах тебя побери', 'Прах его побери'][' восклицание, выражающее возмущение, негодование']\n",
            "22 18808 0  ['Прах его возьми!']['пропади он совсем!']\n",
            "1\n",
            "23 13434 0  ['Не приведи бог', 'Не приведи боже', 'Не приведи господи', 'Не приведи господь'][' о нежелательности чего-либо']\n",
            "23 13435 0  ['Приведет бог', 'Приведет господь', 'приведет судьба', 'приведет случай'][' случиться, приведется']\n",
            "23 16733 1  ['приведёт бог'][]             \n",
            "23 16734 0  ['приведёт господь'][]             \n",
            "23 18816 1  ['Привел бог'] ['удалось, удачно случилось.']\n",
            "2\n",
            "24 13435 0  ['Приведет бог', 'Приведет господь', 'приведет судьба', 'приведет случай'][' случиться, приведется']\n",
            "24 16733 1  ['приведёт бог'][]             \n",
            "24 16734 0  ['приведёт господь'][]             \n",
            "24 18816 1  ['Привел бог'] ['удалось, удачно случилось.']\n",
            "3\n",
            "1 2 3\n",
            "25 13436 0  ['Привычка - вторая натура'][' привычку трудно искоренить или не искоренить вовсе']\n",
            "25 16737 1  ['привычка - вторая натура'][]             \n",
            "1\n",
            "26 13440 0  ['Прижать к стене', 'Прижать к стенке', 'Припереть к стене', 'Припереть к стенке'][' лишить возможности отпираться, отрицать что-либо, уличить, разоблачить']\n",
            "26 14921 1  ['быть припёртым к стенке'][]             \n",
            "26 16752 0  ['припереть к стене'][]             \n",
            "26 16753 1  ['припирать к стенке'][]             \n",
            "26 18818 2  ['Прижать к стене', 'Прижать к углу']['притеснить, оказать давление на кого-н., обидеть']\n",
            "26 19109 2  ['Прижать к стене', 'припереть к стене']['притеснить, оказать давление на кого-н., обидеть']\n",
            "1\n",
            "27 13443 0  ['Прийти в чувство', 'Прийти в сознание'][' очнуться']  \n",
            "27 17654 0  ['приводить в чувство'][]             \n",
            "2\n",
            "28 13446 0  ['Прийтись по вкусу', 'Прийтись по сердцу', 'Прийтись по нраву', 'Прийтись по душе'][' понравиться']\n",
            "28 16743 1  ['прийтись по душе'][]             \n",
            "28 18821 1  ['Прийтись по вкусу']['понравиться, вызвать расположение, одобрение.']\n",
            "1\n",
            "29 13450 0  ['К примеру', 'к примеру сказать', 'к примеру говоря'][' например']  \n",
            "29 18826 1  ['К примеру']  ['например.']  \n",
            "29 19027 1  ['К примеру сказать']['например.']  \n",
            "1\n",
            "30 13451 0  ['На примете', 'На примете быть', 'На примете иметься'][' о том, кто (или что) является предметом чьего-либо внимания, интересов, планов и т. п.']\n",
            "30 13452 0  ['На примете иметь', 'На примете держать'][' знать кого-либо, что-либо, иметь кого-либо, что-либо в виду']\n",
            "30 18829 1  ['На примете (иметь, быть)']['о ком- чем-н., принимаемом во внимание, не выходящем из поля зрения.']\n",
            "1\n",
            "31 13452 0  ['На примете иметь', 'На примете держать'][' знать кого-либо, что-либо, иметь кого-либо, что-либо в виду']\n",
            "31 18829 1  ['На примете (иметь, быть)']['о ком- чем-н., принимаемом во внимание, не выходящем из поля зрения.']\n",
            "1\n",
            "32 13457 0  ['Принять бой', 'Принять сражение', 'Принять удар'][' не уклониться от боя, возникшего по инициативе противника']\n",
            "32 14047 0  ['Принять в соображение', 'взять в соображение'][' принять во внимание, учесть']\n",
            "2\n",
            "33 13461 1  ['сбоку припёка', 'С боку припёка'][' о ком-либо, чем-либо лишнем, ненужном, совершенно постороннем']\n",
            "33 18979 1  ['Сбоку припека']['о ком- чем-н., появившемся где- н. некстати, лишнем, ненужном, не относящемся к делу.']\n",
            "1\n",
            "34 13463 0  ['К прискорбию', 'К глубокому прискорбию'][' к (глубокому) сожалению ']\n",
            "34 13464 0  ['С прискорбием', 'С глубоким прискорбием', 'С сердечным прискорбием'][' с (глубоким, сердечным) сожалением']\n",
            "2\n",
            "35 13466 0  ['Приступу нет', 'приступа нет'][' невозможно обратиться, приступиться к кому-либо']\n",
            "35 18837 1  ['Приступу нет']['так дорого, что не купить.']\n",
            "35 18838 1  ['Приступу нет']['невозможно обратиться, приступиться к кому-н.']\n",
            "1\n",
            "36 13469 0  ['Притянуть за волосы', 'Притянуть за уши'][' привлечь, использовать что-либо без достаточных оснований, неоправданно']\n",
            "36 16756 0  ['притягивать за уши'][]             \n",
            "36 16757 0  ['притянутый за волосы'][]             \n",
            "1\n",
            "37 13472 0  ['Далекий прицел', 'дальний прицел'][' о далеко идущих планах, замыслах']\n",
            "37 16896 1  ['с дальним прицелом'][]             \n",
            "2\n",
            "38 13473 0  ['До второго пришествия', 'До второго пришествия ждать'][' неопределенно долго']\n",
            "38 15418 1  ['до второго пришествия'][]             \n",
            "1\n",
            "39 13476 0  ['Пробить себе дорогу', 'Пробить себе путь'][' достичь значительного положения, добиться успехов на каком-либо поприще']\n",
            "39 13496 0  ['Проложить себе дорогу']['расчистив путь, устранив препятствия на пути, продвинуться вперед ']\n",
            "2\n",
            "40 13483 0  ['Проводить глазами', 'Проводить взглядом', 'Проводить взором'][' проследить глазами за кем-либо, чем-либо удаляющимся']\n",
            "40 16767 1  ['провожать глазами'][]             \n",
            "40 16768 1  ['продавать глаза'][]             \n",
            "40 17272 1  ['уводить взгляд'][]             \n",
            "2\n",
            "41 13487 0  ['Свет не производил', 'мир не производил'][' такого еще не было (о ком-либо проявляющем в сильной степени какие-либо качества, свойства)']\n",
            "41 18846 1  ['Свет не производил']['никогда не бывало кого- чего-н.']\n",
            "1\n",
            "42 13488 0  ['Оставить на произвол судьбы', 'бросить на произвол судьбы'][' предоставить самому себе, оставить без поддержки']\n",
            "42 14885 1  ['бросать на произвол судьбы'][]             \n",
            "1\n",
            "43 13489 0  ['номер не пройдет', 'номер не прошел', 'Этот номер не прошел', 'Этот номер не пройдет'][' не удается (не удалось) что-либо сделать, осуществить']\n",
            "43 16376 1  ['номер не проходит'][]             \n",
            "1\n",
            "44 13490 0  ['Пройтись на чей счет', 'пройтись по адресу'][' сказать что-либо дурное, нелестное в отношении кого-либо, чего-либо, высмеять кого-либо, что-либо']\n",
            "44 16772 0  ['пройтись по адресу'][]             \n",
            "1\n",
            "45 13495 0  ['Проложить дорогу', 'Проложить путь'][' создать условия для достижения чего-либо, какой-либо цели для роста чего-либо или развития чьей-либо деятельности']\n",
            "45 13496 0  ['Проложить себе дорогу']['расчистив путь, устранив препятствия на пути, продвинуться вперед ']\n",
            "2\n",
            "46 13497 0  ['Малый не промах', 'парень не промах'][' о ловком, сообразительном, расчетливом человеке']\n",
            "46 17631 0  ['парень не промах'][]             \n",
            "1\n",
            "47 13499 0  ['Пронзить душу', 'Пронзить сердце'][' причинить острое страдание']\n",
            "47 16574 1  ['по зову сердца'][]             \n",
            "2\n",
            "48 13514 0  ['По простоте душевной', 'По простоте сердечной', 'в простоте душевной'][' по излишней доверчивости, наивности']\n",
            "48 16589 1  ['по простоте душевной'][]             \n",
            "48 18857 1  ['По простоте сердечной']['по излишней доверчивости, наивности.']\n",
            "1\n",
            "49 13520 0  ['Против жара и камень треснет', 'от жару и камень треснет'][' постоянные неприятности, трудности, испытания и т. п. могут вывести из равновесия, озлобить, ожесточить даже самого сдержанного, невозмутимого человека']\n",
            "49 16091 1  ['на жару и камень треснет'][]             \n",
            "1\n",
            "\tength: 32\n"
          ]
        }
      ]
    },
    {
      "cell_type": "code",
      "source": [
        "new_vars.extend(next_variants(3150, 3200)[0])\n",
        "print('\\tlength:', len(new_vars))"
      ],
      "metadata": {
        "colab": {
          "base_uri": "https://localhost:8080/"
        },
        "id": "ERfNwWNb0S3T",
        "outputId": "782ff9d8-c2af-41fc-cf33-4aa695006ca1"
      },
      "execution_count": 23,
      "outputs": [
        {
          "output_type": "stream",
          "name": "stdout",
          "text": [
            "0  13522 0  ['По проторенной дорожке', 'По проторенной дорожке идти'][' привычным, легким путем']\n",
            "0  17586 0  ['идти по проторенной дорожке'][]             \n",
            "1\n",
            "1  13524 0  ['Прохода не давать', 'проходу не давать'][' не давать покоя насмешками, приставаниями, назойливыми просьбами и т. п.']\n",
            "1  18859 1  ['Прохода не давать']['не давать покоя назойливыми просьбами, приставаньями.']\n",
            "1\n",
            "2  13540 1  ['отливать пули', 'лить пули']['хвастливо лгать, рассказывать что-либо неправдоподобное ']\n",
            "2  18609 1  ['Отлить пулю']['хвастливо лгать, рассказывать что-н. неправдоподобное.']\n",
            "1\n",
            "3  13543 0  ['то густо, то пусто', 'разом густо, разом пусто'][' то много, то ничего нет']\n",
            "3  17225 0  ['то густо, то пусто'][]             \n",
            "1\n",
            "4  13544 1  ['чтобы тебе пусто было', 'чтоб ему пусто было', 'чтобы ей пусто было', 'чтобы вам пусто было', 'чтобы им пусто было'][' употребляется при недовольстве кем-либо, чем-либо, для выражения недоброжелательства, злобы, досады на кого-либо']\n",
            "4  17450 1  ['чтоб тебе пусто было!'][]             \n",
            "1\n",
            "5  13552 0  ['Встать на путь', 'стать на путь', 'вступить на путь'][' начать действовать или развиваться в каком-либо направлении ']\n",
            "5  13560 0  ['Стать на пути', 'встать на пути', 'стоять на пути', 'стать поперек пути ', 'встать поперек пути ', 'стоять поперек пути '][' мешать, быть препятствием кому-либо в чем-либо']\n",
            "1\n",
            "6  13557 0  ['Путь-дорога', 'путь-дороженька']['полоса земли, служащая для езда и ходьбы, дорога ']\n",
            "6  18868 1  ['Путь-дорога']['полоса земли, предназначенная, приспособленная для передвижения.']\n",
            "1\n",
            "7  13558 0  ['Сбить с пути', 'Сбить с пути истинного', 'совлечь с пути', 'совлечь с пути истинного', 'совратить с пути', 'совратить с пути истинного'][' заставить отступить от верных мыслей, убеждений, толкнуть на что-либо дурное']\n",
            "7  13559 0  ['Сбиться с пути', 'Сбиться с пути истинного', 'совратиться с пути', 'совратиться с пути истинного'][' склониться к ложным убеждениям, начать вести предосудительный образ жизни, заняться дурными, предосудительными делами']\n",
            "7  14008 0  ['Совращать с пути истинного'][' подбивать кого-либо на незаконное дело, на совершение безнравственного поступка']\n",
            "1\n",
            "8  13559 0  ['Сбиться с пути', 'Сбиться с пути истинного', 'совратиться с пути', 'совратиться с пути истинного'][' склониться к ложным убеждениям, начать вести предосудительный образ жизни, заняться дурными, предосудительными делами']\n",
            "8  14008 0  ['Совращать с пути истинного'][' подбивать кого-либо на незаконное дело, на совершение безнравственного поступка']\n",
            "2\n",
            "9  13561 0  ['Пусть будет земля пухом', 'да будет земля пухом'][' прощальное пожелание умершему при его погребении']\n",
            "9  16805 0  ['пусть будет земля пухом'][]             \n",
            "1\n",
            "10 13569 1  ['ни пяди', 'ни пяди земли не отдать', 'ни пяди земли не уступить'][' нисколько, даже самой небольшой части']\n",
            "10 16359 0  ['ни пяди']    []             \n",
            "1\n",
            "11 13570 0  ['По пятам', 'По пятам ходить', 'По пятам гнаться'][' неотступно, не отставая']\n",
            "11 18874 1  ['По пятам (ходить)']['неотступно, не отставая, непосредственно следом за кем- чем-н.']\n",
            "1\n",
            "12 13573 0  ['Из пятого в десятое', 'с пятого на десятое', 'пятое через десятое', 'пятое через десятое говорить', 'пятое через десятое рассказывать'][' беспорядочно, без связи, перепрыгивая с одного на другое']\n",
            "12 18066 2  ['из пятого в десятое']['беспорядочно, без связи, переходя непоследовательно от одного к другому.']\n",
            "1\n",
            "13 13578 2  ['и не рад', 'сам не рад', 'и сам не рад'][' о чувстве сожаленья, испытываемом кем-либо по поводу того, что произошло по его инициативе, при его участии']\n",
            "13 16939 0  ['сам не рад'] []             \n",
            "1\n",
            "14 13580 1  ['рад-радёхонек', 'рад-радёшенек'][' очень рад'] \n",
            "14 16821 0  ['рад-радёшенек'][]             \n",
            "1\n",
            "15 13598 0  ['С размаха', 'С размаху', 'со всего размаха', 'со всего размаху']['размахнувшись ']\n",
            "15 16920 1  ['с размаха']  ['со всей силы, размахнувшись, наотмашь бить, ударять и т. п.']\n",
            "1\n",
            "16 13601 0  ['Разрази гром или ', 'Разрази меня гром', 'Разрази бог', 'Разрази меня бог', 'Разрази господь', 'Разрази меня господь', 'пусть разразит бог', 'пусть разразит меня бог', 'пусть разразит господь', 'пусть разразит меня господь', 'пускай разразит бог', 'пускай разразит меня бог', 'пускай разразит господь', 'пускай разразит меня господь', 'да разразит бог', 'да разразит меня бог', 'да разразит господь', 'да разразит меня господь'][' употребляются как клятвенные выражения для подтверждения своих слов, уверения в чем-либо']\n",
            "16 16841 0  ['разрази господи'][]             \n",
            "16 16842 1  ['разрази гром'][]             \n",
            "1\n",
            "17 13605 0  ['Красный как рак', 'покраснеть как рак'][' о человеке, [b]у[/b] которого от сильного волнения, смущения и т. п. прилила кровь к лицу (имеется в виду цвет вареного рака)']\n",
            "17 15916 1  ['красный как рак'][]             \n",
            "17 16654 1  ['покраснеть как рак'][]             \n",
            "1\n",
            "18 13616 0  ['На распутье', 'На распутье быть', 'На распутье стоять'][' в состоянии сомнения, раздумья, не зная, как действовать, не решаясь сделать выбор']\n",
            "18 16117 0  ['на распутье'][]             \n",
            "1\n",
            "19 13626 0  ['Принять в расчет', 'взять в расчет'][' учесть, принять во внимание']\n",
            "19 15039 1  ['взять расчёт'][]             \n",
            "1\n",
            "20 13627 0  ['Сердце рвется', 'душа рвется', 'Сердце рвется на части', 'душа рвется на части'][' о сильном переживании, страдании, испытываемом кем-либо']\n",
            "20 13848 0  ['Сердце оборвалось', 'Сердце упало'][' о внезапном ощущении сильной тревоги или испуга']\n",
            "20 16985 0  ['сердце разрывается'][]             \n",
            "20 18893 1  ['Душа разрывается', 'сердце разрывается']['о скорби, вызываемой чувством жалости, состраданием чьей- н. беде.']\n",
            "20 19276 1  ['Сердце упало']['кто-н. проникся страхом, отчаянием или унынием.']\n",
            "2\n",
            "21 13628 0  ['Ревмя реветь'][' громко, очень сильно плакать']\n",
            "21 16868 1  ['ревмя реветь'][]             \n",
            "1\n",
            "22 13632 0  ['На рельсы', 'На рельсы поставить', 'На рельсы перейти', 'На рельсы перевести'][' на какой-либо путь деятельности, на какое-либо определенное направление']\n",
            "22 13633 0  ['На рельсы поставить'][' пустить в ход, наладить']\n",
            "1\n",
            "23 13637 0  ['Не может быть и речи', 'не могло быть и речи'][' о чем-либо невозможном']\n",
            "23 16265 1  ['не может быть речи'][]             \n",
            "1\n",
            "24 13638 0  ['За решетку', 'За решетку сесть', 'За решетку посадить'][' в тюрьму '] \n",
            "24 13639 0  ['За решеткой', 'За решеткой сидеть', 'За решеткой оказаться'][' в тюрьме']  \n",
            "2\n",
            "25 13643 0  ['Риск - благородное дело'][' говорится в оправдание риска, рискованного поступка']\n",
            "25 16871 1  ['риск - благородное дело'][]             \n",
            "1\n",
            "26 13647 0  ['Наставить рога']['изменить мужу ']\n",
            "26 17612 1  ['наставить нос']['что одурачить, провести кого-н.']\n",
            "2\n",
            "27 13649 0  ['Без роду и племени', 'без роду, без племени'][' неизвестного происхождения, без родственных связей']\n",
            "27 14798 1  ['без роду и племени']['из низшего класса, сословия']\n",
            "27 18678 2  ['Без роду, без племени']['неизвестного происхождения, без родственных связей.']\n",
            "1\n",
            "28 13650 1  ['в этом роде', 'в таком роде'][' приблизительно, примерно такой (такая, такое) или приблизительно, примерно так ']\n",
            "28 13652 1  ['такого рода'][' такой (такая, такое) ']\n",
            "2\n",
            "29 13653 0  ['Родился в рубашке', 'Родился в сорочке', 'родилась в рубашке', 'родилась в сорочке'][' об удачливом, счастливом человеке']\n",
            "29 14061 0  ['Родился в сорочке', 'родилась в сорочке']['родиться покрытым околоплодным пузырем (о младенце или детеныше животного) ']\n",
            "1\n",
            "30 13654 0  ['Корчить рожу', 'Корчить рожи', 'делать рожу', 'делать рожи', 'строить рожу', 'строить рожи'][' гримасничать']\n",
            "30 17596 0  ['корчить рожу'][]             \n",
            "1\n",
            "31 13660 0  ['Лезть на рожон', 'переть на рожон', 'против рожна переть'][' предпринимать что-либо заведомо рискованное, обреченное на неудачу']\n",
            "31 16787 1  ['против рожна не попрёшь'][]             \n",
            "31 18919 2  ['Против рожна (идти, переть)']['действовать с негодными средствами против силы, когда все действия заведомо обречены на неудачу.']\n",
            "2\n",
            "32 13662 0  ['В розовом свете видеть', 'В розовом цвете видеть', 'В розовом свете представлять', 'В розовом цвете представлять', 'сквозь розовые очки смотреть'][' идеализировать кого-либо, что-либо, не замечать недостатков, темных сторон кого-либо, чего-либо']\n",
            "32 18616 1  ['Сквозь розовые очки смотреть']['идеализировать всё, не замечать недостатков.']\n",
            "1\n",
            "33 13666 1  ['играть роль'][' иметь значение, заметное влияние, оказывать воздействие']\n",
            "33 13667 0  ['Играть роль', 'разыгрывать роль'][' изображать кого-либо, воспроизводя манеры, поведение, притворяться кем-либо']\n",
            "33 16246 0  ['не играть роли'][]             \n",
            "33 18248 3  ['Играть рольили']['оказывать какое-н. воздействие, влиять каким-н. образом.']\n",
            "33 18921 5  ['Играть рольили']['оказывать какое-н. воздействие, влиять каким-н. образом.']\n",
            "3\n",
            "1 2 4 5\n",
            "34 13667 0  ['Играть роль', 'разыгрывать роль'][' изображать кого-либо, воспроизводя манеры, поведение, притворяться кем-либо']\n",
            "34 16246 0  ['не играть роли'][]             \n",
            "34 18248 3  ['Играть рольили']['оказывать какое-н. воздействие, влиять каким-н. образом.']\n",
            "34 18921 5  ['Играть рольили']['оказывать какое-н. воздействие, влиять каким-н. образом.']\n",
            "2\n",
            "35 13670 0  ['Во весь рост', 'в полный рост', 'в рост']['выпрямившись ']\n",
            "35 13675 0  ['Во весь рот', 'Во весь рот кричать', 'Во весь рот орать'][' очень громко']\n",
            "35 15063 1  ['во весь ор'] []             \n",
            "35 17533 0  ['во весь опор'][]             \n",
            "2\n",
            "36 13671 0  ['На рост', 'На рост шить', 'На рост покупать'][' с запасом, в расчете на увеличение в размерах']\n",
            "36 16081 0  ['на вырост']  []             \n",
            "2\n",
            "37 13675 0  ['Во весь рот', 'Во весь рот кричать', 'Во весь рот орать'][' очень громко']\n",
            "37 15063 1  ['во весь ор'] []             \n",
            "37 17533 0  ['во весь опор'][]             \n",
            "37 18928 1  ['Во весь рот (орать)']['очень громко.']\n",
            "3\n",
            "1 4\n",
            "38 13677 0  ['В рот не взять', 'В рот не возьмешь'][' о чем-либо невкусном']\n",
            "38 14974 2  ['в рот не возьмёшь']['нельзя есть, невкусно.']\n",
            "1\n",
            "39 13678 0  ['Зажать рот', 'замазать рот', 'заткнуть рот', 'закрыть рот']['заставить молчать кого-либо, помешать высказать свое мнение']\n",
            "39 13682 0  ['Раскрыть рот', 'открыть рот']['заговорить, высказаться ']\n",
            "2\n",
            "40 13683 0  ['Смотреть в рот', 'глядеть в рот']['смотреть, как кто-либо ест, считая, желая съеденное или будучи голодным ']\n",
            "40 13966 0  ['Смотреть в гроб', 'Смотреть в могилу'][' быть близким к смерти (о дряхлых или безнадежно больных людях) ']\n",
            "40 17059 1  ['смотри в оба'][]             \n",
            "2\n",
            "41 13684 1  ['оставить в одной рубашке', 'оставаться в одной рубашке', 'оставлять в одной рубашке', 'оставлять без рубашки', 'оставить без рубашки'][' разориться, дойти до свой личный интерес нищеты']\n",
            "41 16441 0  ['оставлять без рубашки'][]             \n",
            "1\n",
            "42 13693 0  ['в руках', 'в руках быть', 'в руках находиться', 'на руках', 'на руках быть', 'на руках находиться']['в зависимости от кого-либо ']\n",
            "42 13694 0  ['В руки просится', 'В руки плывет'][' без труда достается']\n",
            "42 13700 0  ['В одних руках', 'В одних руках быть', 'В одних руках находиться'][' у одного человека']\n",
            "42 13711 0  ['На руках', 'На руках быть', 'На руках иметься'][' в наличии ']\n",
            "42 13712 1  ['ни руку']    [' удобно, выгодно, совпадает с чьими-либо интересами']\n",
            "42 13719 0  ['Под рукой=', 'Под рукой иметь', 'Под рукой быть', 'Под рукой находиться', 'под руками', 'под руками иметь', 'под руками быть', 'под руками находиться'][' в непосредственной близости, так, что удобно достать, воспользоваться']\n",
            "42 13720 0  ['Под руку', 'Под руку сказать', 'Под руку сделать'][' мешая кому-либо, в то время, когда кто-либо занят каким-либо делом']\n",
            "42 13735 0  ['В рукав', 'В рукав смеяться', 'В рукав хихикать', 'В рукав дуться', 'В рукав злословить'][' скрыто, тайно (смеяться, злословить)']\n",
            "42 14977 1  ['в руки просится'][]             \n",
            "42 18774 1  ['На поруки']  ['на чью- н. ответственность.']\n",
            "2\n",
            "43 13694 0  ['В руки просится', 'В руки плывет'][' без труда достается']\n",
            "43 14977 1  ['в руки просится'][]             \n",
            "1\n",
            "44 13696 0  ['Выдать на руки'][' вручить, отдать что-либо непосредственно кому-либо']\n",
            "44 13716 1  ['отдать на руки', 'отдавать на руки'][' отдать на попечение ']\n",
            "2\n",
            "45 13698 0  ['В одни руки', 'В одни руки продать', 'В одни руки отпустить'][' одному человеку']\n",
            "45 13700 0  ['В одних руках', 'В одних руках быть', 'В одних руках находиться'][' у одного человека']\n",
            "45 13719 0  ['Под рукой=', 'Под рукой иметь', 'Под рукой быть', 'Под рукой находиться', 'под руками', 'под руками иметь', 'под руками быть', 'под руками находиться'][' в непосредственной близости, так, что удобно достать, воспользоваться']\n",
            "45 13720 0  ['Под руку', 'Под руку сказать', 'Под руку сделать'][' мешая кому-либо, в то время, когда кто-либо занят каким-либо делом']\n",
            "45 16616 4  ['под рукой']  ['кого']       \n",
            "45 18950 1  ['Под руки']   ['вдвоем, взявши кого-н. под руку с каждой стороны.']\n",
            "2\n",
            "46 13700 0  ['В одних руках', 'В одних руках быть', 'В одних руках находиться'][' у одного человека']\n",
            "46 13719 0  ['Под рукой=', 'Под рукой иметь', 'Под рукой быть', 'Под рукой находиться', 'под руками', 'под руками иметь', 'под руками быть', 'под руками находиться'][' в непосредственной близости, так, что удобно достать, воспользоваться']\n",
            "46 13720 0  ['Под руку', 'Под руку сказать', 'Под руку сделать'][' мешая кому-либо, в то время, когда кто-либо занят каким-либо делом']\n",
            "46 16616 4  ['под рукой']  ['кого']       \n",
            "46 18950 1  ['Под руки']   ['вдвоем, взявши кого-н. под руку с каждой стороны.']\n",
            "2\n",
            "47 13703 0  ['Иметь в руках', 'Иметь в своих руках', 'держать в руках', 'держать в своих руках'][' обладать чем-либо']\n",
            "47 13704 0  ['Иметь руку', 'Иметь сильную руку'][' пользоваться покровительством, влиятельной поддержкой где-либо, со стороны кого-либо']\n",
            "47 15385 1  ['держать в рамках'][]             \n",
            "2\n",
            "48 13705 0  ['Из вторых рук', 'Из третьих рук'][' через ряд посредников, непбсредственно']\n",
            "48 14352 0  ['Третьей руки'][' о чем-либо посредственном, неважном']\n",
            "48 14483 0  ['Из вторых уст', 'Из вторых уст узнать', 'Из вторых уст услышать', 'Из третьих уст', 'Из третьих уст узнать', 'Из третьих уст услышать'][' через ряд посредников']\n",
            "48 19221 1  ['Из третьих рук', 'Из третьих рук купить', 'Из третьих рук получить', 'Из третьих рук узнать']['через ряд посредников, не непосредственно.']\n",
            "3\n",
            "1 4\n",
            "49 13711 0  ['На руках', 'На руках быть', 'На руках иметься'][' в наличии ']\n",
            "49 13712 1  ['ни руку']    [' удобно, выгодно, совпадает с чьими-либо интересами']\n",
            "49 18774 1  ['На поруки']  ['на чью- н. ответственность.']\n",
            "2\n",
            "\tlength: 65\n"
          ]
        }
      ]
    },
    {
      "cell_type": "code",
      "source": [
        "write_vars(new_vars)"
      ],
      "metadata": {
        "id": "35YyT8CM0S3U"
      },
      "execution_count": 28,
      "outputs": []
    },
    {
      "cell_type": "code",
      "source": [
        "new_vars, to_split = next_variants(3200, 3250)\n",
        "print('\\tength:', len(new_vars))"
      ],
      "metadata": {
        "colab": {
          "base_uri": "https://localhost:8080/"
        },
        "id": "zXIBpebO0T93",
        "outputId": "df3799ea-1c13-40c8-9e67-f8385fdef3ec"
      },
      "execution_count": 29,
      "outputs": [
        {
          "output_type": "stream",
          "name": "stdout",
          "text": [
            "0  13719 0  ['Под рукой=', 'Под рукой иметь', 'Под рукой быть', 'Под рукой находиться', 'под руками', 'под руками иметь', 'под руками быть', 'под руками находиться'][' в непосредственной близости, так, что удобно достать, воспользоваться']\n",
            "0  13720 0  ['Под руку', 'Под руку сказать', 'Под руку сделать'][' мешая кому-либо, в то время, когда кто-либо занят каким-либо делом']\n",
            "0  13723 1  ['по рукам ходить', 'по рукам пойти', 'по рукам разойтись'][' распространяться (распространиться), переходя от одного к другому']\n",
            "0  14179 2  ['по струнке ходить'][' быть в полном подчинении, беспрекословно повиноваться кому-либо']\n",
            "0  16616 4  ['под рукой']  ['кого']       \n",
            "0  18950 1  ['Под руки']   ['вдвоем, взявши кого-н. под руку с каждой стороны.']\n",
            "3\n",
            "1 5\n",
            "1  13720 0  ['Под руку', 'Под руку сказать', 'Под руку сделать'][' мешая кому-либо, в то время, когда кто-либо занят каким-либо делом']\n",
            "1  16616 4  ['под рукой']  ['кого']       \n",
            "1  18950 1  ['Под руки']   ['вдвоем, взявши кого-н. под руку с каждой стороны.']\n",
            "2\n",
            "2  13721 1  ['попасться под руку', 'попасть под руку', 'подвернуться под руку'][' случайно оказаться около, возле кого-либо']\n",
            "2  17431 1  ['что попадёт под руку'][]             \n",
            "2\n",
            "3  13723 1  ['по рукам ходить', 'по рукам пойти', 'по рукам разойтись'][' распространяться (распространиться), переходя от одного к другому']\n",
            "3  14179 2  ['по струнке ходить'][' быть в полном подчинении, беспрекословно повиноваться кому-либо']\n",
            "2\n",
            "4  13725 0  ['Пройти между рук'][' быть израсходованным без пользы, незаметно, по мелочам (о деньгах, средствах)']\n",
            "4  17312 1  ['уходить между рук'][]             \n",
            "2\n",
            "5  13732 0  ['Связать руки', 'связать по рукам и ногам', 'спутать по рукам и ногам'][' лишить возможности действовать свободно; стеснить кого-либо']\n",
            "5  17680 0  ['связанный по рукам и ногам'][]             \n",
            "1\n",
            "6  13738 1  ['до ручки', 'до ручки дойти', 'до ручки довести'][' до безвыходного, тяжелого положения']\n",
            "6  14332 1  ['до точки (дойти, довести)', 'до точки', 'до точки дойти', 'до точки довести'][' до крайнего предела, до крайности (о каких-либо отрицательных явлениях)']\n",
            "2\n",
            "7  13744 0  ['С суконным рылом в калашный ряд', 'С суконным рылом да в калашный ряд', 'С суконным рылом в калашный ряд не суйся', 'С суконным рылом да в калашный ряд не суйся'][' не пытайся занять несоответствующее тебе высокое положение']\n",
            "7  16901 1  ['с кувшинным рылом в калашный ряд'][]             \n",
            "1\n",
            "8  13755 0  ['Сам собой', 'сама собой', 'само собой'][' непроизвольно, невольно']\n",
            "8  13760 2  ['само собой', 'само собой разумеется'][' ясно, безусловно, конечно']\n",
            "8  15838 1  ['как само собою разумеющееся'][]             \n",
            "8  18973 1  ['Сам собою', 'Сама собою', 'само собою']['совершенно самостоятельно, без вмешательства, без особых усилий.']\n",
            "3\n",
            "1 4\n",
            "9  13760 2  ['само собой', 'само собой разумеется'][' ясно, безусловно, конечно']\n",
            "9  15838 1  ['как само собою разумеющееся'][]             \n",
            "9  18973 1  ['Сам собою', 'Сама собою', 'само собою']['совершенно самостоятельно, без вмешательства, без особых усилий.']\n",
            "3\n",
            "1 2\n",
            "10 13761 0  ['Не в свои сани сесть'][' занять неподобающее место, положение на службе, в обществе, не соответствовать занимаемому месту, положению']\n",
            "10 16211 1  ['не в свои сани не садись'][]             \n",
            "2\n",
            "11 13766 0  ['Плотно сбит', 'крепко сбит'][' плотного, крепкого телосложения']\n",
            "11 19153 1  ['Крепко сшитый']['(о человеке) крепкий, здоровый.']\n",
            "2\n",
            "12 13767 0  ['Сбить спесь', 'Сбить гонор', 'Сбить форс'][' сделать скромнее, сдержаннее, покладистее']\n",
            "12 16947 0  ['сбивать спесь'][]             \n",
            "12 16948 1  ['сбить форс'] []             \n",
            "1\n",
            "13 13773 0  ['Свести счеты']['произвести взаимные денежные расчеты ']\n",
            "13 18987 1  ['Свести счеты с']['взаимные расчеты;']\n",
            "1\n",
            "14 13779 1  ['белый свет', 'божий свет'][' мир, земной шар со всем существующим на нем']\n",
            "14 16071 0  ['на белом свете'][]             \n",
            "2\n",
            "15 13780 0  ['Выйти в свет', 'увидеть свет'][' быть опубликованным (о печатном издании)']\n",
            "15 15009 1  ['вводить в свет'][]             \n",
            "2\n",
            "16 13789 0  ['Голова как свинцом налита', 'руки как свинцом налиты', 'ноги как свинцом налиты', 'Голова словно свинцом налита', 'руки словно свинцом налиты', 'ноги словно свинцом налиты', 'Голова точно свинцом налита', 'руки точно свинцом налиты', 'ноги точно свинцом налиты'][' об ощущении тяжести в голове, руках, ногах и т. п.']\n",
            "16 15839 1  ['как свинцом налита'][]             \n",
            "1\n",
            "17 13797 0  ['Вздохнуть свободно', 'дышать свободно', 'Вздохнуть свободнее', 'дышать свободнее'][' почувствовать облегчение, освободившись от забот, тревог и т. п.']\n",
            "17 15034 2  ['вздохнуть свободно']['освободиться от трудной работы;']\n",
            "1\n",
            "18 13806 0  ['Умереть своей смертью'][' умереть естественной смертью']\n",
            "18 13807 0  ['Умереть не своей смертью'][' умереть насильственно, погибнуть']\n",
            "2\n",
            "19 13815 0  ['Взять на себя', 'принять на себя']['согласиться быть ответственным за что-либо ']\n",
            "19 18830 2  ['Принять на себя']['согласиться быть ответственным за что-н.']\n",
            "1\n",
            "20 13816 3  ['от себя']    ['в направлении от кого-либо ']\n",
            "20 13817 3  ['по себе']    [' по своим силам или вкусам, требованиям ']\n",
            "2\n",
            "21 13818 0  ['Собой', 'из себя'][' ликом, внешностью']\n",
            "21 18970 1  ['За собой']   ['сзади, позади себя.']\n",
            "2\n",
            "22 13823 0  ['Идет как корове седло', 'Идет как к корове седло', 'пристало как корове седло', 'пристало как к корове седло'][' совсем не идет, выглядеть смешно, нелепо (об одежде)']\n",
            "22 15696 1  ['идёт как корове седло'][]             \n",
            "1\n",
            "23 13831 0  ['Семь раз примерь, один раз отрежь', 'Семь раз отмерь, один раз отрежь'][' перед тем как сделать, решить что-либо ответственное, серьезное, тщательно обдумай, все предусмотри']\n",
            "23 16981 1  ['семь раз отмерь - один раз отрежь'][]             \n",
            "1\n",
            "24 13837 0  ['Всем сердцем'][' всем существом']\n",
            "24 13840 0  ['От всего сердца', 'От чистого сердца'][' Совершенно искренне ']\n",
            "24 13842 0  ['С открытым сердцем', 'С чистым сердцем'][' искренне, откровенно']\n",
            "2\n",
            "25 13838 0  ['Брать за сердце', 'взять за сердце', 'хватать за сердце'][' волновать, производить сильное впечатление.']\n",
            "25 19013 1  ['Брать за сердце']['волновать, наводить тоску, производить сильное грустное впечатление.']\n",
            "1\n",
            "26 13839 2  ['в сердцах']  [' сердиться, гневаться, затаить гнев, обиду на кого-либо']\n",
            "26 13843 0  ['С сердцем', 'С сердцем сказать'][' гневно, сердито']\n",
            "2\n",
            "27 13840 0  ['От всего сердца', 'От чистого сердца'][' Совершенно искренне ']\n",
            "27 13842 0  ['С открытым сердцем', 'С чистым сердцем'][' искренне, откровенно']\n",
            "2\n",
            "28 13841 0  ['по сердцу']  [' по вкусу, нравится ']\n",
            "28 16289 0  ['не по сердцу'][]             \n",
            "28 18768 1  ['Порок сердца']['болезненное изменение в строении сердца, болезнь сердечного клапана.']\n",
            "2\n",
            "29 13848 0  ['Сердце оборвалось', 'Сердце упало'][' о внезапном ощущении сильной тревоги или испуга']\n",
            "29 19276 1  ['Сердце упало']['кто-н. проникся страхом, отчаянием или унынием.']\n",
            "1\n",
            "30 13856 0  ['Сизифов труд', 'сизифова работа'][' о трудной и бесплодной работе (По имени древнегреческого мифического царя Сизифа, осужденного богами вечно вкатывать на гору камень, который, достигнув вершины, каждый раз скатывается обратно вниз)']\n",
            "30 16992 1  ['сизифов труд']['бесконечная и бесплодная работа .']\n",
            "1\n",
            "31 13857 0  ['в силе', 'Быть в силе']['обладать физическими и душевными силами, работоспособностью ']\n",
            "31 13858 0  ['в силах', 'в силе', 'Быть в силах', 'Быть в силе'][' быть в состоянии, мочь сделать что-либо']\n",
            "31 14980 2  ['в силах']    ['. и сс неослабевшими силами, в состоянии что-н. делать (по своему здоровью).']\n",
            "1\n",
            "32 13858 0  ['в силах', 'в силе', 'Быть в силах', 'Быть в силе'][' быть в состоянии, мочь сделать что-либо']\n",
            "32 14980 2  ['в силах']    ['. и сс неослабевшими силами, в состоянии что-н. делать (по своему здоровью).']\n",
            "2\n",
            "33 13860 0  ['Взять силу', 'войти в силу'][' стать жизнеспособным, окрепнуть.']\n",
            "33 17921 1  ['Входить в славу']['приобретать известность.']\n",
            "2\n",
            "34 13861 1  ['всеми силами'][' прилагая все усилия, все старание']\n",
            "34 17063 1  ['со всей силы'][]             \n",
            "2\n",
            "35 13863 0  ['По силам']   [' отвечает физическим возможностям или способностям, знаниям и т. п. кого-либо.']\n",
            "35 16618 3  ['под силу']   ['кому']       \n",
            "2\n",
            "36 13882 0  ['На склоне дня', 'На склоне ночи'][' в конце дня (ночи) или к концу дня (ночи)']\n",
            "36 13884 2  ['на склоне лет', 'на склоне жизни', 'на склоне дней'][' в старости']\n",
            "2\n",
            "37 13888 0  ['Сколько веревку ни вить, а концу быть', 'Сколько веревочку ни вить, а концу быть'][' неблаговидные дела, поступки и т. п., сколько бы они ни продолжались, становятся всем известны, им приходит конец']\n",
            "37 17006 0  ['сколько верёвку ни вить, а концу быть'][]             \n",
            "37 17007 0  ['сколько верёвочке ни виться, а конец будет'][]             \n",
            "1\n",
            "38 13891 0  ['Замыкаться в свою скорлупу', 'прятаться в свою скорлупу', 'уходить в свою скорлупу'][' обособляться от всего окружающего, замыкаться в своем узком личном мирке']\n",
            "38 17311 1  ['уходить в свою скорлупу'][]             \n",
            "38 17543 0  ['выходить из своей скорлупы'][]             \n",
            "3\n",
            "1 2\n",
            "39 13898 0  ['Слабая сторона', 'слабое место'][' свойство или черта, наиболее уязвимые или подверженные воздействиям']\n",
            "39 16944 1  ['самое место'][]             \n",
            "39 17016 1  ['слабая струна', 'слабая струнка'][]             \n",
            "2\n",
            "40 13899 0  ['Славны бубны за горами', 'звонки бубны за горами', 'Славны бубны за горами, а к нам придут, как лукошко', 'звонки бубны за горами, а к нам придут, как лукошко'][' неизвестное всегда представляется хорошим']\n",
            "40 17019 0  ['славны бубны за горами'][]             \n",
            "1\n",
            "41 13903 0  ['Идти по следам']['идти в след за кем-либо не отставая ']\n",
            "41 15711 0  ['идти по следам'][]             \n",
            "1\n",
            "42 13904 0  ['след простыл', 'след пропал', 'И след простыл', 'И след пропал'][' об исчезновении кого-либо, чего-либо.']\n",
            "42 15137 1  ['всё пропало'][]             \n",
            "2\n",
            "43 13905 0  ['Напасть на след'][' найти факты, подтверждающие что-либо']\n",
            "43 16172 1  ['нападать на след'][]             \n",
            "1\n",
            "44 13906 0  ['След в след', 'следом в след', 'в один след'][' друг за другом, ставя ногу туда, куда ступал идущий впереди']\n",
            "44 14955 1  ['в один лад'] []             \n",
            "44 16107 1  ['на один лад'][]             \n",
            "2\n",
            "45 13914 0  ['Быть господином своего слова', 'Быть господином своему слову', 'Быть хозяином своего слова', 'Быть хозяином своему слову'][' о лице, выполняющем данное слово, обещание']\n",
            "45 15296 1  ['господин своего слова'][]             \n",
            "45 17719 0  ['хозяин своего слова'][]             \n",
            "1\n",
            "46 13916 0  ['Взять свои слова обратно', 'брать свои слова обратно'][' отказаться от своих слов, утверждений, признав их ошибочность, неправоту']\n",
            "46 14878 1  ['брать слова обратно'][]             \n",
            "46 17513 0  ['брать свои слова обратно'][]             \n",
            "1\n",
            "47 13918 0  ['К слову', 'К слову прийтись'][' вспомниться, быть упомянутым кстати, по поводу чего-либо сказанного']\n",
            "47 14028 3  ['солоно прийтись', 'солоно пройтись'][' о выпавших на долю кого-либо тяжелых жизненных обстоятельствах, неприятностях и т. п.']\n",
            "47 15749 1  ['к слову']    []             \n",
            "3\n",
            "1 3\n",
            "48 13922 0  ['Слов нет', 'слова нет'][' конечно, действительно, не приходится спорить']\n",
            "48 17025 1  ['слов нет']   []             \n",
            "1\n",
            "49 13924 0  ['Слово не воробей, вылетит - не поймаешь', 'Слово не воробей, выпустишь - не поймаешь'][' прежде, чем что-либо сказать, надо хорошенько подумать, чтобы потом не пришлось сожалеть']\n",
            "49 17031 1  ['слово не воробей, вылетит - не поймаешь'][]             \n",
            "1\n",
            "\tength: 26\n"
          ]
        }
      ]
    },
    {
      "cell_type": "code",
      "source": [
        "new_vars.extend(next_variants(3250, 3300)[0])\n",
        "print('\\tlength:', len(new_vars))"
      ],
      "metadata": {
        "colab": {
          "base_uri": "https://localhost:8080/"
        },
        "id": "sdhha_fH0T94",
        "outputId": "3bc02cfe-1306-4f47-9cf2-aa7d1882bd77"
      },
      "execution_count": 30,
      "outputs": [
        {
          "output_type": "stream",
          "name": "stdout",
          "text": [
            "0  13926 0  ['Тратить слова понапрасну', 'Тратить слова попусту', 'Тратить слова зря'][' говорить попусту, зря, не достигая цели']\n",
            "0  17241 1  ['тратить слова впустую'][]             \n",
            "1\n",
            "1  13930 0  ['сломать шею', 'сломить шею', 'сломать себе шею', 'сломать голову', 'сломать себе голову', 'сломить себе шею', 'сломить голову', 'сломить себе голову'][' разбиться, искалечиться, погибнуть']\n",
            "1  19422 1  ['Сломать себе шею', 'Сломить себе шею', 'Свихнуть себе шею']['потерпеть неудачу в чем-н., погибнуть из-за чего-н.']\n",
            "1\n",
            "2  13936 0  ['В таком случае', 'В этом случае'][' при данных обстоятельствах, условиях, тогда']\n",
            "2  14255 1  ['в таком случае и  в таком разе', 'в таком случае', 'в таком разе'][' при данных обстоятельствах, условиях, тогда']\n",
            "2  14983 1  ['в таком разрезе'][]             \n",
            "2  14984 1  ['в таком случае'][]             \n",
            "3\n",
            "1 2 4\n",
            "3  13941 0  ['Слышал звон, да не знаешь, где он', 'Слышал звон, да не знает, где он'][' сам не знает точно того, о чем говорит']\n",
            "3  17040 1  ['слышал звон, да не знает, где он'][]             \n",
            "1\n",
            "4  13949 0  ['Не на живот, а на смерть', 'Не на жизнь, а на смерть']['не жалея жизни ради чего-либо ']\n",
            "4  17509 0  ['(биться) не на жизнь, а на смерть'][]             \n",
            "1\n",
            "5  13955 0  ['смех и горе', 'И смех и горе', 'смех и грех', 'и смех и грех'][' о том, что одновременно и смешно и печально']\n",
            "5  17047 1  ['смех и грех'][]             \n",
            "1\n",
            "6  13960 0  ['Смешение французского с нижегородским'][' о путанной, неправильной речи']\n",
            "6  17046 0  ['смесь французского с нижегородским'][]             \n",
            "1\n",
            "7  13966 0  ['Смотреть в гроб', 'Смотреть в могилу'][' быть близким к смерти (о дряхлых или безнадежно больных людях) ']\n",
            "7  17059 1  ['смотри в оба'][]             \n",
            "2\n",
            "8  13968 0  ['Смотря как', 'смотря где', 'смотря когда', 'смотря какой'][' в зависимости от того, как (где, когда, какой и т. п.)']\n",
            "8  17061 1  ['смотря как'] []             \n",
            "1\n",
            "9  13973 0  ['зимой снега не выпросишь'][' об очень жадном, скупом человеке']\n",
            "9  16698 1  ['посреди зимы снегу не выпросишь'][]             \n",
            "1\n",
            "10 13977 0  ['Снимать пенки', 'Снимать сливки'][' брать себе самое лучшее, самое выгодное.']\n",
            "10 17062 3  ['снимать пенки']['не участвуя в трудах, пользуясь чужим трудом, брать себе самое лучшее, самое выгодное.']\n",
            "1\n",
            "11 13981 0  ['На сносях', 'на сносе'][' на последнем месяце беременности, скоро должна родить (о женщине)']\n",
            "11 16104 0  ['на нос']     []             \n",
            "2\n",
            "12 13989 0  ['С лихой собаки хоть шерсти клок', 'С паршивой собаки хоть шерсти клок'][' когда нельзя получить от кого-либо много, рады получить хоть что-нибудь, пусть незначительное']\n",
            "12 16902 1  ['с лихой собаки хоть шерсти клок'][]             \n",
            "12 16914 1  ['с паршивой овцы хоть шерсти клок'][]             \n",
            "1\n",
            "13 13993 0  ['Собаке - собачья и смерть', 'Собаке - собачья смерть'][' о позорной смерти дурного человека']\n",
            "13 17070 1  ['собаке собачья смерть'][]             \n",
            "1\n",
            "14 14005 0  ['Совести хватило'][' не постыдился, не постеснялся сделать что-либо']\n",
            "14 17074 1  ['совести хватает']['у кого']     \n",
            "1\n",
            "15 14015 0  ['Выжимать сок', 'Выжимать соки', 'жать сок', 'жать соки', 'тянуть сок', 'тянуть соки', 'сосать сок', 'сосать соки'][' лишать сил, доводить до изнеможения, мучая, изводя или порабощая, эксплуатируя кого-либо']\n",
            "15 15191 1  ['выжимать соки', 'высасывать высосать <все> соки'][]             \n",
            "1\n",
            "16 14019 0  ['В солдаты', 'В солдаты брать', 'В солдаты идти'][' на военную службу ']\n",
            "16 14020 0  ['В солдатах', 'В солдатах быть', 'В солдатах служить'][' на военной службе ']\n",
            "2\n",
            "17 14023 1  ['до солнца']  [' до восхода солнца, до света. ']\n",
            "17 14024 0  ['По солнцу', 'По солнцу идти', 'По солнцу двигаться'][' ориентируясь на солнце, определяя путь по положению солнца']\n",
            "2\n",
            "18 14038 0  ['Как сквозь сон', 'Как сквозь сон помнить', 'Как сквозь сон представлять', 'точно сквозь сон', 'точно сквозь сон помнить', 'точно сквозь сон представлять', 'будто сквозь сон', 'будто сквозь сон помнить', 'будто сквозь сон представлять'][' неясно, неотчетливо, смутно']\n",
            "18 15840 1  ['как сквозь сон'][]             \n",
            "1\n",
            "19 14039 0  ['Ни сном ни духом не виноват'][' совершенно, нисколько не виноват.']\n",
            "19 19081 1  ['Ни сном ни духом (не виноват)']['совершенно, нисколько не виноват.']\n",
            "1\n",
            "20 14044 0  ['Спать вечным сном', 'Спать последним сном', 'Спать могильным сном', 'заснуть вечным сном', 'заснуть последним сном', 'заснуть могильным сном', 'уснуть вечным сном', 'уснуть последним сном', 'уснуть могильным сном', 'почить вечным сном', 'почить последним сном', 'почить могильным сном', 'спать сном могилы'][' быть мертвым, (умереть)']\n",
            "20 14478 0  ['Уснуть вечным сном', 'Уснуть последним сном', 'Уснуть могильным сном', 'уснуть навеки', 'уснуть навсегда'][' умереть']   \n",
            "20 15632 0  ['заснуть вечным сном'][]             \n",
            "20 18212 1  ['Заснуть вечным сном']['умереть.']   \n",
            "20 19089 1  ['Спать вечным сном', 'Спать могильным сном', 'Спать сном могилы']['быть мертвым.']\n",
            "20 19282 1  ['Уснуть навеки', 'Уснуть вечным сном']['умереть.']   \n",
            "1\n",
            "21 14045 0  ['Спать сном праведника', 'Спать сном праведников'][' спать крепко и безмятежно']\n",
            "21 17092 1  ['спать сном праведника'][]             \n",
            "1\n",
            "22 14050 0  ['В сообществе'][' совместно, сообща']\n",
            "22 18564 1  ['В обществе'] ['среди людей, на людях.']\n",
            "2\n",
            "23 14055 0  ['Сорвать завесу', 'Сорвать покров'][' представить что-либо в истинном виде']\n",
            "23 17102 0  ['срывать завесу'][]             \n",
            "1\n",
            "24 14058 2  ['заладила сорока якова', 'заладила сорока якова одно про всякого'][' о надоедливом повторении об одном и том же.']\n",
            "24 15610 1  ['заладила сорока Якова'][]             \n",
            "1\n",
            "25 14074 0  ['Спать и видеть', 'Спать и во сне видеть'][' страстно желать чего-либо ']\n",
            "25 17093 1  ['спит и во сне видит'][]             \n",
            "25 19090 3  ['Спать и видеть']['страстно желать чего-н., постоянно мечтать о чем-н.']\n",
            "1\n",
            "26 14075 0  ['Выезжать на спине', 'ездить на спине'][' использовать кого-либо для достижения своих целей']\n",
            "26 19092 0  ['Выезжать на спине']['достигать своих целей, используя кого-н. в своих интересах.']\n",
            "1\n",
            "27 14078 0  ['На собственной спине', 'На собственной спине испытать', 'На собственной спине почувствовать'][' самому, лично, в собственной жизни']\n",
            "27 19093 1  ['На собственной спине']['по собственному горькому опыту, в результате неприятностей, трудностей, невзгод, к-рые самому пришлось пережить.']\n",
            "1\n",
            "28 14080 0  ['прятаться за спину'][' уклоняться от каких-либо обязанностей, ответственности за что-либо, перелагая на других']\n",
            "28 16796 2  ['прятаться за спиной', 'прятаться за <широкую> спину'][]             \n",
            "1\n",
            "29 14093 0  ['Спустить жир (жиры)'][' похудеть (об излишне полном человеке)']\n",
            "29 17100 1  ['спустить жир', 'спустить жиру'][]             \n",
            "1\n",
            "30 14112 0  ['Старого воробья на мякине не проведешь (обманешь)'][' опытного, бывалого человека трудно перехитрить, обмануть']\n",
            "30 17125 1  ['старого воробья на мякине не проведёшь'][]             \n",
            "1\n",
            "31 14118 0  ['Станет с']   [' можно ожидать всякого, всего от кого-либо']\n",
            "31 17132 0  ['стать']      []             \n",
            "31 19102 2  ['Стало быть', 'стало']['(вводное слово) следовательно, значит, таким образом, итак.']\n",
            "2\n",
            "32 14164 0  ['Дать (или задать) стрекача'][' стремительно убежать от кого-либо']\n",
            "32 14385 0  ['Дать (или задать) тягу'][' убежать, удрать. ']\n",
            "32 18053 1  ['Дать или задать драла']['убежать, удрать, скрыться бегством.']\n",
            "2\n",
            "33 14171 0  ['Ввести в строй'][' сделать действующим, годным, работоспособным']\n",
            "33 15011 0  ['вводить в строй'][]             \n",
            "1\n",
            "34 14191 1  ['не судьба']  [' не придется, не удастся сделать что-либо']\n",
            "34 19137 1  ['Не судьба']  ['не придется, не удастся.']\n",
            "1\n",
            "35 14193 1  ['суета сует'] [' нечто пустое, ничтожное, не имеющее ценности, тщета']\n",
            "35 19138 0  ['Суета сует'] ['всё тщетное, ничтожное, бесполезное, не представляющее истинной ценности (из библейского выражения \"суета сует и всяческая суета\"].']\n",
            "1\n",
            "36 14206 1  ['в сущности (говоря)', 'в сущности говоря'][' если рассматривать основу, суть дела, на деле, в действительности']\n",
            "36 19141 1  ['В сущности', 'в сущности говоря']['(вводное слово) касаясь главного, существенного, основной темы.']\n",
            "1\n",
            "37 14210 0  ['Счастливым быть'][' чужой успех крайне неприятен, вызывает зависть у окружающих']\n",
            "37 17174 1  ['счастливого пути!']['пожелание благополучного пути уезжающему, уходящему.']\n",
            "2\n",
            "38 14216 0  ['Без счету']  [' очень много']\n",
            "38 14800 1  ['без счёту']  ['очень много.']\n",
            "38 19151 1  ['Счёту нет', 'без счету']['очень много кого- чего-н.']\n",
            "1\n",
            "39 14222 0  ['Счета нет']  [' очень много кого-либо, чего-либо ']\n",
            "39 19151 1  ['Счёту нет', 'без счету']['очень много кого- чего-н.']\n",
            "1\n",
            "40 14229 0  ['Шутку сшутить'][' сказать шутку, пошутить, подшутить ']\n",
            "40 19433 3  ['Шутки шутить', 'Шутку шутить']['забавляться, развлекаться (употребляется преимущ. соттенком, для выражения угрозы, предостережения).']\n",
            "2\n",
            "41 14247 0  ['Не так чтоб(ы)'][' употребляется для смягченного отрицания какой-либо мысли, утверждения']\n",
            "41 19199 4  ['Не то, чтобы', 'Не то, что']['употребляется для уточнения при отрицании возможного предположения или при поправке к сказанному и т.п.']\n",
            "2\n",
            "42 14249 0  ['Так и']      ['употребляется для обозначения непроизвольно или энергично совершающегося действия ']\n",
            "42 19167 1  ['Не так ли?', 'так ли?']['употребляется при вопросе, на к-рый ожидается положительный ответ в знач.: ведь действительно так?']\n",
            "2\n",
            "43 14255 1  ['в таком случае и  в таком разе', 'в таком случае', 'в таком разе'][' при данных обстоятельствах, условиях, тогда']\n",
            "43 14983 1  ['в таком разрезе'][]             \n",
            "43 14984 1  ['в таком случае'][]             \n",
            "3\n",
            "1 3\n",
            "44 14265 0  ['Быть не в своей тарелке'][' быть в плохом расположении духа, не в настроении']\n",
            "44 19181 2  ['Не в своей тарелке', 'Не в своей тарелке быть']['в плохом расположении духа, не в настроении (без отриц., реже, в хорошем расположении духа, в настроении).']\n",
            "1\n",
            "45 14269 0  ['Не твое дело'][' это тебя не касается, не тебе решать ']\n",
            "45 14270 0  ['Твое дело']  [' это касается только тебя, тебе решать ']\n",
            "45 14450 1  ['не моего (твоего, нашего и т. д.) ума дело', 'не моего  ума дело', 'не твоего ума дело', 'не его ума дело', 'не нашего ума дело'][' я ничего в этом не понимаю, меня это не касается']\n",
            "45 16264 1  ['не моё дело'][]             \n",
            "2\n",
            "46 14274 0  ['Темна вода во облацех'][' о чем-либо неясном, непонятном, загадочном']\n",
            "46 17208 1  ['темна вода во облацех'][]             \n",
            "46 19188 1  ['Темна вода во облацех']['что-н. непонятное, необъяснимое (форма предл. п. мн. ч. от облако).']\n",
            "1\n",
            "47 14290 0  ['Время (или дело) терпит'][' можно не торопиться с чем-либо, можно подождать ']\n",
            "47 14291 0  ['Время (или дело) не терпит'][' нет возможности медлить, мешкать']\n",
            "2\n",
            "48 14297 2  ['типун на язык', 'типун бы на язык'][' недоброе пожелание тому, кто говорит то, чего не следует']\n",
            "48 17221 1  ['типун тебе на язык!'][]             \n",
            "1\n",
            "49 14298 0  ['В тихом омуте (болоте) черти водятся'][' тихий, скрытый человек способен на поступки, которых от него, казалось бы, нельзя было ожидать']\n",
            "49 14989 1  ['в тихом омуте черти водятся'][]             \n",
            "1\n",
            "\tlength: 63\n"
          ]
        }
      ]
    },
    {
      "cell_type": "code",
      "source": [
        "write_vars(new_vars)"
      ],
      "metadata": {
        "id": "pYrpzgog0T94"
      },
      "execution_count": 31,
      "outputs": []
    },
    {
      "cell_type": "code",
      "source": [
        "new_vars, to_split = next_variants(3300, 3350)\n",
        "print('\\tength:', len(new_vars))"
      ],
      "metadata": {
        "colab": {
          "base_uri": "https://localhost:8080/"
        },
        "id": "yNB_uXCi0V2e",
        "outputId": "a5a6dfc3-fc13-4a64-f4de-f2ffe22fcdd0"
      },
      "execution_count": 32,
      "outputs": [
        {
          "output_type": "stream",
          "name": "stdout",
          "text": [
            "0  14301 1  ['а то («)', 'а то'][' или же, или']\n",
            "0  14761 1  ['а что?']     []             \n",
            "0  19396 7  ['На что', 'На что уж']['как ни, хотя, очень']\n",
            "2\n",
            "1  14302 2  ['(да) и то', 'не то', 'а не то'][' к тому же только, к тому же только']\n",
            "1  16319 1  ['не того']    []             \n",
            "1  19198 3  ['и то', 'Да и то']['употребляется для ограничения (в каком- н. отношении) сказанного, в знач.: к тому же только причем только.']\n",
            "3\n",
            "1 3\n",
            "2  14310 0  ['Толстый карман (или кошелек, мошна)'][' о наличии у кого-либо больших денег ']\n",
            "2  14368 0  ['Тугой карман (или кошелек, мошна)'][' о наличии у кого-либо больших денег']\n",
            "1\n",
            "3  14318 0  ['Тоном ниже (говорить, сказать)'][' менее взволнованно, раздраженно']\n",
            "3  14319 0  ['Тоном выше (говорить, сказать)'][' более взволнованно, раздраженно или менее вызывающе, заносчиво']\n",
            "2\n",
            "4  14324 0  ['Спустить на тормозах'][' удалить что-либо неприятное тихо, без шума']\n",
            "4  17097 1  ['спускать на тормозах'][]             \n",
            "1\n",
            "5  14335 0  ['ставить точку на', 'ставить точки над i'][' кончать всякие дела, отношения с кем-либо, чем-либо.']\n",
            "5  19213 1  ['Ставить точку', 'поставить точку']['кончать (кончить) какую-н. работу, кончать (покончить) с чем-н.']\n",
            "5  19214 1  ['Ставить точки на и', 'поставить точки на и', 'Ставить точки над i', 'поставить точки над i']['уточнять (уточнить) что-н. без надобности, объяснять (объяснить) то, что и так ясно.']\n",
            "2\n",
            "6  14352 0  ['Третьей руки'][' о чем-либо посредственном, неважном']\n",
            "6  19221 1  ['Из третьих рук', 'Из третьих рук купить', 'Из третьих рук получить', 'Из третьих рук узнать']['через ряд посредников, не непосредственно.']\n",
            "2\n",
            "7  14360 1  ['пустить (или выпустить) в трубу', 'пустить в трубу', 'выпустить в трубу']['разорить кого-либо ']\n",
            "7  19100 1  ['Спустить в трубу']['проиграть в азартные игры, беспутно прожить, растратить.']\n",
            "2\n",
            "8  14366 3  ['трусу (труса) праздновать', 'трусу праздновать', 'труса праздновать'][' трусить, бояться ']\n",
            "8  17248 1  ['труса праздновать'][]             \n",
            "1\n",
            "9  14385 0  ['Дать (или задать) тягу'][' убежать, удрать. ']\n",
            "9  18053 1  ['Дать или задать драла']['убежать, удрать, скрыться бегством.']\n",
            "2\n",
            "10 14388 0  ['Тяжел (тяжелый) на руку'][' о том, кто сильно и больно бьет']\n",
            "10 14391 0  ['Тяжел (тяжелый) на йогу'][' о том, кто не проворен, неповоротлив при ходьбе']\n",
            "2\n",
            "11 14395 2  ['тяп да ляп или тяп-ляп', 'тяп да ляп', 'тяп-ляп'][' употребляется для обозначения быстрой, но небрежной грубой работы.']\n",
            "11 17264 1  ['тяп-ляп']    ['небрежно, кое-как, наспех']\n",
            "1\n",
            "12 14418 1  ['как на угольях или на углях (быть, сидеть, находиться)', 'как на угольях', 'как на угольях быть', 'как на угольях сидеть', 'как на угольях находиться', 'как на углях', 'как на углях быть', 'как на углях сидеть', 'как на углях находиться'][' в крайнем беспокойстве, в волнении']\n",
            "12 15806 0  ['как на углях'][]             \n",
            "1\n",
            "13 14430 0  ['Как ужаленный (вскочил)'][' стремительно, резко']\n",
            "13 19254 1  ['Как ужаленный', 'Как ужаленный вскочил', 'Как ужаленный вскрикнул']['стремительно, резко.']\n",
            "1\n",
            "14 14433 1  ['завязать узелок (на память)', 'завязать узелок на память', 'завязать узелок'][' на конце платка сделать узел, чтоб не забыть о чем-либо']\n",
            "14 15590 1  ['завязать узлом'][]             \n",
            "2\n",
            "15 14447 1  ['без ума (быть)', 'без ума', 'без ума быть'][' в восторге, в восхищении от кого-либо, чего-либо']\n",
            "15 19261 1  ['Без ума']    ['безрассудно, неразумно, без понимания.']\n",
            "1\n",
            "16 14456 3  ['прийти (или взбрести) на ум (или в ум)', 'прийти на ум', 'прийти в ум', 'взбрети на ум', 'взбрети в ум']['представиться, вспомниться ']\n",
            "16 15033 1  ['взбредать на ум'][]             \n",
            "1\n",
            "17 14459 0  ['Ум за разум зашел (заходит)'][' о состоянии, при котором не может разумно рассуждать, действовать ']\n",
            "17 18894 1  ['Ум за разум заходит']['о том, кто не в состоянии соображать, разумно рассуждать или действовать.']\n",
            "1\n",
            "18 14462 0  ['Умная голова'][' об умном, толковом человеке ']\n",
            "18 14901 1  ['буйная голова'][]             \n",
            "2\n",
            "19 14473 0  ['Не в упрек будь сказано', 'Не в упрек'][' не желая упрекнуть кого-либо']\n",
            "19 16215 1  ['не в укор будь сказано'][]             \n",
            "1\n",
            "20 14478 0  ['Уснуть вечным сном', 'Уснуть последним сном', 'Уснуть могильным сном', 'уснуть навеки', 'уснуть навсегда'][' умереть']   \n",
            "20 15632 0  ['заснуть вечным сном'][]             \n",
            "20 18212 1  ['Заснуть вечным сном']['умереть.']   \n",
            "20 19089 1  ['Спать вечным сном', 'Спать могильным сном', 'Спать сном могилы']['быть мертвым.']\n",
            "20 19282 1  ['Уснуть навеки', 'Уснуть вечным сном']['умереть.']   \n",
            "1\n",
            "21 14479 0  ['С тем же успехом', 'С таким же успехом'][' так же безрезультатно, безуспешно']\n",
            "21 16923 2  ['с тем же успехом']['с таким же результатом, точно так же.']\n",
            "1\n",
            "22 14481 0  ['В устах', 'В устах звучать', 'В устах быть'][' в чьем-либо языке, в речи, в словах кого-либо']\n",
            "22 19285 2  ['В устах']    ['в чьем- н. языке, в речи, в словах кого-н.']\n",
            "1\n",
            "23 14483 0  ['Из вторых уст', 'Из вторых уст узнать', 'Из вторых уст услышать', 'Из третьих уст', 'Из третьих уст узнать', 'Из третьих уст услышать'][' через ряд посредников']\n",
            "23 19221 1  ['Из третьих рук', 'Из третьих рук купить', 'Из третьих рук получить', 'Из третьих рук узнать']['через ряд посредников, не непосредственно.']\n",
            "2\n",
            "24 14484 0  ['Из уст чьих узнать', 'Из уст чьих услышать'][' узнать от кого-либо не посредственно']\n",
            "24 19286 2  ['Из уст', 'Из уст слышать', 'Из уст узнать']['от кого-нибудь']\n",
            "1\n",
            "25 14497 0  ['В одно ухо входит, в другое выходит', 'В одно ухо вошло, в другое вышло'][' не обращать внимание на что-либо сказанное кем-либо.']\n",
            "25 14957 0  ['в одно ухо вошло, а в другое вышло'][]             \n",
            "25 17523 0  ['в одно ухо входит, а в другое выходит'][]             \n",
            "25 19290 1  ['В одно ухо вошло, в другое вышло', 'В одно ухо входит, в другое выходит']['о невнимательном восприятии чего-н.']\n",
            "1\n",
            "26 14498 0  ['Дойти до ушей'][' стать известным кому-либо']\n",
            "26 15464 0  ['доходить до ушей'][]             \n",
            "1\n",
            "27 14499 0  ['Дуть в уши', 'петь в уши'][' сплетничать, наговаривать кому-либо на кого-либо']\n",
            "27 19293 2  ['Дуть в уши', 'надуть в уши', 'петь в уши', 'напеть в уши']['сплетничать (насплетничать), наушничать, наговаривать (наговорить).']\n",
            "1\n",
            "28 14501 0  ['Навострить уши', 'насторожить уши'][' внимательно, с интересом прислушаться, насторожиться']\n",
            "28 19297 3  ['Насторожить уши']['о животном: приподнять, напрячь уши, прислушиваясь с опаскою.']\n",
            "2\n",
            "29 14502 0  ['Над ухом', 'Над ухом звенеть', 'Над ухом кричать', 'Над ухом говорить'][' близко, в непосредственной близости']\n",
            "29 19298 1  ['На ухо', 'На ухо шептать', 'На ухо говорить']['тихо, приложась к уху.']\n",
            "2\n",
            "30 14505 0  ['По уши влюбиться', 'По уши врезаться'][' очень сильно влюбиться']\n",
            "30 17637 0  ['по уши влюбиться'][]             \n",
            "30 19300 3  ['По уши', 'По уши влюбиться', 'По уши увязнуть']['очень сильно, всецело, целиком.']\n",
            "1\n",
            "31 14506 0  ['По уши погрузиться', 'По уши увязнуть'][' быть всецело поглощенным чем-либо, углубившись в какое-либо дело, занятие и т. п.']\n",
            "31 19300 3  ['По уши', 'По уши влюбиться', 'По уши увязнуть']['очень сильно, всецело, целиком.']\n",
            "1\n",
            "32 14507 0  ['Прожужжать уши', 'прогудеть уши', 'прокричать уши', 'протрубить уши'][' надоесть долгими, постоянными разговорами о ком-либо, чем-либо']\n",
            "32 19301 1  ['Прожужжать уши', 'прокричать уши', 'протрещать уши', 'протрубить уши']['надоесть долгими разговорами, однообразными или об одном и том же.']\n",
            "1\n",
            "33 14510 0  ['Ухо режет', 'Ухо дерет', 'уши режет', 'уши дерет'][' звучит резко, грубо, неприятно для слуха']\n",
            "33 17307 1  ['ухо режет']  []             \n",
            "33 19222 1  ['Уши трещат'] ['устать, утомиться, слушая кого- что-н.']\n",
            "33 19294 1  ['За ушами трещит']['говорится о человеке, к-рый быстро, жадно или с аппетитом ест.']\n",
            "33 19303 1  ['Ухо дерёт', 'Ухо режет', 'уши дерёт', 'уши режет']['о нескладной, неприятной на слух (или оскорбительной) речи, игре, пении кого-н.']\n",
            "33 19305 1  ['Уши трещат'] ['устать, утомиться, слушая кого- что-н.']\n",
            "3\n",
            "1 2 5\n",
            "34 14513 0  ['Факты - упрямая вещь'][' факты нельзя опровергнуть ']\n",
            "34 17318 1  ['факты - упрямая вещь'][]             \n",
            "1\n",
            "35 14517 2  ['глядеть в книгу и видеть фигу', 'смотреть в книгу и видеть фигу'][' ничего не понимать']\n",
            "35 17053 0  ['смотреть в книгу и видеть фигу'][]             \n",
            "1\n",
            "36 14521 0  ['Курить фимиам', 'воскурять фимиам']['льстиво превозносить, восхвалять кого-либо']\n",
            "36 19310 1  ['Курить фимиам', 'жечь фимиам']['льстить, льстиво восхвалять кого-н.']\n",
            "1\n",
            "37 14523 0  ['Фон-барон']  [' о важной, очень значительной личности ']\n",
            "37 19313 1  ['Фон-барон']  ['надменный, спесивый, слишком заважничавший человек.']\n",
            "1\n",
            "38 14538 2  ['(и) в хвост и в гриву (гнать, дуть, погонять)', 'в хвост и в гриву', 'в хвост и в гриву гнать', 'в хвост и в гриву дуть', 'в хвост и в гриву погонять', 'и в хвост и в гриву', 'и в хвост и в гриву гнать', 'и в хвост и в гриву дуть', 'и в хвост и в гриву погонять'][' что есть силы, во всю мочь']\n",
            "38 18103 0  ['Дуть и в хвост и в гриву']['торопить, подгонять безжалостно, заставляя делать что-н.хлестать лошадь].']\n",
            "1\n",
            "39 14555 1  ['ходу дать', 'ходу наддать', 'ходу прибавить', 'ходу убавить'][' быстро, бегом, во всю прыть уйти, уехать от кого-либо, чего-либо']\n",
            "39 19333 1  ['Ходу дать']  ['употребляется при угрозе в знач.: наказать, проучить.']\n",
            "1\n",
            "40 14558 4  ['ходуном ходить (идти, пойти)', 'ходуном ходить', 'ходуном идти', 'ходуном пойти']['сильно трястись, сотрясаться ']\n",
            "40 18078 2  ['отдать долг природе']['умереть (в этом знач. также с прибавкой: последний долг);']\n",
            "40 18836 1  ['Отдать дань природе']['поступить сообразно своим свойствам.']\n",
            "2\n",
            "41 14563 0  ['Хорошее дело:']['употребляется для выражения положительного отношения к чему-либо, для одобрения чего-либо ']\n",
            "41 17353 1  ['хорошенькое дело!'][]             \n",
            "2\n",
            "42 14590 2  ['на чай давать (или брать)', 'на чай', 'на чай давать', 'на чай брать'][' давать (брать) чаевые']\n",
            "42 19350 0  ['На чаёк', 'На чаёк давать', 'На чаёк брать']['награждение за мелкие услуги (швейцару, официанту и пр.) сверх жалования.']\n",
            "2\n",
            "43 14610 0  ['Человек']    [' о высоком назначении человека']\n",
            "43 16008 0  ['люди']       []             \n",
            "2\n",
            "44 14632 0  ['Черт ли в']  [' выражение сомнения в важности и нужности кого-либо, чего-либо']\n",
            "44 19372 2  ['Чёрт ли']    ['выражение сомнения в достоинстве, важности, нужности кого- чего-н.']\n",
            "1\n",
            "45 14635 0  ['Черти полосатые  ,'][' восклицание, выражающее раздражение или возмущение чьим-либо поведением']\n",
            "45 17407 1  ['чёрт полосатый'][]             \n",
            "1\n",
            "46 14637 0  ['До последней черты'][' до конца, до крайней степени чего-либо']\n",
            "46 19376 1  ['Последняя черта']['предел']     \n",
            "2\n",
            "47 14664 0  ['Чем не']     [' употребляется в риторических вопросах по отношению к тому, кто (или что) вполне подходит для чего-либо, отвечает своему назначению']\n",
            "47 19398 1  ['Чем не', 'Чем это не']['о чем-н., вполне подходящем, годном для чего-н.']\n",
            "1\n",
            "48 14673 0  ['Давать себя чувствовать'][' обнаруживаться, сказываться']\n",
            "48 14674 1  ['давать чувствовать'][' намекая на что-либо, давать возможность понять что-либо или догадаться о чем-либо']\n",
            "2\n",
            "49 14691 1  ['в нескольких (или двух, трех) шагах', 'в нескольких шагах', 'в двух шагах', 'в трёх шагах'][' очень близко, совсем недалеко']\n",
            "49 15357 0  ['два шага']   []             \n",
            "2\n",
            "\tength: 31\n"
          ]
        }
      ]
    },
    {
      "cell_type": "code",
      "source": [
        "new_vars.extend(next_variants(3350, 3400)[0])\n",
        "print('\\tlength:', len(new_vars))"
      ],
      "metadata": {
        "colab": {
          "base_uri": "https://localhost:8080/"
        },
        "id": "UcPfesBe0V2g",
        "outputId": "d2b38719-a40b-44ec-e3ff-65c3f7b0b0c6"
      },
      "execution_count": 35,
      "outputs": [
        {
          "output_type": "stream",
          "name": "stdout",
          "text": [
            "0  14714 0  ['Шутки шутками'][' употребляется с последующим противительным союзом в значении: что ни говори(те), даже если и так, но все-таки']\n",
            "0  17476 1  ['шутка шуткой'][]             \n",
            "0  19434 1  ['Шутка шуткой', 'Шутки шутками']['употребляется с последующим противительным союзом в знач.: так или иначе, даже если и так.']\n",
            "1\n",
            "1  14729 1  ['нашего (или одного, своего) поля ягода', 'нашего поля ягода', 'одного поля ягода', 'своего поля ягода'][' подходящий кому-либо, совершенно сходный с кем-либо по воззрениям, характеру и поведению человек']\n",
            "1  16277 1  ['не нашего поля ягода'][]             \n",
            "2\n",
            "2  14731 1  ['высунув язык (бежать)', 'высуня язык', 'высуня язык бежать'][' стремительно, не переводя дыхания']\n",
            "2  17944 1  ['Высуня (высунув) язык (бежать)']['стремительно, не переводя дыханья.']\n",
            "1\n",
            "3  14742 1  ['язык чесать'][' болтать']   \n",
            "3  14743 1  ['языком трепать (чесать, болтать, молоть)', 'языком трепать', 'языком чесать', 'языком болтать', 'языком молоть'][' говорить (зря, без толку, для препровождения времени)']\n",
            "3  19379 1  ['Язык чесать', 'Языком чесать']['говорить зря, без толку, для препровождения времени']\n",
            "1\n",
            "4  14743 1  ['языком трепать (чесать, болтать, молоть)', 'языком трепать', 'языком чесать', 'языком болтать', 'языком молоть'][' говорить (зря, без толку, для препровождения времени)']\n",
            "4  19379 1  ['Язык чесать', 'Языком чесать']['говорить зря, без толку, для препровождения времени']\n",
            "2\n",
            "5  14752 1  ['а ну']       []             \n",
            "5  15320 1  ['да ну?']     []             \n",
            "2\n",
            "6  14761 1  ['а что?']     []             \n",
            "6  19396 7  ['На что', 'На что уж']['как ни, хотя, очень']\n",
            "2\n",
            "7  14798 1  ['без роду и племени']['из низшего класса, сословия']\n",
            "7  18678 2  ['Без роду, без племени']['неизвестного происхождения, без родственных связей.']\n",
            "2\n",
            "8  14800 1  ['без счёту']  ['очень много.']\n",
            "8  19151 1  ['Счёту нет', 'без счету']['очень много кого- чего-н.']\n",
            "2\n",
            "9  14818 0  ['бес знает']  []             \n",
            "9  16536 0  ['пёс знает']  []             \n",
            "2\n",
            "10 14865 1  ['брать на арапа']['действуя обманным путём, добиваться желаемого от кого-либо']\n",
            "10 14869 0  ['брать на караул'][]             \n",
            "2\n",
            "11 14873 0  ['брать под рёбра'][]             \n",
            "11 14874 1  ['брать под ребро'][]             \n",
            "1\n",
            "12 14878 1  ['брать слова обратно'][]             \n",
            "12 17513 0  ['брать свои слова обратно'][]             \n",
            "1\n",
            "13 14910 1  ['быть в тягость'][]             \n",
            "13 16202 1  ['не быть в тягость'][]             \n",
            "2\n",
            "14 14921 1  ['быть припёртым к стенке'][]             \n",
            "14 16753 1  ['припирать к стенке'][]             \n",
            "14 18818 2  ['Прижать к стене', 'Прижать к углу']['притеснить, оказать давление на кого-н., обидеть']\n",
            "14 19109 2  ['Прижать к стене', 'припереть к стене']['притеснить, оказать давление на кого-н., обидеть']\n",
            "2\n",
            "15 14926 1  ['в голос']    ['так громко, что всем слышно кричать, плакать и т. п.']\n",
            "15 18000 1  ['С голоса']   ['на слух, пользуясь слуховыми восприятиями.']\n",
            "2\n",
            "16 14950 1  ['в милости']  ['у кого']     \n",
            "16 16205 1  ['не в милости']['у кого']     \n",
            "2\n",
            "17 14955 1  ['в один лад'] []             \n",
            "17 16107 1  ['на один лад'][]             \n",
            "2\n",
            "18 14957 0  ['в одно ухо вошло, а в другое вышло'][]             \n",
            "18 17523 0  ['в одно ухо входит, а в другое выходит'][]             \n",
            "18 19290 1  ['В одно ухо вошло, в другое вышло', 'В одно ухо входит, в другое выходит']['о невнимательном восприятии чего-н.']\n",
            "1\n",
            "19 14963 1  ['в память']   []             \n",
            "19 18626 1  ['В памяти']   ['в полном сознании, в себе.']\n",
            "2\n",
            "20 14972 1  ['в расцвете лет'][]             \n",
            "20 19348 2  ['В цвете', 'В цвете лет', 'В цвете сил', 'Во цвете', 'Во цвете лет', 'Во цвете сил']['в периоде полного развития, расцвета -н.']\n",
            "1\n",
            "21 14978 1  ['в своей тарелке'][]             \n",
            "21 19181 2  ['Не в своей тарелке', 'Не в своей тарелке быть']['в плохом расположении духа, не в настроении (без отриц., реже, в хорошем расположении духа, в настроении).']\n",
            "2\n",
            "22 14990 0  ['в убытке']   []             \n",
            "22 14991 1  ['в убыток']   []             \n",
            "2\n",
            "23 15002 1  ['в яблочко']  []             \n",
            "23 19442 1  ['В яблоках']  ['о конской масти: с темными круглыми небольшими пятнами на шерсти.']\n",
            "2\n",
            "24 15006 0  ['ваша берёт'] []             \n",
            "24 16197 1  ['наша берёт'] []             \n",
            "2\n",
            "25 15010 1  ['вводить в сердце'][]             \n",
            "25 15082 1  ['войти в сердце'][]             \n",
            "2\n",
            "26 15012 0  ['вгонять в слезу'][]             \n",
            "26 15013 0  ['вгонять в слёзы'][]             \n",
            "1\n",
            "27 15054 0  ['власти предержащие'][]             \n",
            "27 17875 0  ['Власть предержащая']['высшая правительственная власть.']\n",
            "2\n",
            "28 15063 1  ['во весь ор'] []             \n",
            "28 17533 0  ['во весь опор'][]             \n",
            "2\n",
            "29 15069 1  ['во даёт!']   []             \n",
            "29 19291 1  ['В ухо дать', 'В ухо съездить', 'В ухо заехать', 'В ухо ударить', 'В ухо въехать']['ударить наотмашь по голове.']\n",
            "2\n",
            "30 15104 1  ['вот те на']  []             \n",
            "30 19234 1  ['Вот тебе', 'вот тебе и', 'вот тебе и на', 'вот тебе раз', 'вот тебе и раз', 'Вот те', 'вот те и', 'вот те и на', 'вот те раз', 'вот те и раз']['восклицание по поводу чего-н. неожиданного, не соответствующего ожиданиям, удивительного, о том, чего ожидали, но что не совершилось или превратилось не в то, чего ожидали.']\n",
            "2\n",
            "31 15108 4  ['вот что']    ['следующее, вот это']\n",
            "31 19234 1  ['Вот тебе', 'вот тебе и', 'вот тебе и на', 'вот тебе раз', 'вот тебе и раз', 'Вот те', 'вот те и', 'вот те и на', 'вот те раз', 'вот те и раз']['восклицание по поводу чего-н. неожиданного, не соответствующего ожиданиям, удивительного, о том, чего ожидали, но что не совершилось или превратилось не в то, чего ожидали.']\n",
            "2\n",
            "32 15131 1  ['всё игрушки'][]             \n",
            "32 16247 1  ['не игрушки'] []             \n",
            "2\n",
            "33 15172 1  ['входить в разум'][]             \n",
            "33 16735 1  ['приводить в разум'][]             \n",
            "2\n",
            "34 15188 1  ['выделывать вензеля'][]             \n",
            "34 15190 0  ['выделывать кренделя'][]             \n",
            "34 15194 1  ['выкидывать кренделя'][]             \n",
            "2\n",
            "35 15190 0  ['выделывать кренделя'][]             \n",
            "35 15194 1  ['выкидывать кренделя'][]             \n",
            "2\n",
            "36 15204 1  ['вырастать в глазах'][]             \n",
            "36 17940 1  ['Вырасти в глазах чьих']['подняться, выиграть в чьем-н. мнении.']\n",
            "1\n",
            "37 15205 1  ['вырасти на целый аршин'][]             \n",
            "37 15206 0  ['вырасти на целых два аршина'][]             \n",
            "1\n",
            "38 15242 1  ['гладить по шерсти'][]             \n",
            "38 15243 0  ['гладить по шёрстке'][]             \n",
            "1\n",
            "39 15272 1  ['год от года'][]             \n",
            "39 17990 1  ['Год от году']['употребляется в выражениях, обозначающих ту или иную последовательность во времени.']\n",
            "2\n",
            "40 15273 0  ['года вышли'] []             \n",
            "40 15274 1  ['годы вышли'] []             \n",
            "1\n",
            "41 15275 0  ['гол как турецкий святой'][]             \n",
            "41 19231 1  ['Как турецкий святой', 'Как турецкий святой гол', 'Как турецкий святой беден']['ничего не имеет, беден.']\n",
            "1\n",
            "42 15286 1  ['голодный паёк'][]             \n",
            "42 16084 0  ['на голодном пайке'][]             \n",
            "2\n",
            "43 15325 0  ['давать веру'][]             \n",
            "43 17825 1  ['Дать на веру']['одолжить кому-н. без законных гарантий возврата, на честное слово.']\n",
            "2\n",
            "44 15331 0  ['давать по зубам'][]             \n",
            "44 15350 0  ['дать в зубы', 'дать по зубам'][]             \n",
            "1\n",
            "45 15335 0  ['давать ходу'][]             \n",
            "45 17553 0  ['давать выход'][]             \n",
            "2\n",
            "46 15339 1  ['дай боже']   []             \n",
            "46 15348 1  ['даст бог']   []             \n",
            "2\n",
            "47 15376 1  ['дело сторона'][]             \n",
            "47 19120 1  ['Моё дело сторона', 'твоё дело сторона', 'его дело сторона']['это меня (тебя, его и т.д.) не касается.']\n",
            "2\n",
            "48 15384 1  ['держать в памяти'][]             \n",
            "48 15400 1  ['держи пять!'][]             \n",
            "2\n",
            "49 15395 1  ['держаться на ногах'][]             \n",
            "49 17563 0  ['держаться на ниточке'][]             \n",
            "2\n",
            "\tlength: 45\n"
          ]
        }
      ]
    },
    {
      "cell_type": "code",
      "source": [
        "write_vars(new_vars)"
      ],
      "metadata": {
        "id": "gJvhv6TO0V2h"
      },
      "execution_count": 37,
      "outputs": []
    },
    {
      "cell_type": "code",
      "source": [
        "new_vars, to_split = next_variants(3400, 3450)\n",
        "print('\\tength:', len(new_vars))"
      ],
      "metadata": {
        "colab": {
          "base_uri": "https://localhost:8080/"
        },
        "id": "CetgNmsu0W96",
        "outputId": "ca5e3b73-3d2b-44dc-a1ff-816375c7bd62"
      },
      "execution_count": 38,
      "outputs": [
        {
          "output_type": "stream",
          "name": "stdout",
          "text": [
            "0  15442 1  ['доводить до ручки'][]             \n",
            "0  15443 0  ['доводить до точки'][]             \n",
            "0  15462 0  ['доходить до ручки'][]             \n",
            "0  15463 1  ['доходить до точки'][]             \n",
            "3\n",
            "13\n",
            "1  15443 0  ['доводить до точки'][]             \n",
            "1  15463 1  ['доходить до точки'][]             \n",
            "2\n",
            "2  15462 0  ['доходить до ручки'][]             \n",
            "2  15463 1  ['доходить до точки'][]             \n",
            "2\n",
            "3  15486 1  ['дуй тебя горой!'][]             \n",
            "3  18104 0  ['Дуй его (тебя) горой!']['бранное выражение.']\n",
            "1\n",
            "4  15507 1  ['едва ноги волочить'][]             \n",
            "4  17899 1  ['Еле ноги волочить']['идти с трудом от усталости.']\n",
            "1\n",
            "5  15508 2  ['едва ноги носят']['очень слаб или стар.']\n",
            "5  15509 1  ['едва ноги унести'][]             \n",
            "2\n",
            "6  15516 0  ['есть']       []             \n",
            "6  17817 1  ['Быть']       ['неминуемо случиться.']\n",
            "2\n",
            "7  15525 1  ['ещё как']    []             \n",
            "7  18273 1  ['Еще какой!'] ['в восклиц. предлож. выражает удивление по поводу высокой степени какого-н. качества.']\n",
            "2\n",
            "8  15553 1  ['жить под одной крышей'][]             \n",
            "8  17280 1  ['уживаться под одной крышей'][]             \n",
            "1\n",
            "9  15557 1  ['за версту обходить', 'за семь вёрст обходить'][]             \n",
            "9  15567 0  ['за семь вёрст обходить'][]             \n",
            "1\n",
            "10 15564 1  ['за порогом'] ['вне дома.']  \n",
            "10 18767 1  ['За порог']   ['из дому.']   \n",
            "2\n",
            "11 15573 0  ['за чечевичную похлёбку'][]             \n",
            "11 19391 2  ['За чечевичную похлебку', 'За чечевичную похлебку продать', 'За чечевичную похлебку уступить', 'За чечевичное варево', 'За чечевичное варево продать', 'За чечевичное варево уступить']['за мелкий соблазн, ценою ничтожной выгоды']\n",
            "1\n",
            "12 15599 1  ['заказана дорога'][]             \n",
            "12 15600 0  ['заказывать дорогу'][]             \n",
            "2\n",
            "13 15605 0  ['заклёпки не хватает'][]             \n",
            "13 15877 0  ['клёпок не хватает'][]             \n",
            "2\n",
            "14 15614 1  ['заливать мозги'][]             \n",
            "14 15630 1  ['засаривать мозги'][]             \n",
            "2\n",
            "15 15620 2  ['заморить червячка']['слегка закусить, утолить голод.']\n",
            "15 19362 1  ['Заморить червячка', 'Червяка заморить']['слегка закусить, утолить голод']\n",
            "1\n",
            "16 15632 0  ['заснуть вечным сном'][]             \n",
            "16 18212 1  ['Заснуть вечным сном']['умереть.']   \n",
            "16 19282 1  ['Уснуть навеки', 'Уснуть вечным сном']['умереть.']   \n",
            "2\n",
            "17 15633 1  ['заставать врасплох'][]             \n",
            "17 17576 0  ['застигать врасплох'][]             \n",
            "1\n",
            "18 15637 1  ['затаив дыхание'][]             \n",
            "18 15638 1  ['затаить дыхание'][]             \n",
            "1\n",
            "19 15641 0  ['заткни глотку!'][]             \n",
            "19 18214 1  ['Заткнуть рот, глотку']['заставить молчать.']\n",
            "2\n",
            "20 15644 1  ['затягивать пояс'][]             \n",
            "20 17578 0  ['затянуть пояс потуже'][]             \n",
            "2\n",
            "21 15651 1  ['заявлять о себе'][]             \n",
            "21 18216 1  ['Заявить себя']['показать себя с какой-н. стороны.']\n",
            "2\n",
            "22 15667 1  ['знать, почём сотня гребешков'][]             \n",
            "22 16650 1  ['показать, почём сотня гребешков'][]             \n",
            "1\n",
            "23 15678 0  ['и думать забудь!'][]             \n",
            "23 15679 1  ['и думать забыл'][]             \n",
            "1\n",
            "24 15685 0  ['и носом не ведёт'][]             \n",
            "24 17837 3  ['и ухом не вести (не повести)', 'и ухом не вести', 'и ухом не повести']['не обращать (не обратить) никакого внимания.']\n",
            "2\n",
            "25 15688 1  ['и то']       ['более того, и даже при этом']\n",
            "25 19198 3  ['и то', 'Да и то']['употребляется для ограничения (в каком- н. отношении) сказанного, в знач.: к тому же только причем только.']\n",
            "1\n",
            "26 15690 1  ['и точка']    []             \n",
            "26 19212 2  ['В самую точку', 'В самую точку попасть', 'В точку', 'В точку попасть']['как раз, точно, как надо.']\n",
            "2\n",
            "27 15718 1  ['из уст']     ['кого, чьих'] \n",
            "27 19286 2  ['Из уст', 'Из уст слышать', 'Из уст узнать']['от кого-нибудь']\n",
            "1\n",
            "28 15721 2  ['избави бог'] ['предостережение о недопустимости или нежелательности чего-либо']\n",
            "28 15722 0  ['избави боже'][]             \n",
            "1\n",
            "29 15723 0  ['избить до потери сознания'][]             \n",
            "29 16173 1  ['напиться до потери сознания'][]             \n",
            "2\n",
            "30 15727 1  ['измениться в лице'][]             \n",
            "30 17690 0  ['смеяться в лицо'][]             \n",
            "2\n",
            "31 15728 0  ['износа нет'] []             \n",
            "31 15729 0  ['износу нет'] []             \n",
            "1\n",
            "32 15746 2  ['к делу!']    ['требование (обычно обращенное к оратору) не отступать от главной темы, сути дела.']\n",
            "32 15786 1  ['как дела?']  []             \n",
            "2\n",
            "33 15751 1  ['к чёрту']    ['прочь, долой, вон гнать, прогонять кого-либо; выражение желания избавиться, отделаться от кого-либо или чего-либо']\n",
            "33 17589 0  ['к черту!']   []             \n",
            "33 19366 6  ['К черту', 'К чертям', 'Ко всем чертям']['(послать, бросить, пойти и т. п.) о полном уничтожении, распаде, расстройствепрахом, долой']\n",
            "3\n",
            "1 2\n",
            "34 15764 0  ['как будто завеса падает с глаз'][]             \n",
            "34 15765 1  ['как будто пелена падает с глаз'][]             \n",
            "1\n",
            "35 15771 1  ['как в копейку'][]             \n",
            "35 15812 0  ['как новая копейка'][]             \n",
            "2\n",
            "36 15782 1  ['как гора с плеч'][]             \n",
            "36 17549 2  ['гора с плеч']['рассеялась большая забота, кончилось тягостное душевное состояние.']\n",
            "1\n",
            "37 15791 3  ['как за каменной стеной']['за кем']     \n",
            "37 19107 1  ['Как на каменную стену', 'Как на каменную стену надеяться', 'Как на каменную стену положиться']['с полною уверенностью.']\n",
            "2\n",
            "38 15815 1  ['как об стенку горох'][]             \n",
            "38 18017 2  ['как об стену горох', 'как в стену горох', 'как стене горох', 'как от стены горох']['без всякого результата, ничего не добиваясь.']\n",
            "1\n",
            "39 15823 1  ['как пивной котёл'][]             \n",
            "39 18339 1  ['С пивной котёл']['очень больших размеров (чаще о голове).']\n",
            "2\n",
            "40 15834 0  ['как рублём подарить'][]             \n",
            "40 18930 3  ['Рублём подарит']['выражение, означающее высокую похвалу какому-н. действию и употребляется обычно в параллелизмах, напр.']\n",
            "1\n",
            "41 15836 1  ['как с луны свалился'][]             \n",
            "41 15837 1  ['как с неба свалился']['кто']        \n",
            "41 16304 1  ['не с неба свалилось'][]             \n",
            "2\n",
            "42 15837 1  ['как с неба свалился']['кто']        \n",
            "42 16304 1  ['не с неба свалилось'][]             \n",
            "2\n",
            "43 15853 1  ['какая тебя муха укусила?'][]             \n",
            "43 17591 0  ['какая муха тебя укусила?'][]             \n",
            "1\n",
            "44 15880 1  ['клубок в горле стоит'][]             \n",
            "44 17594 0  ['комок в горле стоит'][]             \n",
            "2\n",
            "45 15909 2  ['короче говоря', 'короче (говоря)']['употребляется в знач. вводного слова при заключительной краткой формулировке, выводе из сказанного: словом, итак.']\n",
            "45 18332 1  ['Коротко говоря']['в немногих словах, вкратце.']\n",
            "2\n",
            "46 15915 1  ['красная нить'][]             \n",
            "46 18517 1  ['Красной нитью']['о какой-н. мысли, идее, тенденции: отчетливо выделяться, господствовать.']\n",
            "2\n",
            "47 15951 0  ['курица']     []             \n",
            "47 15953 0  ['куры']       []             \n",
            "2\n",
            "48 15974 0  ['лезть не в своё дело'][]             \n",
            "48 16260 1  ['не лезь не в своё дело!'][]             \n",
            "2\n",
            "49 16001 1  ['лопни глаза'][]             \n",
            "49 18402 0  ['Лопни глаза мои']['клятва.']    \n",
            "1\n",
            "\tength: 21\n"
          ]
        }
      ]
    },
    {
      "cell_type": "code",
      "source": [
        "new_vars.extend(next_variants(3450, 3500)[0])\n",
        "print('\\tlength:', len(new_vars))"
      ],
      "metadata": {
        "colab": {
          "base_uri": "https://localhost:8080/"
        },
        "id": "-lctdmV30W98",
        "outputId": "00f5df94-6b5b-4d75-ede3-59a62564cb37"
      },
      "execution_count": 40,
      "outputs": [
        {
          "output_type": "stream",
          "name": "stdout",
          "text": [
            "0  16019 0  ['мерить аршином'][]             \n",
            "0  16021 0  ['мерить на аршин', 'мерить мерять аршином'][]             \n",
            "0  16022 1  ['мерить на один аршин', 'мерить мерять одним общим аршином одной меркой, мерой'][]             \n",
            "3\n",
            "1 2\n",
            "1  16021 0  ['мерить на аршин', 'мерить мерять аршином'][]             \n",
            "1  16022 1  ['мерить на один аршин', 'мерить мерять одним общим аршином одной меркой, мерой'][]             \n",
            "2\n",
            "2  16047 1  ['мороз по коже дерёт'][]             \n",
            "2  17605 0  ['мороз по коже пробежал'][]             \n",
            "2\n",
            "3  16062 1  ['муру разводить'][]             \n",
            "3  16885 1  ['руки разведёшь'][]             \n",
            "2\n",
            "4  16082 3  ['на глаз']    ['на глазомер;']\n",
            "4  17972 1  ['На глазок']  ['на глазомер.']\n",
            "1\n",
            "5  16100 1  ['на моё счастье'][]             \n",
            "5  19142 3  ['К счастью', 'К моему счастью', 'К твоему счастью', 'к счастью для меня', 'к счастью для тебя', 'на мое счастье', 'на твое счастье', 'на счастье']['употребляется в знач. вводного слова при выражении удовлетворения по поводу чего-н., для указания на удачу, успех.']\n",
            "1\n",
            "6  16120 2  ['на свете', 'на свету']['при свете, при освещении.']\n",
            "6  18990 1  ['На свет']    ['если посмотреть сквозь что-н. против света.']\n",
            "6  19147 7  ['На счёт']    ['чьими-н. средствами, на чьи-н. средства, деньги.']\n",
            "2\n",
            "7  16174 1  ['напиться крови'][]             \n",
            "7  19279 1  ['Упиться кровью']['насладиться убийством кого-н.']\n",
            "2\n",
            "8  16182 0  ['наступать на ноги'][]             \n",
            "8  16183 1  ['наступать на ногу'][]             \n",
            "8  18480 1  ['Наступить на ногу']['обидеть кого-н., напортить, повредить -н. в чем-н. .']\n",
            "8  18530 1  ['Наступить на ногу']['обидеть кого-н., напортить, повредить кому-н. в чем-н. .']\n",
            "2\n",
            "9  16183 1  ['наступать на ногу'][]             \n",
            "9  18480 1  ['Наступить на ногу']['обидеть кого-н., напортить, повредить -н. в чем-н. .']\n",
            "9  18530 1  ['Наступить на ногу']['обидеть кого-н., напортить, повредить кому-н. в чем-н. .']\n",
            "1\n",
            "10 16206 1  ['не в моём вкусе'][]             \n",
            "10 16228 0  ['не во вкус'] []             \n",
            "2\n",
            "11 16250 1  ['не иметь дела'][]             \n",
            "11 16252 1  ['не иметь зла'][]             \n",
            "2\n",
            "12 16271 1  ['не на дурака напал'][]             \n",
            "12 16272 0  ['не на дуру напал'][]             \n",
            "1\n",
            "13 16278 1  ['не нюхать пороху'][]             \n",
            "13 16398 3  ['нюхать порох']['участвовать в военных действиях.']\n",
            "2\n",
            "14 16280 1  ['не обращать внимания'][]             \n",
            "14 17879 2  ['обращать внимание']['замечать кого- что-н., заинтересовываться кем- чем-н.']\n",
            "2\n",
            "15 16312 1  ['не сотвори себе кумира'][]             \n",
            "15 19184 1  ['Творить себе кумир', 'Творить себе кумира']['делать из кого- чего-н. предмет поклонения, обожания']\n",
            "2\n",
            "16 16313 1  ['не спрашивай!'][]             \n",
            "16 17207 1  ['тебя не спросили'][]             \n",
            "2\n",
            "17 16315 1  ['не стоять на месте'][]             \n",
            "17 17148 1  ['стоять на месте'][]             \n",
            "2\n",
            "18 16318 1  ['не терять голову', 'не терять головы'][]             \n",
            "18 19194 1  ['Терять голову', 'Терять ум']['терять самообладание, теряться, переставать соображать, лишаться способности здраво, разумно поступать.']\n",
            "2\n",
            "19 16344 1  ['нехорошо на душе'][]             \n",
            "19 17355 1  ['хорошо на душе'][]             \n",
            "2\n",
            "20 16374 0  ['ногти в трауре'][]             \n",
            "20 16613 0  ['под ногтями траур', 'ногти в трауре'][]             \n",
            "1\n",
            "21 16385 2  ['ну и что?']  []             \n",
            "21 16392 1  ['ну что?']    []             \n",
            "2\n",
            "22 16390 1  ['ну ты даёшь!'][]             \n",
            "22 17492 2  ['я тебе дам!', 'я тебе', 'я те', 'я вам']['употребляется для выражения запрещения, угрозы.']\n",
            "22 19440 1  ['Я тебе дам!']['выражение угрозы.']\n",
            "2\n",
            "23 16395 1  ['нужен как прошлогодний снег'][]             \n",
            "23 18862 1  ['Как прошлогодний снег']['говорится о чем-н. ненужном, потерявшем уже всякую ценность, значение.']\n",
            "23 19072 2  ['Прошлогодний снег']['что- то вовсе не нужное, излишнее.']\n",
            "3\n",
            "1 2\n",
            "24 16408 1  ['обращать в шутку'][]             \n",
            "24 18559 1  ['Обратить в шутку']['заставить отнестись к чему- н., как к шуткепридать чему- н. значение шутки.']\n",
            "1\n",
            "25 16438 2  ['оставаться при пиковом интересе'][]             \n",
            "25 16444 0  ['оставлять при пиковом интересе'][]             \n",
            "1\n",
            "26 16463 1  ['от щедрот']  []             \n",
            "26 19435 1  ['От щедрот', 'От своих щедрот']['из своих средств, от себя (дать, подарить).']\n",
            "1\n",
            "27 16466 1  ['отбоя нет']  []             \n",
            "27 18600 2  ['Отбою нет']  ['более чем достаточно кого- чего-н., слишком много.']\n",
            "1\n",
            "28 16505 1  ['пан либо пропал'][]             \n",
            "28 17630 0  ['пан или пропал'][]             \n",
            "1\n",
            "29 16523 1  ['перевернуться вверх тормашками'][]             \n",
            "29 16524 1  ['перевёртывать вверх тормашками'][]             \n",
            "1\n",
            "30 16543 1  ['пикнуть не смеет'][]             \n",
            "30 16544 1  ['пикнуть не успел'][]             \n",
            "2\n",
            "31 16545 1  ['питать надежду'][]             \n",
            "31 16546 0  ['питать надежды'][]             \n",
            "1\n",
            "32 16568 0  ['по губам']   []             \n",
            "32 16569 0  ['по губе']    []             \n",
            "2\n",
            "33 16616 4  ['под рукой']  ['кого']       \n",
            "33 18950 1  ['Под руки']   ['вдвоем, взявши кого-н. под руку с каждой стороны.']\n",
            "2\n",
            "34 16634 0  ['подставлять лоб'][]             \n",
            "34 16699 1  ['поставить дело'][]             \n",
            "2\n",
            "35 16653 1  ['покорнейше благодарю']['почтительное выражение благодарности']\n",
            "35 18733 1  ['Покорно благодарю']['выражение несогласия или недоумения.']\n",
            "1\n",
            "36 16733 1  ['приведёт бог'][]             \n",
            "36 18816 1  ['Привел бог'] ['удалось, удачно случилось.']\n",
            "2\n",
            "37 16750 1  ['принимать к сердцу'][]             \n",
            "37 18831 1  ['Принять к сердцу']['отнестись к чему- н. очень сочувственно, с большой заинтересованностью.']\n",
            "1\n",
            "38 16752 0  ['припереть к стене'][]             \n",
            "38 16753 1  ['припирать к стенке'][]             \n",
            "38 18818 2  ['Прижать к стене', 'Прижать к углу']['притеснить, оказать давление на кого-н., обидеть']\n",
            "38 19109 2  ['Прижать к стене', 'припереть к стене']['притеснить, оказать давление на кого-н., обидеть']\n",
            "2\n",
            "39 16753 1  ['припирать к стенке'][]             \n",
            "39 18818 2  ['Прижать к стене', 'Прижать к углу']['притеснить, оказать давление на кого-н., обидеть']\n",
            "39 19109 2  ['Прижать к стене', 'припереть к стене']['притеснить, оказать давление на кого-н., обидеть']\n",
            "2\n",
            "40 16767 1  ['провожать глазами'][]             \n",
            "40 16768 1  ['продавать глаза'][]             \n",
            "2\n",
            "41 16777 1  ['промокнуть до костей'][]             \n",
            "41 17660 0  ['продрогнуть до костей'][]             \n",
            "2\n",
            "42 16827 1  ['разбивать в щепы'][]             \n",
            "42 16829 0  ['разбить в лепёшку'][]             \n",
            "2\n",
            "43 16828 1  ['разбирать по косточкам'][]             \n",
            "43 16838 0  ['разобрать по косточке'][]             \n",
            "1\n",
            "44 16881 2  ['ругать последними словами'][]             \n",
            "44 16882 1  ['ругаться последними словами'][]             \n",
            "1\n",
            "45 16910 1  ['с носа']     []             \n",
            "45 18535 2  ['С носом']    ['остаться или быть  — потерпеть неудачу, обмануться в расчетах, быть одураченным.']\n",
            "2\n",
            "46 16951 0  ['сбрасывать со счёта'][]             \n",
            "46 16952 1  ['сбрасывать со счетов'][]             \n",
            "1\n",
            "47 16965 1  ['свой человек'][]             \n",
            "47 19361 2  ['Свой человек', 'Свои люди']['родной, связанный родственными или близкими отношениями, совместной жизнью, работой']\n",
            "1\n",
            "48 16985 0  ['сердце разрывается'][]             \n",
            "48 18893 1  ['Душа разрывается', 'сердце разрывается']['о скорби, вызываемой чувством жалости, состраданием чьей- н. беде.']\n",
            "1\n",
            "49 17006 0  ['сколько верёвку ни вить, а концу быть'][]             \n",
            "49 17007 0  ['сколько верёвочке ни виться, а конец будет'][]             \n",
            "1\n",
            "\tlength: 43\n"
          ]
        }
      ]
    },
    {
      "cell_type": "code",
      "source": [
        "write_vars(new_vars)"
      ],
      "metadata": {
        "id": "j8lja_TY0W99"
      },
      "execution_count": 41,
      "outputs": []
    },
    {
      "cell_type": "code",
      "source": [
        "new_vars, to_split = next_variants(3500, 3550)\n",
        "print('\\tength:', len(new_vars))"
      ],
      "metadata": {
        "colab": {
          "base_uri": "https://localhost:8080/"
        },
        "id": "33s0rd2k0Yym",
        "outputId": "314883e1-e036-4e61-a3a7-18f6300208e7"
      },
      "execution_count": 44,
      "outputs": [
        {
          "output_type": "stream",
          "name": "stdout",
          "text": [
            "0  17011 1  ['скрестить мечи'][]             \n",
            "0  17686 0  ['скрещивать мечи'][]             \n",
            "1\n",
            "1  17066 1  ['со своим царём в голове'][]             \n",
            "1  19347 3  ['Царь в голове', 'С царем в голове', 'со своим царем в голове']['противоп. без царя в голове.']\n",
            "1\n",
            "2  17099 1  ['спускаться с небес на землю'][]             \n",
            "2  17697 0  ['спуститься с неба на землю'][]             \n",
            "1\n",
            "3  17110 1  ['ставить всё на своё место'][]             \n",
            "3  17117 1  ['становиться на свои места'][]             \n",
            "2\n",
            "4  17111 0  ['ставить галочку'][]             \n",
            "4  19213 1  ['Ставить точку', 'поставить точку']['кончать (кончить) какую-н. работу, кончать (покончить) с чем-н.']\n",
            "4  19214 1  ['Ставить точки на и', 'поставить точки на и', 'Ставить точки над i', 'поставить точки над i']['уточнять (уточнить) что-н. без надобности, объяснять (объяснить) то, что и так ясно.']\n",
            "2\n",
            "5  17128 1  ['старый как мир'][]             \n",
            "5  17700 0  ['старо как мир'][]             \n",
            "1\n",
            "6  17132 0  ['стать']      []             \n",
            "6  19102 2  ['Стало быть', 'стало']['(вводное слово) следовательно, значит, таким образом, итак.']\n",
            "2\n",
            "7  17137 1  ['стелиться под ноги'][]             \n",
            "7  17138 0  ['стелиться под сапог'][]             \n",
            "2\n",
            "8  17171 1  ['сходить с круга'][]             \n",
            "8  17718 0  ['ходить по кругу'][]             \n",
            "2\n",
            "9  17175 0  ['счастье твоё'][]             \n",
            "9  19143 1  ['Счастье мое, что', 'Счастье твое, что', 'Счастье его, что']['удачно получилось для меня (тебя, него и т.д.).']\n",
            "2\n",
            "10 17186 2  ['сыпать как из мешка'][]             \n",
            "10 17188 1  ['сыпаться как из мешка'][]             \n",
            "1\n",
            "11 17208 1  ['темна вода во облацех'][]             \n",
            "11 19188 1  ['Темна вода во облацех']['что-н. непонятное, необъяснимое (форма предл. п. мн. ч. от облако).']\n",
            "1\n",
            "12 17209 0  ['тёмная лошадка', 'темная лошадка'][]             \n",
            "12 19189 1  ['Тёмная лошадка']['участвующая в состязаниях лошадь, берущая приз вопреки ожиданиям большинства, не пользующаяся хорошей репутацией, но тем не менее могущая прийти первой.']\n",
            "1\n",
            "13 17212 1  ['тёплое местечко'][]             \n",
            "13 19192 2  ['Тёплое местечко', 'Тёплое место']['материально выгодная должность, службадающая возможность брать взятки).']\n",
            "1\n",
            "14 17215 1  ['терпеть не может'][]             \n",
            "14 19193 4  ['Терпеть не мочь']['не переноить, очень не любить.']\n",
            "2\n",
            "15 17218 0  ['теряться в предположениях'][]             \n",
            "15 19195 1  ['Теряться в догадках', 'Теряться в предположениях']['не уметь найти правильного ответа на что-н.']\n",
            "1\n",
            "16 17255 1  ['ты у меня запляшешь!'][]             \n",
            "16 17256 1  ['ты у меня попляшешь'][]             \n",
            "1\n",
            "17 17297 1  ['упрям как осёл', 'упрямый как осёл'][]             \n",
            "17 17298 1  ['упрямый как вол'][]             \n",
            "2\n",
            "18 17304 1  ['устраивать бенефис'][]             \n",
            "18 17757 1  ['Устроить бенефис']['произвести против кого-н. демонстративную выходку.']\n",
            "1\n",
            "19 17307 1  ['ухо режет']  []             \n",
            "19 19222 1  ['Уши трещат'] ['устать, утомиться, слушая кого- что-н.']\n",
            "19 19294 1  ['За ушами трещит']['говорится о человеке, к-рый быстро, жадно или с аппетитом ест.']\n",
            "19 19303 1  ['Ухо дерёт', 'Ухо режет', 'уши дерёт', 'уши режет']['о нескладной, неприятной на слух (или оскорбительной) речи, игре, пении кого-н.']\n",
            "19 19305 1  ['Уши трещат'] ['устать, утомиться, слушая кого- что-н.']\n",
            "2\n",
            "20 17311 1  ['уходить в свою скорлупу'][]             \n",
            "20 17543 0  ['выходить из своей скорлупы'][]             \n",
            "2\n",
            "21 17383 1  ['чего душа захочет'][]             \n",
            "21 17384 0  ['чего душенька захочет'][]             \n",
            "1\n",
            "22 17403 1  ['чёрт дёрнул меня'][]             \n",
            "22 19369 2  ['Чёрт дергает', 'Чёрт дёрнул', 'Чёрт несёт', 'Чёрт понёс']['выражение неудовольствия по поводу чьего-н. поступка, в знач.: зачем нужно делать, лучше бы не делал и т. п.']\n",
            "22 19370 1  ['Чёрт занёс', 'Чёрт принёс']['о нежеланном, нежданном госте, посетителе']\n",
            "3\n",
            "1 2\n",
            "23 17405 1  ['чёрт знает'] ['неизвестно, никто не знает']\n",
            "23 19371 1  ['Черт его знает', 'Черт ее знает']['отрицательный ответ на вопрос, не знаю']\n",
            "1\n",
            "24 17406 1  ['чёрт меня возьми'][]             \n",
            "24 19368 6  ['Чёрт возьми', 'Чёрт дери', 'Чёрт побери', 'Чёрт подери']['употребляется в знач. вводного слова или междометия, выражающего удивление, восхищение или же возмущение, негодование']\n",
            "24 19369 2  ['Чёрт дергает', 'Чёрт дёрнул', 'Чёрт несёт', 'Чёрт понёс']['выражение неудовольствия по поводу чьего-н. поступка, в знач.: зачем нужно делать, лучше бы не делал и т. п.']\n",
            "24 19370 1  ['Чёрт занёс', 'Чёрт принёс']['о нежеланном, нежданном госте, посетителе']\n",
            "2\n",
            "25 17417 0  ['читать в сердце'][]             \n",
            "25 19395 1  ['Читать в сердцах']['угадывать чьи-н. мысли, пожелания.']\n",
            "1\n",
            "26 17423 1  ['что ж']      []             \n",
            "26 19399 3  ['Что ж', 'Что же']['вводит фразу, реплику, выражающую уступку, согласие']\n",
            "1\n",
            "27 17424 1  ['что ж такого'][]             \n",
            "27 19175 4  ['Что такое']  ['употребляется как вопросительное и относительное\"что\" в знач.: что именно.']\n",
            "27 19176 1  ['Что такое!', 'Что же это такое!']['употребляется как восклицание при выражении недоумения, удивления.']\n",
            "2\n",
            "28 17440 1  ['что ты?']    ['выражает удивление, несогласие, протест']\n",
            "28 17451 1  ['чтоб тебя']  []             \n",
            "28 19402 3  ['Что ты!', 'Что вы!']['выражение удивления, испуга, возражения по поводу чьих-н. поступков или слов']\n",
            "2\n",
            "29 17445 1  ['что-то есть'][]             \n",
            "29 19201 1  ['то-то', 'Вот то-то', 'то-то и оно', 'Вот то-то и оно', 'то-то и есть', 'Вот то-то и есть']['употребляется для подчеркивающего указания на самое главное в предшествующей речи, реплике, в знач.: в том-то и дело, именно, причем главное, желательно подчеркнуть, излагается в придаточном предложении.']\n",
            "29 19234 1  ['Вот тебе', 'вот тебе и', 'вот тебе и на', 'вот тебе раз', 'вот тебе и раз', 'Вот те', 'вот те и', 'вот те и на', 'вот те раз', 'вот те и раз']['восклицание по поводу чего-н. неожиданного, не соответствующего ожиданиям, удивительного, о том, чего ожидали, но что не совершилось или превратилось не в то, чего ожидали.']\n",
            "2\n",
            "30 17451 1  ['чтоб тебя']  []             \n",
            "30 19402 3  ['Что ты!', 'Что вы!']['выражение удивления, испуга, возражения по поводу чьих-н. поступков или слов']\n",
            "2\n",
            "31 17476 1  ['шутка шуткой'][]             \n",
            "31 19434 1  ['Шутка шуткой', 'Шутки шутками']['употребляется с последующим противительным союзом в знач.: так или иначе, даже если и так.']\n",
            "1\n",
            "32 17480 1  ['это ещё вопрос'][]             \n",
            "32 17481 0  ['это ещё под вопросом'][]             \n",
            "1\n",
            "33 17492 2  ['я тебе дам!', 'я тебе', 'я те', 'я вам']['употребляется для выражения запрещения, угрозы.']\n",
            "33 19440 1  ['Я тебе дам!']['выражение угрозы.']\n",
            "33 19441 1  ['Я тебя', 'Я его', 'Я вас', 'Я их']['употребляется для выражения угрозы.']\n",
            "3\n",
            "1 2\n",
            "34 17520 0  ['в курсе дела'][]             \n",
            "34 17613 0  ['не в курсе дела'][]             \n",
            "2\n",
            "35 17523 0  ['в одно ухо входит, а в другое выходит'][]             \n",
            "35 19290 1  ['В одно ухо вошло, в другое вышло', 'В одно ухо входит, в другое выходит']['о невнимательном восприятии чего-н.']\n",
            "1\n",
            "36 17529 0  ['вводить в курс дела'][]             \n",
            "36 17539 0  ['входить в курс дела'][]             \n",
            "2\n",
            "37 17548 0  ['голову даю на отсечение!'][]             \n",
            "37 17993 1  ['Голову давать на отсечение']['ручаться своей жизнью.']\n",
            "1\n",
            "38 17589 0  ['к черту!']   []             \n",
            "38 19366 6  ['К черту', 'К чертям', 'Ко всем чертям']['(послать, бросить, пойти и т. п.) о полном уничтожении, распаде, расстройствепрахом, долой']\n",
            "1\n",
            "39 17637 0  ['по уши влюбиться'][]             \n",
            "39 19300 3  ['По уши', 'По уши влюбиться', 'По уши увязнуть']['очень сильно, всецело, целиком.']\n",
            "1\n",
            "40 17639 1  ['под ногами', 'под ногами (вертеться, идти и т. п.;)']['мешая кому-н. двигаться.']\n",
            "40 18526 1  ['Под ногами'] ['внизу, на земле.']\n",
            "2\n",
            "41 17640 0  ['поджав хвост'][]             \n",
            "41 19320 1  ['Поджать хвост', 'подвернуть хвост']['стать скромнее, осторожнее, сделаться менее самоуверенным в своих действиях.']\n",
            "1\n",
            "42 17641 0  ['поднимать перчатку'][]             \n",
            "42 18659 0  ['Поднять перчатку']['принять такой вызов (в обоих знач.).']\n",
            "1\n",
            "43 17776 1  ['Как блины печет']['быстро делать, приготовлять что-н. в большом количестве.']\n",
            "43 18668 1  ['Как блины печь']['быстро делать, приготовлять что-н. в большом количестве.']\n",
            "1\n",
            "44 17828 1  ['Вернее говоря, вводное слово']['точнее, лучше сказать.']\n",
            "44 17902 1  ['Вообще говоря, вводное слово']['в общем, собственно говоря.']\n",
            "2\n",
            "45 17850 1  ['Взад и вперед (с глаголами движения)']['с одной стороны в другую (на определенном пространстве).']\n",
            "45 17911 1  ['Ни взад, ни вперёд (с глаголами движения)']['ни с места, ни туда ни сюда.']\n",
            "2\n",
            "46 17877 1  ['Влезть в долги или залезть в долги']['наделать много долгов.']\n",
            "46 18079 1  ['Влезть или залезть в долги']['наделать много долгов.']\n",
            "1\n",
            "47 17926 1  ['На вы', 'На вы быть', 'На вы говорить', 'На вы обращаться']['о таких отношениях между людьми, когда говорят друг другу \"вы\", а не \"ты\".']\n",
            "47 19235 1  ['На ты', 'На ты быть', 'На ты говорить', 'На ты обращаться']['о таких отношениях между людьми, когда говорят друг другу \"ты\", а не \"вы\".']\n",
            "2\n",
            "48 17929 1  ['Кривая вывезла, вывезет']['помогло (поможет) какое-н. непредвиденное обстоятельство.']\n",
            "48 18358 1  ['Кривая вывезет, вывезла']['поможет (помогло) какое-н. непредвиденное обстоятельство.']\n",
            "1\n",
            "49 17964 2  ['в глазах чьих или']['в представлении, по мнению.']\n",
            "49 17966 1  ['На глазах чьих или']['так, что кто- н. видел, наблюдал, был свидетелем.']\n",
            "2\n",
            "\tength: 28\n"
          ]
        }
      ]
    },
    {
      "cell_type": "code",
      "source": [
        "new_vars.extend(next_variants(3550, 3600)[0])\n",
        "print('\\tlength:', len(new_vars))"
      ],
      "metadata": {
        "colab": {
          "base_uri": "https://localhost:8080/"
        },
        "id": "0X52DvD80Yyo",
        "outputId": "59c9640d-ee66-419b-aa8f-54a9fd79b5a3"
      },
      "execution_count": 45,
      "outputs": [
        {
          "output_type": "stream",
          "name": "stdout",
          "text": [
            "0  17979 2  ['Гляди в оба или смотреть в оба']['пристально, внимательно смотреть, быть осторожным.']\n",
            "0  18544 2  ['Глядеть или смотреть в оба']['пристально, внимательно смотреть, быть осторожным.']\n",
            "1\n",
            "1  18050 1  ['отдать дань природе', 'отдать долг природе']['поступить сообразно своим свойствам.']\n",
            "1  18078 2  ['отдать долг природе']['умереть (в этом знач. также с прибавкой: последний долг);']\n",
            "1  18836 1  ['Отдать дань природе']['поступить сообразно своим свойствам.']\n",
            "1\n",
            "2  18078 2  ['отдать долг природе']['умереть (в этом знач. также с прибавкой: последний долг);']\n",
            "2  18836 1  ['Отдать дань природе']['поступить сообразно своим свойствам.']\n",
            "2\n",
            "3  18087 1  ['От доски до доски (прочесть)']['от начала до конца.']\n",
            "3  18322 1  ['От корки до корки (прочесть)']['от начала до конца.']\n",
            "1\n",
            "4  18093 1  ['Шкуру драть']['бессовестно эксплуатировать, притеснять кого-н., вымогать -н.']\n",
            "4  19425 1  ['Шкуру драть', 'Шкуру содрать', 'Шкуры драть', 'Шкуры содрать']['бессовестно эксплуатировать, притеснять кого-н., вымогать -н.']\n",
            "1\n",
            "5  18166 0  ['Забросать камнями']['отнестись к кому-н. с общим неумолимым осуждением .']\n",
            "5  18278 1  ['Бросать камнем']['побивать каменьями].']\n",
            "2\n",
            "6  18194 1  ['Залезть в душу']['завладеть чьим- н. вниманием, втереться кому-н. в доверие;']\n",
            "6  18383 1  ['Лезть в душу', 'Влезть в душу', 'Залезть в душу']['завладеть чьим- н. вниманием, втереться кому-н. в доверие;']\n",
            "1\n",
            "7  18203 2  ['На запор']   ['о закрытии чего-н., о прекращении доступа.']\n",
            "7  18204 4  ['на запоре']  ['заперт.']    \n",
            "2\n",
            "8  18212 1  ['Заснуть вечным сном']['умереть.']   \n",
            "8  19282 1  ['Уснуть навеки', 'Уснуть вечным сном']['умереть.']   \n",
            "2\n",
            "9  18218 1  ['Зевать на потолок']['скучать, ничего не делая.']\n",
            "9  18787 1  ['Зевать на потолок']['скучать, ничего не делая.']\n",
            "1\n",
            "10 18221 1  ['Сколько лет, сколько зим (не видались , говорится при свидании)']['годов и времен года].']\n",
            "10 18387 1  ['Сколько лет, сколько зим (не видалисьразг. , говорится при свидании)']['годов и времен года].']\n",
            "1\n",
            "11 18237 1  ['Золотая середина (, чаще )']['о каком- н. образе действий, решении, чуждом крайностей, риска .']\n",
            "11 19019 1  ['Золотая середина (, чаще )']['о каком- н. образе действий, решении, чуждом крайностей, риска .']\n",
            "1\n",
            "12 18244 1  ['Зубы чесать']['говорить вздор, пустословить.']\n",
            "12 19378 1  ['Зубы чесать']['говорить вздор, пустословить']\n",
            "1\n",
            "13 18248 3  ['Играть рольили']['оказывать какое-н. воздействие, влиять каким-н. образом.']\n",
            "13 18921 5  ['Играть рольили']['оказывать какое-н. воздействие, влиять каким-н. образом.']\n",
            "1\n",
            "14 18253 1  ['Из-под носу']['на самых глазах, с близкого, видного места.']\n",
            "14 18539 1  ['Из-под носу']['с самого близкого расстояния от кого- л. (брать, хватать, тащить и т. п.).']\n",
            "1\n",
            "15 18280 1  ['Камень за пазухой (держать)или против кого']['о затаенной злобе -н., о скрытном намерении мстить, вредить кому-н.']\n",
            "15 18619 1  ['Камень за пазухой (держать)или против кого']['о затаенной злобе -н., о скрытном намерении мстить, вредить кому-н.']\n",
            "1\n",
            "16 18301 1  ['Плохо не клади']['не составляй неспрятанным, не вводи в искушение украсть.']\n",
            "16 18687 1  ['Плохо не клади']['не составляй неспрятанным, не вводи в искушение украсть.']\n",
            "1\n",
            "17 18307 1  ['Мороз по коже (подирает, дерет, пробегает)']['об ощущении холода.']\n",
            "17 18446 1  ['Мороз по коже (подирает, дерет, пробегает)']['об ощущении холода.']\n",
            "1\n",
            "18 18311 0  ['Колокола льют'][', означающая, что данный слух неверен, является сплетней, ложью .']\n",
            "18 18396 0  ['Колокола льют'][', означающая, что данный слух неверен, является сплетней, ложью во время отливки нового колокола, чтобы он громче звучал].']\n",
            "1\n",
            "19 18320 1  ['Небо коптить ( пренебр.)']['жить бесцельно, бессмысленно проводить время, бездельничать.']\n",
            "19 18489 1  ['Небо коптить ( пренебр.)']['жить бесцельно, бессмысленно проводить время, бездельничать.']\n",
            "1\n",
            "20 18343 1  ['Кошки скребут на сердце']['о тоскливом состоянии, беспокойстве.']\n",
            "20 19036 1  ['Кошки скребут на сердце']['о тоскливом состоянии, беспокойстве.']\n",
            "1\n",
            "21 18354 2  ['Крепко-накрепко']['очень плотно, очень крепко .']\n",
            "21 18470 2  ['Крепко-накрепко']['очень плотно, очень крепко .']\n",
            "1\n",
            "22 18364 1  ['Тьма кромешная']['полная, беспросветная темнота.']\n",
            "22 19240 1  ['Тьма кромешная']['полная, беспросветная темнота.']\n",
            "1\n",
            "23 18369 1  ['Как кур во щи (попал)']['попал в неожиданную беду, неприятность.']\n",
            "23 18370 1  ['Как кур во щи (попал)']['попал в неожиданную беду, неприятность.']\n",
            "1\n",
            "24 18386 1  ['Расшибиться в лепёшку']['о крайнем усердии, готовности услужить кому-н.']\n",
            "24 18905 1  ['Расшибиться в лепешку']['о крайнем усердии, готовности услужить кому-н.']\n",
            "1\n",
            "25 18392 1  ['По линии наименьшего сопротивления']['в таком направлении, где всего менее препятствий.']\n",
            "25 19082 1  ['По линии наименьшего сопротивления']['в таком направлении, где всего менее препятствий.']\n",
            "1\n",
            "26 18407 1  ['Мало ли']    ['разве мало.']\n",
            "26 18408 1  ['Мало ли']    ['обозначает: разные, многие, разное, многое, в разных, во многих местах или в разное время, часто.']\n",
            "1\n",
            "27 18418 0  ['Матушки (мои)!']['восклицание изумления или испугато же, что батюшки (мои).']\n",
            "27 18983 1  ['Сватушки (мои)!']['восклицание изумления или испугато же что батюшки (мои!).']\n",
            "1\n",
            "28 18469 1  ['По наклонной плоскости (катиться)']['быстро и неотвратимо опускаться в нравственном отношении.']\n",
            "28 18684 1  ['По наклонной плоскости (пойти, катиться)']['о неуклонном ухудшении положения (политического, экономического и т. п.), о стремительном, быстром нравственном падении, разложении.']\n",
            "1\n",
            "29 18480 1  ['Наступить на ногу']['обидеть кого-н., напортить, повредить -н. в чем-н. .']\n",
            "29 18530 1  ['Наступить на ногу']['обидеть кого-н., напортить, повредить кому-н. в чем-н. .']\n",
            "1\n",
            "30 18486 1  ['С неба свалиться (упасть и т. п.)']['о чьем-н. неожиданном появлении, а также о том, кто не может правильно осмыслить совершающегося вокруг него.']\n",
            "30 18981 1  ['С неба свалиться (упасть и т. п.)']['о чьем- н. неожиданном появлении, а также о том, кто не может правильно осмыслить совершающегося вокруг него.']\n",
            "1\n",
            "31 18501 1  ['Несолоно хлебавши (уйти )']['не получив ожидаемого, обманувшись в ожиданиях.']\n",
            "31 19327 1  ['Несолоно хлебавши', 'Несолоно хлебавши уйти']['не получив ожидаемого, обманувшись в ожиданиях.']\n",
            "1\n",
            "32 18504 1  ['Нет того, чтобы']['об отсутствии привычки, обыкновения что-н. делать, об отсутствии догадливости, понимания того, что нужно сделать.']\n",
            "32 19199 4  ['Не то, чтобы', 'Не то, что']['употребляется для уточнения при отрицании возможного предположения или при поправке к сказанному и т.п.']\n",
            "2\n",
            "33 18512 1  ['Никто иной, никто другой (кроме)']['то же, что никто, никто еще (не смешивать с не кто иной, как...!).']\n",
            "33 18518 1  ['Ничто иное или ничто другое (кроме)']['ни один (предмет, дело, явление) (не смешивать с не что иное, как...).']\n",
            "2\n",
            "34 18529 1  ['Ноги унести']['спастись бегством.']\n",
            "34 19273 1  ['Ноги унести']['спастись бегством.']\n",
            "1\n",
            "35 18560 1  ['Стечение обстоятельств']['совокупность всех условий, сложившихся к какому-н. определенному моменту.']\n",
            "35 19110 1  ['Стечение обстоятельств']['совокупность всех условий, сложившихся к какому-н. определенному моменту.']\n",
            "1\n",
            "36 18568 0  ['Повернуть оглобли (и )']['уйти обратно, получив отказ, не добившись цели.']\n",
            "36 18695 1  ['Повернуть оглобли (и )']['уйти обратно, получив отказ, не добившись цели.']\n",
            "1\n",
            "37 18579 1  ['Одним духом']['сразу, в один приём.']\n",
            "37 19299 1  ['Одним ухом слышать', 'Одним ухом']['отрывочно, не полностью, отчасти лишь слышать о чем-н.']\n",
            "2\n",
            "38 18612 1  ['Отложить попечение']['перестать думать, заботиться -н.']\n",
            "38 18758 1  ['Отложить попечение']['перестать думать, заботиться -н.']\n",
            "1\n",
            "39 18644 1  ['Первый шаг (сделать)']['взять на себя почин в чем-н., выступить первым.']\n",
            "39 19406 1  ['Первый шаг', 'Первый шаг сделать']['взять на себя почин в чем-н., выступить первым']\n",
            "1\n",
            "40 18698 1  ['Повреждённый в уме']['ненормальный, помешанный, сумасшедший.']\n",
            "40 19267 1  ['Поврежденный в уме']['ненормальный, помешанный, сумасшедший.']\n",
            "1\n",
            "41 18762 1  ['До тех пор'] ['до того времени.']\n",
            "41 18763 1  ['С тех пор']  ['с того времени, от того момента.']\n",
            "41 18764 1  ['С той поры'] ['то же, что с тех пор.']\n",
            "41 18765 1  ['С этих пор'] ['с этого времени, с этого момента.']\n",
            "2\n",
            "42 18763 1  ['С тех пор']  ['с того времени, от того момента.']\n",
            "42 18764 1  ['С той поры'] ['то же, что с тех пор.']\n",
            "42 18765 1  ['С этих пор'] ['с этого времени, с этого момента.']\n",
            "2\n",
            "43 18764 1  ['С той поры'] ['то же, что с тех пор.']\n",
            "43 18765 1  ['С этих пор'] ['с этого времени, с этого момента.']\n",
            "2\n",
            "44 18771 1  ['Ни синь пороха (нет, не останется)']['ничего.']    \n",
            "44 19023 1  ['Ни синь пороха (нет, не останетсяразг.)']['ничего.']    \n",
            "1\n",
            "45 18780 1  ['За последнее время или за последние дни']['за время, непосредственно предшествующее настоящему.']\n",
            "45 18781 1  ['В (самое) последнее время или в последние дни']['теперь, в настоящее время, или только что перед']\n",
            "2\n",
            "46 18785 1  ['Цыганский пот (пробирает, )']['озноб, ощущение холода.']\n",
            "46 19349 1  ['Цыганский пот', 'Цыганский пот пробирает']['озноб, ощущение холода.']\n",
            "1\n",
            "47 18818 2  ['Прижать к стене', 'Прижать к углу']['притеснить, оказать давление на кого-н., обидеть']\n",
            "47 19109 2  ['Прижать к стене', 'припереть к стене']['притеснить, оказать давление на кого-н., обидеть']\n",
            "47 19244 1  ['Загнать в угол', 'прижать к углу']['притеснить, оказать давление на кого-н., обидеть.']\n",
            "1\n",
            "48 18837 1  ['Приступу нет']['так дорого, что не купить.']\n",
            "48 18838 1  ['Приступу нет']['невозможно обратиться, приступиться к кому-н.']\n",
            "1\n",
            "49 18851 2  ['Пролить (проливать) кровь']['(свою) — погибнуть, пострадать, защищая кого- что-н.']\n",
            "49 18852 1  ['Пролить (проливать) свет']['разъяснить что-н., сделать доступным для понимания, дать возможность понять, познать что-н.']\n",
            "49 18853 1  ['Пролить (проливать) слезу']['заплакать, поплакать.']\n",
            "2\n",
            "\tlength: 66\n"
          ]
        }
      ]
    },
    {
      "cell_type": "code",
      "source": [
        "write_vars(new_vars)"
      ],
      "metadata": {
        "id": "QhDvUVGk0Yyp"
      },
      "execution_count": 46,
      "outputs": []
    },
    {
      "cell_type": "code",
      "source": [
        "new_vars, to_split = next_variants(3600, 3700)\n",
        "print('\\tength:', len(new_vars))"
      ],
      "metadata": {
        "colab": {
          "base_uri": "https://localhost:8080/"
        },
        "id": "NnrV3GbDIKe7",
        "outputId": "81cfaa83-a2ad-467e-c185-78c51fd69e9a"
      },
      "execution_count": 47,
      "outputs": [
        {
          "output_type": "stream",
          "name": "stdout",
          "text": [
            "0  18852 1  ['Пролить (проливать) свет']['разъяснить что-н., сделать доступным для понимания, дать возможность понять, познать что-н.']\n",
            "0  18853 1  ['Пролить (проливать) слезу']['заплакать, поплакать.']\n",
            "2\n",
            "1  18862 1  ['Как прошлогодний снег']['говорится о чем-н. ненужном, потерявшем уже всякую ценность, значение.']\n",
            "1  19072 2  ['Прошлогодний снег']['что- то вовсе не нужное, излишнее.']\n",
            "2\n",
            "2  18891 1  ['Разорвать на части']['обращаясь наперебой к кому-н. с просьбами, поручениями и т. п., не дать покою, превысить чьи- н. силы, возможности.']\n",
            "2  19357 1  ['Рвут на части', 'разрывать на части']['большой спрос на кого-н., до кого-н. всем дело.']\n",
            "2\n",
            "3  18957 1  ['Чешутся руки']['хочется подраться;']\n",
            "3  19380 1  ['Чешутся руки']['хочется подраться']\n",
            "1\n",
            "4  18978 1  ['Чаи да сахары']['чаепитие.']  \n",
            "4  19352 1  ['Чай да сахар', 'чай и сахар!']['приветствие, доброе пожелание тем, кого застали за чаепитием.']\n",
            "2\n",
            "5  18990 1  ['На свет']    ['если посмотреть сквозь что-н. против света.']\n",
            "5  19147 7  ['На счёт']    ['чьими-н. средствами, на чьи-н. средства, деньги.']\n",
            "2\n",
            "6  19003 3  ['По-своему']  ['по своему желанию, усмотрению.']\n",
            "6  19182 2  ['По-твоему']  ['согласно с твоим мнением, волей, языком.']\n",
            "2\n",
            "7  19124 1  ['На страже', 'На страже стоять', 'На страже быть']['охраняя и защищая.']\n",
            "7  19129 1  ['На стрёме', 'На стрёме быть', 'На стрёме стоять', 'на стрёму', 'на стрёму ставить', 'на стрёму идти']['находиться на страже, охраняя кого- что-н.']\n",
            "2\n",
            "8  19148 1  ['На счет говорить', 'На счет думать']['отзываться, говорить каким-н. образом по поводу кого- чего-н., о ком- чем-н.']\n",
            "8  19235 1  ['На ты', 'На ты быть', 'На ты говорить', 'На ты обращаться']['о таких отношениях между людьми, когда говорят друг другу \"ты\", а не \"вы\".']\n",
            "2\n",
            "9  19164 1  ['Как бы не так!', 'как не так!']['выражает несогласие, возражение, отказ.']\n",
            "9  19165 1  ['Как же так?', 'как не так!']['выражения недоумения.']\n",
            "2\n",
            "10 19174 1  ['Кто такой?', 'кто такие?']['кто именно?']\n",
            "10 19175 4  ['Что такое']  ['употребляется как вопросительное и относительное\"что\" в знач.: что именно.']\n",
            "10 19176 1  ['Что такое!', 'Что же это такое!']['употребляется как восклицание при выражении недоумения, удивления.']\n",
            "2\n",
            "11 19175 4  ['Что такое']  ['употребляется как вопросительное и относительное\"что\" в знач.: что именно.']\n",
            "11 19176 1  ['Что такое!', 'Что же это такое!']['употребляется как восклицание при выражении недоумения, удивления.']\n",
            "2\n",
            "12 19201 1  ['то-то', 'Вот то-то', 'то-то и оно', 'Вот то-то и оно', 'то-то и есть', 'Вот то-то и есть']['употребляется для подчеркивающего указания на самое главное в предшествующей речи, реплике, в знач.: в том-то и дело, именно, причем главное, желательно подчеркнуть, излагается в придаточном предложении.']\n",
            "12 19234 1  ['Вот тебе', 'вот тебе и', 'вот тебе и на', 'вот тебе раз', 'вот тебе и раз', 'Вот те', 'вот те и', 'вот те и на', 'вот те раз', 'вот те и раз']['восклицание по поводу чего-н. неожиданного, не соответствующего ожиданиям, удивительного, о том, чего ожидали, но что не совершилось или превратилось не в то, чего ожидали.']\n",
            "2\n",
            "13 19213 1  ['Ставить точку', 'поставить точку']['кончать (кончить) какую-н. работу, кончать (покончить) с чем-н.']\n",
            "13 19214 1  ['Ставить точки на и', 'поставить точки на и', 'Ставить точки над i', 'поставить точки над i']['уточнять (уточнить) что-н. без надобности, объяснять (объяснить) то, что и так ясно.']\n",
            "2\n",
            "14 19222 1  ['Уши трещат'] ['устать, утомиться, слушая кого- что-н.']\n",
            "14 19294 1  ['За ушами трещит']['говорится о человеке, к-рый быстро, жадно или с аппетитом ест.']\n",
            "14 19303 1  ['Ухо дерёт', 'Ухо режет', 'уши дерёт', 'уши режет']['о нескладной, неприятной на слух (или оскорбительной) речи, игре, пении кого-н.']\n",
            "14 19305 1  ['Уши трещат'] ['устать, утомиться, слушая кого- что-н.']\n",
            "2\n",
            "15 19236 1  ['Тыкать носом', 'ткнуть носом']['указывать кому-н. что-н., обращать чье- н. внимание на что-н.']\n",
            "15 19237 1  ['Тыкать свой нос', 'Тыкать нос']['вмешиваться (не в свое дело).']\n",
            "2\n",
            "16 19238 2  ['В тысячу раз']['гораздо.']   \n",
            "16 19239 3  ['Тысячу раз'] ['неоднократно, много раз (о чем-н. повторявшемся).']\n",
            "2\n",
            "17 19246 1  ['Поймать на уду', 'поддеть на уду']['обмануть, провести, перехитрить.']\n",
            "17 19251 1  ['Поймать на удочку', 'поддеть на удочку']['обмануть, провести, перехитрить.']\n",
            "2\n",
            "18 19268 4  ['Сойти с ума', 'спятить с ума', 'свихнуть с ума', 'своротить с ума', 'спрыгнуть с ума']['стать сумасшедшим, помешанным, лишиться разума, рассудка.']\n",
            "18 19270 1  ['Сходить с ума']['очень увлекаться кем- чем-н., быть в восторге, восхищении откого- чего-н.']\n",
            "2\n",
            "19 19294 1  ['За ушами трещит']['говорится о человеке, к-рый быстро, жадно или с аппетитом ест.']\n",
            "19 19305 1  ['Уши трещат'] ['устать, утомиться, слушая кого- что-н.']\n",
            "2\n",
            "20 19303 1  ['Ухо дерёт', 'Ухо режет', 'уши дерёт', 'уши режет']['о нескладной, неприятной на слух (или оскорбительной) речи, игре, пении кого-н.']\n",
            "20 19305 1  ['Уши трещат'] ['устать, утомиться, слушая кого- что-н.']\n",
            "2\n",
            "21 19338 2  ['Кто хочешь', 'кого хочешь', 'кому хочешь', 'что хочешь', 'чего хочешь', 'чему хочешь', 'Кто хотите', 'кого хотите', 'кому хотите', 'что хотите', 'чего хотите', 'чему хотите']['кто или что угодно, всякий или всякое.']\n",
            "21 19340 1  ['Вот что ты хочешь', 'Что ты хочешь', 'Что вы хотите', 'Вот что вы хотите']['ничего не поделаешь, как ни проси, как ни необходимо.']\n",
            "21 19403 2  ['Что хочешь'] ['что угодно, всякий иди всякое']\n",
            "2\n",
            "22 19340 1  ['Вот что ты хочешь', 'Что ты хочешь', 'Что вы хотите', 'Вот что вы хотите']['ничего не поделаешь, как ни проси, как ни необходимо.']\n",
            "22 19403 2  ['Что хочешь'] ['что угодно, всякий иди всякое']\n",
            "2\n",
            "23 19368 6  ['Чёрт возьми', 'Чёрт дери', 'Чёрт побери', 'Чёрт подери']['употребляется в знач. вводного слова или междометия, выражающего удивление, восхищение или же возмущение, негодование']\n",
            "23 19369 2  ['Чёрт дергает', 'Чёрт дёрнул', 'Чёрт несёт', 'Чёрт понёс']['выражение неудовольствия по поводу чьего-н. поступка, в знач.: зачем нужно делать, лучше бы не делал и т. п.']\n",
            "23 19370 1  ['Чёрт занёс', 'Чёрт принёс']['о нежеланном, нежданном госте, посетителе']\n",
            "2\n",
            "24 19369 2  ['Чёрт дергает', 'Чёрт дёрнул', 'Чёрт несёт', 'Чёрт понёс']['выражение неудовольствия по поводу чьего-н. поступка, в знач.: зачем нужно делать, лучше бы не делал и т. п.']\n",
            "24 19370 1  ['Чёрт занёс', 'Чёрт принёс']['о нежеланном, нежданном госте, посетителе']\n",
            "2\n",
            "25 19381 1  ['В честь']    ['в знак почтения, уважения к кому- чему- н.']\n",
            "25 19385 1  ['К чести', 'К чести служит']['является признаком чьего-н. достоинства, положительных свойств']\n",
            "2\n",
            "26 19416 1  ['В три шеи гнать', 'В три шеи выгонять']['выгонять, турить, выталкивать и т. п., употребляется для большей выразительности.']\n",
            "26 19417 2  ['В шею гнать', 'В шею выгонять', 'В шею турить', 'В шею выталкивать']['гнать грубо, с применением физической силы.']\n",
            "2\n",
            "27 19431 1  ['Шум в ушах'] ['о слуховом раздражении, создающем впечатление звучания.']\n",
            "27 19432 1  ['Шумит в ушах']['о слуховом раздражении, создающем впечатление звучания.']\n",
            "1\n",
            "\tength: 2\n"
          ]
        }
      ]
    },
    {
      "cell_type": "code",
      "source": [
        "write_vars(new_vars)"
      ],
      "metadata": {
        "id": "jS0o3RX4ILvm"
      },
      "execution_count": 48,
      "outputs": []
    },
    {
      "cell_type": "markdown",
      "source": [
        "# Clean and separate variants"
      ],
      "metadata": {
        "id": "OwIjf7W9vYvq"
      }
    },
    {
      "cell_type": "code",
      "source": [
        "with open('lemmas_variants_clean.txt', 'r') as f:\n",
        "  clean_variants = [eval(line.replace('\\n', '')) for line in f]"
      ],
      "metadata": {
        "id": "U1267G5c-FmS"
      },
      "execution_count": 49,
      "outputs": []
    },
    {
      "cell_type": "code",
      "source": [
        "len(clean_variants)"
      ],
      "metadata": {
        "colab": {
          "base_uri": "https://localhost:8080/"
        },
        "outputId": "51ed6644-b9f3-4399-9bae-190b4c0a8286",
        "id": "z2kw4Ioy-FmT"
      },
      "execution_count": 50,
      "outputs": [
        {
          "output_type": "execute_result",
          "data": {
            "text/plain": [
              "1706"
            ]
          },
          "metadata": {},
          "execution_count": 50
        }
      ]
    },
    {
      "cell_type": "code",
      "source": [
        "delete_inds = []\n",
        "\n",
        "for i, vars in enumerate(clean_variants):\n",
        "  for n, vars2 in enumerate(clean_variants[i+1:]):\n",
        "    if any([var in vars2 for var in vars]):\n",
        "      #print(vars, '\\n', vars2, '\\n\\n')\n",
        "      vars.extend(vars2)\n",
        "      clean_variants[i] = sorted(list(set(vars)))\n",
        "      delete_inds.append((i, i+n+1))"
      ],
      "metadata": {
        "id": "OHZmyJHqAEC2"
      },
      "execution_count": 51,
      "outputs": []
    },
    {
      "cell_type": "code",
      "source": [
        "len(delete_inds)"
      ],
      "metadata": {
        "colab": {
          "base_uri": "https://localhost:8080/"
        },
        "id": "pC7Q2yW1AdV-",
        "outputId": "a833da58-db68-467d-8df0-0422f6ab14af"
      },
      "execution_count": 52,
      "outputs": [
        {
          "output_type": "execute_result",
          "data": {
            "text/plain": [
              "500"
            ]
          },
          "metadata": {},
          "execution_count": 52
        }
      ]
    },
    {
      "cell_type": "code",
      "source": [
        "for ind in delete_inds:\n",
        "  print([idioms[i]['phrase'] for i in clean_variants[ind[0]]])\n",
        "  print([idioms[i]['phrase'] for i in clean_variants[ind[-1]]], '\\n')"
      ],
      "metadata": {
        "id": "sA0CvVe2AjAK"
      },
      "execution_count": null,
      "outputs": []
    },
    {
      "cell_type": "code",
      "source": [
        "delete_inds = [ind[-1] for ind in delete_inds]"
      ],
      "metadata": {
        "id": "uShrJVHqECKw"
      },
      "execution_count": 54,
      "outputs": []
    },
    {
      "cell_type": "code",
      "source": [
        "sorted(delete_inds, reverse=True)"
      ],
      "metadata": {
        "id": "FRHeoU0_D27L"
      },
      "execution_count": null,
      "outputs": []
    },
    {
      "cell_type": "code",
      "source": [
        "for ind in sorted(delete_inds, reverse=True):\n",
        "  del clean_variants[ind]"
      ],
      "metadata": {
        "id": "4__yjwDcC5Pm"
      },
      "execution_count": 56,
      "outputs": []
    },
    {
      "cell_type": "code",
      "source": [
        "len(clean_variants)"
      ],
      "metadata": {
        "colab": {
          "base_uri": "https://localhost:8080/"
        },
        "id": "eLLCxGqPEPHb",
        "outputId": "75f3c695-6197-42dc-ff9d-39e8e66421eb"
      },
      "execution_count": 57,
      "outputs": [
        {
          "output_type": "execute_result",
          "data": {
            "text/plain": [
              "1206"
            ]
          },
          "metadata": {},
          "execution_count": 57
        }
      ]
    },
    {
      "cell_type": "code",
      "source": [
        "index_sep = round(len(clean_variants)/2)"
      ],
      "metadata": {
        "id": "Pj_ax4otHafq"
      },
      "execution_count": 58,
      "outputs": []
    },
    {
      "cell_type": "code",
      "source": [
        "len(clean_variants[:index_sep]) == len(clean_variants[index_sep:])"
      ],
      "metadata": {
        "colab": {
          "base_uri": "https://localhost:8080/"
        },
        "id": "BF0sMjsLHylU",
        "outputId": "49eb118b-7d0a-4550-c7b2-eeda04f74cad"
      },
      "execution_count": 59,
      "outputs": [
        {
          "output_type": "execute_result",
          "data": {
            "text/plain": [
              "True"
            ]
          },
          "metadata": {},
          "execution_count": 59
        }
      ]
    },
    {
      "cell_type": "code",
      "source": [
        "for ind in clean_variants:\n",
        "  print(*[idioms[i]['phrase'] for i in ind], '\\n', sep='\\n')"
      ],
      "metadata": {
        "id": "RDK2V-zjERA6"
      },
      "execution_count": null,
      "outputs": []
    },
    {
      "cell_type": "code",
      "source": [
        "with open('kate_variants_lem.txt', 'w') as f:\n",
        "  for var in clean_variants[:index_sep]:\n",
        "    f.write(str(var) + '\\n')"
      ],
      "metadata": {
        "id": "A9uVJE5HEZRC"
      },
      "execution_count": 61,
      "outputs": []
    },
    {
      "cell_type": "code",
      "source": [
        "with open('julia_variants_lem.txt', 'w') as f:\n",
        "  for var in clean_variants[index_sep:]:\n",
        "    f.write(str(var) + '\\n')"
      ],
      "metadata": {
        "id": "iNQ8DJupId-z"
      },
      "execution_count": 62,
      "outputs": []
    },
    {
      "cell_type": "code",
      "source": [
        ""
      ],
      "metadata": {
        "id": "77d7pB03If-g"
      },
      "execution_count": null,
      "outputs": []
    }
  ]
}