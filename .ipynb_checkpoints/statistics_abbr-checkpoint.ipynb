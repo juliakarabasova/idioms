{
 "cells": [
  {
   "cell_type": "code",
   "execution_count": 250,
   "metadata": {},
   "outputs": [],
   "source": [
    "import pandas as pd\n",
    "import json\n",
    "\n",
    "%matplotlib inline\n",
    "import matplotlib.pyplot as plt\n",
    "import numpy as np\n",
    "\n",
    "large = 22; med = 14; small = 12\n",
    "params = {'axes.titlesize': large,\n",
    "          'legend.fontsize': med,\n",
    "          'figure.figsize': (12, 7),\n",
    "          'axes.labelsize': med,\n",
    "          'axes.titlesize': med,\n",
    "          'xtick.labelsize': med,\n",
    "          'ytick.labelsize': med,\n",
    "          'figure.titlesize': large}\n",
    "plt.rcParams.update(params)"
   ]
  },
  {
   "cell_type": "code",
   "execution_count": 98,
   "metadata": {},
   "outputs": [
    {
     "name": "stdout",
     "output_type": "stream",
     "text": [
      "86\n"
     ]
    }
   ],
   "source": [
    "with open('all_idioms.json', 'r', encoding='UTF-8') as f:\n",
    "    data = tuple(json.load(f))\n",
    "\n",
    "abbrs = {'фам.', 'восторж.', 'погов.', 'греч. миф.', 'одобр.', 'библ.', 'публиц.', 'фр.', 'воен.', 'лат.', 'греч.', 'мор.', 'неодобрит.', 'неодобр.', 'перен.', 'жарг.', 'юр.', 'охот.', 'лит.', 'нар.-поэт.', 'груб.-прост.', 'грубо-прост.', 'шутл.', 'филос.', 'местоим.', 'театр.', 'ит.', 'детск.', 'протореч.', 'церк.', 'уст.', 'эт.', 'и т.п.', 'спец.', 'ист.', 'посл.', 'презр.', 'презрит.', 'устар.', 'англ.', 'груб.', 'эвфем.', 'простореч.', 'предосуд.', 'доревол.', 'канц.', 'церк.-слав.', 'еванг.', 'прост.', 'нар.- поэт.', 'экспрес.', 'миф.', 'нов.', 'нареч.', 'шахм.', 'высок.', 'нем.', 'поэт.', 'фамильярн.', 'рел.', 'араб.', 'книн.', 'этногр.', 'инф.', 'физ.', 'пориц.', 'торж.', 'шутл.-фамильярн.', 'ритор.', 'разг.', 'вульг.', 'Лит.', 'ирон.', 'бран.', 'др.-греч.', 'книжн.', 'офиц.', 'эвф.', 'шутл.-ирон.', 'пренебр.', 'народно-поэт.', 'истор.', 'обл.', 'фольк.', 'спорт.', 'уничиж.'}"
   ]
  },
  {
   "cell_type": "code",
   "execution_count": 103,
   "metadata": {},
   "outputs": [],
   "source": [
    "abbrs = sorted(list(abbrs))"
   ]
  },
  {
   "cell_type": "code",
   "execution_count": 126,
   "metadata": {},
   "outputs": [],
   "source": [
    "%%script false\n",
    "df = pd.DataFrame(columns=['phrase', 'meaning', 'dictionary'] + sorted(list(abbrs)))\n",
    "for phrase_dict in data:\n",
    "    semantics_set = phrase_dict['semantics']\n",
    "    for meaning_dict in semantics_set:\n",
    "        if 'abbr' in list(meaning_dict.keys()) and 'dictionary' in list(meaning_dict.keys()):\n",
    "            df.loc[len(df)] = [phrase_dict['phrase'],\n",
    "                               meaning_dict['meaning'],\n",
    "                               meaning_dict['dictionary']] + [True if abbr in meaning_dict['abbr'] else False for abbr in abbrs]"
   ]
  },
  {
   "cell_type": "code",
   "execution_count": 341,
   "metadata": {},
   "outputs": [
    {
     "data": {
      "text/html": [
       "<div>\n",
       "<style scoped>\n",
       "    .dataframe tbody tr th:only-of-type {\n",
       "        vertical-align: middle;\n",
       "    }\n",
       "\n",
       "    .dataframe tbody tr th {\n",
       "        vertical-align: top;\n",
       "    }\n",
       "\n",
       "    .dataframe thead th {\n",
       "        text-align: right;\n",
       "    }\n",
       "</style>\n",
       "<table border=\"1\" class=\"dataframe\">\n",
       "  <thead>\n",
       "    <tr style=\"text-align: right;\">\n",
       "      <th></th>\n",
       "      <th>phrase</th>\n",
       "      <th>meaning</th>\n",
       "      <th>dictionary</th>\n",
       "      <th>Лит.</th>\n",
       "      <th>англ.</th>\n",
       "      <th>араб.</th>\n",
       "      <th>библ.</th>\n",
       "      <th>бран.</th>\n",
       "      <th>воен.</th>\n",
       "      <th>восторж.</th>\n",
       "      <th>...</th>\n",
       "      <th>шутл.-ирон.</th>\n",
       "      <th>шутл.-фамильярн.</th>\n",
       "      <th>эвф.</th>\n",
       "      <th>эвфем.</th>\n",
       "      <th>экспрес.</th>\n",
       "      <th>эт.</th>\n",
       "      <th>этногр.</th>\n",
       "      <th>юр.</th>\n",
       "      <th>label_counts</th>\n",
       "      <th>label_combinations</th>\n",
       "    </tr>\n",
       "  </thead>\n",
       "  <tbody>\n",
       "    <tr>\n",
       "      <th>0</th>\n",
       "      <td>['а вот на тебе!', 'и вот на тебе!']</td>\n",
       "      <td>Выражение удивления, разочарования и т. п.</td>\n",
       "      <td>Fedorov</td>\n",
       "      <td>False</td>\n",
       "      <td>False</td>\n",
       "      <td>False</td>\n",
       "      <td>False</td>\n",
       "      <td>False</td>\n",
       "      <td>False</td>\n",
       "      <td>False</td>\n",
       "      <td>...</td>\n",
       "      <td>False</td>\n",
       "      <td>False</td>\n",
       "      <td>False</td>\n",
       "      <td>False</td>\n",
       "      <td>True</td>\n",
       "      <td>False</td>\n",
       "      <td>False</td>\n",
       "      <td>False</td>\n",
       "      <td>2</td>\n",
       "      <td>(разг., экспрес.)</td>\n",
       "    </tr>\n",
       "    <tr>\n",
       "      <th>1</th>\n",
       "      <td>['а был ли мальчик?']</td>\n",
       "      <td>Было ли что-либо в действительности, на самом деле? Выражение сомнения в подлинности чего-либо.</td>\n",
       "      <td>Fedorov</td>\n",
       "      <td>False</td>\n",
       "      <td>False</td>\n",
       "      <td>False</td>\n",
       "      <td>False</td>\n",
       "      <td>False</td>\n",
       "      <td>False</td>\n",
       "      <td>False</td>\n",
       "      <td>...</td>\n",
       "      <td>False</td>\n",
       "      <td>False</td>\n",
       "      <td>False</td>\n",
       "      <td>False</td>\n",
       "      <td>True</td>\n",
       "      <td>False</td>\n",
       "      <td>False</td>\n",
       "      <td>False</td>\n",
       "      <td>2</td>\n",
       "      <td>(разг., экспрес.)</td>\n",
       "    </tr>\n",
       "    <tr>\n",
       "      <th>2</th>\n",
       "      <td>['а вот']</td>\n",
       "      <td>Напротив, наоборот.</td>\n",
       "      <td>Fedorov</td>\n",
       "      <td>False</td>\n",
       "      <td>False</td>\n",
       "      <td>False</td>\n",
       "      <td>False</td>\n",
       "      <td>False</td>\n",
       "      <td>False</td>\n",
       "      <td>False</td>\n",
       "      <td>...</td>\n",
       "      <td>False</td>\n",
       "      <td>False</td>\n",
       "      <td>False</td>\n",
       "      <td>False</td>\n",
       "      <td>False</td>\n",
       "      <td>False</td>\n",
       "      <td>False</td>\n",
       "      <td>False</td>\n",
       "      <td>1</td>\n",
       "      <td>(разг.,)</td>\n",
       "    </tr>\n",
       "    <tr>\n",
       "      <th>3</th>\n",
       "      <td>['а вот и нет', 'вот и нет']</td>\n",
       "      <td>Не выходит, нельзя сделать то, что намечается, предполагается.</td>\n",
       "      <td>Fedorov</td>\n",
       "      <td>False</td>\n",
       "      <td>False</td>\n",
       "      <td>False</td>\n",
       "      <td>False</td>\n",
       "      <td>False</td>\n",
       "      <td>False</td>\n",
       "      <td>False</td>\n",
       "      <td>...</td>\n",
       "      <td>False</td>\n",
       "      <td>False</td>\n",
       "      <td>False</td>\n",
       "      <td>False</td>\n",
       "      <td>True</td>\n",
       "      <td>False</td>\n",
       "      <td>False</td>\n",
       "      <td>False</td>\n",
       "      <td>2</td>\n",
       "      <td>(разг., экспрес.)</td>\n",
       "    </tr>\n",
       "    <tr>\n",
       "      <th>4</th>\n",
       "      <td>['а ларчик просто открывался (открывается)']</td>\n",
       "      <td>Дело ясно, не требует долгих размышлений.</td>\n",
       "      <td>Fedorov</td>\n",
       "      <td>False</td>\n",
       "      <td>False</td>\n",
       "      <td>False</td>\n",
       "      <td>False</td>\n",
       "      <td>False</td>\n",
       "      <td>False</td>\n",
       "      <td>False</td>\n",
       "      <td>...</td>\n",
       "      <td>False</td>\n",
       "      <td>False</td>\n",
       "      <td>False</td>\n",
       "      <td>False</td>\n",
       "      <td>False</td>\n",
       "      <td>False</td>\n",
       "      <td>False</td>\n",
       "      <td>False</td>\n",
       "      <td>1</td>\n",
       "      <td>(ирон.,)</td>\n",
       "    </tr>\n",
       "    <tr>\n",
       "      <th>5</th>\n",
       "      <td>['а не то', 'не то']</td>\n",
       "      <td>NaN</td>\n",
       "      <td>Fedorov</td>\n",
       "      <td>False</td>\n",
       "      <td>False</td>\n",
       "      <td>False</td>\n",
       "      <td>False</td>\n",
       "      <td>False</td>\n",
       "      <td>False</td>\n",
       "      <td>False</td>\n",
       "      <td>...</td>\n",
       "      <td>False</td>\n",
       "      <td>False</td>\n",
       "      <td>False</td>\n",
       "      <td>False</td>\n",
       "      <td>False</td>\n",
       "      <td>False</td>\n",
       "      <td>False</td>\n",
       "      <td>False</td>\n",
       "      <td>1</td>\n",
       "      <td>(прост.,)</td>\n",
       "    </tr>\n",
       "    <tr>\n",
       "      <th>6</th>\n",
       "      <td>['а не то', 'не то']</td>\n",
       "      <td>Либо, или же.</td>\n",
       "      <td>Fedorov</td>\n",
       "      <td>False</td>\n",
       "      <td>False</td>\n",
       "      <td>False</td>\n",
       "      <td>False</td>\n",
       "      <td>False</td>\n",
       "      <td>False</td>\n",
       "      <td>False</td>\n",
       "      <td>...</td>\n",
       "      <td>False</td>\n",
       "      <td>False</td>\n",
       "      <td>False</td>\n",
       "      <td>False</td>\n",
       "      <td>False</td>\n",
       "      <td>False</td>\n",
       "      <td>False</td>\n",
       "      <td>False</td>\n",
       "      <td>1</td>\n",
       "      <td>(обл.,)</td>\n",
       "    </tr>\n",
       "    <tr>\n",
       "      <th>7</th>\n",
       "      <td>['а поди ж ты', 'поди ж ты']</td>\n",
       "      <td>Выражение изумления, восхищения, недоумения и т. п.</td>\n",
       "      <td>Fedorov</td>\n",
       "      <td>False</td>\n",
       "      <td>False</td>\n",
       "      <td>False</td>\n",
       "      <td>False</td>\n",
       "      <td>False</td>\n",
       "      <td>False</td>\n",
       "      <td>False</td>\n",
       "      <td>...</td>\n",
       "      <td>False</td>\n",
       "      <td>False</td>\n",
       "      <td>False</td>\n",
       "      <td>False</td>\n",
       "      <td>True</td>\n",
       "      <td>False</td>\n",
       "      <td>False</td>\n",
       "      <td>False</td>\n",
       "      <td>2</td>\n",
       "      <td>(прост., экспрес.)</td>\n",
       "    </tr>\n",
       "    <tr>\n",
       "      <th>8</th>\n",
       "      <td>['а то бы вот']</td>\n",
       "      <td>Могло произойти, случиться что-либо непредвиденное.</td>\n",
       "      <td>Fedorov</td>\n",
       "      <td>False</td>\n",
       "      <td>False</td>\n",
       "      <td>False</td>\n",
       "      <td>False</td>\n",
       "      <td>False</td>\n",
       "      <td>False</td>\n",
       "      <td>False</td>\n",
       "      <td>...</td>\n",
       "      <td>False</td>\n",
       "      <td>False</td>\n",
       "      <td>False</td>\n",
       "      <td>False</td>\n",
       "      <td>False</td>\n",
       "      <td>False</td>\n",
       "      <td>False</td>\n",
       "      <td>False</td>\n",
       "      <td>1</td>\n",
       "      <td>(разг.,)</td>\n",
       "    </tr>\n",
       "    <tr>\n",
       "      <th>9</th>\n",
       "      <td>['а то как же']</td>\n",
       "      <td>Да, конечно, непременно, разумеется.</td>\n",
       "      <td>Fedorov</td>\n",
       "      <td>False</td>\n",
       "      <td>False</td>\n",
       "      <td>False</td>\n",
       "      <td>False</td>\n",
       "      <td>False</td>\n",
       "      <td>False</td>\n",
       "      <td>False</td>\n",
       "      <td>...</td>\n",
       "      <td>False</td>\n",
       "      <td>False</td>\n",
       "      <td>False</td>\n",
       "      <td>False</td>\n",
       "      <td>True</td>\n",
       "      <td>False</td>\n",
       "      <td>False</td>\n",
       "      <td>False</td>\n",
       "      <td>2</td>\n",
       "      <td>(разг., экспрес.)</td>\n",
       "    </tr>\n",
       "  </tbody>\n",
       "</table>\n",
       "<p>10 rows × 91 columns</p>\n",
       "</div>"
      ],
      "text/plain": [
       "                                         phrase  \\\n",
       "0          ['а вот на тебе!', 'и вот на тебе!']   \n",
       "1                         ['а был ли мальчик?']   \n",
       "2                                     ['а вот']   \n",
       "3                  ['а вот и нет', 'вот и нет']   \n",
       "4  ['а ларчик просто открывался (открывается)']   \n",
       "5                          ['а не то', 'не то']   \n",
       "6                          ['а не то', 'не то']   \n",
       "7                  ['а поди ж ты', 'поди ж ты']   \n",
       "8                               ['а то бы вот']   \n",
       "9                               ['а то как же']   \n",
       "\n",
       "                                                                                           meaning  \\\n",
       "0                                                       Выражение удивления, разочарования и т. п.   \n",
       "1  Было ли что-либо в действительности, на самом деле? Выражение сомнения в подлинности чего-либо.   \n",
       "2                                                                              Напротив, наоборот.   \n",
       "3                                   Не выходит, нельзя сделать то, что намечается, предполагается.   \n",
       "4                                                        Дело ясно, не требует долгих размышлений.   \n",
       "5                                                                                              NaN   \n",
       "6                                                                                    Либо, или же.   \n",
       "7                                              Выражение изумления, восхищения, недоумения и т. п.   \n",
       "8                                              Могло произойти, случиться что-либо непредвиденное.   \n",
       "9                                                             Да, конечно, непременно, разумеется.   \n",
       "\n",
       "  dictionary   Лит.  англ.  араб.  библ.  бран.  воен.  восторж.  ...  \\\n",
       "0    Fedorov  False  False  False  False  False  False     False  ...   \n",
       "1    Fedorov  False  False  False  False  False  False     False  ...   \n",
       "2    Fedorov  False  False  False  False  False  False     False  ...   \n",
       "3    Fedorov  False  False  False  False  False  False     False  ...   \n",
       "4    Fedorov  False  False  False  False  False  False     False  ...   \n",
       "5    Fedorov  False  False  False  False  False  False     False  ...   \n",
       "6    Fedorov  False  False  False  False  False  False     False  ...   \n",
       "7    Fedorov  False  False  False  False  False  False     False  ...   \n",
       "8    Fedorov  False  False  False  False  False  False     False  ...   \n",
       "9    Fedorov  False  False  False  False  False  False     False  ...   \n",
       "\n",
       "   шутл.-ирон.  шутл.-фамильярн.   эвф.  эвфем.  экспрес.    эт.  этногр.  \\\n",
       "0        False             False  False   False      True  False    False   \n",
       "1        False             False  False   False      True  False    False   \n",
       "2        False             False  False   False     False  False    False   \n",
       "3        False             False  False   False      True  False    False   \n",
       "4        False             False  False   False     False  False    False   \n",
       "5        False             False  False   False     False  False    False   \n",
       "6        False             False  False   False     False  False    False   \n",
       "7        False             False  False   False      True  False    False   \n",
       "8        False             False  False   False     False  False    False   \n",
       "9        False             False  False   False      True  False    False   \n",
       "\n",
       "     юр.  label_counts  label_combinations  \n",
       "0  False             2   (разг., экспрес.)  \n",
       "1  False             2   (разг., экспрес.)  \n",
       "2  False             1            (разг.,)  \n",
       "3  False             2   (разг., экспрес.)  \n",
       "4  False             1            (ирон.,)  \n",
       "5  False             1           (прост.,)  \n",
       "6  False             1             (обл.,)  \n",
       "7  False             2  (прост., экспрес.)  \n",
       "8  False             1            (разг.,)  \n",
       "9  False             2   (разг., экспрес.)  \n",
       "\n",
       "[10 rows x 91 columns]"
      ]
     },
     "execution_count": 341,
     "metadata": {},
     "output_type": "execute_result"
    }
   ],
   "source": [
    "df.head(10)"
   ]
  },
  {
   "cell_type": "code",
   "execution_count": 128,
   "metadata": {},
   "outputs": [],
   "source": [
    "%%script false\n",
    "df.to_csv('dataframe.csv', sep=',', encoding='utf-8')"
   ]
  },
  {
   "cell_type": "code",
   "execution_count": 129,
   "metadata": {},
   "outputs": [],
   "source": [
    "df = pd.read_csv('dataframe.csv', sep=',')"
   ]
  },
  {
   "cell_type": "code",
   "execution_count": 336,
   "metadata": {},
   "outputs": [],
   "source": [
    "del df['Unnamed: 0']"
   ]
  },
  {
   "cell_type": "code",
   "execution_count": 337,
   "metadata": {},
   "outputs": [
    {
     "data": {
      "text/html": [
       "<div>\n",
       "<style scoped>\n",
       "    .dataframe tbody tr th:only-of-type {\n",
       "        vertical-align: middle;\n",
       "    }\n",
       "\n",
       "    .dataframe tbody tr th {\n",
       "        vertical-align: top;\n",
       "    }\n",
       "\n",
       "    .dataframe thead th {\n",
       "        text-align: right;\n",
       "    }\n",
       "</style>\n",
       "<table border=\"1\" class=\"dataframe\">\n",
       "  <thead>\n",
       "    <tr style=\"text-align: right;\">\n",
       "      <th></th>\n",
       "      <th>label_counts</th>\n",
       "    </tr>\n",
       "  </thead>\n",
       "  <tbody>\n",
       "    <tr>\n",
       "      <th>count</th>\n",
       "      <td>31516.000000</td>\n",
       "    </tr>\n",
       "    <tr>\n",
       "      <th>mean</th>\n",
       "      <td>0.934668</td>\n",
       "    </tr>\n",
       "    <tr>\n",
       "      <th>std</th>\n",
       "      <td>0.820383</td>\n",
       "    </tr>\n",
       "    <tr>\n",
       "      <th>min</th>\n",
       "      <td>0.000000</td>\n",
       "    </tr>\n",
       "    <tr>\n",
       "      <th>25%</th>\n",
       "      <td>0.000000</td>\n",
       "    </tr>\n",
       "    <tr>\n",
       "      <th>50%</th>\n",
       "      <td>1.000000</td>\n",
       "    </tr>\n",
       "    <tr>\n",
       "      <th>75%</th>\n",
       "      <td>2.000000</td>\n",
       "    </tr>\n",
       "    <tr>\n",
       "      <th>max</th>\n",
       "      <td>5.000000</td>\n",
       "    </tr>\n",
       "  </tbody>\n",
       "</table>\n",
       "</div>"
      ],
      "text/plain": [
       "       label_counts\n",
       "count  31516.000000\n",
       "mean       0.934668\n",
       "std        0.820383\n",
       "min        0.000000\n",
       "25%        0.000000\n",
       "50%        1.000000\n",
       "75%        2.000000\n",
       "max        5.000000"
      ]
     },
     "execution_count": 337,
     "metadata": {},
     "output_type": "execute_result"
    }
   ],
   "source": [
    "description = df.describe()\n",
    "description"
   ]
  },
  {
   "cell_type": "code",
   "execution_count": null,
   "metadata": {},
   "outputs": [],
   "source": []
  },
  {
   "cell_type": "code",
   "execution_count": 338,
   "metadata": {},
   "outputs": [
    {
     "name": "stdout",
     "output_type": "stream",
     "text": [
      "<class 'pandas.core.frame.DataFrame'>\n",
      "RangeIndex: 31516 entries, 0 to 31515\n",
      "Data columns (total 91 columns):\n",
      " #   Column              Non-Null Count  Dtype \n",
      "---  ------              --------------  ----- \n",
      " 0   phrase              31516 non-null  object\n",
      " 1   meaning             22740 non-null  object\n",
      " 2   dictionary          31516 non-null  object\n",
      " 3   Лит.                31516 non-null  bool  \n",
      " 4   англ.               31516 non-null  bool  \n",
      " 5   араб.               31516 non-null  bool  \n",
      " 6   библ.               31516 non-null  bool  \n",
      " 7   бран.               31516 non-null  bool  \n",
      " 8   воен.               31516 non-null  bool  \n",
      " 9   восторж.            31516 non-null  bool  \n",
      " 10  вульг.              31516 non-null  bool  \n",
      " 11  высок.              31516 non-null  bool  \n",
      " 12  греч.               31516 non-null  bool  \n",
      " 13  греч. миф.          31516 non-null  bool  \n",
      " 14  груб.               31516 non-null  bool  \n",
      " 15  груб.-прост.        31516 non-null  bool  \n",
      " 16  грубо-прост.        31516 non-null  bool  \n",
      " 17  детск.              31516 non-null  bool  \n",
      " 18  доревол.            31516 non-null  bool  \n",
      " 19  др.-греч.           31516 non-null  bool  \n",
      " 20  еванг.              31516 non-null  bool  \n",
      " 21  жарг.               31516 non-null  bool  \n",
      " 22  и т.п.              31516 non-null  bool  \n",
      " 23  инф.                31516 non-null  bool  \n",
      " 24  ирон.               31516 non-null  bool  \n",
      " 25  ист.                31516 non-null  bool  \n",
      " 26  истор.              31516 non-null  bool  \n",
      " 27  ит.                 31516 non-null  bool  \n",
      " 28  канц.               31516 non-null  bool  \n",
      " 29  книжн.              31516 non-null  bool  \n",
      " 30  книн.               31516 non-null  bool  \n",
      " 31  лат.                31516 non-null  bool  \n",
      " 32  лит.                31516 non-null  bool  \n",
      " 33  местоим.            31516 non-null  bool  \n",
      " 34  миф.                31516 non-null  bool  \n",
      " 35  мор.                31516 non-null  bool  \n",
      " 36  нар.- поэт.         31516 non-null  bool  \n",
      " 37  нар.-поэт.          31516 non-null  bool  \n",
      " 38  нареч.              31516 non-null  bool  \n",
      " 39  народно-поэт.       31516 non-null  bool  \n",
      " 40  нем.                31516 non-null  bool  \n",
      " 41  неодобр.            31516 non-null  bool  \n",
      " 42  неодобрит.          31516 non-null  bool  \n",
      " 43  нов.                31516 non-null  bool  \n",
      " 44  обл.                31516 non-null  bool  \n",
      " 45  одобр.              31516 non-null  bool  \n",
      " 46  офиц.               31516 non-null  bool  \n",
      " 47  охот.               31516 non-null  bool  \n",
      " 48  перен.              31516 non-null  bool  \n",
      " 49  погов.              31516 non-null  bool  \n",
      " 50  пориц.              31516 non-null  bool  \n",
      " 51  посл.               31516 non-null  bool  \n",
      " 52  поэт.               31516 non-null  bool  \n",
      " 53  предосуд.           31516 non-null  bool  \n",
      " 54  презр.              31516 non-null  bool  \n",
      " 55  презрит.            31516 non-null  bool  \n",
      " 56  пренебр.            31516 non-null  bool  \n",
      " 57  прост.              31516 non-null  bool  \n",
      " 58  простореч.          31516 non-null  bool  \n",
      " 59  протореч.           31516 non-null  bool  \n",
      " 60  публиц.             31516 non-null  bool  \n",
      " 61  разг.               31516 non-null  bool  \n",
      " 62  рел.                31516 non-null  bool  \n",
      " 63  ритор.              31516 non-null  bool  \n",
      " 64  спец.               31516 non-null  bool  \n",
      " 65  спорт.              31516 non-null  bool  \n",
      " 66  театр.              31516 non-null  bool  \n",
      " 67  торж.               31516 non-null  bool  \n",
      " 68  уничиж.             31516 non-null  bool  \n",
      " 69  уст.                31516 non-null  bool  \n",
      " 70  устар.              31516 non-null  bool  \n",
      " 71  фам.                31516 non-null  bool  \n",
      " 72  фамильярн.          31516 non-null  bool  \n",
      " 73  физ.                31516 non-null  bool  \n",
      " 74  филос.              31516 non-null  bool  \n",
      " 75  фольк.              31516 non-null  bool  \n",
      " 76  фр.                 31516 non-null  bool  \n",
      " 77  церк.               31516 non-null  bool  \n",
      " 78  церк.-слав.         31516 non-null  bool  \n",
      " 79  шахм.               31516 non-null  bool  \n",
      " 80  шутл.               31516 non-null  bool  \n",
      " 81  шутл.-ирон.         31516 non-null  bool  \n",
      " 82  шутл.-фамильярн.    31516 non-null  bool  \n",
      " 83  эвф.                31516 non-null  bool  \n",
      " 84  эвфем.              31516 non-null  bool  \n",
      " 85  экспрес.            31516 non-null  bool  \n",
      " 86  эт.                 31516 non-null  bool  \n",
      " 87  этногр.             31516 non-null  bool  \n",
      " 88  юр.                 31516 non-null  bool  \n",
      " 89  label_counts        31516 non-null  int64 \n",
      " 90  label_combinations  31516 non-null  object\n",
      "dtypes: bool(86), int64(1), object(4)\n",
      "memory usage: 3.8+ MB\n"
     ]
    }
   ],
   "source": [
    "df.info()"
   ]
  },
  {
   "cell_type": "code",
   "execution_count": 266,
   "metadata": {
    "scrolled": false
   },
   "outputs": [
    {
     "data": {
      "text/plain": [
       "<AxesSubplot:title={'center':'Объем словарей'}, xlabel='dictionary'>"
      ]
     },
     "execution_count": 266,
     "metadata": {},
     "output_type": "execute_result"
    },
    {
     "data": {
      "image/png": "[encoded data removed]",
      "text/plain": [
       "<Figure size 864x504 with 1 Axes>"
      ]
     },
     "metadata": {
      "needs_background": "light"
     },
     "output_type": "display_data"
    }
   ],
   "source": [
    "# Количество помет в каждом из словарей\n",
    "pd.crosstab(df['phrase'], df['dictionary']).sum().plot(kind='bar',\n",
    "                                                       rot=0,\n",
    "                                                      title='Объем словарей')\n"
   ]
  },
  {
   "cell_type": "code",
   "execution_count": 314,
   "metadata": {
    "scrolled": false
   },
   "outputs": [
    {
     "name": "stdout",
     "output_type": "stream",
     "text": [
      "ирон. 1305\n",
      "книжн. 1110\n",
      "неодобр. 871\n",
      "прост. 4872\n",
      "разг. 7719\n",
      "устар. 2785\n",
      "экспрес. 4888\n"
     ]
    }
   ],
   "source": [
    "# количество каждой из помет\n",
    "labels_count = {}\n",
    "for col in abbrs:\n",
    "    if len(df[df[col]==True]) > 800:\n",
    "        labels_count[col] = len(df[df[col]==True])\n",
    "        print(col, len(df[df[col]==True]))"
   ]
  },
  {
   "cell_type": "code",
   "execution_count": 328,
   "metadata": {
    "scrolled": false
   },
   "outputs": [
    {
     "data": {
      "image/png": "[encoded data removed]",
      "text/plain": [
       "<Figure size 864x504 with 1 Axes>"
      ]
     },
     "metadata": {
      "needs_background": "light"
     },
     "output_type": "display_data"
    }
   ],
   "source": [
    "#plt.figure(figsize=(10, 7))\n",
    "plt.bar(list(labels_count.keys()),list(labels_count.values()))\n",
    "plt.title('Топ помет по частоте (>800)')\n",
    "plt.show()"
   ]
  },
  {
   "cell_type": "code",
   "execution_count": 329,
   "metadata": {},
   "outputs": [],
   "source": [
    "# распределение фраз по количеству помет\n",
    "#create a column with a tuple of all idiom's labels\n",
    "row_labels = []\n",
    "label_combinations = []\n",
    "for ind, row in df.loc[:, 'Лит.': 'юр.'].iterrows():\n",
    "    row_labels.append(len(row[row].index))\n",
    "    label_combinations.append(tuple(row[row].index))\n",
    "\n",
    "df['label_counts'] = row_labels\n",
    "df['label_combinations'] = label_combinations"
   ]
  },
  {
   "cell_type": "code",
   "execution_count": 279,
   "metadata": {},
   "outputs": [
    {
     "data": {
      "text/plain": [
       "0         (разг., экспрес.)\n",
       "1         (разг., экспрес.)\n",
       "2                  (разг.,)\n",
       "3         (разг., экспрес.)\n",
       "4                  (ирон.,)\n",
       "                ...        \n",
       "31511             (перен.,)\n",
       "31512              (разг.,)\n",
       "31513         (нар.-поэт.,)\n",
       "31514                    ()\n",
       "31515    (простореч., фам.)\n",
       "Name: label_combinations, Length: 31516, dtype: object"
      ]
     },
     "execution_count": 279,
     "metadata": {},
     "output_type": "execute_result"
    }
   ],
   "source": [
    "df['label_combinations']"
   ]
  },
  {
   "cell_type": "code",
   "execution_count": 327,
   "metadata": {},
   "outputs": [
    {
     "data": {
      "image/png": "[encoded data removed]",
      "text/plain": [
       "<Figure size 864x504 with 1 Axes>"
      ]
     },
     "metadata": {
      "needs_background": "light"
     },
     "output_type": "display_data"
    },
    {
     "data": {
      "image/png": "[encoded data removed]",
      "text/plain": [
       "<Figure size 864x504 with 1 Axes>"
      ]
     },
     "metadata": {
      "needs_background": "light"
     },
     "output_type": "display_data"
    }
   ],
   "source": [
    "pd.crosstab(df['dictionary'], df['label_combinations']).sum()[1:].nlargest(7, keep='all').plot(kind='bar',\n",
    "                                                                                            rot=10,\n",
    "                                                                                            figsize=(12, 7),\n",
    "                                                                                             width=0.8)\n",
    "plt.show()\n",
    "\n",
    "list_d = list(labels_count.items())\n",
    "list_d.sort(key=lambda i: i[1], reverse=True)\n",
    "plt.bar([k[0] for k in list_d], [k[1] for k in list_d], color='orange')\n",
    "plt.show()"
   ]
  },
  {
   "cell_type": "code",
   "execution_count": 253,
   "metadata": {
    "scrolled": false
   },
   "outputs": [
    {
     "data": {
      "image/png": "[encoded data removed]",
      "text/plain": [
       "<Figure size 864x504 with 1 Axes>"
      ]
     },
     "metadata": {
      "needs_background": "light"
     },
     "output_type": "display_data"
    }
   ],
   "source": [
    "unique_label_counts = list(set(row_labels))\n",
    "plt.bar(unique_label_counts, [row_labels.count(label_count) for label_count in unique_label_counts])\n",
    "plt.xlabel('Количество помет у идиомы')\n",
    "plt.ylabel('Количество идиом')\n",
    "plt.title('Распределение по количеству помет у одной идиомы')\n",
    "plt.show()"
   ]
  },
  {
   "cell_type": "code",
   "execution_count": 340,
   "metadata": {},
   "outputs": [
    {
     "data": {
      "text/html": [
       "<div>\n",
       "<style scoped>\n",
       "    .dataframe tbody tr th:only-of-type {\n",
       "        vertical-align: middle;\n",
       "    }\n",
       "\n",
       "    .dataframe tbody tr th {\n",
       "        vertical-align: top;\n",
       "    }\n",
       "\n",
       "    .dataframe thead th {\n",
       "        text-align: right;\n",
       "    }\n",
       "</style>\n",
       "<table border=\"1\" class=\"dataframe\">\n",
       "  <thead>\n",
       "    <tr style=\"text-align: right;\">\n",
       "      <th></th>\n",
       "      <th>phrase</th>\n",
       "      <th>meaning</th>\n",
       "      <th>dictionary</th>\n",
       "      <th>Лит.</th>\n",
       "      <th>англ.</th>\n",
       "      <th>араб.</th>\n",
       "      <th>библ.</th>\n",
       "      <th>бран.</th>\n",
       "      <th>воен.</th>\n",
       "      <th>восторж.</th>\n",
       "      <th>...</th>\n",
       "      <th>шутл.-ирон.</th>\n",
       "      <th>шутл.-фамильярн.</th>\n",
       "      <th>эвф.</th>\n",
       "      <th>эвфем.</th>\n",
       "      <th>экспрес.</th>\n",
       "      <th>эт.</th>\n",
       "      <th>этногр.</th>\n",
       "      <th>юр.</th>\n",
       "      <th>label_counts</th>\n",
       "      <th>label_combinations</th>\n",
       "    </tr>\n",
       "  </thead>\n",
       "  <tbody>\n",
       "    <tr>\n",
       "      <th>25743</th>\n",
       "      <td>['яко тать в нощи']</td>\n",
       "      <td>NaN</td>\n",
       "      <td>Kveselevich</td>\n",
       "      <td>False</td>\n",
       "      <td>False</td>\n",
       "      <td>False</td>\n",
       "      <td>True</td>\n",
       "      <td>False</td>\n",
       "      <td>False</td>\n",
       "      <td>False</td>\n",
       "      <td>...</td>\n",
       "      <td>False</td>\n",
       "      <td>False</td>\n",
       "      <td>False</td>\n",
       "      <td>False</td>\n",
       "      <td>False</td>\n",
       "      <td>False</td>\n",
       "      <td>False</td>\n",
       "      <td>False</td>\n",
       "      <td>5</td>\n",
       "      <td>(библ., ирон., уст., церк., церк.-слав.)</td>\n",
       "    </tr>\n",
       "  </tbody>\n",
       "</table>\n",
       "<p>1 rows × 91 columns</p>\n",
       "</div>"
      ],
      "text/plain": [
       "                    phrase meaning   dictionary   Лит.  англ.  араб.  библ.  \\\n",
       "25743  ['яко тать в нощи']     NaN  Kveselevich  False  False  False   True   \n",
       "\n",
       "       бран.  воен.  восторж.  ...  шутл.-ирон.  шутл.-фамильярн.   эвф.  \\\n",
       "25743  False  False     False  ...        False             False  False   \n",
       "\n",
       "       эвфем.  экспрес.    эт.  этногр.    юр.  label_counts  \\\n",
       "25743   False     False  False    False  False             5   \n",
       "\n",
       "                             label_combinations  \n",
       "25743  (библ., ирон., уст., церк., церк.-слав.)  \n",
       "\n",
       "[1 rows x 91 columns]"
      ]
     },
     "execution_count": 340,
     "metadata": {},
     "output_type": "execute_result"
    }
   ],
   "source": [
    "df[df['label_counts'] == 5]"
   ]
  },
  {
   "cell_type": "code",
   "execution_count": 205,
   "metadata": {},
   "outputs": [
    {
     "data": {
      "text/plain": [
       "array(['Fedorov', 'Fedosov', 'Kveselevich', 'Myurrey', 'Volkova'],\n",
       "      dtype=object)"
      ]
     },
     "execution_count": 205,
     "metadata": {},
     "output_type": "execute_result"
    }
   ],
   "source": [
    "dicts = df['dictionary'].unique()"
   ]
  },
  {
   "cell_type": "code",
   "execution_count": 267,
   "metadata": {},
   "outputs": [
    {
     "name": "stdout",
     "output_type": "stream",
     "text": [
      "Fedorov 100.0\n",
      "Fedosov 13.589\n",
      "Kveselevich 65.482\n",
      "Myurrey 0.0\n",
      "Volkova 65.273\n"
     ]
    },
    {
     "data": {
      "image/png": "[encoded data removed]",
      "text/plain": [
       "<Figure size 864x504 with 1 Axes>"
      ]
     },
     "metadata": {
      "needs_background": "light"
     },
     "output_type": "display_data"
    }
   ],
   "source": [
    "by_dictionary = df.groupby('dictionary')\n",
    "labels_percent = {}\n",
    "for dictionary in dicts:\n",
    "    dict_group = by_dictionary.get_group(dictionary)\n",
    "    total = len(dict_group)\n",
    "    with_labels = len(dict_group['label_counts'][dict_group['label_counts'] > 0])\n",
    "    \n",
    "    labels_percent[dictionary] = round(with_labels / total * 100, 3)\n",
    "    print(dictionary, labels_percent[dictionary])\n",
    "    \n",
    "plt.bar(list(labels_percent.keys()), list(labels_percent.values()), color='orange')\n",
    "plt.xlabel('Словари')\n",
    "plt.ylabel('%')\n",
    "plt.title('% идиом с пометами')\n",
    "\n",
    "plt.show()"
   ]
  },
  {
   "cell_type": "code",
   "execution_count": null,
   "metadata": {},
   "outputs": [],
   "source": []
  }
 ],
 "metadata": {
  "kernelspec": {
   "display_name": "Python 3",
   "language": "python",
   "name": "python3"
  },
  "language_info": {
   "codemirror_mode": {
    "name": "ipython",
    "version": 3
   },
   "file_extension": ".py",
   "mimetype": "text/x-python",
   "name": "python",
   "nbconvert_exporter": "python",
   "pygments_lexer": "ipython3",
   "version": "3.8.5"
  }
 },
 "nbformat": 4,
 "nbformat_minor": 4
}
