{
 "cells": [
  {
   "cell_type": "code",
   "execution_count": 250,
   "metadata": {},
   "outputs": [],
   "source": [
    "import pandas as pd\n",
    "import json\n",
    "\n",
    "%matplotlib inline\n",
    "import matplotlib.pyplot as plt\n",
    "import numpy as np\n",
    "\n",
    "large = 22; med = 14; small = 12\n",
    "params = {'axes.titlesize': large,\n",
    "          'legend.fontsize': med,\n",
    "          'figure.figsize': (12, 7),\n",
    "          'axes.labelsize': med,\n",
    "          'axes.titlesize': med,\n",
    "          'xtick.labelsize': med,\n",
    "          'ytick.labelsize': med,\n",
    "          'figure.titlesize': large}\n",
    "plt.rcParams.update(params)"
   ]
  },
  {
   "cell_type": "code",
   "execution_count": 98,
   "metadata": {},
   "outputs": [
    {
     "name": "stdout",
     "output_type": "stream",
     "text": [
      "86\n"
     ]
    }
   ],
   "source": [
    "with open('all_idioms.json', 'r', encoding='UTF-8') as f:\n",
    "    data = tuple(json.load(f))\n",
    "\n",
    "abbrs = {'фам.', 'восторж.', 'погов.', 'греч. миф.', 'одобр.', 'библ.', 'публиц.', 'фр.', 'воен.', 'лат.', 'греч.', 'мор.', 'неодобрит.', 'неодобр.', 'перен.', 'жарг.', 'юр.', 'охот.', 'лит.', 'нар.-поэт.', 'груб.-прост.', 'грубо-прост.', 'шутл.', 'филос.', 'местоим.', 'театр.', 'ит.', 'детск.', 'протореч.', 'церк.', 'уст.', 'эт.', 'и т.п.', 'спец.', 'ист.', 'посл.', 'презр.', 'презрит.', 'устар.', 'англ.', 'груб.', 'эвфем.', 'простореч.', 'предосуд.', 'доревол.', 'канц.', 'церк.-слав.', 'еванг.', 'прост.', 'нар.- поэт.', 'экспрес.', 'миф.', 'нов.', 'нареч.', 'шахм.', 'высок.', 'нем.', 'поэт.', 'фамильярн.', 'рел.', 'араб.', 'книн.', 'этногр.', 'инф.', 'физ.', 'пориц.', 'торж.', 'шутл.-фамильярн.', 'ритор.', 'разг.', 'вульг.', 'Лит.', 'ирон.', 'бран.', 'др.-греч.', 'книжн.', 'офиц.', 'эвф.', 'шутл.-ирон.', 'пренебр.', 'народно-поэт.', 'истор.', 'обл.', 'фольк.', 'спорт.', 'уничиж.'}"
   ]
  },
  {
   "cell_type": "code",
   "execution_count": 103,
   "metadata": {},
   "outputs": [],
   "source": [
    "abbrs = sorted(list(abbrs))"
   ]
  },
  {
   "cell_type": "code",
   "execution_count": 126,
   "metadata": {},
   "outputs": [],
   "source": [
    "'''df = pd.DataFrame(columns=['phrase', 'meaning', 'dictionary'] + sorted(list(abbrs)))\n",
    "for phrase_dict in data:\n",
    "    semantics_set = phrase_dict['semantics']\n",
    "    for meaning_dict in semantics_set:\n",
    "        if 'abbr' in list(meaning_dict.keys()) and 'dictionary' in list(meaning_dict.keys()):\n",
    "            df.loc[len(df)] = [phrase_dict['phrase'],\n",
    "                               meaning_dict['meaning'],\n",
    "                               meaning_dict['dictionary']] + [True if abbr in meaning_dict['abbr'] else False for abbr in abbrs]'''"
   ]
  },
  {
   "cell_type": "code",
   "execution_count": 203,
   "metadata": {},
   "outputs": [
    {
     "data": {
      "text/html": [
       "<div>\n",
       "<style scoped>\n",
       "    .dataframe tbody tr th:only-of-type {\n",
       "        vertical-align: middle;\n",
       "    }\n",
       "\n",
       "    .dataframe tbody tr th {\n",
       "        vertical-align: top;\n",
       "    }\n",
       "\n",
       "    .dataframe thead th {\n",
       "        text-align: right;\n",
       "    }\n",
       "</style>\n",
       "<table border=\"1\" class=\"dataframe\">\n",
       "  <thead>\n",
       "    <tr style=\"text-align: right;\">\n",
       "      <th></th>\n",
       "      <th>Unnamed: 0</th>\n",
       "      <th>phrase</th>\n",
       "      <th>meaning</th>\n",
       "      <th>dictionary</th>\n",
       "      <th>Лит.</th>\n",
       "      <th>англ.</th>\n",
       "      <th>араб.</th>\n",
       "      <th>библ.</th>\n",
       "      <th>бран.</th>\n",
       "      <th>воен.</th>\n",
       "      <th>...</th>\n",
       "      <th>шутл.</th>\n",
       "      <th>шутл.-ирон.</th>\n",
       "      <th>шутл.-фамильярн.</th>\n",
       "      <th>эвф.</th>\n",
       "      <th>эвфем.</th>\n",
       "      <th>экспрес.</th>\n",
       "      <th>эт.</th>\n",
       "      <th>этногр.</th>\n",
       "      <th>юр.</th>\n",
       "      <th>label_counts</th>\n",
       "    </tr>\n",
       "  </thead>\n",
       "  <tbody>\n",
       "    <tr>\n",
       "      <th>0</th>\n",
       "      <td>0</td>\n",
       "      <td>['а вот на тебе!', 'и вот на тебе!']</td>\n",
       "      <td>Выражение удивления, разочарования и т. п.</td>\n",
       "      <td>Fedorov</td>\n",
       "      <td>False</td>\n",
       "      <td>False</td>\n",
       "      <td>False</td>\n",
       "      <td>False</td>\n",
       "      <td>False</td>\n",
       "      <td>False</td>\n",
       "      <td>...</td>\n",
       "      <td>False</td>\n",
       "      <td>False</td>\n",
       "      <td>False</td>\n",
       "      <td>False</td>\n",
       "      <td>False</td>\n",
       "      <td>True</td>\n",
       "      <td>False</td>\n",
       "      <td>False</td>\n",
       "      <td>False</td>\n",
       "      <td>2</td>\n",
       "    </tr>\n",
       "    <tr>\n",
       "      <th>1</th>\n",
       "      <td>1</td>\n",
       "      <td>['а был ли мальчик?']</td>\n",
       "      <td>Было ли что-либо в действительности, на самом ...</td>\n",
       "      <td>Fedorov</td>\n",
       "      <td>False</td>\n",
       "      <td>False</td>\n",
       "      <td>False</td>\n",
       "      <td>False</td>\n",
       "      <td>False</td>\n",
       "      <td>False</td>\n",
       "      <td>...</td>\n",
       "      <td>False</td>\n",
       "      <td>False</td>\n",
       "      <td>False</td>\n",
       "      <td>False</td>\n",
       "      <td>False</td>\n",
       "      <td>True</td>\n",
       "      <td>False</td>\n",
       "      <td>False</td>\n",
       "      <td>False</td>\n",
       "      <td>2</td>\n",
       "    </tr>\n",
       "    <tr>\n",
       "      <th>2</th>\n",
       "      <td>2</td>\n",
       "      <td>['а вот']</td>\n",
       "      <td>Напротив, наоборот.</td>\n",
       "      <td>Fedorov</td>\n",
       "      <td>False</td>\n",
       "      <td>False</td>\n",
       "      <td>False</td>\n",
       "      <td>False</td>\n",
       "      <td>False</td>\n",
       "      <td>False</td>\n",
       "      <td>...</td>\n",
       "      <td>False</td>\n",
       "      <td>False</td>\n",
       "      <td>False</td>\n",
       "      <td>False</td>\n",
       "      <td>False</td>\n",
       "      <td>False</td>\n",
       "      <td>False</td>\n",
       "      <td>False</td>\n",
       "      <td>False</td>\n",
       "      <td>1</td>\n",
       "    </tr>\n",
       "    <tr>\n",
       "      <th>3</th>\n",
       "      <td>3</td>\n",
       "      <td>['а вот и нет', 'вот и нет']</td>\n",
       "      <td>Не выходит, нельзя сделать то, что намечается,...</td>\n",
       "      <td>Fedorov</td>\n",
       "      <td>False</td>\n",
       "      <td>False</td>\n",
       "      <td>False</td>\n",
       "      <td>False</td>\n",
       "      <td>False</td>\n",
       "      <td>False</td>\n",
       "      <td>...</td>\n",
       "      <td>False</td>\n",
       "      <td>False</td>\n",
       "      <td>False</td>\n",
       "      <td>False</td>\n",
       "      <td>False</td>\n",
       "      <td>True</td>\n",
       "      <td>False</td>\n",
       "      <td>False</td>\n",
       "      <td>False</td>\n",
       "      <td>2</td>\n",
       "    </tr>\n",
       "    <tr>\n",
       "      <th>4</th>\n",
       "      <td>4</td>\n",
       "      <td>['а ларчик просто открывался (открывается)']</td>\n",
       "      <td>Дело ясно, не требует долгих размышлений.</td>\n",
       "      <td>Fedorov</td>\n",
       "      <td>False</td>\n",
       "      <td>False</td>\n",
       "      <td>False</td>\n",
       "      <td>False</td>\n",
       "      <td>False</td>\n",
       "      <td>False</td>\n",
       "      <td>...</td>\n",
       "      <td>False</td>\n",
       "      <td>False</td>\n",
       "      <td>False</td>\n",
       "      <td>False</td>\n",
       "      <td>False</td>\n",
       "      <td>False</td>\n",
       "      <td>False</td>\n",
       "      <td>False</td>\n",
       "      <td>False</td>\n",
       "      <td>1</td>\n",
       "    </tr>\n",
       "    <tr>\n",
       "      <th>5</th>\n",
       "      <td>5</td>\n",
       "      <td>['а не то', 'не то']</td>\n",
       "      <td>NaN</td>\n",
       "      <td>Fedorov</td>\n",
       "      <td>False</td>\n",
       "      <td>False</td>\n",
       "      <td>False</td>\n",
       "      <td>False</td>\n",
       "      <td>False</td>\n",
       "      <td>False</td>\n",
       "      <td>...</td>\n",
       "      <td>False</td>\n",
       "      <td>False</td>\n",
       "      <td>False</td>\n",
       "      <td>False</td>\n",
       "      <td>False</td>\n",
       "      <td>False</td>\n",
       "      <td>False</td>\n",
       "      <td>False</td>\n",
       "      <td>False</td>\n",
       "      <td>1</td>\n",
       "    </tr>\n",
       "    <tr>\n",
       "      <th>6</th>\n",
       "      <td>6</td>\n",
       "      <td>['а не то', 'не то']</td>\n",
       "      <td>Либо, или же.</td>\n",
       "      <td>Fedorov</td>\n",
       "      <td>False</td>\n",
       "      <td>False</td>\n",
       "      <td>False</td>\n",
       "      <td>False</td>\n",
       "      <td>False</td>\n",
       "      <td>False</td>\n",
       "      <td>...</td>\n",
       "      <td>False</td>\n",
       "      <td>False</td>\n",
       "      <td>False</td>\n",
       "      <td>False</td>\n",
       "      <td>False</td>\n",
       "      <td>False</td>\n",
       "      <td>False</td>\n",
       "      <td>False</td>\n",
       "      <td>False</td>\n",
       "      <td>1</td>\n",
       "    </tr>\n",
       "    <tr>\n",
       "      <th>7</th>\n",
       "      <td>7</td>\n",
       "      <td>['а поди ж ты', 'поди ж ты']</td>\n",
       "      <td>Выражение изумления, восхищения, недоумения и ...</td>\n",
       "      <td>Fedorov</td>\n",
       "      <td>False</td>\n",
       "      <td>False</td>\n",
       "      <td>False</td>\n",
       "      <td>False</td>\n",
       "      <td>False</td>\n",
       "      <td>False</td>\n",
       "      <td>...</td>\n",
       "      <td>False</td>\n",
       "      <td>False</td>\n",
       "      <td>False</td>\n",
       "      <td>False</td>\n",
       "      <td>False</td>\n",
       "      <td>True</td>\n",
       "      <td>False</td>\n",
       "      <td>False</td>\n",
       "      <td>False</td>\n",
       "      <td>2</td>\n",
       "    </tr>\n",
       "    <tr>\n",
       "      <th>8</th>\n",
       "      <td>8</td>\n",
       "      <td>['а то бы вот']</td>\n",
       "      <td>Могло произойти, случиться что-либо непредвиде...</td>\n",
       "      <td>Fedorov</td>\n",
       "      <td>False</td>\n",
       "      <td>False</td>\n",
       "      <td>False</td>\n",
       "      <td>False</td>\n",
       "      <td>False</td>\n",
       "      <td>False</td>\n",
       "      <td>...</td>\n",
       "      <td>False</td>\n",
       "      <td>False</td>\n",
       "      <td>False</td>\n",
       "      <td>False</td>\n",
       "      <td>False</td>\n",
       "      <td>False</td>\n",
       "      <td>False</td>\n",
       "      <td>False</td>\n",
       "      <td>False</td>\n",
       "      <td>1</td>\n",
       "    </tr>\n",
       "    <tr>\n",
       "      <th>9</th>\n",
       "      <td>9</td>\n",
       "      <td>['а то как же']</td>\n",
       "      <td>Да, конечно, непременно, разумеется.</td>\n",
       "      <td>Fedorov</td>\n",
       "      <td>False</td>\n",
       "      <td>False</td>\n",
       "      <td>False</td>\n",
       "      <td>False</td>\n",
       "      <td>False</td>\n",
       "      <td>False</td>\n",
       "      <td>...</td>\n",
       "      <td>False</td>\n",
       "      <td>False</td>\n",
       "      <td>False</td>\n",
       "      <td>False</td>\n",
       "      <td>False</td>\n",
       "      <td>True</td>\n",
       "      <td>False</td>\n",
       "      <td>False</td>\n",
       "      <td>False</td>\n",
       "      <td>2</td>\n",
       "    </tr>\n",
       "  </tbody>\n",
       "</table>\n",
       "<p>10 rows × 91 columns</p>\n",
       "</div>"
      ],
      "text/plain": [
       "   Unnamed: 0                                        phrase  \\\n",
       "0           0          ['а вот на тебе!', 'и вот на тебе!']   \n",
       "1           1                         ['а был ли мальчик?']   \n",
       "2           2                                     ['а вот']   \n",
       "3           3                  ['а вот и нет', 'вот и нет']   \n",
       "4           4  ['а ларчик просто открывался (открывается)']   \n",
       "5           5                          ['а не то', 'не то']   \n",
       "6           6                          ['а не то', 'не то']   \n",
       "7           7                  ['а поди ж ты', 'поди ж ты']   \n",
       "8           8                               ['а то бы вот']   \n",
       "9           9                               ['а то как же']   \n",
       "\n",
       "                                             meaning dictionary   Лит.  англ.  \\\n",
       "0         Выражение удивления, разочарования и т. п.    Fedorov  False  False   \n",
       "1  Было ли что-либо в действительности, на самом ...    Fedorov  False  False   \n",
       "2                                Напротив, наоборот.    Fedorov  False  False   \n",
       "3  Не выходит, нельзя сделать то, что намечается,...    Fedorov  False  False   \n",
       "4          Дело ясно, не требует долгих размышлений.    Fedorov  False  False   \n",
       "5                                                NaN    Fedorov  False  False   \n",
       "6                                      Либо, или же.    Fedorov  False  False   \n",
       "7  Выражение изумления, восхищения, недоумения и ...    Fedorov  False  False   \n",
       "8  Могло произойти, случиться что-либо непредвиде...    Fedorov  False  False   \n",
       "9               Да, конечно, непременно, разумеется.    Fedorov  False  False   \n",
       "\n",
       "   араб.  библ.  бран.  воен.  ...  шутл.  шутл.-ирон.  шутл.-фамильярн.  \\\n",
       "0  False  False  False  False  ...  False        False             False   \n",
       "1  False  False  False  False  ...  False        False             False   \n",
       "2  False  False  False  False  ...  False        False             False   \n",
       "3  False  False  False  False  ...  False        False             False   \n",
       "4  False  False  False  False  ...  False        False             False   \n",
       "5  False  False  False  False  ...  False        False             False   \n",
       "6  False  False  False  False  ...  False        False             False   \n",
       "7  False  False  False  False  ...  False        False             False   \n",
       "8  False  False  False  False  ...  False        False             False   \n",
       "9  False  False  False  False  ...  False        False             False   \n",
       "\n",
       "    эвф.  эвфем.  экспрес.    эт.  этногр.    юр.  label_counts  \n",
       "0  False   False      True  False    False  False             2  \n",
       "1  False   False      True  False    False  False             2  \n",
       "2  False   False     False  False    False  False             1  \n",
       "3  False   False      True  False    False  False             2  \n",
       "4  False   False     False  False    False  False             1  \n",
       "5  False   False     False  False    False  False             1  \n",
       "6  False   False     False  False    False  False             1  \n",
       "7  False   False      True  False    False  False             2  \n",
       "8  False   False     False  False    False  False             1  \n",
       "9  False   False      True  False    False  False             2  \n",
       "\n",
       "[10 rows x 91 columns]"
      ]
     },
     "execution_count": 203,
     "metadata": {},
     "output_type": "execute_result"
    }
   ],
   "source": [
    "df.head(10)"
   ]
  },
  {
   "cell_type": "code",
   "execution_count": 128,
   "metadata": {},
   "outputs": [],
   "source": [
    "'''df.to_csv('dataframe.csv', sep=',', encoding='utf-8')'''"
   ]
  },
  {
   "cell_type": "code",
   "execution_count": 129,
   "metadata": {},
   "outputs": [],
   "source": [
    "df = pd.read_csv('dataframe.csv', sep=',')"
   ]
  },
  {
   "cell_type": "code",
   "execution_count": 130,
   "metadata": {},
   "outputs": [],
   "source": [
    "description = df.describe()"
   ]
  },
  {
   "cell_type": "code",
   "execution_count": 266,
   "metadata": {
    "scrolled": false
   },
   "outputs": [
    {
     "data": {
      "text/plain": [
       "<AxesSubplot:title={'center':'Объем словарей'}, xlabel='dictionary'>"
      ]
     },
     "execution_count": 266,
     "metadata": {},
     "output_type": "execute_result"
    },
    {
     "data": {
      "image/png": "[encoded data removed]",
      "text/plain": [
       "<Figure size 864x504 with 1 Axes>"
      ]
     },
     "metadata": {
      "needs_background": "light"
     },
     "output_type": "display_data"
    }
   ],
   "source": [
    "# Количество помет в каждом из словарей\n",
    "pd.crosstab(df['phrase'], df['dictionary']).sum().plot(kind='bar',\n",
    "                                                       rot=0,\n",
    "                                                      title='Объем словарей')\n"
   ]
  },
  {
   "cell_type": "code",
   "execution_count": 314,
   "metadata": {
    "scrolled": false
   },
   "outputs": [
    {
     "name": "stdout",
     "output_type": "stream",
     "text": [
      "ирон. 1305\n",
      "книжн. 1110\n",
      "неодобр. 871\n",
      "прост. 4872\n",
      "разг. 7719\n",
      "устар. 2785\n",
      "экспрес. 4888\n"
     ]
    }
   ],
   "source": [
    "# количество каждой из помет\n",
    "labels_count = {}\n",
    "for col in abbrs:\n",
    "    if len(df[df[col]==True]) > 800:\n",
    "        labels_count[col] = len(df[df[col]==True])\n",
    "        print(col, len(df[df[col]==True]))"
   ]
  },
  {
   "cell_type": "code",
   "execution_count": 252,
   "metadata": {
    "scrolled": false
   },
   "outputs": [
    {
     "data": {
      "image/png": "[encoded data removed]",
      "text/plain": [
       "<Figure size 864x504 with 1 Axes>"
      ]
     },
     "metadata": {
      "needs_background": "light"
     },
     "output_type": "display_data"
    }
   ],
   "source": [
    "#plt.figure(figsize=(10, 7))\n",
    "plt.bar(list(labels_count.keys()),list(labels_count.values()))\n",
    "plt.title('Топ помет по частоте (>1000)')\n",
    "plt.show()"
   ]
  },
  {
   "cell_type": "code",
   "execution_count": 277,
   "metadata": {},
   "outputs": [],
   "source": [
    "# распределение фраз по количеству помет\n",
    "row_labels = []\n",
    "label_combinations = []\n",
    "for ind, row in df.loc[:, 'Лит.': 'юр.'].iterrows():\n",
    "    row_labels.append(len(row[row].index))\n",
    "    label_combinations.append(tuple(row[row].index))\n",
    "\n",
    "df['label_counts'] = row_labels\n",
    "df['label_combinations'] = label_combinations"
   ]
  },
  {
   "cell_type": "code",
   "execution_count": 279,
   "metadata": {},
   "outputs": [
    {
     "data": {
      "text/plain": [
       "0         (разг., экспрес.)\n",
       "1         (разг., экспрес.)\n",
       "2                  (разг.,)\n",
       "3         (разг., экспрес.)\n",
       "4                  (ирон.,)\n",
       "                ...        \n",
       "31511             (перен.,)\n",
       "31512              (разг.,)\n",
       "31513         (нар.-поэт.,)\n",
       "31514                    ()\n",
       "31515    (простореч., фам.)\n",
       "Name: label_combinations, Length: 31516, dtype: object"
      ]
     },
     "execution_count": 279,
     "metadata": {},
     "output_type": "execute_result"
    }
   ],
   "source": [
    "df['label_combinations']"
   ]
  },
  {
   "cell_type": "code",
   "execution_count": 327,
   "metadata": {},
   "outputs": [
    {
     "data": {
      "image/png": "[encoded data removed]",
      "text/plain": [
       "<Figure size 864x504 with 1 Axes>"
      ]
     },
     "metadata": {
      "needs_background": "light"
     },
     "output_type": "display_data"
    },
    {
     "data": {
      "image/png": "[encoded data removed]",
      "text/plain": [
       "<Figure size 864x504 with 1 Axes>"
      ]
     },
     "metadata": {
      "needs_background": "light"
     },
     "output_type": "display_data"
    }
   ],
   "source": [
    "pd.crosstab(df['dictionary'], df['label_combinations']).sum()[1:].nlargest(7, keep='all').plot(kind='bar',\n",
    "                                                                                            rot=10,\n",
    "                                                                                            figsize=(12, 7),\n",
    "                                                                                             width=0.8)\n",
    "plt.show()\n",
    "\n",
    "list_d = list(labels_count.items())\n",
    "list_d.sort(key=lambda i: i[1], reverse=True)\n",
    "plt.bar([k[0] for k in list_d], [k[1] for k in list_d], color='orange')\n",
    "plt.show()"
   ]
  },
  {
   "cell_type": "code",
   "execution_count": 253,
   "metadata": {
    "scrolled": false
   },
   "outputs": [
    {
     "data": {
      "image/png": "[encoded data removed]",
      "text/plain": [
       "<Figure size 864x504 with 1 Axes>"
      ]
     },
     "metadata": {
      "needs_background": "light"
     },
     "output_type": "display_data"
    }
   ],
   "source": [
    "unique_label_counts = list(set(row_labels))\n",
    "plt.bar(unique_label_counts, [row_labels.count(label_count) for label_count in unique_label_counts])\n",
    "plt.xlabel('Количество помет у идиомы')\n",
    "plt.ylabel('Количество идиом')\n",
    "plt.title('Распределение по количеству помет у одной идиомы')\n",
    "plt.show()"
   ]
  },
  {
   "cell_type": "code",
   "execution_count": 205,
   "metadata": {},
   "outputs": [
    {
     "data": {
      "text/plain": [
       "array(['Fedorov', 'Fedosov', 'Kveselevich', 'Myurrey', 'Volkova'],\n",
       "      dtype=object)"
      ]
     },
     "execution_count": 205,
     "metadata": {},
     "output_type": "execute_result"
    }
   ],
   "source": [
    "dicts = df['dictionary'].unique()"
   ]
  },
  {
   "cell_type": "code",
   "execution_count": 267,
   "metadata": {},
   "outputs": [
    {
     "name": "stdout",
     "output_type": "stream",
     "text": [
      "Fedorov 100.0\n",
      "Fedosov 13.589\n",
      "Kveselevich 65.482\n",
      "Myurrey 0.0\n",
      "Volkova 65.273\n"
     ]
    },
    {
     "data": {
      "image/png": "[encoded data removed]",
      "text/plain": [
       "<Figure size 864x504 with 1 Axes>"
      ]
     },
     "metadata": {
      "needs_background": "light"
     },
     "output_type": "display_data"
    }
   ],
   "source": [
    "by_dictionary = df.groupby('dictionary')\n",
    "labels_percent = {}\n",
    "for dictionary in dicts:\n",
    "    dict_group = by_dictionary.get_group(dictionary)\n",
    "    total = len(dict_group)\n",
    "    with_labels = len(dict_group['label_counts'][dict_group['label_counts'] > 0])\n",
    "    \n",
    "    labels_percent[dictionary] = round(with_labels / total * 100, 3)\n",
    "    print(dictionary, labels_percent[dictionary])\n",
    "    \n",
    "plt.bar(list(labels_percent.keys()), list(labels_percent.values()), color='orange')\n",
    "plt.xlabel('Словари')\n",
    "plt.ylabel('%')\n",
    "plt.title('% идиом с пометами')\n",
    "\n",
    "plt.show()"
   ]
  },
  {
   "cell_type": "code",
   "execution_count": null,
   "metadata": {},
   "outputs": [],
   "source": []
  }
 ],
 "metadata": {
  "kernelspec": {
   "display_name": "Python 3",
   "language": "python",
   "name": "python3"
  },
  "language_info": {
   "codemirror_mode": {
    "name": "ipython",
    "version": 3
   },
   "file_extension": ".py",
   "mimetype": "text/x-python",
   "name": "python",
   "nbconvert_exporter": "python",
   "pygments_lexer": "ipython3",
   "version": "3.8.5"
  }
 },
 "nbformat": 4,
 "nbformat_minor": 4
}
